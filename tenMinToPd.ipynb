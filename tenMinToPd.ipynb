{
 "cells": [
  {
   "cell_type": "markdown",
   "metadata": {},
   "source": [
    "# Python打卡任务 / 打卡任务（更新至第四周）"
   ]
  },
  {
   "cell_type": "markdown",
   "metadata": {},
   "source": [
    "<mark>Hello Python - 在 Anaconda 中打开 Jupyter Notebook，打印出 Hello Python"
   ]
  },
  {
   "cell_type": "code",
   "execution_count": 1,
   "metadata": {},
   "outputs": [
    {
     "name": "stdout",
     "output_type": "stream",
     "text": [
      "Hello Python\n"
     ]
    }
   ],
   "source": [
    "print('Hello Python')"
   ]
  },
  {
   "cell_type": "markdown",
   "metadata": {},
   "source": [
    "<mark>import - 载入 numpy 及 pandas，并命名为 np 与 pd"
   ]
  },
  {
   "cell_type": "code",
   "execution_count": 2,
   "metadata": {},
   "outputs": [],
   "source": [
    "import numpy as np\n",
    "import pandas as pd"
   ]
  },
  {
   "cell_type": "markdown",
   "metadata": {},
   "source": [
    "<mark>Series - 仿照示例创建包含如下元素的 Series 对象：2,4,6,8,10,np.nan"
   ]
  },
  {
   "cell_type": "code",
   "execution_count": 3,
   "metadata": {
    "scrolled": true
   },
   "outputs": [
    {
     "data": {
      "text/plain": [
       "0     2.0\n",
       "1     4.0\n",
       "2     6.0\n",
       "3     8.0\n",
       "4    10.0\n",
       "5     NaN\n",
       "dtype: float64"
      ]
     },
     "execution_count": 3,
     "metadata": {},
     "output_type": "execute_result"
    }
   ],
   "source": [
    "s = pd.Series([2,4,6,8,10,np.nan])#Series中可以有不同类型元素，这里因为np.nan是float类型，所以整个series的dtype也是float\n",
    "s"
   ]
  },
  {
   "cell_type": "markdown",
   "metadata": {},
   "source": [
    "<mark>DataFrame - 按照示例创建 DataFrame 对象（两个）"
   ]
  },
  {
   "cell_type": "code",
   "execution_count": 4,
   "metadata": {},
   "outputs": [
    {
     "data": {
      "text/plain": [
       "DatetimeIndex(['2013-01-01', '2013-01-02', '2013-01-03', '2013-01-04',\n",
       "               '2013-01-05', '2013-01-06'],\n",
       "              dtype='datetime64[ns]', freq='D')"
      ]
     },
     "execution_count": 4,
     "metadata": {},
     "output_type": "execute_result"
    }
   ],
   "source": [
    "dates = pd.date_range('20130101', periods=6)\n",
    "dates"
   ]
  },
  {
   "cell_type": "code",
   "execution_count": 5,
   "metadata": {},
   "outputs": [
    {
     "data": {
      "text/html": [
       "<div>\n",
       "<style scoped>\n",
       "    .dataframe tbody tr th:only-of-type {\n",
       "        vertical-align: middle;\n",
       "    }\n",
       "\n",
       "    .dataframe tbody tr th {\n",
       "        vertical-align: top;\n",
       "    }\n",
       "\n",
       "    .dataframe thead th {\n",
       "        text-align: right;\n",
       "    }\n",
       "</style>\n",
       "<table border=\"1\" class=\"dataframe\">\n",
       "  <thead>\n",
       "    <tr style=\"text-align: right;\">\n",
       "      <th></th>\n",
       "      <th>A</th>\n",
       "      <th>B</th>\n",
       "      <th>C</th>\n",
       "      <th>D</th>\n",
       "    </tr>\n",
       "  </thead>\n",
       "  <tbody>\n",
       "    <tr>\n",
       "      <th>2013-01-01</th>\n",
       "      <td>0.571674</td>\n",
       "      <td>-0.832200</td>\n",
       "      <td>0.436724</td>\n",
       "      <td>-1.922448</td>\n",
       "    </tr>\n",
       "    <tr>\n",
       "      <th>2013-01-02</th>\n",
       "      <td>1.929192</td>\n",
       "      <td>-1.094260</td>\n",
       "      <td>-0.280657</td>\n",
       "      <td>0.686523</td>\n",
       "    </tr>\n",
       "    <tr>\n",
       "      <th>2013-01-03</th>\n",
       "      <td>0.790240</td>\n",
       "      <td>1.275695</td>\n",
       "      <td>0.248599</td>\n",
       "      <td>1.627106</td>\n",
       "    </tr>\n",
       "    <tr>\n",
       "      <th>2013-01-04</th>\n",
       "      <td>-0.077763</td>\n",
       "      <td>0.740803</td>\n",
       "      <td>0.616785</td>\n",
       "      <td>-1.221960</td>\n",
       "    </tr>\n",
       "    <tr>\n",
       "      <th>2013-01-05</th>\n",
       "      <td>1.559055</td>\n",
       "      <td>-1.669104</td>\n",
       "      <td>0.086716</td>\n",
       "      <td>-1.483842</td>\n",
       "    </tr>\n",
       "    <tr>\n",
       "      <th>2013-01-06</th>\n",
       "      <td>0.389523</td>\n",
       "      <td>0.405137</td>\n",
       "      <td>-0.998078</td>\n",
       "      <td>-0.803660</td>\n",
       "    </tr>\n",
       "  </tbody>\n",
       "</table>\n",
       "</div>"
      ],
      "text/plain": [
       "                   A         B         C         D\n",
       "2013-01-01  0.571674 -0.832200  0.436724 -1.922448\n",
       "2013-01-02  1.929192 -1.094260 -0.280657  0.686523\n",
       "2013-01-03  0.790240  1.275695  0.248599  1.627106\n",
       "2013-01-04 -0.077763  0.740803  0.616785 -1.221960\n",
       "2013-01-05  1.559055 -1.669104  0.086716 -1.483842\n",
       "2013-01-06  0.389523  0.405137 -0.998078 -0.803660"
      ]
     },
     "execution_count": 5,
     "metadata": {},
     "output_type": "execute_result"
    }
   ],
   "source": [
    "#numpy.random.randn以给定的形状创建一个数组，数组元素来符合标准正态分布N(0,1) \n",
    "#若要获得一般正态分布N(μ,σ^2)则可用sigma * np.random.randn(…) + mu进行表示\n",
    "#numpy.random.rand，同上，[0,1]之间均匀分布\n",
    "df = pd.DataFrame(np.random.randn(6, 4), index=dates, columns=list('ABCD'))#list('abcd')=['a','b','c','d']\n",
    "df"
   ]
  },
  {
   "cell_type": "code",
   "execution_count": 6,
   "metadata": {},
   "outputs": [
    {
     "data": {
      "text/html": [
       "<div>\n",
       "<style scoped>\n",
       "    .dataframe tbody tr th:only-of-type {\n",
       "        vertical-align: middle;\n",
       "    }\n",
       "\n",
       "    .dataframe tbody tr th {\n",
       "        vertical-align: top;\n",
       "    }\n",
       "\n",
       "    .dataframe thead th {\n",
       "        text-align: right;\n",
       "    }\n",
       "</style>\n",
       "<table border=\"1\" class=\"dataframe\">\n",
       "  <thead>\n",
       "    <tr style=\"text-align: right;\">\n",
       "      <th></th>\n",
       "      <th>A</th>\n",
       "      <th>B</th>\n",
       "      <th>C</th>\n",
       "      <th>D</th>\n",
       "      <th>E</th>\n",
       "      <th>F</th>\n",
       "    </tr>\n",
       "  </thead>\n",
       "  <tbody>\n",
       "    <tr>\n",
       "      <th>0</th>\n",
       "      <td>1.0</td>\n",
       "      <td>2013-01-02</td>\n",
       "      <td>1.0</td>\n",
       "      <td>3</td>\n",
       "      <td>test</td>\n",
       "      <td>foo</td>\n",
       "    </tr>\n",
       "    <tr>\n",
       "      <th>1</th>\n",
       "      <td>1.0</td>\n",
       "      <td>2013-01-02</td>\n",
       "      <td>1.0</td>\n",
       "      <td>3</td>\n",
       "      <td>train</td>\n",
       "      <td>foo</td>\n",
       "    </tr>\n",
       "    <tr>\n",
       "      <th>2</th>\n",
       "      <td>1.0</td>\n",
       "      <td>2013-01-02</td>\n",
       "      <td>1.0</td>\n",
       "      <td>3</td>\n",
       "      <td>test</td>\n",
       "      <td>foo</td>\n",
       "    </tr>\n",
       "    <tr>\n",
       "      <th>3</th>\n",
       "      <td>1.0</td>\n",
       "      <td>2013-01-02</td>\n",
       "      <td>1.0</td>\n",
       "      <td>3</td>\n",
       "      <td>train</td>\n",
       "      <td>foo</td>\n",
       "    </tr>\n",
       "  </tbody>\n",
       "</table>\n",
       "</div>"
      ],
      "text/plain": [
       "     A          B    C  D      E    F\n",
       "0  1.0 2013-01-02  1.0  3   test  foo\n",
       "1  1.0 2013-01-02  1.0  3  train  foo\n",
       "2  1.0 2013-01-02  1.0  3   test  foo\n",
       "3  1.0 2013-01-02  1.0  3  train  foo"
      ]
     },
     "execution_count": 6,
     "metadata": {},
     "output_type": "execute_result"
    }
   ],
   "source": [
    "#arrays must all be same length。\n",
    "df2 = pd.DataFrame({'A': 1.,#等于df2['A']=2.0\n",
    "                    'B': pd.Timestamp('20130102'),#等于df2['B']=pd.Timestamp'20130102'                    \n",
    "                    #其中range()返回range类型，等差数列，在本行代码中去作用是确定Serie的长度，不能去掉\n",
    "                    'C': pd.Series(1, index=list(range(4)), dtype='float32'),\n",
    "                    'D': np.array([3] * 4, dtype='int32'),#list*4=list重复4次\n",
    "                    #类别数据，有限取值，大量重复，可以理解为数据库的主从表或者内存指针，降低内存占用\n",
    "                    #写法2：pd.Series([\"test\", \"train\", \"test\", \"train\"], dtype='category')\n",
    "                    'E': pd.Categorical([\"test\", \"train\", \"test\", \"train\"]),                    \n",
    "                    'F': 'foo'})#等于df2['F']='foo'\n",
    "df2"
   ]
  },
  {
   "cell_type": "markdown",
   "metadata": {},
   "source": [
    "<mark>dtype - 按照示例查看 DataFrame 的数据类型<p>\n",
    "<mark>TAB - 延续昨日的操作，在输入 df2. 后按下 tab 键（在键盘上数下第三行左一），会出现可供使用的函数。请使用此功能查看 df2 的 index。（提示：完整代码为 df2.index 。你可以输入 df2.in 之后按下 tab 键，在看到选择框后使用键盘上的方向键（在键盘右下区域）选择需要的函数，选中后按回车键） Viewing data"
   ]
  },
  {
   "cell_type": "code",
   "execution_count": 7,
   "metadata": {
    "scrolled": true
   },
   "outputs": [
    {
     "data": {
      "text/plain": [
       "A           float64\n",
       "B    datetime64[ns]\n",
       "C           float32\n",
       "D             int32\n",
       "E          category\n",
       "F            object\n",
       "dtype: object"
      ]
     },
     "execution_count": 7,
     "metadata": {},
     "output_type": "execute_result"
    }
   ],
   "source": [
    "df2.dtypes"
   ]
  },
  {
   "cell_type": "markdown",
   "metadata": {},
   "source": [
    "<mark>head - 仿照示例查看 df 前 4 行"
   ]
  },
  {
   "cell_type": "code",
   "execution_count": 8,
   "metadata": {},
   "outputs": [
    {
     "data": {
      "text/html": [
       "<div>\n",
       "<style scoped>\n",
       "    .dataframe tbody tr th:only-of-type {\n",
       "        vertical-align: middle;\n",
       "    }\n",
       "\n",
       "    .dataframe tbody tr th {\n",
       "        vertical-align: top;\n",
       "    }\n",
       "\n",
       "    .dataframe thead th {\n",
       "        text-align: right;\n",
       "    }\n",
       "</style>\n",
       "<table border=\"1\" class=\"dataframe\">\n",
       "  <thead>\n",
       "    <tr style=\"text-align: right;\">\n",
       "      <th></th>\n",
       "      <th>A</th>\n",
       "      <th>B</th>\n",
       "      <th>C</th>\n",
       "      <th>D</th>\n",
       "    </tr>\n",
       "  </thead>\n",
       "  <tbody>\n",
       "    <tr>\n",
       "      <th>2013-01-01</th>\n",
       "      <td>0.571674</td>\n",
       "      <td>-0.832200</td>\n",
       "      <td>0.436724</td>\n",
       "      <td>-1.922448</td>\n",
       "    </tr>\n",
       "    <tr>\n",
       "      <th>2013-01-02</th>\n",
       "      <td>1.929192</td>\n",
       "      <td>-1.094260</td>\n",
       "      <td>-0.280657</td>\n",
       "      <td>0.686523</td>\n",
       "    </tr>\n",
       "    <tr>\n",
       "      <th>2013-01-03</th>\n",
       "      <td>0.790240</td>\n",
       "      <td>1.275695</td>\n",
       "      <td>0.248599</td>\n",
       "      <td>1.627106</td>\n",
       "    </tr>\n",
       "    <tr>\n",
       "      <th>2013-01-04</th>\n",
       "      <td>-0.077763</td>\n",
       "      <td>0.740803</td>\n",
       "      <td>0.616785</td>\n",
       "      <td>-1.221960</td>\n",
       "    </tr>\n",
       "  </tbody>\n",
       "</table>\n",
       "</div>"
      ],
      "text/plain": [
       "                   A         B         C         D\n",
       "2013-01-01  0.571674 -0.832200  0.436724 -1.922448\n",
       "2013-01-02  1.929192 -1.094260 -0.280657  0.686523\n",
       "2013-01-03  0.790240  1.275695  0.248599  1.627106\n",
       "2013-01-04 -0.077763  0.740803  0.616785 -1.221960"
      ]
     },
     "execution_count": 8,
     "metadata": {},
     "output_type": "execute_result"
    }
   ],
   "source": [
    "df.head(4)#Number of rows to select.default 5"
   ]
  },
  {
   "cell_type": "markdown",
   "metadata": {},
   "source": [
    "<mark>tail - 仿照示例查看 df 末 4 行"
   ]
  },
  {
   "cell_type": "code",
   "execution_count": 9,
   "metadata": {},
   "outputs": [
    {
     "data": {
      "text/html": [
       "<div>\n",
       "<style scoped>\n",
       "    .dataframe tbody tr th:only-of-type {\n",
       "        vertical-align: middle;\n",
       "    }\n",
       "\n",
       "    .dataframe tbody tr th {\n",
       "        vertical-align: top;\n",
       "    }\n",
       "\n",
       "    .dataframe thead th {\n",
       "        text-align: right;\n",
       "    }\n",
       "</style>\n",
       "<table border=\"1\" class=\"dataframe\">\n",
       "  <thead>\n",
       "    <tr style=\"text-align: right;\">\n",
       "      <th></th>\n",
       "      <th>A</th>\n",
       "      <th>B</th>\n",
       "      <th>C</th>\n",
       "      <th>D</th>\n",
       "    </tr>\n",
       "  </thead>\n",
       "  <tbody>\n",
       "    <tr>\n",
       "      <th>2013-01-03</th>\n",
       "      <td>0.790240</td>\n",
       "      <td>1.275695</td>\n",
       "      <td>0.248599</td>\n",
       "      <td>1.627106</td>\n",
       "    </tr>\n",
       "    <tr>\n",
       "      <th>2013-01-04</th>\n",
       "      <td>-0.077763</td>\n",
       "      <td>0.740803</td>\n",
       "      <td>0.616785</td>\n",
       "      <td>-1.221960</td>\n",
       "    </tr>\n",
       "    <tr>\n",
       "      <th>2013-01-05</th>\n",
       "      <td>1.559055</td>\n",
       "      <td>-1.669104</td>\n",
       "      <td>0.086716</td>\n",
       "      <td>-1.483842</td>\n",
       "    </tr>\n",
       "    <tr>\n",
       "      <th>2013-01-06</th>\n",
       "      <td>0.389523</td>\n",
       "      <td>0.405137</td>\n",
       "      <td>-0.998078</td>\n",
       "      <td>-0.803660</td>\n",
       "    </tr>\n",
       "  </tbody>\n",
       "</table>\n",
       "</div>"
      ],
      "text/plain": [
       "                   A         B         C         D\n",
       "2013-01-03  0.790240  1.275695  0.248599  1.627106\n",
       "2013-01-04 -0.077763  0.740803  0.616785 -1.221960\n",
       "2013-01-05  1.559055 -1.669104  0.086716 -1.483842\n",
       "2013-01-06  0.389523  0.405137 -0.998078 -0.803660"
      ]
     },
     "execution_count": 9,
     "metadata": {},
     "output_type": "execute_result"
    }
   ],
   "source": [
    "df.tail(4)"
   ]
  },
  {
   "cell_type": "markdown",
   "metadata": {},
   "source": [
    "<mark>index - 按照示例查看 df 的 index"
   ]
  },
  {
   "cell_type": "code",
   "execution_count": 10,
   "metadata": {},
   "outputs": [
    {
     "data": {
      "text/plain": [
       "DatetimeIndex(['2013-01-01', '2013-01-02', '2013-01-03', '2013-01-04',\n",
       "               '2013-01-05', '2013-01-06'],\n",
       "              dtype='datetime64[ns]', freq='D')"
      ]
     },
     "execution_count": 10,
     "metadata": {},
     "output_type": "execute_result"
    }
   ],
   "source": [
    "df.index"
   ]
  },
  {
   "cell_type": "markdown",
   "metadata": {},
   "source": [
    "<mark>columns - 按照示例查看 df 的 columns"
   ]
  },
  {
   "cell_type": "code",
   "execution_count": 11,
   "metadata": {},
   "outputs": [
    {
     "data": {
      "text/plain": [
       "Index(['A', 'B', 'C', 'D'], dtype='object')"
      ]
     },
     "execution_count": 11,
     "metadata": {},
     "output_type": "execute_result"
    }
   ],
   "source": [
    "df.columns"
   ]
  },
  {
   "cell_type": "markdown",
   "metadata": {},
   "source": [
    "<mark>to_numpy - 按照示例将 df 转为 numpy 格式。请注意当列的数据类型不同时，to_numpy 的效率将变得很低。"
   ]
  },
  {
   "cell_type": "code",
   "execution_count": 12,
   "metadata": {},
   "outputs": [
    {
     "data": {
      "text/plain": [
       "array([[ 0.57167425, -0.83219981,  0.43672443, -1.92244834],\n",
       "       [ 1.92919183, -1.09426002, -0.28065719,  0.68652325],\n",
       "       [ 0.79024024,  1.2756953 ,  0.24859886,  1.62710629],\n",
       "       [-0.0777631 ,  0.74080267,  0.61678527, -1.2219603 ],\n",
       "       [ 1.55905475, -1.66910402,  0.08671648, -1.48384203],\n",
       "       [ 0.38952271,  0.40513713, -0.99807776, -0.80366014]])"
      ]
     },
     "execution_count": 12,
     "metadata": {},
     "output_type": "execute_result"
    }
   ],
   "source": [
    "df.to_numpy()"
   ]
  },
  {
   "cell_type": "code",
   "execution_count": 13,
   "metadata": {},
   "outputs": [
    {
     "data": {
      "text/plain": [
       "array([[1.0, Timestamp('2013-01-02 00:00:00'), 1.0, 3, 'test', 'foo'],\n",
       "       [1.0, Timestamp('2013-01-02 00:00:00'), 1.0, 3, 'train', 'foo'],\n",
       "       [1.0, Timestamp('2013-01-02 00:00:00'), 1.0, 3, 'test', 'foo'],\n",
       "       [1.0, Timestamp('2013-01-02 00:00:00'), 1.0, 3, 'train', 'foo']],\n",
       "      dtype=object)"
      ]
     },
     "execution_count": 13,
     "metadata": {},
     "output_type": "execute_result"
    }
   ],
   "source": [
    "df2.to_numpy()"
   ]
  },
  {
   "cell_type": "markdown",
   "metadata": {},
   "source": [
    "<mark>describe - 按照示例查看 df 的描述性统计"
   ]
  },
  {
   "cell_type": "code",
   "execution_count": 14,
   "metadata": {},
   "outputs": [
    {
     "data": {
      "text/html": [
       "<div>\n",
       "<style scoped>\n",
       "    .dataframe tbody tr th:only-of-type {\n",
       "        vertical-align: middle;\n",
       "    }\n",
       "\n",
       "    .dataframe tbody tr th {\n",
       "        vertical-align: top;\n",
       "    }\n",
       "\n",
       "    .dataframe thead th {\n",
       "        text-align: right;\n",
       "    }\n",
       "</style>\n",
       "<table border=\"1\" class=\"dataframe\">\n",
       "  <thead>\n",
       "    <tr style=\"text-align: right;\">\n",
       "      <th></th>\n",
       "      <th>A</th>\n",
       "      <th>B</th>\n",
       "      <th>C</th>\n",
       "      <th>D</th>\n",
       "    </tr>\n",
       "  </thead>\n",
       "  <tbody>\n",
       "    <tr>\n",
       "      <th>count</th>\n",
       "      <td>6.000000</td>\n",
       "      <td>6.000000</td>\n",
       "      <td>6.000000</td>\n",
       "      <td>6.000000</td>\n",
       "    </tr>\n",
       "    <tr>\n",
       "      <th>mean</th>\n",
       "      <td>0.860320</td>\n",
       "      <td>-0.195655</td>\n",
       "      <td>0.018348</td>\n",
       "      <td>-0.519714</td>\n",
       "    </tr>\n",
       "    <tr>\n",
       "      <th>std</th>\n",
       "      <td>0.751079</td>\n",
       "      <td>1.165033</td>\n",
       "      <td>0.585386</td>\n",
       "      <td>1.380929</td>\n",
       "    </tr>\n",
       "    <tr>\n",
       "      <th>min</th>\n",
       "      <td>-0.077763</td>\n",
       "      <td>-1.669104</td>\n",
       "      <td>-0.998078</td>\n",
       "      <td>-1.922448</td>\n",
       "    </tr>\n",
       "    <tr>\n",
       "      <th>25%</th>\n",
       "      <td>0.435061</td>\n",
       "      <td>-1.028745</td>\n",
       "      <td>-0.188814</td>\n",
       "      <td>-1.418372</td>\n",
       "    </tr>\n",
       "    <tr>\n",
       "      <th>50%</th>\n",
       "      <td>0.680957</td>\n",
       "      <td>-0.213531</td>\n",
       "      <td>0.167658</td>\n",
       "      <td>-1.012810</td>\n",
       "    </tr>\n",
       "    <tr>\n",
       "      <th>75%</th>\n",
       "      <td>1.366851</td>\n",
       "      <td>0.656886</td>\n",
       "      <td>0.389693</td>\n",
       "      <td>0.313977</td>\n",
       "    </tr>\n",
       "    <tr>\n",
       "      <th>max</th>\n",
       "      <td>1.929192</td>\n",
       "      <td>1.275695</td>\n",
       "      <td>0.616785</td>\n",
       "      <td>1.627106</td>\n",
       "    </tr>\n",
       "  </tbody>\n",
       "</table>\n",
       "</div>"
      ],
      "text/plain": [
       "              A         B         C         D\n",
       "count  6.000000  6.000000  6.000000  6.000000\n",
       "mean   0.860320 -0.195655  0.018348 -0.519714\n",
       "std    0.751079  1.165033  0.585386  1.380929\n",
       "min   -0.077763 -1.669104 -0.998078 -1.922448\n",
       "25%    0.435061 -1.028745 -0.188814 -1.418372\n",
       "50%    0.680957 -0.213531  0.167658 -1.012810\n",
       "75%    1.366851  0.656886  0.389693  0.313977\n",
       "max    1.929192  1.275695  0.616785  1.627106"
      ]
     },
     "execution_count": 14,
     "metadata": {},
     "output_type": "execute_result"
    }
   ],
   "source": [
    "df.describe()"
   ]
  },
  {
   "cell_type": "markdown",
   "metadata": {},
   "source": [
    "<mark>T - 按照示例查看 df 的转置"
   ]
  },
  {
   "cell_type": "code",
   "execution_count": 15,
   "metadata": {},
   "outputs": [
    {
     "data": {
      "text/html": [
       "<div>\n",
       "<style scoped>\n",
       "    .dataframe tbody tr th:only-of-type {\n",
       "        vertical-align: middle;\n",
       "    }\n",
       "\n",
       "    .dataframe tbody tr th {\n",
       "        vertical-align: top;\n",
       "    }\n",
       "\n",
       "    .dataframe thead th {\n",
       "        text-align: right;\n",
       "    }\n",
       "</style>\n",
       "<table border=\"1\" class=\"dataframe\">\n",
       "  <thead>\n",
       "    <tr style=\"text-align: right;\">\n",
       "      <th></th>\n",
       "      <th>2013-01-01</th>\n",
       "      <th>2013-01-02</th>\n",
       "      <th>2013-01-03</th>\n",
       "      <th>2013-01-04</th>\n",
       "      <th>2013-01-05</th>\n",
       "      <th>2013-01-06</th>\n",
       "    </tr>\n",
       "  </thead>\n",
       "  <tbody>\n",
       "    <tr>\n",
       "      <th>A</th>\n",
       "      <td>0.571674</td>\n",
       "      <td>1.929192</td>\n",
       "      <td>0.790240</td>\n",
       "      <td>-0.077763</td>\n",
       "      <td>1.559055</td>\n",
       "      <td>0.389523</td>\n",
       "    </tr>\n",
       "    <tr>\n",
       "      <th>B</th>\n",
       "      <td>-0.832200</td>\n",
       "      <td>-1.094260</td>\n",
       "      <td>1.275695</td>\n",
       "      <td>0.740803</td>\n",
       "      <td>-1.669104</td>\n",
       "      <td>0.405137</td>\n",
       "    </tr>\n",
       "    <tr>\n",
       "      <th>C</th>\n",
       "      <td>0.436724</td>\n",
       "      <td>-0.280657</td>\n",
       "      <td>0.248599</td>\n",
       "      <td>0.616785</td>\n",
       "      <td>0.086716</td>\n",
       "      <td>-0.998078</td>\n",
       "    </tr>\n",
       "    <tr>\n",
       "      <th>D</th>\n",
       "      <td>-1.922448</td>\n",
       "      <td>0.686523</td>\n",
       "      <td>1.627106</td>\n",
       "      <td>-1.221960</td>\n",
       "      <td>-1.483842</td>\n",
       "      <td>-0.803660</td>\n",
       "    </tr>\n",
       "  </tbody>\n",
       "</table>\n",
       "</div>"
      ],
      "text/plain": [
       "   2013-01-01  2013-01-02  2013-01-03  2013-01-04  2013-01-05  2013-01-06\n",
       "A    0.571674    1.929192    0.790240   -0.077763    1.559055    0.389523\n",
       "B   -0.832200   -1.094260    1.275695    0.740803   -1.669104    0.405137\n",
       "C    0.436724   -0.280657    0.248599    0.616785    0.086716   -0.998078\n",
       "D   -1.922448    0.686523    1.627106   -1.221960   -1.483842   -0.803660"
      ]
     },
     "execution_count": 15,
     "metadata": {},
     "output_type": "execute_result"
    }
   ],
   "source": [
    "df.T"
   ]
  },
  {
   "cell_type": "markdown",
   "metadata": {},
   "source": [
    "<mark>sort_index - 仿照示例将 df 按照 index （日期）从近到远排列。"
   ]
  },
  {
   "cell_type": "code",
   "execution_count": 16,
   "metadata": {},
   "outputs": [
    {
     "data": {
      "text/html": [
       "<div>\n",
       "<style scoped>\n",
       "    .dataframe tbody tr th:only-of-type {\n",
       "        vertical-align: middle;\n",
       "    }\n",
       "\n",
       "    .dataframe tbody tr th {\n",
       "        vertical-align: top;\n",
       "    }\n",
       "\n",
       "    .dataframe thead th {\n",
       "        text-align: right;\n",
       "    }\n",
       "</style>\n",
       "<table border=\"1\" class=\"dataframe\">\n",
       "  <thead>\n",
       "    <tr style=\"text-align: right;\">\n",
       "      <th></th>\n",
       "      <th>A</th>\n",
       "      <th>B</th>\n",
       "      <th>C</th>\n",
       "      <th>D</th>\n",
       "    </tr>\n",
       "  </thead>\n",
       "  <tbody>\n",
       "    <tr>\n",
       "      <th>2013-01-01</th>\n",
       "      <td>0.571674</td>\n",
       "      <td>-0.832200</td>\n",
       "      <td>0.436724</td>\n",
       "      <td>-1.922448</td>\n",
       "    </tr>\n",
       "    <tr>\n",
       "      <th>2013-01-02</th>\n",
       "      <td>1.929192</td>\n",
       "      <td>-1.094260</td>\n",
       "      <td>-0.280657</td>\n",
       "      <td>0.686523</td>\n",
       "    </tr>\n",
       "    <tr>\n",
       "      <th>2013-01-03</th>\n",
       "      <td>0.790240</td>\n",
       "      <td>1.275695</td>\n",
       "      <td>0.248599</td>\n",
       "      <td>1.627106</td>\n",
       "    </tr>\n",
       "    <tr>\n",
       "      <th>2013-01-04</th>\n",
       "      <td>-0.077763</td>\n",
       "      <td>0.740803</td>\n",
       "      <td>0.616785</td>\n",
       "      <td>-1.221960</td>\n",
       "    </tr>\n",
       "    <tr>\n",
       "      <th>2013-01-05</th>\n",
       "      <td>1.559055</td>\n",
       "      <td>-1.669104</td>\n",
       "      <td>0.086716</td>\n",
       "      <td>-1.483842</td>\n",
       "    </tr>\n",
       "    <tr>\n",
       "      <th>2013-01-06</th>\n",
       "      <td>0.389523</td>\n",
       "      <td>0.405137</td>\n",
       "      <td>-0.998078</td>\n",
       "      <td>-0.803660</td>\n",
       "    </tr>\n",
       "  </tbody>\n",
       "</table>\n",
       "</div>"
      ],
      "text/plain": [
       "                   A         B         C         D\n",
       "2013-01-01  0.571674 -0.832200  0.436724 -1.922448\n",
       "2013-01-02  1.929192 -1.094260 -0.280657  0.686523\n",
       "2013-01-03  0.790240  1.275695  0.248599  1.627106\n",
       "2013-01-04 -0.077763  0.740803  0.616785 -1.221960\n",
       "2013-01-05  1.559055 -1.669104  0.086716 -1.483842\n",
       "2013-01-06  0.389523  0.405137 -0.998078 -0.803660"
      ]
     },
     "execution_count": 16,
     "metadata": {},
     "output_type": "execute_result"
    }
   ],
   "source": [
    "df.sort_index()"
   ]
  },
  {
   "cell_type": "code",
   "execution_count": 17,
   "metadata": {},
   "outputs": [
    {
     "data": {
      "text/html": [
       "<div>\n",
       "<style scoped>\n",
       "    .dataframe tbody tr th:only-of-type {\n",
       "        vertical-align: middle;\n",
       "    }\n",
       "\n",
       "    .dataframe tbody tr th {\n",
       "        vertical-align: top;\n",
       "    }\n",
       "\n",
       "    .dataframe thead th {\n",
       "        text-align: right;\n",
       "    }\n",
       "</style>\n",
       "<table border=\"1\" class=\"dataframe\">\n",
       "  <thead>\n",
       "    <tr style=\"text-align: right;\">\n",
       "      <th></th>\n",
       "      <th>D</th>\n",
       "      <th>C</th>\n",
       "      <th>B</th>\n",
       "      <th>A</th>\n",
       "    </tr>\n",
       "  </thead>\n",
       "  <tbody>\n",
       "    <tr>\n",
       "      <th>2013-01-01</th>\n",
       "      <td>-1.922448</td>\n",
       "      <td>0.436724</td>\n",
       "      <td>-0.832200</td>\n",
       "      <td>0.571674</td>\n",
       "    </tr>\n",
       "    <tr>\n",
       "      <th>2013-01-02</th>\n",
       "      <td>0.686523</td>\n",
       "      <td>-0.280657</td>\n",
       "      <td>-1.094260</td>\n",
       "      <td>1.929192</td>\n",
       "    </tr>\n",
       "    <tr>\n",
       "      <th>2013-01-03</th>\n",
       "      <td>1.627106</td>\n",
       "      <td>0.248599</td>\n",
       "      <td>1.275695</td>\n",
       "      <td>0.790240</td>\n",
       "    </tr>\n",
       "    <tr>\n",
       "      <th>2013-01-04</th>\n",
       "      <td>-1.221960</td>\n",
       "      <td>0.616785</td>\n",
       "      <td>0.740803</td>\n",
       "      <td>-0.077763</td>\n",
       "    </tr>\n",
       "    <tr>\n",
       "      <th>2013-01-05</th>\n",
       "      <td>-1.483842</td>\n",
       "      <td>0.086716</td>\n",
       "      <td>-1.669104</td>\n",
       "      <td>1.559055</td>\n",
       "    </tr>\n",
       "    <tr>\n",
       "      <th>2013-01-06</th>\n",
       "      <td>-0.803660</td>\n",
       "      <td>-0.998078</td>\n",
       "      <td>0.405137</td>\n",
       "      <td>0.389523</td>\n",
       "    </tr>\n",
       "  </tbody>\n",
       "</table>\n",
       "</div>"
      ],
      "text/plain": [
       "                   D         C         B         A\n",
       "2013-01-01 -1.922448  0.436724 -0.832200  0.571674\n",
       "2013-01-02  0.686523 -0.280657 -1.094260  1.929192\n",
       "2013-01-03  1.627106  0.248599  1.275695  0.790240\n",
       "2013-01-04 -1.221960  0.616785  0.740803 -0.077763\n",
       "2013-01-05 -1.483842  0.086716 -1.669104  1.559055\n",
       "2013-01-06 -0.803660 -0.998078  0.405137  0.389523"
      ]
     },
     "execution_count": 17,
     "metadata": {},
     "output_type": "execute_result"
    }
   ],
   "source": [
    "df.sort_index(axis=1, ascending=False)#默认0按index排序，1为按column，默认ascending=True正序，返回新对象，原df不变"
   ]
  },
  {
   "cell_type": "markdown",
   "metadata": {},
   "source": [
    "<mark>sort_values - 仿照示例将 df 按照 A,B 两列从大到小排列。"
   ]
  },
  {
   "cell_type": "code",
   "execution_count": 18,
   "metadata": {
    "scrolled": true
   },
   "outputs": [
    {
     "data": {
      "text/html": [
       "<div>\n",
       "<style scoped>\n",
       "    .dataframe tbody tr th:only-of-type {\n",
       "        vertical-align: middle;\n",
       "    }\n",
       "\n",
       "    .dataframe tbody tr th {\n",
       "        vertical-align: top;\n",
       "    }\n",
       "\n",
       "    .dataframe thead th {\n",
       "        text-align: right;\n",
       "    }\n",
       "</style>\n",
       "<table border=\"1\" class=\"dataframe\">\n",
       "  <thead>\n",
       "    <tr style=\"text-align: right;\">\n",
       "      <th></th>\n",
       "      <th>A</th>\n",
       "      <th>B</th>\n",
       "      <th>C</th>\n",
       "      <th>D</th>\n",
       "    </tr>\n",
       "  </thead>\n",
       "  <tbody>\n",
       "    <tr>\n",
       "      <th>2013-01-02</th>\n",
       "      <td>1.929192</td>\n",
       "      <td>-1.094260</td>\n",
       "      <td>-0.280657</td>\n",
       "      <td>0.686523</td>\n",
       "    </tr>\n",
       "    <tr>\n",
       "      <th>2013-01-05</th>\n",
       "      <td>1.559055</td>\n",
       "      <td>-1.669104</td>\n",
       "      <td>0.086716</td>\n",
       "      <td>-1.483842</td>\n",
       "    </tr>\n",
       "    <tr>\n",
       "      <th>2013-01-03</th>\n",
       "      <td>0.790240</td>\n",
       "      <td>1.275695</td>\n",
       "      <td>0.248599</td>\n",
       "      <td>1.627106</td>\n",
       "    </tr>\n",
       "    <tr>\n",
       "      <th>2013-01-01</th>\n",
       "      <td>0.571674</td>\n",
       "      <td>-0.832200</td>\n",
       "      <td>0.436724</td>\n",
       "      <td>-1.922448</td>\n",
       "    </tr>\n",
       "    <tr>\n",
       "      <th>2013-01-06</th>\n",
       "      <td>0.389523</td>\n",
       "      <td>0.405137</td>\n",
       "      <td>-0.998078</td>\n",
       "      <td>-0.803660</td>\n",
       "    </tr>\n",
       "    <tr>\n",
       "      <th>2013-01-04</th>\n",
       "      <td>-0.077763</td>\n",
       "      <td>0.740803</td>\n",
       "      <td>0.616785</td>\n",
       "      <td>-1.221960</td>\n",
       "    </tr>\n",
       "  </tbody>\n",
       "</table>\n",
       "</div>"
      ],
      "text/plain": [
       "                   A         B         C         D\n",
       "2013-01-02  1.929192 -1.094260 -0.280657  0.686523\n",
       "2013-01-05  1.559055 -1.669104  0.086716 -1.483842\n",
       "2013-01-03  0.790240  1.275695  0.248599  1.627106\n",
       "2013-01-01  0.571674 -0.832200  0.436724 -1.922448\n",
       "2013-01-06  0.389523  0.405137 -0.998078 -0.803660\n",
       "2013-01-04 -0.077763  0.740803  0.616785 -1.221960"
      ]
     },
     "execution_count": 18,
     "metadata": {},
     "output_type": "execute_result"
    }
   ],
   "source": [
    "#sort_index的by参数已经禁用，改为sort_values\n",
    "#by接收str or list of str，不能为索引值\n",
    "#返回新对象，原df不变\n",
    "df.sort_values(by=['A','B'],ascending=False)"
   ]
  },
  {
   "cell_type": "markdown",
   "metadata": {},
   "source": [
    "<mark>[] - 仿照示例获取 df 的 B 列（提示：英文单引号和英文双引号效果相同，选择一种使用即可）"
   ]
  },
  {
   "cell_type": "code",
   "execution_count": 19,
   "metadata": {},
   "outputs": [
    {
     "data": {
      "text/html": [
       "<div>\n",
       "<style scoped>\n",
       "    .dataframe tbody tr th:only-of-type {\n",
       "        vertical-align: middle;\n",
       "    }\n",
       "\n",
       "    .dataframe tbody tr th {\n",
       "        vertical-align: top;\n",
       "    }\n",
       "\n",
       "    .dataframe thead th {\n",
       "        text-align: right;\n",
       "    }\n",
       "</style>\n",
       "<table border=\"1\" class=\"dataframe\">\n",
       "  <thead>\n",
       "    <tr style=\"text-align: right;\">\n",
       "      <th></th>\n",
       "      <th>A</th>\n",
       "      <th>B</th>\n",
       "      <th>C</th>\n",
       "      <th>D</th>\n",
       "    </tr>\n",
       "  </thead>\n",
       "  <tbody>\n",
       "    <tr>\n",
       "      <th>2013-01-01</th>\n",
       "      <td>0.571674</td>\n",
       "      <td>-0.832200</td>\n",
       "      <td>0.436724</td>\n",
       "      <td>-1.922448</td>\n",
       "    </tr>\n",
       "    <tr>\n",
       "      <th>2013-01-02</th>\n",
       "      <td>1.929192</td>\n",
       "      <td>-1.094260</td>\n",
       "      <td>-0.280657</td>\n",
       "      <td>0.686523</td>\n",
       "    </tr>\n",
       "    <tr>\n",
       "      <th>2013-01-03</th>\n",
       "      <td>0.790240</td>\n",
       "      <td>1.275695</td>\n",
       "      <td>0.248599</td>\n",
       "      <td>1.627106</td>\n",
       "    </tr>\n",
       "    <tr>\n",
       "      <th>2013-01-04</th>\n",
       "      <td>-0.077763</td>\n",
       "      <td>0.740803</td>\n",
       "      <td>0.616785</td>\n",
       "      <td>-1.221960</td>\n",
       "    </tr>\n",
       "    <tr>\n",
       "      <th>2013-01-05</th>\n",
       "      <td>1.559055</td>\n",
       "      <td>-1.669104</td>\n",
       "      <td>0.086716</td>\n",
       "      <td>-1.483842</td>\n",
       "    </tr>\n",
       "    <tr>\n",
       "      <th>2013-01-06</th>\n",
       "      <td>0.389523</td>\n",
       "      <td>0.405137</td>\n",
       "      <td>-0.998078</td>\n",
       "      <td>-0.803660</td>\n",
       "    </tr>\n",
       "  </tbody>\n",
       "</table>\n",
       "</div>"
      ],
      "text/plain": [
       "                   A         B         C         D\n",
       "2013-01-01  0.571674 -0.832200  0.436724 -1.922448\n",
       "2013-01-02  1.929192 -1.094260 -0.280657  0.686523\n",
       "2013-01-03  0.790240  1.275695  0.248599  1.627106\n",
       "2013-01-04 -0.077763  0.740803  0.616785 -1.221960\n",
       "2013-01-05  1.559055 -1.669104  0.086716 -1.483842\n",
       "2013-01-06  0.389523  0.405137 -0.998078 -0.803660"
      ]
     },
     "execution_count": 19,
     "metadata": {},
     "output_type": "execute_result"
    }
   ],
   "source": [
    "df"
   ]
  },
  {
   "cell_type": "code",
   "execution_count": 20,
   "metadata": {
    "scrolled": true
   },
   "outputs": [
    {
     "data": {
      "text/plain": [
       "2013-01-01   -0.832200\n",
       "2013-01-02   -1.094260\n",
       "2013-01-03    1.275695\n",
       "2013-01-04    0.740803\n",
       "2013-01-05   -1.669104\n",
       "2013-01-06    0.405137\n",
       "Freq: D, Name: B, dtype: float64"
      ]
     },
     "execution_count": 20,
     "metadata": {},
     "output_type": "execute_result"
    }
   ],
   "source": [
    "df['B']#equivalent to df.A,[‘列名称’]，可以为list，不能为切片（切片为行），尽量还是用loc或者iloc吧，直接取值还是有点乱"
   ]
  },
  {
   "cell_type": "markdown",
   "metadata": {},
   "source": [
    "<mark>. - 仿照示例获取 df 的 C 列"
   ]
  },
  {
   "cell_type": "code",
   "execution_count": 21,
   "metadata": {},
   "outputs": [
    {
     "data": {
      "text/plain": [
       "2013-01-01    0.436724\n",
       "2013-01-02   -0.280657\n",
       "2013-01-03    0.248599\n",
       "2013-01-04    0.616785\n",
       "2013-01-05    0.086716\n",
       "2013-01-06   -0.998078\n",
       "Freq: D, Name: C, dtype: float64"
      ]
     },
     "execution_count": 21,
     "metadata": {},
     "output_type": "execute_result"
    }
   ],
   "source": [
    "df.C#效果同上，对于int类型的列名称，不能用df.列名称代替，只有字符串可以"
   ]
  },
  {
   "cell_type": "markdown",
   "metadata": {},
   "source": [
    "<mark>[index_rank : index_rank] - 仿照示例查看 df 的 0 至 4 行（不含），也就是数学区间的[0,4)行"
   ]
  },
  {
   "cell_type": "code",
   "execution_count": 22,
   "metadata": {},
   "outputs": [
    {
     "data": {
      "text/html": [
       "<div>\n",
       "<style scoped>\n",
       "    .dataframe tbody tr th:only-of-type {\n",
       "        vertical-align: middle;\n",
       "    }\n",
       "\n",
       "    .dataframe tbody tr th {\n",
       "        vertical-align: top;\n",
       "    }\n",
       "\n",
       "    .dataframe thead th {\n",
       "        text-align: right;\n",
       "    }\n",
       "</style>\n",
       "<table border=\"1\" class=\"dataframe\">\n",
       "  <thead>\n",
       "    <tr style=\"text-align: right;\">\n",
       "      <th></th>\n",
       "      <th>A</th>\n",
       "      <th>B</th>\n",
       "      <th>C</th>\n",
       "      <th>D</th>\n",
       "    </tr>\n",
       "  </thead>\n",
       "  <tbody>\n",
       "    <tr>\n",
       "      <th>2013-01-01</th>\n",
       "      <td>0.571674</td>\n",
       "      <td>-0.832200</td>\n",
       "      <td>0.436724</td>\n",
       "      <td>-1.922448</td>\n",
       "    </tr>\n",
       "    <tr>\n",
       "      <th>2013-01-02</th>\n",
       "      <td>1.929192</td>\n",
       "      <td>-1.094260</td>\n",
       "      <td>-0.280657</td>\n",
       "      <td>0.686523</td>\n",
       "    </tr>\n",
       "    <tr>\n",
       "      <th>2013-01-03</th>\n",
       "      <td>0.790240</td>\n",
       "      <td>1.275695</td>\n",
       "      <td>0.248599</td>\n",
       "      <td>1.627106</td>\n",
       "    </tr>\n",
       "    <tr>\n",
       "      <th>2013-01-04</th>\n",
       "      <td>-0.077763</td>\n",
       "      <td>0.740803</td>\n",
       "      <td>0.616785</td>\n",
       "      <td>-1.221960</td>\n",
       "    </tr>\n",
       "  </tbody>\n",
       "</table>\n",
       "</div>"
      ],
      "text/plain": [
       "                   A         B         C         D\n",
       "2013-01-01  0.571674 -0.832200  0.436724 -1.922448\n",
       "2013-01-02  1.929192 -1.094260 -0.280657  0.686523\n",
       "2013-01-03  0.790240  1.275695  0.248599  1.627106\n",
       "2013-01-04 -0.077763  0.740803  0.616785 -1.221960"
      ]
     },
     "execution_count": 22,
     "metadata": {},
     "output_type": "execute_result"
    }
   ],
   "source": [
    "df[0:4]#行切片，数字代表序号，从0开始，选取index_rank时为前闭后开区间"
   ]
  },
  {
   "cell_type": "markdown",
   "metadata": {},
   "source": [
    "<mark>[index_value : index_value] - 仿照示例查看 df 的 20130103 至 20130106（含），也就是数学区间的[20130103,20130106]行"
   ]
  },
  {
   "cell_type": "code",
   "execution_count": 23,
   "metadata": {},
   "outputs": [
    {
     "data": {
      "text/plain": [
       "DatetimeIndex(['2013-01-01', '2013-01-02', '2013-01-03', '2013-01-04',\n",
       "               '2013-01-05', '2013-01-06'],\n",
       "              dtype='datetime64[ns]', freq='D')"
      ]
     },
     "execution_count": 23,
     "metadata": {},
     "output_type": "execute_result"
    }
   ],
   "source": [
    "dates"
   ]
  },
  {
   "cell_type": "code",
   "execution_count": 24,
   "metadata": {},
   "outputs": [
    {
     "data": {
      "text/html": [
       "<div>\n",
       "<style scoped>\n",
       "    .dataframe tbody tr th:only-of-type {\n",
       "        vertical-align: middle;\n",
       "    }\n",
       "\n",
       "    .dataframe tbody tr th {\n",
       "        vertical-align: top;\n",
       "    }\n",
       "\n",
       "    .dataframe thead th {\n",
       "        text-align: right;\n",
       "    }\n",
       "</style>\n",
       "<table border=\"1\" class=\"dataframe\">\n",
       "  <thead>\n",
       "    <tr style=\"text-align: right;\">\n",
       "      <th></th>\n",
       "      <th>A</th>\n",
       "      <th>B</th>\n",
       "      <th>C</th>\n",
       "      <th>D</th>\n",
       "    </tr>\n",
       "  </thead>\n",
       "  <tbody>\n",
       "    <tr>\n",
       "      <th>2013-01-03</th>\n",
       "      <td>0.790240</td>\n",
       "      <td>1.275695</td>\n",
       "      <td>0.248599</td>\n",
       "      <td>1.627106</td>\n",
       "    </tr>\n",
       "    <tr>\n",
       "      <th>2013-01-04</th>\n",
       "      <td>-0.077763</td>\n",
       "      <td>0.740803</td>\n",
       "      <td>0.616785</td>\n",
       "      <td>-1.221960</td>\n",
       "    </tr>\n",
       "    <tr>\n",
       "      <th>2013-01-05</th>\n",
       "      <td>1.559055</td>\n",
       "      <td>-1.669104</td>\n",
       "      <td>0.086716</td>\n",
       "      <td>-1.483842</td>\n",
       "    </tr>\n",
       "    <tr>\n",
       "      <th>2013-01-06</th>\n",
       "      <td>0.389523</td>\n",
       "      <td>0.405137</td>\n",
       "      <td>-0.998078</td>\n",
       "      <td>-0.803660</td>\n",
       "    </tr>\n",
       "  </tbody>\n",
       "</table>\n",
       "</div>"
      ],
      "text/plain": [
       "                   A         B         C         D\n",
       "2013-01-03  0.790240  1.275695  0.248599  1.627106\n",
       "2013-01-04 -0.077763  0.740803  0.616785 -1.221960\n",
       "2013-01-05  1.559055 -1.669104  0.086716 -1.483842\n",
       "2013-01-06  0.389523  0.405137 -0.998078 -0.803660"
      ]
     },
     "execution_count": 24,
     "metadata": {},
     "output_type": "execute_result"
    }
   ],
   "source": [
    "df[dates[2]:dates[5]]#行切片，选取index_value时为闭区间，如果index为int，不能采用此格式，会识别为序号"
   ]
  },
  {
   "cell_type": "code",
   "execution_count": 25,
   "metadata": {},
   "outputs": [
    {
     "data": {
      "text/html": [
       "<div>\n",
       "<style scoped>\n",
       "    .dataframe tbody tr th:only-of-type {\n",
       "        vertical-align: middle;\n",
       "    }\n",
       "\n",
       "    .dataframe tbody tr th {\n",
       "        vertical-align: top;\n",
       "    }\n",
       "\n",
       "    .dataframe thead th {\n",
       "        text-align: right;\n",
       "    }\n",
       "</style>\n",
       "<table border=\"1\" class=\"dataframe\">\n",
       "  <thead>\n",
       "    <tr style=\"text-align: right;\">\n",
       "      <th></th>\n",
       "      <th>A</th>\n",
       "      <th>B</th>\n",
       "      <th>C</th>\n",
       "      <th>D</th>\n",
       "    </tr>\n",
       "  </thead>\n",
       "  <tbody>\n",
       "    <tr>\n",
       "      <th>2013-01-03</th>\n",
       "      <td>0.790240</td>\n",
       "      <td>1.275695</td>\n",
       "      <td>0.248599</td>\n",
       "      <td>1.627106</td>\n",
       "    </tr>\n",
       "    <tr>\n",
       "      <th>2013-01-05</th>\n",
       "      <td>1.559055</td>\n",
       "      <td>-1.669104</td>\n",
       "      <td>0.086716</td>\n",
       "      <td>-1.483842</td>\n",
       "    </tr>\n",
       "  </tbody>\n",
       "</table>\n",
       "</div>"
      ],
      "text/plain": [
       "                   A         B         C         D\n",
       "2013-01-03  0.790240  1.275695  0.248599  1.627106\n",
       "2013-01-05  1.559055 -1.669104  0.086716 -1.483842"
      ]
     },
     "execution_count": 25,
     "metadata": {},
     "output_type": "execute_result"
    }
   ],
   "source": [
    "df['20130103':'20130106':2]"
   ]
  },
  {
   "cell_type": "markdown",
   "metadata": {},
   "source": [
    "<mark>loc - 仿照示例获取 df 的 3 行，即 dates[3] 。(提示：index 的 label 为 date）"
   ]
  },
  {
   "cell_type": "code",
   "execution_count": 26,
   "metadata": {},
   "outputs": [
    {
     "data": {
      "text/plain": [
       "A   -0.077763\n",
       "B    0.740803\n",
       "C    0.616785\n",
       "D   -1.221960\n",
       "Name: 2013-01-04 00:00:00, dtype: float64"
      ]
     },
     "execution_count": 26,
     "metadata": {},
     "output_type": "execute_result"
    }
   ],
   "source": [
    "df.loc[dates[3]]#loc（index切片,column切片）,闭区间。只能用index和column，不能用序号，用序号是iloc"
   ]
  },
  {
   "cell_type": "markdown",
   "metadata": {},
   "source": [
    "<mark>loc - 仿照示例获取 df 的 A,C 列。"
   ]
  },
  {
   "cell_type": "code",
   "execution_count": 27,
   "metadata": {},
   "outputs": [
    {
     "data": {
      "text/html": [
       "<div>\n",
       "<style scoped>\n",
       "    .dataframe tbody tr th:only-of-type {\n",
       "        vertical-align: middle;\n",
       "    }\n",
       "\n",
       "    .dataframe tbody tr th {\n",
       "        vertical-align: top;\n",
       "    }\n",
       "\n",
       "    .dataframe thead th {\n",
       "        text-align: right;\n",
       "    }\n",
       "</style>\n",
       "<table border=\"1\" class=\"dataframe\">\n",
       "  <thead>\n",
       "    <tr style=\"text-align: right;\">\n",
       "      <th></th>\n",
       "      <th>A</th>\n",
       "      <th>C</th>\n",
       "    </tr>\n",
       "  </thead>\n",
       "  <tbody>\n",
       "    <tr>\n",
       "      <th>2013-01-01</th>\n",
       "      <td>0.571674</td>\n",
       "      <td>0.436724</td>\n",
       "    </tr>\n",
       "    <tr>\n",
       "      <th>2013-01-03</th>\n",
       "      <td>0.790240</td>\n",
       "      <td>0.248599</td>\n",
       "    </tr>\n",
       "    <tr>\n",
       "      <th>2013-01-05</th>\n",
       "      <td>1.559055</td>\n",
       "      <td>0.086716</td>\n",
       "    </tr>\n",
       "  </tbody>\n",
       "</table>\n",
       "</div>"
      ],
      "text/plain": [
       "                   A         C\n",
       "2013-01-01  0.571674  0.436724\n",
       "2013-01-03  0.790240  0.248599\n",
       "2013-01-05  1.559055  0.086716"
      ]
     },
     "execution_count": 27,
     "metadata": {},
     "output_type": "execute_result"
    }
   ],
   "source": [
    "df.loc[::2, ['A', 'C']]"
   ]
  },
  {
   "cell_type": "markdown",
   "metadata": {},
   "source": [
    "<mark>loc - 仿照示例获取 df 20130103 至 20130106 行的 A,C 列。"
   ]
  },
  {
   "cell_type": "code",
   "execution_count": 28,
   "metadata": {},
   "outputs": [
    {
     "data": {
      "text/html": [
       "<div>\n",
       "<style scoped>\n",
       "    .dataframe tbody tr th:only-of-type {\n",
       "        vertical-align: middle;\n",
       "    }\n",
       "\n",
       "    .dataframe tbody tr th {\n",
       "        vertical-align: top;\n",
       "    }\n",
       "\n",
       "    .dataframe thead th {\n",
       "        text-align: right;\n",
       "    }\n",
       "</style>\n",
       "<table border=\"1\" class=\"dataframe\">\n",
       "  <thead>\n",
       "    <tr style=\"text-align: right;\">\n",
       "      <th></th>\n",
       "      <th>A</th>\n",
       "      <th>C</th>\n",
       "    </tr>\n",
       "  </thead>\n",
       "  <tbody>\n",
       "    <tr>\n",
       "      <th>2013-01-03</th>\n",
       "      <td>0.790240</td>\n",
       "      <td>0.248599</td>\n",
       "    </tr>\n",
       "    <tr>\n",
       "      <th>2013-01-04</th>\n",
       "      <td>-0.077763</td>\n",
       "      <td>0.616785</td>\n",
       "    </tr>\n",
       "    <tr>\n",
       "      <th>2013-01-05</th>\n",
       "      <td>1.559055</td>\n",
       "      <td>0.086716</td>\n",
       "    </tr>\n",
       "    <tr>\n",
       "      <th>2013-01-06</th>\n",
       "      <td>0.389523</td>\n",
       "      <td>-0.998078</td>\n",
       "    </tr>\n",
       "  </tbody>\n",
       "</table>\n",
       "</div>"
      ],
      "text/plain": [
       "                   A         C\n",
       "2013-01-03  0.790240  0.248599\n",
       "2013-01-04 -0.077763  0.616785\n",
       "2013-01-05  1.559055  0.086716\n",
       "2013-01-06  0.389523 -0.998078"
      ]
     },
     "execution_count": 28,
     "metadata": {},
     "output_type": "execute_result"
    }
   ],
   "source": [
    "df.loc['20130103':'20130106', ['A', 'C']]"
   ]
  },
  {
   "cell_type": "markdown",
   "metadata": {},
   "source": [
    "<mark>用法总结<p>\n",
    "<mark>一般来说使用 loc 时，需要在方括号里填入行或列的 label，通俗地讲，就是行、列的名字。具体在本例中，就是 dates[3],20130103 (行的名字） 以及 A,C （列的名字）。<p>\n",
    "<mark>如果我们把 index label 简写为 indexl，下标 i,j=0,1,……,N−1，N 为行数，且 i<j<p>\n",
    "<mark>column label 简写为 columnl，下标 k,l=0,1,……,M−1，M 为列数，且 k<l<p>\n",
    "<mark>那么对于连续的切片：<p>\n",
    "<mark>df.loc[indexli:indexlj,columnlk:columnll]<p>\n",
    "<mark>对于离散的切片：<p>\n",
    "<mark>df.loc[[indexli,indexlj],[columnlk,columnll]]<p>\n",
    "<mark>对于行连续、列离散的切片(行离散、列连续同理）：<p>\n",
    "<mark>df.loc[indexli:indexlj,[columnlk,columnll]]\n",
    "    \n",
    "<mark><font color=red size=4 face=雅黑>loc为闭区间，iloc为左闭右开区间"
   ]
  },
  {
   "cell_type": "markdown",
   "metadata": {},
   "source": [
    "<mark>at - 仿照示例获取 df 的 3 行 C 列"
   ]
  },
  {
   "cell_type": "code",
   "execution_count": 29,
   "metadata": {},
   "outputs": [
    {
     "data": {
      "text/plain": [
       "0.24859885594911674"
      ]
     },
     "execution_count": 29,
     "metadata": {},
     "output_type": "execute_result"
    }
   ],
   "source": [
    "df.loc[dates[2], 'C']"
   ]
  },
  {
   "cell_type": "code",
   "execution_count": 30,
   "metadata": {},
   "outputs": [
    {
     "data": {
      "text/plain": [
       "0.24859885594911674"
      ]
     },
     "execution_count": 30,
     "metadata": {},
     "output_type": "execute_result"
    }
   ],
   "source": [
    "df.at[dates[2], 'C']#Similar to loc，据说速度快"
   ]
  },
  {
   "cell_type": "markdown",
   "metadata": {},
   "source": [
    "<mark>iloc - 仿照示例使用 iloc 获取 df 的 3 行"
   ]
  },
  {
   "cell_type": "code",
   "execution_count": 31,
   "metadata": {},
   "outputs": [
    {
     "data": {
      "text/html": [
       "<div>\n",
       "<style scoped>\n",
       "    .dataframe tbody tr th:only-of-type {\n",
       "        vertical-align: middle;\n",
       "    }\n",
       "\n",
       "    .dataframe tbody tr th {\n",
       "        vertical-align: top;\n",
       "    }\n",
       "\n",
       "    .dataframe thead th {\n",
       "        text-align: right;\n",
       "    }\n",
       "</style>\n",
       "<table border=\"1\" class=\"dataframe\">\n",
       "  <thead>\n",
       "    <tr style=\"text-align: right;\">\n",
       "      <th></th>\n",
       "      <th>A</th>\n",
       "      <th>B</th>\n",
       "      <th>C</th>\n",
       "      <th>D</th>\n",
       "    </tr>\n",
       "  </thead>\n",
       "  <tbody>\n",
       "    <tr>\n",
       "      <th>2013-01-01</th>\n",
       "      <td>0.571674</td>\n",
       "      <td>-0.832200</td>\n",
       "      <td>0.436724</td>\n",
       "      <td>-1.922448</td>\n",
       "    </tr>\n",
       "    <tr>\n",
       "      <th>2013-01-02</th>\n",
       "      <td>1.929192</td>\n",
       "      <td>-1.094260</td>\n",
       "      <td>-0.280657</td>\n",
       "      <td>0.686523</td>\n",
       "    </tr>\n",
       "    <tr>\n",
       "      <th>2013-01-03</th>\n",
       "      <td>0.790240</td>\n",
       "      <td>1.275695</td>\n",
       "      <td>0.248599</td>\n",
       "      <td>1.627106</td>\n",
       "    </tr>\n",
       "  </tbody>\n",
       "</table>\n",
       "</div>"
      ],
      "text/plain": [
       "                   A         B         C         D\n",
       "2013-01-01  0.571674 -0.832200  0.436724 -1.922448\n",
       "2013-01-02  1.929192 -1.094260 -0.280657  0.686523\n",
       "2013-01-03  0.790240  1.275695  0.248599  1.627106"
      ]
     },
     "execution_count": 31,
     "metadata": {},
     "output_type": "execute_result"
    }
   ],
   "source": [
    "df.iloc[0:3]#loc（index切片,column切片）,只能用序号，左闭右开区间"
   ]
  },
  {
   "cell_type": "code",
   "execution_count": 32,
   "metadata": {},
   "outputs": [
    {
     "data": {
      "text/html": [
       "<div>\n",
       "<style scoped>\n",
       "    .dataframe tbody tr th:only-of-type {\n",
       "        vertical-align: middle;\n",
       "    }\n",
       "\n",
       "    .dataframe tbody tr th {\n",
       "        vertical-align: top;\n",
       "    }\n",
       "\n",
       "    .dataframe thead th {\n",
       "        text-align: right;\n",
       "    }\n",
       "</style>\n",
       "<table border=\"1\" class=\"dataframe\">\n",
       "  <thead>\n",
       "    <tr style=\"text-align: right;\">\n",
       "      <th></th>\n",
       "      <th>A</th>\n",
       "      <th>B</th>\n",
       "    </tr>\n",
       "  </thead>\n",
       "  <tbody>\n",
       "    <tr>\n",
       "      <th>2013-01-04</th>\n",
       "      <td>-0.077763</td>\n",
       "      <td>0.740803</td>\n",
       "    </tr>\n",
       "    <tr>\n",
       "      <th>2013-01-05</th>\n",
       "      <td>1.559055</td>\n",
       "      <td>-1.669104</td>\n",
       "    </tr>\n",
       "  </tbody>\n",
       "</table>\n",
       "</div>"
      ],
      "text/plain": [
       "                   A         B\n",
       "2013-01-04 -0.077763  0.740803\n",
       "2013-01-05  1.559055 -1.669104"
      ]
     },
     "execution_count": 32,
     "metadata": {},
     "output_type": "execute_result"
    }
   ],
   "source": [
    "df.iloc[3:5, 0:2]"
   ]
  },
  {
   "cell_type": "code",
   "execution_count": 33,
   "metadata": {},
   "outputs": [
    {
     "data": {
      "text/html": [
       "<div>\n",
       "<style scoped>\n",
       "    .dataframe tbody tr th:only-of-type {\n",
       "        vertical-align: middle;\n",
       "    }\n",
       "\n",
       "    .dataframe tbody tr th {\n",
       "        vertical-align: top;\n",
       "    }\n",
       "\n",
       "    .dataframe thead th {\n",
       "        text-align: right;\n",
       "    }\n",
       "</style>\n",
       "<table border=\"1\" class=\"dataframe\">\n",
       "  <thead>\n",
       "    <tr style=\"text-align: right;\">\n",
       "      <th></th>\n",
       "      <th>A</th>\n",
       "      <th>C</th>\n",
       "    </tr>\n",
       "  </thead>\n",
       "  <tbody>\n",
       "    <tr>\n",
       "      <th>2013-01-02</th>\n",
       "      <td>1.929192</td>\n",
       "      <td>-0.280657</td>\n",
       "    </tr>\n",
       "    <tr>\n",
       "      <th>2013-01-03</th>\n",
       "      <td>0.790240</td>\n",
       "      <td>0.248599</td>\n",
       "    </tr>\n",
       "    <tr>\n",
       "      <th>2013-01-05</th>\n",
       "      <td>1.559055</td>\n",
       "      <td>0.086716</td>\n",
       "    </tr>\n",
       "  </tbody>\n",
       "</table>\n",
       "</div>"
      ],
      "text/plain": [
       "                   A         C\n",
       "2013-01-02  1.929192 -0.280657\n",
       "2013-01-03  0.790240  0.248599\n",
       "2013-01-05  1.559055  0.086716"
      ]
     },
     "execution_count": 33,
     "metadata": {},
     "output_type": "execute_result"
    }
   ],
   "source": [
    "df.iloc[[1, 2, 4], [0, 2]]"
   ]
  },
  {
   "cell_type": "code",
   "execution_count": 34,
   "metadata": {},
   "outputs": [
    {
     "data": {
      "text/plain": [
       "-1.0942600246627285"
      ]
     },
     "execution_count": 34,
     "metadata": {},
     "output_type": "execute_result"
    }
   ],
   "source": [
    "df.iloc[1, 1]"
   ]
  },
  {
   "cell_type": "code",
   "execution_count": 35,
   "metadata": {},
   "outputs": [
    {
     "data": {
      "text/plain": [
       "-1.0942600246627285"
      ]
     },
     "execution_count": 35,
     "metadata": {},
     "output_type": "execute_result"
    }
   ],
   "source": [
    "df.iat[1, 1]#equivalent to the prior method"
   ]
  },
  {
   "cell_type": "markdown",
   "metadata": {},
   "source": [
    "<mark>创建一个10行8列的随机数矩阵命名为 df3，其中列名为 ABCDEFGH"
   ]
  },
  {
   "cell_type": "code",
   "execution_count": 36,
   "metadata": {},
   "outputs": [
    {
     "data": {
      "text/html": [
       "<div>\n",
       "<style scoped>\n",
       "    .dataframe tbody tr th:only-of-type {\n",
       "        vertical-align: middle;\n",
       "    }\n",
       "\n",
       "    .dataframe tbody tr th {\n",
       "        vertical-align: top;\n",
       "    }\n",
       "\n",
       "    .dataframe thead th {\n",
       "        text-align: right;\n",
       "    }\n",
       "</style>\n",
       "<table border=\"1\" class=\"dataframe\">\n",
       "  <thead>\n",
       "    <tr style=\"text-align: right;\">\n",
       "      <th></th>\n",
       "      <th>A</th>\n",
       "      <th>B</th>\n",
       "      <th>C</th>\n",
       "      <th>D</th>\n",
       "      <th>E</th>\n",
       "      <th>F</th>\n",
       "      <th>G</th>\n",
       "      <th>H</th>\n",
       "    </tr>\n",
       "  </thead>\n",
       "  <tbody>\n",
       "    <tr>\n",
       "      <th>0</th>\n",
       "      <td>1.559225</td>\n",
       "      <td>-0.048947</td>\n",
       "      <td>0.137943</td>\n",
       "      <td>0.947202</td>\n",
       "      <td>-1.415298</td>\n",
       "      <td>-0.111825</td>\n",
       "      <td>-0.311688</td>\n",
       "      <td>1.491652</td>\n",
       "    </tr>\n",
       "    <tr>\n",
       "      <th>1</th>\n",
       "      <td>-0.254874</td>\n",
       "      <td>0.876602</td>\n",
       "      <td>-1.138701</td>\n",
       "      <td>-0.085680</td>\n",
       "      <td>-0.095247</td>\n",
       "      <td>-1.821507</td>\n",
       "      <td>-0.436848</td>\n",
       "      <td>0.201702</td>\n",
       "    </tr>\n",
       "    <tr>\n",
       "      <th>2</th>\n",
       "      <td>0.708727</td>\n",
       "      <td>0.657314</td>\n",
       "      <td>0.344676</td>\n",
       "      <td>0.023320</td>\n",
       "      <td>-0.365488</td>\n",
       "      <td>1.510449</td>\n",
       "      <td>3.164622</td>\n",
       "      <td>-0.513525</td>\n",
       "    </tr>\n",
       "    <tr>\n",
       "      <th>3</th>\n",
       "      <td>0.280762</td>\n",
       "      <td>0.055586</td>\n",
       "      <td>0.235312</td>\n",
       "      <td>0.227473</td>\n",
       "      <td>-1.348248</td>\n",
       "      <td>-0.475080</td>\n",
       "      <td>0.728777</td>\n",
       "      <td>0.268097</td>\n",
       "    </tr>\n",
       "    <tr>\n",
       "      <th>4</th>\n",
       "      <td>-0.773995</td>\n",
       "      <td>-0.135183</td>\n",
       "      <td>0.220046</td>\n",
       "      <td>-1.336325</td>\n",
       "      <td>-0.041316</td>\n",
       "      <td>-0.413270</td>\n",
       "      <td>-1.355229</td>\n",
       "      <td>-0.665385</td>\n",
       "    </tr>\n",
       "    <tr>\n",
       "      <th>5</th>\n",
       "      <td>-0.400092</td>\n",
       "      <td>0.618263</td>\n",
       "      <td>1.484914</td>\n",
       "      <td>-0.193890</td>\n",
       "      <td>0.738449</td>\n",
       "      <td>1.407031</td>\n",
       "      <td>0.789025</td>\n",
       "      <td>0.602891</td>\n",
       "    </tr>\n",
       "    <tr>\n",
       "      <th>6</th>\n",
       "      <td>0.121720</td>\n",
       "      <td>-3.219652</td>\n",
       "      <td>0.232913</td>\n",
       "      <td>-1.020645</td>\n",
       "      <td>0.278141</td>\n",
       "      <td>-1.262921</td>\n",
       "      <td>2.777659</td>\n",
       "      <td>0.130810</td>\n",
       "    </tr>\n",
       "    <tr>\n",
       "      <th>7</th>\n",
       "      <td>-0.310971</td>\n",
       "      <td>0.229454</td>\n",
       "      <td>-1.042809</td>\n",
       "      <td>0.919489</td>\n",
       "      <td>1.117301</td>\n",
       "      <td>-2.211824</td>\n",
       "      <td>0.472789</td>\n",
       "      <td>-1.898606</td>\n",
       "    </tr>\n",
       "    <tr>\n",
       "      <th>8</th>\n",
       "      <td>-1.377060</td>\n",
       "      <td>1.716090</td>\n",
       "      <td>0.223270</td>\n",
       "      <td>-1.180907</td>\n",
       "      <td>-0.799188</td>\n",
       "      <td>0.274992</td>\n",
       "      <td>1.233770</td>\n",
       "      <td>-0.941085</td>\n",
       "    </tr>\n",
       "    <tr>\n",
       "      <th>9</th>\n",
       "      <td>0.179066</td>\n",
       "      <td>-0.247512</td>\n",
       "      <td>0.690600</td>\n",
       "      <td>0.060033</td>\n",
       "      <td>0.921880</td>\n",
       "      <td>0.666343</td>\n",
       "      <td>-0.811199</td>\n",
       "      <td>1.530109</td>\n",
       "    </tr>\n",
       "  </tbody>\n",
       "</table>\n",
       "</div>"
      ],
      "text/plain": [
       "          A         B         C         D         E         F         G  \\\n",
       "0  1.559225 -0.048947  0.137943  0.947202 -1.415298 -0.111825 -0.311688   \n",
       "1 -0.254874  0.876602 -1.138701 -0.085680 -0.095247 -1.821507 -0.436848   \n",
       "2  0.708727  0.657314  0.344676  0.023320 -0.365488  1.510449  3.164622   \n",
       "3  0.280762  0.055586  0.235312  0.227473 -1.348248 -0.475080  0.728777   \n",
       "4 -0.773995 -0.135183  0.220046 -1.336325 -0.041316 -0.413270 -1.355229   \n",
       "5 -0.400092  0.618263  1.484914 -0.193890  0.738449  1.407031  0.789025   \n",
       "6  0.121720 -3.219652  0.232913 -1.020645  0.278141 -1.262921  2.777659   \n",
       "7 -0.310971  0.229454 -1.042809  0.919489  1.117301 -2.211824  0.472789   \n",
       "8 -1.377060  1.716090  0.223270 -1.180907 -0.799188  0.274992  1.233770   \n",
       "9  0.179066 -0.247512  0.690600  0.060033  0.921880  0.666343 -0.811199   \n",
       "\n",
       "          H  \n",
       "0  1.491652  \n",
       "1  0.201702  \n",
       "2 -0.513525  \n",
       "3  0.268097  \n",
       "4 -0.665385  \n",
       "5  0.602891  \n",
       "6  0.130810  \n",
       "7 -1.898606  \n",
       "8 -0.941085  \n",
       "9  1.530109  "
      ]
     },
     "execution_count": 36,
     "metadata": {},
     "output_type": "execute_result"
    }
   ],
   "source": [
    "df3=pd.DataFrame(np.random.randn(10, 8),columns=list('ABCDEFGH'))\n",
    "df3"
   ]
  },
  {
   "cell_type": "markdown",
   "metadata": {},
   "source": [
    "<mark>打印 df3 的前 5 行"
   ]
  },
  {
   "cell_type": "code",
   "execution_count": 37,
   "metadata": {},
   "outputs": [
    {
     "data": {
      "text/html": [
       "<div>\n",
       "<style scoped>\n",
       "    .dataframe tbody tr th:only-of-type {\n",
       "        vertical-align: middle;\n",
       "    }\n",
       "\n",
       "    .dataframe tbody tr th {\n",
       "        vertical-align: top;\n",
       "    }\n",
       "\n",
       "    .dataframe thead th {\n",
       "        text-align: right;\n",
       "    }\n",
       "</style>\n",
       "<table border=\"1\" class=\"dataframe\">\n",
       "  <thead>\n",
       "    <tr style=\"text-align: right;\">\n",
       "      <th></th>\n",
       "      <th>A</th>\n",
       "      <th>B</th>\n",
       "      <th>C</th>\n",
       "      <th>D</th>\n",
       "      <th>E</th>\n",
       "      <th>F</th>\n",
       "      <th>G</th>\n",
       "      <th>H</th>\n",
       "    </tr>\n",
       "  </thead>\n",
       "  <tbody>\n",
       "    <tr>\n",
       "      <th>0</th>\n",
       "      <td>1.559225</td>\n",
       "      <td>-0.048947</td>\n",
       "      <td>0.137943</td>\n",
       "      <td>0.947202</td>\n",
       "      <td>-1.415298</td>\n",
       "      <td>-0.111825</td>\n",
       "      <td>-0.311688</td>\n",
       "      <td>1.491652</td>\n",
       "    </tr>\n",
       "    <tr>\n",
       "      <th>1</th>\n",
       "      <td>-0.254874</td>\n",
       "      <td>0.876602</td>\n",
       "      <td>-1.138701</td>\n",
       "      <td>-0.085680</td>\n",
       "      <td>-0.095247</td>\n",
       "      <td>-1.821507</td>\n",
       "      <td>-0.436848</td>\n",
       "      <td>0.201702</td>\n",
       "    </tr>\n",
       "    <tr>\n",
       "      <th>2</th>\n",
       "      <td>0.708727</td>\n",
       "      <td>0.657314</td>\n",
       "      <td>0.344676</td>\n",
       "      <td>0.023320</td>\n",
       "      <td>-0.365488</td>\n",
       "      <td>1.510449</td>\n",
       "      <td>3.164622</td>\n",
       "      <td>-0.513525</td>\n",
       "    </tr>\n",
       "    <tr>\n",
       "      <th>3</th>\n",
       "      <td>0.280762</td>\n",
       "      <td>0.055586</td>\n",
       "      <td>0.235312</td>\n",
       "      <td>0.227473</td>\n",
       "      <td>-1.348248</td>\n",
       "      <td>-0.475080</td>\n",
       "      <td>0.728777</td>\n",
       "      <td>0.268097</td>\n",
       "    </tr>\n",
       "    <tr>\n",
       "      <th>4</th>\n",
       "      <td>-0.773995</td>\n",
       "      <td>-0.135183</td>\n",
       "      <td>0.220046</td>\n",
       "      <td>-1.336325</td>\n",
       "      <td>-0.041316</td>\n",
       "      <td>-0.413270</td>\n",
       "      <td>-1.355229</td>\n",
       "      <td>-0.665385</td>\n",
       "    </tr>\n",
       "  </tbody>\n",
       "</table>\n",
       "</div>"
      ],
      "text/plain": [
       "          A         B         C         D         E         F         G  \\\n",
       "0  1.559225 -0.048947  0.137943  0.947202 -1.415298 -0.111825 -0.311688   \n",
       "1 -0.254874  0.876602 -1.138701 -0.085680 -0.095247 -1.821507 -0.436848   \n",
       "2  0.708727  0.657314  0.344676  0.023320 -0.365488  1.510449  3.164622   \n",
       "3  0.280762  0.055586  0.235312  0.227473 -1.348248 -0.475080  0.728777   \n",
       "4 -0.773995 -0.135183  0.220046 -1.336325 -0.041316 -0.413270 -1.355229   \n",
       "\n",
       "          H  \n",
       "0  1.491652  \n",
       "1  0.201702  \n",
       "2 -0.513525  \n",
       "3  0.268097  \n",
       "4 -0.665385  "
      ]
     },
     "execution_count": 37,
     "metadata": {},
     "output_type": "execute_result"
    }
   ],
   "source": [
    "df3.head()"
   ]
  },
  {
   "cell_type": "markdown",
   "metadata": {},
   "source": [
    "<mark>查看 df3 的描述性统计"
   ]
  },
  {
   "cell_type": "code",
   "execution_count": 38,
   "metadata": {},
   "outputs": [
    {
     "data": {
      "text/html": [
       "<div>\n",
       "<style scoped>\n",
       "    .dataframe tbody tr th:only-of-type {\n",
       "        vertical-align: middle;\n",
       "    }\n",
       "\n",
       "    .dataframe tbody tr th {\n",
       "        vertical-align: top;\n",
       "    }\n",
       "\n",
       "    .dataframe thead th {\n",
       "        text-align: right;\n",
       "    }\n",
       "</style>\n",
       "<table border=\"1\" class=\"dataframe\">\n",
       "  <thead>\n",
       "    <tr style=\"text-align: right;\">\n",
       "      <th></th>\n",
       "      <th>A</th>\n",
       "      <th>B</th>\n",
       "      <th>C</th>\n",
       "      <th>D</th>\n",
       "      <th>E</th>\n",
       "      <th>F</th>\n",
       "      <th>G</th>\n",
       "      <th>H</th>\n",
       "    </tr>\n",
       "  </thead>\n",
       "  <tbody>\n",
       "    <tr>\n",
       "      <th>count</th>\n",
       "      <td>10.000000</td>\n",
       "      <td>10.000000</td>\n",
       "      <td>10.000000</td>\n",
       "      <td>10.000000</td>\n",
       "      <td>10.000000</td>\n",
       "      <td>10.000000</td>\n",
       "      <td>10.000000</td>\n",
       "      <td>10.000000</td>\n",
       "    </tr>\n",
       "    <tr>\n",
       "      <th>mean</th>\n",
       "      <td>-0.026749</td>\n",
       "      <td>0.050202</td>\n",
       "      <td>0.138817</td>\n",
       "      <td>-0.163993</td>\n",
       "      <td>-0.100901</td>\n",
       "      <td>-0.243761</td>\n",
       "      <td>0.625168</td>\n",
       "      <td>0.020666</td>\n",
       "    </tr>\n",
       "    <tr>\n",
       "      <th>std</th>\n",
       "      <td>0.807543</td>\n",
       "      <td>1.291267</td>\n",
       "      <td>0.761505</td>\n",
       "      <td>0.802535</td>\n",
       "      <td>0.895854</td>\n",
       "      <td>1.264940</td>\n",
       "      <td>1.472109</td>\n",
       "      <td>1.067288</td>\n",
       "    </tr>\n",
       "    <tr>\n",
       "      <th>min</th>\n",
       "      <td>-1.377060</td>\n",
       "      <td>-3.219652</td>\n",
       "      <td>-1.138701</td>\n",
       "      <td>-1.336325</td>\n",
       "      <td>-1.415298</td>\n",
       "      <td>-2.211824</td>\n",
       "      <td>-1.355229</td>\n",
       "      <td>-1.898606</td>\n",
       "    </tr>\n",
       "    <tr>\n",
       "      <th>25%</th>\n",
       "      <td>-0.377812</td>\n",
       "      <td>-0.113624</td>\n",
       "      <td>0.158469</td>\n",
       "      <td>-0.813956</td>\n",
       "      <td>-0.690763</td>\n",
       "      <td>-1.065961</td>\n",
       "      <td>-0.405558</td>\n",
       "      <td>-0.627420</td>\n",
       "    </tr>\n",
       "    <tr>\n",
       "      <th>50%</th>\n",
       "      <td>-0.066577</td>\n",
       "      <td>0.142520</td>\n",
       "      <td>0.228091</td>\n",
       "      <td>-0.031180</td>\n",
       "      <td>-0.068281</td>\n",
       "      <td>-0.262548</td>\n",
       "      <td>0.600783</td>\n",
       "      <td>0.166256</td>\n",
       "    </tr>\n",
       "    <tr>\n",
       "      <th>75%</th>\n",
       "      <td>0.255338</td>\n",
       "      <td>0.647551</td>\n",
       "      <td>0.317335</td>\n",
       "      <td>0.185613</td>\n",
       "      <td>0.623372</td>\n",
       "      <td>0.568505</td>\n",
       "      <td>1.122584</td>\n",
       "      <td>0.519192</td>\n",
       "    </tr>\n",
       "    <tr>\n",
       "      <th>max</th>\n",
       "      <td>1.559225</td>\n",
       "      <td>1.716090</td>\n",
       "      <td>1.484914</td>\n",
       "      <td>0.947202</td>\n",
       "      <td>1.117301</td>\n",
       "      <td>1.510449</td>\n",
       "      <td>3.164622</td>\n",
       "      <td>1.530109</td>\n",
       "    </tr>\n",
       "  </tbody>\n",
       "</table>\n",
       "</div>"
      ],
      "text/plain": [
       "               A          B          C          D          E          F  \\\n",
       "count  10.000000  10.000000  10.000000  10.000000  10.000000  10.000000   \n",
       "mean   -0.026749   0.050202   0.138817  -0.163993  -0.100901  -0.243761   \n",
       "std     0.807543   1.291267   0.761505   0.802535   0.895854   1.264940   \n",
       "min    -1.377060  -3.219652  -1.138701  -1.336325  -1.415298  -2.211824   \n",
       "25%    -0.377812  -0.113624   0.158469  -0.813956  -0.690763  -1.065961   \n",
       "50%    -0.066577   0.142520   0.228091  -0.031180  -0.068281  -0.262548   \n",
       "75%     0.255338   0.647551   0.317335   0.185613   0.623372   0.568505   \n",
       "max     1.559225   1.716090   1.484914   0.947202   1.117301   1.510449   \n",
       "\n",
       "               G          H  \n",
       "count  10.000000  10.000000  \n",
       "mean    0.625168   0.020666  \n",
       "std     1.472109   1.067288  \n",
       "min    -1.355229  -1.898606  \n",
       "25%    -0.405558  -0.627420  \n",
       "50%     0.600783   0.166256  \n",
       "75%     1.122584   0.519192  \n",
       "max     3.164622   1.530109  "
      ]
     },
     "execution_count": 38,
     "metadata": {},
     "output_type": "execute_result"
    }
   ],
   "source": [
    "df3.describe()"
   ]
  },
  {
   "cell_type": "markdown",
   "metadata": {},
   "source": [
    "<mark>将 df3 按照 A 列数值从小到大排序（只展示前 5 行）"
   ]
  },
  {
   "cell_type": "code",
   "execution_count": 39,
   "metadata": {},
   "outputs": [
    {
     "data": {
      "text/html": [
       "<div>\n",
       "<style scoped>\n",
       "    .dataframe tbody tr th:only-of-type {\n",
       "        vertical-align: middle;\n",
       "    }\n",
       "\n",
       "    .dataframe tbody tr th {\n",
       "        vertical-align: top;\n",
       "    }\n",
       "\n",
       "    .dataframe thead th {\n",
       "        text-align: right;\n",
       "    }\n",
       "</style>\n",
       "<table border=\"1\" class=\"dataframe\">\n",
       "  <thead>\n",
       "    <tr style=\"text-align: right;\">\n",
       "      <th></th>\n",
       "      <th>A</th>\n",
       "      <th>B</th>\n",
       "      <th>C</th>\n",
       "      <th>D</th>\n",
       "      <th>E</th>\n",
       "      <th>F</th>\n",
       "      <th>G</th>\n",
       "      <th>H</th>\n",
       "    </tr>\n",
       "  </thead>\n",
       "  <tbody>\n",
       "    <tr>\n",
       "      <th>8</th>\n",
       "      <td>-1.377060</td>\n",
       "      <td>1.716090</td>\n",
       "      <td>0.223270</td>\n",
       "      <td>-1.180907</td>\n",
       "      <td>-0.799188</td>\n",
       "      <td>0.274992</td>\n",
       "      <td>1.233770</td>\n",
       "      <td>-0.941085</td>\n",
       "    </tr>\n",
       "    <tr>\n",
       "      <th>4</th>\n",
       "      <td>-0.773995</td>\n",
       "      <td>-0.135183</td>\n",
       "      <td>0.220046</td>\n",
       "      <td>-1.336325</td>\n",
       "      <td>-0.041316</td>\n",
       "      <td>-0.413270</td>\n",
       "      <td>-1.355229</td>\n",
       "      <td>-0.665385</td>\n",
       "    </tr>\n",
       "    <tr>\n",
       "      <th>5</th>\n",
       "      <td>-0.400092</td>\n",
       "      <td>0.618263</td>\n",
       "      <td>1.484914</td>\n",
       "      <td>-0.193890</td>\n",
       "      <td>0.738449</td>\n",
       "      <td>1.407031</td>\n",
       "      <td>0.789025</td>\n",
       "      <td>0.602891</td>\n",
       "    </tr>\n",
       "    <tr>\n",
       "      <th>7</th>\n",
       "      <td>-0.310971</td>\n",
       "      <td>0.229454</td>\n",
       "      <td>-1.042809</td>\n",
       "      <td>0.919489</td>\n",
       "      <td>1.117301</td>\n",
       "      <td>-2.211824</td>\n",
       "      <td>0.472789</td>\n",
       "      <td>-1.898606</td>\n",
       "    </tr>\n",
       "    <tr>\n",
       "      <th>1</th>\n",
       "      <td>-0.254874</td>\n",
       "      <td>0.876602</td>\n",
       "      <td>-1.138701</td>\n",
       "      <td>-0.085680</td>\n",
       "      <td>-0.095247</td>\n",
       "      <td>-1.821507</td>\n",
       "      <td>-0.436848</td>\n",
       "      <td>0.201702</td>\n",
       "    </tr>\n",
       "  </tbody>\n",
       "</table>\n",
       "</div>"
      ],
      "text/plain": [
       "          A         B         C         D         E         F         G  \\\n",
       "8 -1.377060  1.716090  0.223270 -1.180907 -0.799188  0.274992  1.233770   \n",
       "4 -0.773995 -0.135183  0.220046 -1.336325 -0.041316 -0.413270 -1.355229   \n",
       "5 -0.400092  0.618263  1.484914 -0.193890  0.738449  1.407031  0.789025   \n",
       "7 -0.310971  0.229454 -1.042809  0.919489  1.117301 -2.211824  0.472789   \n",
       "1 -0.254874  0.876602 -1.138701 -0.085680 -0.095247 -1.821507 -0.436848   \n",
       "\n",
       "          H  \n",
       "8 -0.941085  \n",
       "4 -0.665385  \n",
       "5  0.602891  \n",
       "7 -1.898606  \n",
       "1  0.201702  "
      ]
     },
     "execution_count": 39,
     "metadata": {},
     "output_type": "execute_result"
    }
   ],
   "source": [
    "df3.sort_values(by='A').head()"
   ]
  },
  {
   "cell_type": "markdown",
   "metadata": {},
   "source": [
    "<mark>打印 df3 的 C,H 列（只展示前 5 行）"
   ]
  },
  {
   "cell_type": "code",
   "execution_count": 40,
   "metadata": {},
   "outputs": [
    {
     "data": {
      "text/html": [
       "<div>\n",
       "<style scoped>\n",
       "    .dataframe tbody tr th:only-of-type {\n",
       "        vertical-align: middle;\n",
       "    }\n",
       "\n",
       "    .dataframe tbody tr th {\n",
       "        vertical-align: top;\n",
       "    }\n",
       "\n",
       "    .dataframe thead th {\n",
       "        text-align: right;\n",
       "    }\n",
       "</style>\n",
       "<table border=\"1\" class=\"dataframe\">\n",
       "  <thead>\n",
       "    <tr style=\"text-align: right;\">\n",
       "      <th></th>\n",
       "      <th>C</th>\n",
       "      <th>H</th>\n",
       "    </tr>\n",
       "  </thead>\n",
       "  <tbody>\n",
       "    <tr>\n",
       "      <th>0</th>\n",
       "      <td>0.137943</td>\n",
       "      <td>1.491652</td>\n",
       "    </tr>\n",
       "    <tr>\n",
       "      <th>1</th>\n",
       "      <td>-1.138701</td>\n",
       "      <td>0.201702</td>\n",
       "    </tr>\n",
       "    <tr>\n",
       "      <th>2</th>\n",
       "      <td>0.344676</td>\n",
       "      <td>-0.513525</td>\n",
       "    </tr>\n",
       "    <tr>\n",
       "      <th>3</th>\n",
       "      <td>0.235312</td>\n",
       "      <td>0.268097</td>\n",
       "    </tr>\n",
       "    <tr>\n",
       "      <th>4</th>\n",
       "      <td>0.220046</td>\n",
       "      <td>-0.665385</td>\n",
       "    </tr>\n",
       "  </tbody>\n",
       "</table>\n",
       "</div>"
      ],
      "text/plain": [
       "          C         H\n",
       "0  0.137943  1.491652\n",
       "1 -1.138701  0.201702\n",
       "2  0.344676 -0.513525\n",
       "3  0.235312  0.268097\n",
       "4  0.220046 -0.665385"
      ]
     },
     "execution_count": 40,
     "metadata": {},
     "output_type": "execute_result"
    }
   ],
   "source": [
    "df3.loc[0:4,['C','H']]"
   ]
  },
  {
   "cell_type": "code",
   "execution_count": 41,
   "metadata": {},
   "outputs": [
    {
     "data": {
      "text/html": [
       "<div>\n",
       "<style scoped>\n",
       "    .dataframe tbody tr th:only-of-type {\n",
       "        vertical-align: middle;\n",
       "    }\n",
       "\n",
       "    .dataframe tbody tr th {\n",
       "        vertical-align: top;\n",
       "    }\n",
       "\n",
       "    .dataframe thead th {\n",
       "        text-align: right;\n",
       "    }\n",
       "</style>\n",
       "<table border=\"1\" class=\"dataframe\">\n",
       "  <thead>\n",
       "    <tr style=\"text-align: right;\">\n",
       "      <th></th>\n",
       "      <th>C</th>\n",
       "      <th>H</th>\n",
       "    </tr>\n",
       "  </thead>\n",
       "  <tbody>\n",
       "    <tr>\n",
       "      <th>0</th>\n",
       "      <td>0.137943</td>\n",
       "      <td>1.491652</td>\n",
       "    </tr>\n",
       "    <tr>\n",
       "      <th>1</th>\n",
       "      <td>-1.138701</td>\n",
       "      <td>0.201702</td>\n",
       "    </tr>\n",
       "    <tr>\n",
       "      <th>2</th>\n",
       "      <td>0.344676</td>\n",
       "      <td>-0.513525</td>\n",
       "    </tr>\n",
       "    <tr>\n",
       "      <th>3</th>\n",
       "      <td>0.235312</td>\n",
       "      <td>0.268097</td>\n",
       "    </tr>\n",
       "    <tr>\n",
       "      <th>4</th>\n",
       "      <td>0.220046</td>\n",
       "      <td>-0.665385</td>\n",
       "    </tr>\n",
       "  </tbody>\n",
       "</table>\n",
       "</div>"
      ],
      "text/plain": [
       "          C         H\n",
       "0  0.137943  1.491652\n",
       "1 -1.138701  0.201702\n",
       "2  0.344676 -0.513525\n",
       "3  0.235312  0.268097\n",
       "4  0.220046 -0.665385"
      ]
     },
     "execution_count": 41,
     "metadata": {},
     "output_type": "execute_result"
    }
   ],
   "source": [
    "df3.iloc[0:5,[2,7]]"
   ]
  },
  {
   "cell_type": "markdown",
   "metadata": {},
   "source": [
    "<mark>打印 df3 的 C 至 H 列（只展示前 5 行）"
   ]
  },
  {
   "cell_type": "code",
   "execution_count": 42,
   "metadata": {},
   "outputs": [
    {
     "data": {
      "text/html": [
       "<div>\n",
       "<style scoped>\n",
       "    .dataframe tbody tr th:only-of-type {\n",
       "        vertical-align: middle;\n",
       "    }\n",
       "\n",
       "    .dataframe tbody tr th {\n",
       "        vertical-align: top;\n",
       "    }\n",
       "\n",
       "    .dataframe thead th {\n",
       "        text-align: right;\n",
       "    }\n",
       "</style>\n",
       "<table border=\"1\" class=\"dataframe\">\n",
       "  <thead>\n",
       "    <tr style=\"text-align: right;\">\n",
       "      <th></th>\n",
       "      <th>C</th>\n",
       "      <th>D</th>\n",
       "      <th>E</th>\n",
       "      <th>F</th>\n",
       "      <th>G</th>\n",
       "      <th>H</th>\n",
       "    </tr>\n",
       "  </thead>\n",
       "  <tbody>\n",
       "    <tr>\n",
       "      <th>0</th>\n",
       "      <td>0.137943</td>\n",
       "      <td>0.947202</td>\n",
       "      <td>-1.415298</td>\n",
       "      <td>-0.111825</td>\n",
       "      <td>-0.311688</td>\n",
       "      <td>1.491652</td>\n",
       "    </tr>\n",
       "    <tr>\n",
       "      <th>1</th>\n",
       "      <td>-1.138701</td>\n",
       "      <td>-0.085680</td>\n",
       "      <td>-0.095247</td>\n",
       "      <td>-1.821507</td>\n",
       "      <td>-0.436848</td>\n",
       "      <td>0.201702</td>\n",
       "    </tr>\n",
       "    <tr>\n",
       "      <th>2</th>\n",
       "      <td>0.344676</td>\n",
       "      <td>0.023320</td>\n",
       "      <td>-0.365488</td>\n",
       "      <td>1.510449</td>\n",
       "      <td>3.164622</td>\n",
       "      <td>-0.513525</td>\n",
       "    </tr>\n",
       "    <tr>\n",
       "      <th>3</th>\n",
       "      <td>0.235312</td>\n",
       "      <td>0.227473</td>\n",
       "      <td>-1.348248</td>\n",
       "      <td>-0.475080</td>\n",
       "      <td>0.728777</td>\n",
       "      <td>0.268097</td>\n",
       "    </tr>\n",
       "    <tr>\n",
       "      <th>4</th>\n",
       "      <td>0.220046</td>\n",
       "      <td>-1.336325</td>\n",
       "      <td>-0.041316</td>\n",
       "      <td>-0.413270</td>\n",
       "      <td>-1.355229</td>\n",
       "      <td>-0.665385</td>\n",
       "    </tr>\n",
       "  </tbody>\n",
       "</table>\n",
       "</div>"
      ],
      "text/plain": [
       "          C         D         E         F         G         H\n",
       "0  0.137943  0.947202 -1.415298 -0.111825 -0.311688  1.491652\n",
       "1 -1.138701 -0.085680 -0.095247 -1.821507 -0.436848  0.201702\n",
       "2  0.344676  0.023320 -0.365488  1.510449  3.164622 -0.513525\n",
       "3  0.235312  0.227473 -1.348248 -0.475080  0.728777  0.268097\n",
       "4  0.220046 -1.336325 -0.041316 -0.413270 -1.355229 -0.665385"
      ]
     },
     "execution_count": 42,
     "metadata": {},
     "output_type": "execute_result"
    }
   ],
   "source": [
    "df3.loc[0:4,'C':'H']"
   ]
  },
  {
   "cell_type": "code",
   "execution_count": 43,
   "metadata": {},
   "outputs": [
    {
     "data": {
      "text/html": [
       "<div>\n",
       "<style scoped>\n",
       "    .dataframe tbody tr th:only-of-type {\n",
       "        vertical-align: middle;\n",
       "    }\n",
       "\n",
       "    .dataframe tbody tr th {\n",
       "        vertical-align: top;\n",
       "    }\n",
       "\n",
       "    .dataframe thead th {\n",
       "        text-align: right;\n",
       "    }\n",
       "</style>\n",
       "<table border=\"1\" class=\"dataframe\">\n",
       "  <thead>\n",
       "    <tr style=\"text-align: right;\">\n",
       "      <th></th>\n",
       "      <th>C</th>\n",
       "      <th>D</th>\n",
       "      <th>E</th>\n",
       "      <th>F</th>\n",
       "      <th>G</th>\n",
       "      <th>H</th>\n",
       "    </tr>\n",
       "  </thead>\n",
       "  <tbody>\n",
       "    <tr>\n",
       "      <th>0</th>\n",
       "      <td>0.137943</td>\n",
       "      <td>0.947202</td>\n",
       "      <td>-1.415298</td>\n",
       "      <td>-0.111825</td>\n",
       "      <td>-0.311688</td>\n",
       "      <td>1.491652</td>\n",
       "    </tr>\n",
       "    <tr>\n",
       "      <th>1</th>\n",
       "      <td>-1.138701</td>\n",
       "      <td>-0.085680</td>\n",
       "      <td>-0.095247</td>\n",
       "      <td>-1.821507</td>\n",
       "      <td>-0.436848</td>\n",
       "      <td>0.201702</td>\n",
       "    </tr>\n",
       "    <tr>\n",
       "      <th>2</th>\n",
       "      <td>0.344676</td>\n",
       "      <td>0.023320</td>\n",
       "      <td>-0.365488</td>\n",
       "      <td>1.510449</td>\n",
       "      <td>3.164622</td>\n",
       "      <td>-0.513525</td>\n",
       "    </tr>\n",
       "    <tr>\n",
       "      <th>3</th>\n",
       "      <td>0.235312</td>\n",
       "      <td>0.227473</td>\n",
       "      <td>-1.348248</td>\n",
       "      <td>-0.475080</td>\n",
       "      <td>0.728777</td>\n",
       "      <td>0.268097</td>\n",
       "    </tr>\n",
       "    <tr>\n",
       "      <th>4</th>\n",
       "      <td>0.220046</td>\n",
       "      <td>-1.336325</td>\n",
       "      <td>-0.041316</td>\n",
       "      <td>-0.413270</td>\n",
       "      <td>-1.355229</td>\n",
       "      <td>-0.665385</td>\n",
       "    </tr>\n",
       "  </tbody>\n",
       "</table>\n",
       "</div>"
      ],
      "text/plain": [
       "          C         D         E         F         G         H\n",
       "0  0.137943  0.947202 -1.415298 -0.111825 -0.311688  1.491652\n",
       "1 -1.138701 -0.085680 -0.095247 -1.821507 -0.436848  0.201702\n",
       "2  0.344676  0.023320 -0.365488  1.510449  3.164622 -0.513525\n",
       "3  0.235312  0.227473 -1.348248 -0.475080  0.728777  0.268097\n",
       "4  0.220046 -1.336325 -0.041316 -0.413270 -1.355229 -0.665385"
      ]
     },
     "execution_count": 43,
     "metadata": {},
     "output_type": "execute_result"
    }
   ],
   "source": [
    "df3.iloc[0:5,2:]"
   ]
  },
  {
   "cell_type": "markdown",
   "metadata": {},
   "source": [
    "<mark>打印 df3 的 6,9 行"
   ]
  },
  {
   "cell_type": "code",
   "execution_count": 44,
   "metadata": {},
   "outputs": [
    {
     "data": {
      "text/html": [
       "<div>\n",
       "<style scoped>\n",
       "    .dataframe tbody tr th:only-of-type {\n",
       "        vertical-align: middle;\n",
       "    }\n",
       "\n",
       "    .dataframe tbody tr th {\n",
       "        vertical-align: top;\n",
       "    }\n",
       "\n",
       "    .dataframe thead th {\n",
       "        text-align: right;\n",
       "    }\n",
       "</style>\n",
       "<table border=\"1\" class=\"dataframe\">\n",
       "  <thead>\n",
       "    <tr style=\"text-align: right;\">\n",
       "      <th></th>\n",
       "      <th>A</th>\n",
       "      <th>B</th>\n",
       "      <th>C</th>\n",
       "      <th>D</th>\n",
       "      <th>E</th>\n",
       "      <th>F</th>\n",
       "      <th>G</th>\n",
       "      <th>H</th>\n",
       "    </tr>\n",
       "  </thead>\n",
       "  <tbody>\n",
       "    <tr>\n",
       "      <th>6</th>\n",
       "      <td>0.121720</td>\n",
       "      <td>-3.219652</td>\n",
       "      <td>0.232913</td>\n",
       "      <td>-1.020645</td>\n",
       "      <td>0.278141</td>\n",
       "      <td>-1.262921</td>\n",
       "      <td>2.777659</td>\n",
       "      <td>0.130810</td>\n",
       "    </tr>\n",
       "    <tr>\n",
       "      <th>9</th>\n",
       "      <td>0.179066</td>\n",
       "      <td>-0.247512</td>\n",
       "      <td>0.690600</td>\n",
       "      <td>0.060033</td>\n",
       "      <td>0.921880</td>\n",
       "      <td>0.666343</td>\n",
       "      <td>-0.811199</td>\n",
       "      <td>1.530109</td>\n",
       "    </tr>\n",
       "  </tbody>\n",
       "</table>\n",
       "</div>"
      ],
      "text/plain": [
       "          A         B         C         D         E         F         G  \\\n",
       "6  0.121720 -3.219652  0.232913 -1.020645  0.278141 -1.262921  2.777659   \n",
       "9  0.179066 -0.247512  0.690600  0.060033  0.921880  0.666343 -0.811199   \n",
       "\n",
       "          H  \n",
       "6  0.130810  \n",
       "9  1.530109  "
      ]
     },
     "execution_count": 44,
     "metadata": {},
     "output_type": "execute_result"
    }
   ],
   "source": [
    "df3.loc[[6,9]]"
   ]
  },
  {
   "cell_type": "code",
   "execution_count": 45,
   "metadata": {},
   "outputs": [
    {
     "data": {
      "text/html": [
       "<div>\n",
       "<style scoped>\n",
       "    .dataframe tbody tr th:only-of-type {\n",
       "        vertical-align: middle;\n",
       "    }\n",
       "\n",
       "    .dataframe tbody tr th {\n",
       "        vertical-align: top;\n",
       "    }\n",
       "\n",
       "    .dataframe thead th {\n",
       "        text-align: right;\n",
       "    }\n",
       "</style>\n",
       "<table border=\"1\" class=\"dataframe\">\n",
       "  <thead>\n",
       "    <tr style=\"text-align: right;\">\n",
       "      <th></th>\n",
       "      <th>A</th>\n",
       "      <th>B</th>\n",
       "      <th>C</th>\n",
       "      <th>D</th>\n",
       "      <th>E</th>\n",
       "      <th>F</th>\n",
       "      <th>G</th>\n",
       "      <th>H</th>\n",
       "    </tr>\n",
       "  </thead>\n",
       "  <tbody>\n",
       "    <tr>\n",
       "      <th>6</th>\n",
       "      <td>0.121720</td>\n",
       "      <td>-3.219652</td>\n",
       "      <td>0.232913</td>\n",
       "      <td>-1.020645</td>\n",
       "      <td>0.278141</td>\n",
       "      <td>-1.262921</td>\n",
       "      <td>2.777659</td>\n",
       "      <td>0.130810</td>\n",
       "    </tr>\n",
       "    <tr>\n",
       "      <th>9</th>\n",
       "      <td>0.179066</td>\n",
       "      <td>-0.247512</td>\n",
       "      <td>0.690600</td>\n",
       "      <td>0.060033</td>\n",
       "      <td>0.921880</td>\n",
       "      <td>0.666343</td>\n",
       "      <td>-0.811199</td>\n",
       "      <td>1.530109</td>\n",
       "    </tr>\n",
       "  </tbody>\n",
       "</table>\n",
       "</div>"
      ],
      "text/plain": [
       "          A         B         C         D         E         F         G  \\\n",
       "6  0.121720 -3.219652  0.232913 -1.020645  0.278141 -1.262921  2.777659   \n",
       "9  0.179066 -0.247512  0.690600  0.060033  0.921880  0.666343 -0.811199   \n",
       "\n",
       "          H  \n",
       "6  0.130810  \n",
       "9  1.530109  "
      ]
     },
     "execution_count": 45,
     "metadata": {},
     "output_type": "execute_result"
    }
   ],
   "source": [
    "df3.iloc[[6,9]]"
   ]
  },
  {
   "cell_type": "markdown",
   "metadata": {},
   "source": [
    "<mark>打印 df3 的 6 至 9 行（不含）"
   ]
  },
  {
   "cell_type": "code",
   "execution_count": 46,
   "metadata": {},
   "outputs": [
    {
     "data": {
      "text/html": [
       "<div>\n",
       "<style scoped>\n",
       "    .dataframe tbody tr th:only-of-type {\n",
       "        vertical-align: middle;\n",
       "    }\n",
       "\n",
       "    .dataframe tbody tr th {\n",
       "        vertical-align: top;\n",
       "    }\n",
       "\n",
       "    .dataframe thead th {\n",
       "        text-align: right;\n",
       "    }\n",
       "</style>\n",
       "<table border=\"1\" class=\"dataframe\">\n",
       "  <thead>\n",
       "    <tr style=\"text-align: right;\">\n",
       "      <th></th>\n",
       "      <th>A</th>\n",
       "      <th>B</th>\n",
       "      <th>C</th>\n",
       "      <th>D</th>\n",
       "      <th>E</th>\n",
       "      <th>F</th>\n",
       "      <th>G</th>\n",
       "      <th>H</th>\n",
       "    </tr>\n",
       "  </thead>\n",
       "  <tbody>\n",
       "    <tr>\n",
       "      <th>6</th>\n",
       "      <td>0.121720</td>\n",
       "      <td>-3.219652</td>\n",
       "      <td>0.232913</td>\n",
       "      <td>-1.020645</td>\n",
       "      <td>0.278141</td>\n",
       "      <td>-1.262921</td>\n",
       "      <td>2.777659</td>\n",
       "      <td>0.130810</td>\n",
       "    </tr>\n",
       "    <tr>\n",
       "      <th>7</th>\n",
       "      <td>-0.310971</td>\n",
       "      <td>0.229454</td>\n",
       "      <td>-1.042809</td>\n",
       "      <td>0.919489</td>\n",
       "      <td>1.117301</td>\n",
       "      <td>-2.211824</td>\n",
       "      <td>0.472789</td>\n",
       "      <td>-1.898606</td>\n",
       "    </tr>\n",
       "    <tr>\n",
       "      <th>8</th>\n",
       "      <td>-1.377060</td>\n",
       "      <td>1.716090</td>\n",
       "      <td>0.223270</td>\n",
       "      <td>-1.180907</td>\n",
       "      <td>-0.799188</td>\n",
       "      <td>0.274992</td>\n",
       "      <td>1.233770</td>\n",
       "      <td>-0.941085</td>\n",
       "    </tr>\n",
       "    <tr>\n",
       "      <th>9</th>\n",
       "      <td>0.179066</td>\n",
       "      <td>-0.247512</td>\n",
       "      <td>0.690600</td>\n",
       "      <td>0.060033</td>\n",
       "      <td>0.921880</td>\n",
       "      <td>0.666343</td>\n",
       "      <td>-0.811199</td>\n",
       "      <td>1.530109</td>\n",
       "    </tr>\n",
       "  </tbody>\n",
       "</table>\n",
       "</div>"
      ],
      "text/plain": [
       "          A         B         C         D         E         F         G  \\\n",
       "6  0.121720 -3.219652  0.232913 -1.020645  0.278141 -1.262921  2.777659   \n",
       "7 -0.310971  0.229454 -1.042809  0.919489  1.117301 -2.211824  0.472789   \n",
       "8 -1.377060  1.716090  0.223270 -1.180907 -0.799188  0.274992  1.233770   \n",
       "9  0.179066 -0.247512  0.690600  0.060033  0.921880  0.666343 -0.811199   \n",
       "\n",
       "          H  \n",
       "6  0.130810  \n",
       "7 -1.898606  \n",
       "8 -0.941085  \n",
       "9  1.530109  "
      ]
     },
     "execution_count": 46,
     "metadata": {},
     "output_type": "execute_result"
    }
   ],
   "source": [
    "df3.iloc[6:10]#注意为左闭右开区间"
   ]
  },
  {
   "cell_type": "code",
   "execution_count": 47,
   "metadata": {
    "scrolled": true
   },
   "outputs": [
    {
     "data": {
      "text/html": [
       "<div>\n",
       "<style scoped>\n",
       "    .dataframe tbody tr th:only-of-type {\n",
       "        vertical-align: middle;\n",
       "    }\n",
       "\n",
       "    .dataframe tbody tr th {\n",
       "        vertical-align: top;\n",
       "    }\n",
       "\n",
       "    .dataframe thead th {\n",
       "        text-align: right;\n",
       "    }\n",
       "</style>\n",
       "<table border=\"1\" class=\"dataframe\">\n",
       "  <thead>\n",
       "    <tr style=\"text-align: right;\">\n",
       "      <th></th>\n",
       "      <th>A</th>\n",
       "      <th>B</th>\n",
       "      <th>C</th>\n",
       "      <th>D</th>\n",
       "      <th>E</th>\n",
       "      <th>F</th>\n",
       "      <th>G</th>\n",
       "      <th>H</th>\n",
       "    </tr>\n",
       "  </thead>\n",
       "  <tbody>\n",
       "    <tr>\n",
       "      <th>6</th>\n",
       "      <td>0.121720</td>\n",
       "      <td>-3.219652</td>\n",
       "      <td>0.232913</td>\n",
       "      <td>-1.020645</td>\n",
       "      <td>0.278141</td>\n",
       "      <td>-1.262921</td>\n",
       "      <td>2.777659</td>\n",
       "      <td>0.130810</td>\n",
       "    </tr>\n",
       "    <tr>\n",
       "      <th>7</th>\n",
       "      <td>-0.310971</td>\n",
       "      <td>0.229454</td>\n",
       "      <td>-1.042809</td>\n",
       "      <td>0.919489</td>\n",
       "      <td>1.117301</td>\n",
       "      <td>-2.211824</td>\n",
       "      <td>0.472789</td>\n",
       "      <td>-1.898606</td>\n",
       "    </tr>\n",
       "    <tr>\n",
       "      <th>8</th>\n",
       "      <td>-1.377060</td>\n",
       "      <td>1.716090</td>\n",
       "      <td>0.223270</td>\n",
       "      <td>-1.180907</td>\n",
       "      <td>-0.799188</td>\n",
       "      <td>0.274992</td>\n",
       "      <td>1.233770</td>\n",
       "      <td>-0.941085</td>\n",
       "    </tr>\n",
       "    <tr>\n",
       "      <th>9</th>\n",
       "      <td>0.179066</td>\n",
       "      <td>-0.247512</td>\n",
       "      <td>0.690600</td>\n",
       "      <td>0.060033</td>\n",
       "      <td>0.921880</td>\n",
       "      <td>0.666343</td>\n",
       "      <td>-0.811199</td>\n",
       "      <td>1.530109</td>\n",
       "    </tr>\n",
       "  </tbody>\n",
       "</table>\n",
       "</div>"
      ],
      "text/plain": [
       "          A         B         C         D         E         F         G  \\\n",
       "6  0.121720 -3.219652  0.232913 -1.020645  0.278141 -1.262921  2.777659   \n",
       "7 -0.310971  0.229454 -1.042809  0.919489  1.117301 -2.211824  0.472789   \n",
       "8 -1.377060  1.716090  0.223270 -1.180907 -0.799188  0.274992  1.233770   \n",
       "9  0.179066 -0.247512  0.690600  0.060033  0.921880  0.666343 -0.811199   \n",
       "\n",
       "          H  \n",
       "6  0.130810  \n",
       "7 -1.898606  \n",
       "8 -0.941085  \n",
       "9  1.530109  "
      ]
     },
     "execution_count": 47,
     "metadata": {},
     "output_type": "execute_result"
    }
   ],
   "source": [
    "df3.loc[6:9]#注意为闭区间"
   ]
  },
  {
   "cell_type": "markdown",
   "metadata": {},
   "source": [
    "<mark>打印 df3 的 6 至 9 行（不含）的 C 至 H 列"
   ]
  },
  {
   "cell_type": "code",
   "execution_count": 48,
   "metadata": {},
   "outputs": [
    {
     "data": {
      "text/html": [
       "<div>\n",
       "<style scoped>\n",
       "    .dataframe tbody tr th:only-of-type {\n",
       "        vertical-align: middle;\n",
       "    }\n",
       "\n",
       "    .dataframe tbody tr th {\n",
       "        vertical-align: top;\n",
       "    }\n",
       "\n",
       "    .dataframe thead th {\n",
       "        text-align: right;\n",
       "    }\n",
       "</style>\n",
       "<table border=\"1\" class=\"dataframe\">\n",
       "  <thead>\n",
       "    <tr style=\"text-align: right;\">\n",
       "      <th></th>\n",
       "      <th>C</th>\n",
       "      <th>D</th>\n",
       "      <th>E</th>\n",
       "      <th>F</th>\n",
       "      <th>G</th>\n",
       "      <th>H</th>\n",
       "    </tr>\n",
       "  </thead>\n",
       "  <tbody>\n",
       "    <tr>\n",
       "      <th>6</th>\n",
       "      <td>0.232913</td>\n",
       "      <td>-1.020645</td>\n",
       "      <td>0.278141</td>\n",
       "      <td>-1.262921</td>\n",
       "      <td>2.777659</td>\n",
       "      <td>0.130810</td>\n",
       "    </tr>\n",
       "    <tr>\n",
       "      <th>7</th>\n",
       "      <td>-1.042809</td>\n",
       "      <td>0.919489</td>\n",
       "      <td>1.117301</td>\n",
       "      <td>-2.211824</td>\n",
       "      <td>0.472789</td>\n",
       "      <td>-1.898606</td>\n",
       "    </tr>\n",
       "    <tr>\n",
       "      <th>8</th>\n",
       "      <td>0.223270</td>\n",
       "      <td>-1.180907</td>\n",
       "      <td>-0.799188</td>\n",
       "      <td>0.274992</td>\n",
       "      <td>1.233770</td>\n",
       "      <td>-0.941085</td>\n",
       "    </tr>\n",
       "  </tbody>\n",
       "</table>\n",
       "</div>"
      ],
      "text/plain": [
       "          C         D         E         F         G         H\n",
       "6  0.232913 -1.020645  0.278141 -1.262921  2.777659  0.130810\n",
       "7 -1.042809  0.919489  1.117301 -2.211824  0.472789 -1.898606\n",
       "8  0.223270 -1.180907 -0.799188  0.274992  1.233770 -0.941085"
      ]
     },
     "execution_count": 48,
     "metadata": {},
     "output_type": "execute_result"
    }
   ],
   "source": [
    "df3.iloc[6:9,2:]"
   ]
  },
  {
   "cell_type": "code",
   "execution_count": 49,
   "metadata": {},
   "outputs": [
    {
     "data": {
      "text/html": [
       "<div>\n",
       "<style scoped>\n",
       "    .dataframe tbody tr th:only-of-type {\n",
       "        vertical-align: middle;\n",
       "    }\n",
       "\n",
       "    .dataframe tbody tr th {\n",
       "        vertical-align: top;\n",
       "    }\n",
       "\n",
       "    .dataframe thead th {\n",
       "        text-align: right;\n",
       "    }\n",
       "</style>\n",
       "<table border=\"1\" class=\"dataframe\">\n",
       "  <thead>\n",
       "    <tr style=\"text-align: right;\">\n",
       "      <th></th>\n",
       "      <th>C</th>\n",
       "      <th>D</th>\n",
       "      <th>E</th>\n",
       "      <th>F</th>\n",
       "      <th>G</th>\n",
       "      <th>H</th>\n",
       "    </tr>\n",
       "  </thead>\n",
       "  <tbody>\n",
       "    <tr>\n",
       "      <th>6</th>\n",
       "      <td>0.232913</td>\n",
       "      <td>-1.020645</td>\n",
       "      <td>0.278141</td>\n",
       "      <td>-1.262921</td>\n",
       "      <td>2.777659</td>\n",
       "      <td>0.130810</td>\n",
       "    </tr>\n",
       "    <tr>\n",
       "      <th>7</th>\n",
       "      <td>-1.042809</td>\n",
       "      <td>0.919489</td>\n",
       "      <td>1.117301</td>\n",
       "      <td>-2.211824</td>\n",
       "      <td>0.472789</td>\n",
       "      <td>-1.898606</td>\n",
       "    </tr>\n",
       "    <tr>\n",
       "      <th>8</th>\n",
       "      <td>0.223270</td>\n",
       "      <td>-1.180907</td>\n",
       "      <td>-0.799188</td>\n",
       "      <td>0.274992</td>\n",
       "      <td>1.233770</td>\n",
       "      <td>-0.941085</td>\n",
       "    </tr>\n",
       "  </tbody>\n",
       "</table>\n",
       "</div>"
      ],
      "text/plain": [
       "          C         D         E         F         G         H\n",
       "6  0.232913 -1.020645  0.278141 -1.262921  2.777659  0.130810\n",
       "7 -1.042809  0.919489  1.117301 -2.211824  0.472789 -1.898606\n",
       "8  0.223270 -1.180907 -0.799188  0.274992  1.233770 -0.941085"
      ]
     },
     "execution_count": 49,
     "metadata": {},
     "output_type": "execute_result"
    }
   ],
   "source": [
    "df3.loc[6:8,'C':'H']"
   ]
  },
  {
   "cell_type": "markdown",
   "metadata": {},
   "source": [
    "<mark>打印 df3 的 6,9 行的 C,H 列"
   ]
  },
  {
   "cell_type": "code",
   "execution_count": 50,
   "metadata": {},
   "outputs": [
    {
     "data": {
      "text/html": [
       "<div>\n",
       "<style scoped>\n",
       "    .dataframe tbody tr th:only-of-type {\n",
       "        vertical-align: middle;\n",
       "    }\n",
       "\n",
       "    .dataframe tbody tr th {\n",
       "        vertical-align: top;\n",
       "    }\n",
       "\n",
       "    .dataframe thead th {\n",
       "        text-align: right;\n",
       "    }\n",
       "</style>\n",
       "<table border=\"1\" class=\"dataframe\">\n",
       "  <thead>\n",
       "    <tr style=\"text-align: right;\">\n",
       "      <th></th>\n",
       "      <th>C</th>\n",
       "      <th>H</th>\n",
       "    </tr>\n",
       "  </thead>\n",
       "  <tbody>\n",
       "    <tr>\n",
       "      <th>6</th>\n",
       "      <td>0.232913</td>\n",
       "      <td>0.130810</td>\n",
       "    </tr>\n",
       "    <tr>\n",
       "      <th>9</th>\n",
       "      <td>0.690600</td>\n",
       "      <td>1.530109</td>\n",
       "    </tr>\n",
       "  </tbody>\n",
       "</table>\n",
       "</div>"
      ],
      "text/plain": [
       "          C         H\n",
       "6  0.232913  0.130810\n",
       "9  0.690600  1.530109"
      ]
     },
     "execution_count": 50,
     "metadata": {},
     "output_type": "execute_result"
    }
   ],
   "source": [
    "df3.loc[[6,9],['C','H']]"
   ]
  },
  {
   "cell_type": "code",
   "execution_count": 51,
   "metadata": {},
   "outputs": [
    {
     "data": {
      "text/html": [
       "<div>\n",
       "<style scoped>\n",
       "    .dataframe tbody tr th:only-of-type {\n",
       "        vertical-align: middle;\n",
       "    }\n",
       "\n",
       "    .dataframe tbody tr th {\n",
       "        vertical-align: top;\n",
       "    }\n",
       "\n",
       "    .dataframe thead th {\n",
       "        text-align: right;\n",
       "    }\n",
       "</style>\n",
       "<table border=\"1\" class=\"dataframe\">\n",
       "  <thead>\n",
       "    <tr style=\"text-align: right;\">\n",
       "      <th></th>\n",
       "      <th>C</th>\n",
       "      <th>H</th>\n",
       "    </tr>\n",
       "  </thead>\n",
       "  <tbody>\n",
       "    <tr>\n",
       "      <th>6</th>\n",
       "      <td>0.232913</td>\n",
       "      <td>0.130810</td>\n",
       "    </tr>\n",
       "    <tr>\n",
       "      <th>9</th>\n",
       "      <td>0.690600</td>\n",
       "      <td>1.530109</td>\n",
       "    </tr>\n",
       "  </tbody>\n",
       "</table>\n",
       "</div>"
      ],
      "text/plain": [
       "          C         H\n",
       "6  0.232913  0.130810\n",
       "9  0.690600  1.530109"
      ]
     },
     "execution_count": 51,
     "metadata": {},
     "output_type": "execute_result"
    }
   ],
   "source": [
    "df3.iloc[[6,9],[2,7]]"
   ]
  },
  {
   "cell_type": "markdown",
   "metadata": {},
   "source": [
    "<mark>iloc - 仿照示例使用 iloc 获取 df 的 1 行至 4 行（不含）的 0 列至 3 列（不含）"
   ]
  },
  {
   "cell_type": "code",
   "execution_count": 52,
   "metadata": {},
   "outputs": [
    {
     "data": {
      "text/html": [
       "<div>\n",
       "<style scoped>\n",
       "    .dataframe tbody tr th:only-of-type {\n",
       "        vertical-align: middle;\n",
       "    }\n",
       "\n",
       "    .dataframe tbody tr th {\n",
       "        vertical-align: top;\n",
       "    }\n",
       "\n",
       "    .dataframe thead th {\n",
       "        text-align: right;\n",
       "    }\n",
       "</style>\n",
       "<table border=\"1\" class=\"dataframe\">\n",
       "  <thead>\n",
       "    <tr style=\"text-align: right;\">\n",
       "      <th></th>\n",
       "      <th>A</th>\n",
       "      <th>B</th>\n",
       "      <th>C</th>\n",
       "    </tr>\n",
       "  </thead>\n",
       "  <tbody>\n",
       "    <tr>\n",
       "      <th>1</th>\n",
       "      <td>-0.254874</td>\n",
       "      <td>0.876602</td>\n",
       "      <td>-1.138701</td>\n",
       "    </tr>\n",
       "    <tr>\n",
       "      <th>2</th>\n",
       "      <td>0.708727</td>\n",
       "      <td>0.657314</td>\n",
       "      <td>0.344676</td>\n",
       "    </tr>\n",
       "    <tr>\n",
       "      <th>3</th>\n",
       "      <td>0.280762</td>\n",
       "      <td>0.055586</td>\n",
       "      <td>0.235312</td>\n",
       "    </tr>\n",
       "  </tbody>\n",
       "</table>\n",
       "</div>"
      ],
      "text/plain": [
       "          A         B         C\n",
       "1 -0.254874  0.876602 -1.138701\n",
       "2  0.708727  0.657314  0.344676\n",
       "3  0.280762  0.055586  0.235312"
      ]
     },
     "execution_count": 52,
     "metadata": {},
     "output_type": "execute_result"
    }
   ],
   "source": [
    "df3.iloc[1:4,0:3]"
   ]
  },
  {
   "cell_type": "markdown",
   "metadata": {},
   "source": [
    "<mark>iloc - 仿照示例使用 iloc 获取 df 的 1 行、 4 行的 0 列、 3 列"
   ]
  },
  {
   "cell_type": "code",
   "execution_count": 53,
   "metadata": {},
   "outputs": [
    {
     "data": {
      "text/html": [
       "<div>\n",
       "<style scoped>\n",
       "    .dataframe tbody tr th:only-of-type {\n",
       "        vertical-align: middle;\n",
       "    }\n",
       "\n",
       "    .dataframe tbody tr th {\n",
       "        vertical-align: top;\n",
       "    }\n",
       "\n",
       "    .dataframe thead th {\n",
       "        text-align: right;\n",
       "    }\n",
       "</style>\n",
       "<table border=\"1\" class=\"dataframe\">\n",
       "  <thead>\n",
       "    <tr style=\"text-align: right;\">\n",
       "      <th></th>\n",
       "      <th>A</th>\n",
       "      <th>D</th>\n",
       "    </tr>\n",
       "  </thead>\n",
       "  <tbody>\n",
       "    <tr>\n",
       "      <th>1</th>\n",
       "      <td>-0.254874</td>\n",
       "      <td>-0.085680</td>\n",
       "    </tr>\n",
       "    <tr>\n",
       "      <th>4</th>\n",
       "      <td>-0.773995</td>\n",
       "      <td>-1.336325</td>\n",
       "    </tr>\n",
       "  </tbody>\n",
       "</table>\n",
       "</div>"
      ],
      "text/plain": [
       "          A         D\n",
       "1 -0.254874 -0.085680\n",
       "4 -0.773995 -1.336325"
      ]
     },
     "execution_count": 53,
     "metadata": {},
     "output_type": "execute_result"
    }
   ],
   "source": [
    "df3.iloc[[1,4],[0,3]]"
   ]
  },
  {
   "cell_type": "markdown",
   "metadata": {},
   "source": [
    "<mark>iloc - 仿照示例使用 iloc 获取 df 的 1 至 4 行（不含）"
   ]
  },
  {
   "cell_type": "code",
   "execution_count": 54,
   "metadata": {},
   "outputs": [
    {
     "data": {
      "text/html": [
       "<div>\n",
       "<style scoped>\n",
       "    .dataframe tbody tr th:only-of-type {\n",
       "        vertical-align: middle;\n",
       "    }\n",
       "\n",
       "    .dataframe tbody tr th {\n",
       "        vertical-align: top;\n",
       "    }\n",
       "\n",
       "    .dataframe thead th {\n",
       "        text-align: right;\n",
       "    }\n",
       "</style>\n",
       "<table border=\"1\" class=\"dataframe\">\n",
       "  <thead>\n",
       "    <tr style=\"text-align: right;\">\n",
       "      <th></th>\n",
       "      <th>A</th>\n",
       "      <th>B</th>\n",
       "      <th>C</th>\n",
       "      <th>D</th>\n",
       "      <th>E</th>\n",
       "      <th>F</th>\n",
       "      <th>G</th>\n",
       "      <th>H</th>\n",
       "    </tr>\n",
       "  </thead>\n",
       "  <tbody>\n",
       "    <tr>\n",
       "      <th>1</th>\n",
       "      <td>-0.254874</td>\n",
       "      <td>0.876602</td>\n",
       "      <td>-1.138701</td>\n",
       "      <td>-0.085680</td>\n",
       "      <td>-0.095247</td>\n",
       "      <td>-1.821507</td>\n",
       "      <td>-0.436848</td>\n",
       "      <td>0.201702</td>\n",
       "    </tr>\n",
       "    <tr>\n",
       "      <th>2</th>\n",
       "      <td>0.708727</td>\n",
       "      <td>0.657314</td>\n",
       "      <td>0.344676</td>\n",
       "      <td>0.023320</td>\n",
       "      <td>-0.365488</td>\n",
       "      <td>1.510449</td>\n",
       "      <td>3.164622</td>\n",
       "      <td>-0.513525</td>\n",
       "    </tr>\n",
       "    <tr>\n",
       "      <th>3</th>\n",
       "      <td>0.280762</td>\n",
       "      <td>0.055586</td>\n",
       "      <td>0.235312</td>\n",
       "      <td>0.227473</td>\n",
       "      <td>-1.348248</td>\n",
       "      <td>-0.475080</td>\n",
       "      <td>0.728777</td>\n",
       "      <td>0.268097</td>\n",
       "    </tr>\n",
       "  </tbody>\n",
       "</table>\n",
       "</div>"
      ],
      "text/plain": [
       "          A         B         C         D         E         F         G  \\\n",
       "1 -0.254874  0.876602 -1.138701 -0.085680 -0.095247 -1.821507 -0.436848   \n",
       "2  0.708727  0.657314  0.344676  0.023320 -0.365488  1.510449  3.164622   \n",
       "3  0.280762  0.055586  0.235312  0.227473 -1.348248 -0.475080  0.728777   \n",
       "\n",
       "          H  \n",
       "1  0.201702  \n",
       "2 -0.513525  \n",
       "3  0.268097  "
      ]
     },
     "execution_count": 54,
     "metadata": {},
     "output_type": "execute_result"
    }
   ],
   "source": [
    "df3.iloc[1:4]"
   ]
  },
  {
   "cell_type": "markdown",
   "metadata": {},
   "source": [
    "<mark>iloc - 仿照示例使用 iloc 获取 df 的 2 行 2 列"
   ]
  },
  {
   "cell_type": "code",
   "execution_count": 55,
   "metadata": {},
   "outputs": [
    {
     "data": {
      "text/plain": [
       "0.3446764417000618"
      ]
     },
     "execution_count": 55,
     "metadata": {},
     "output_type": "execute_result"
    }
   ],
   "source": [
    "df3.iloc[2,2]"
   ]
  },
  {
   "cell_type": "markdown",
   "metadata": {},
   "source": [
    "<mark>iat - 仿照示例使用 iat 获取 df 的 2 行 2 列"
   ]
  },
  {
   "cell_type": "code",
   "execution_count": 56,
   "metadata": {},
   "outputs": [
    {
     "data": {
      "text/plain": [
       "0.3446764417000618"
      ]
     },
     "execution_count": 56,
     "metadata": {},
     "output_type": "execute_result"
    }
   ],
   "source": [
    "df3.iat[2,2]"
   ]
  },
  {
   "cell_type": "markdown",
   "metadata": {},
   "source": [
    "<mark>仿照示例选取 df 中 A 列大于 0.5 的部分"
   ]
  },
  {
   "cell_type": "code",
   "execution_count": 57,
   "metadata": {},
   "outputs": [
    {
     "data": {
      "text/html": [
       "<div>\n",
       "<style scoped>\n",
       "    .dataframe tbody tr th:only-of-type {\n",
       "        vertical-align: middle;\n",
       "    }\n",
       "\n",
       "    .dataframe tbody tr th {\n",
       "        vertical-align: top;\n",
       "    }\n",
       "\n",
       "    .dataframe thead th {\n",
       "        text-align: right;\n",
       "    }\n",
       "</style>\n",
       "<table border=\"1\" class=\"dataframe\">\n",
       "  <thead>\n",
       "    <tr style=\"text-align: right;\">\n",
       "      <th></th>\n",
       "      <th>A</th>\n",
       "      <th>B</th>\n",
       "      <th>C</th>\n",
       "      <th>D</th>\n",
       "      <th>E</th>\n",
       "      <th>F</th>\n",
       "      <th>G</th>\n",
       "      <th>H</th>\n",
       "    </tr>\n",
       "  </thead>\n",
       "  <tbody>\n",
       "    <tr>\n",
       "      <th>0</th>\n",
       "      <td>1.559225</td>\n",
       "      <td>-0.048947</td>\n",
       "      <td>0.137943</td>\n",
       "      <td>0.947202</td>\n",
       "      <td>-1.415298</td>\n",
       "      <td>-0.111825</td>\n",
       "      <td>-0.311688</td>\n",
       "      <td>1.491652</td>\n",
       "    </tr>\n",
       "    <tr>\n",
       "      <th>2</th>\n",
       "      <td>0.708727</td>\n",
       "      <td>0.657314</td>\n",
       "      <td>0.344676</td>\n",
       "      <td>0.023320</td>\n",
       "      <td>-0.365488</td>\n",
       "      <td>1.510449</td>\n",
       "      <td>3.164622</td>\n",
       "      <td>-0.513525</td>\n",
       "    </tr>\n",
       "  </tbody>\n",
       "</table>\n",
       "</div>"
      ],
      "text/plain": [
       "          A         B         C         D         E         F         G  \\\n",
       "0  1.559225 -0.048947  0.137943  0.947202 -1.415298 -0.111825 -0.311688   \n",
       "2  0.708727  0.657314  0.344676  0.023320 -0.365488  1.510449  3.164622   \n",
       "\n",
       "          H  \n",
       "0  1.491652  \n",
       "2 -0.513525  "
      ]
     },
     "execution_count": 57,
     "metadata": {},
     "output_type": "execute_result"
    }
   ],
   "source": [
    "df3[df3.A>.5]"
   ]
  },
  {
   "cell_type": "markdown",
   "metadata": {},
   "source": [
    "<mark>仿照示例选取 df 中所有小于 0.5 的部分"
   ]
  },
  {
   "cell_type": "code",
   "execution_count": 58,
   "metadata": {},
   "outputs": [
    {
     "data": {
      "text/html": [
       "<div>\n",
       "<style scoped>\n",
       "    .dataframe tbody tr th:only-of-type {\n",
       "        vertical-align: middle;\n",
       "    }\n",
       "\n",
       "    .dataframe tbody tr th {\n",
       "        vertical-align: top;\n",
       "    }\n",
       "\n",
       "    .dataframe thead th {\n",
       "        text-align: right;\n",
       "    }\n",
       "</style>\n",
       "<table border=\"1\" class=\"dataframe\">\n",
       "  <thead>\n",
       "    <tr style=\"text-align: right;\">\n",
       "      <th></th>\n",
       "      <th>A</th>\n",
       "      <th>B</th>\n",
       "      <th>C</th>\n",
       "      <th>D</th>\n",
       "      <th>E</th>\n",
       "      <th>F</th>\n",
       "      <th>G</th>\n",
       "      <th>H</th>\n",
       "    </tr>\n",
       "  </thead>\n",
       "  <tbody>\n",
       "    <tr>\n",
       "      <th>0</th>\n",
       "      <td>NaN</td>\n",
       "      <td>-0.048947</td>\n",
       "      <td>0.137943</td>\n",
       "      <td>NaN</td>\n",
       "      <td>-1.415298</td>\n",
       "      <td>-0.111825</td>\n",
       "      <td>-0.311688</td>\n",
       "      <td>NaN</td>\n",
       "    </tr>\n",
       "    <tr>\n",
       "      <th>1</th>\n",
       "      <td>-0.254874</td>\n",
       "      <td>NaN</td>\n",
       "      <td>-1.138701</td>\n",
       "      <td>-0.085680</td>\n",
       "      <td>-0.095247</td>\n",
       "      <td>-1.821507</td>\n",
       "      <td>-0.436848</td>\n",
       "      <td>0.201702</td>\n",
       "    </tr>\n",
       "    <tr>\n",
       "      <th>2</th>\n",
       "      <td>NaN</td>\n",
       "      <td>NaN</td>\n",
       "      <td>0.344676</td>\n",
       "      <td>0.023320</td>\n",
       "      <td>-0.365488</td>\n",
       "      <td>NaN</td>\n",
       "      <td>NaN</td>\n",
       "      <td>-0.513525</td>\n",
       "    </tr>\n",
       "    <tr>\n",
       "      <th>3</th>\n",
       "      <td>0.280762</td>\n",
       "      <td>0.055586</td>\n",
       "      <td>0.235312</td>\n",
       "      <td>0.227473</td>\n",
       "      <td>-1.348248</td>\n",
       "      <td>-0.475080</td>\n",
       "      <td>NaN</td>\n",
       "      <td>0.268097</td>\n",
       "    </tr>\n",
       "    <tr>\n",
       "      <th>4</th>\n",
       "      <td>-0.773995</td>\n",
       "      <td>-0.135183</td>\n",
       "      <td>0.220046</td>\n",
       "      <td>-1.336325</td>\n",
       "      <td>-0.041316</td>\n",
       "      <td>-0.413270</td>\n",
       "      <td>-1.355229</td>\n",
       "      <td>-0.665385</td>\n",
       "    </tr>\n",
       "    <tr>\n",
       "      <th>5</th>\n",
       "      <td>-0.400092</td>\n",
       "      <td>NaN</td>\n",
       "      <td>NaN</td>\n",
       "      <td>-0.193890</td>\n",
       "      <td>NaN</td>\n",
       "      <td>NaN</td>\n",
       "      <td>NaN</td>\n",
       "      <td>NaN</td>\n",
       "    </tr>\n",
       "    <tr>\n",
       "      <th>6</th>\n",
       "      <td>0.121720</td>\n",
       "      <td>-3.219652</td>\n",
       "      <td>0.232913</td>\n",
       "      <td>-1.020645</td>\n",
       "      <td>0.278141</td>\n",
       "      <td>-1.262921</td>\n",
       "      <td>NaN</td>\n",
       "      <td>0.130810</td>\n",
       "    </tr>\n",
       "    <tr>\n",
       "      <th>7</th>\n",
       "      <td>-0.310971</td>\n",
       "      <td>0.229454</td>\n",
       "      <td>-1.042809</td>\n",
       "      <td>NaN</td>\n",
       "      <td>NaN</td>\n",
       "      <td>-2.211824</td>\n",
       "      <td>0.472789</td>\n",
       "      <td>-1.898606</td>\n",
       "    </tr>\n",
       "    <tr>\n",
       "      <th>8</th>\n",
       "      <td>-1.377060</td>\n",
       "      <td>NaN</td>\n",
       "      <td>0.223270</td>\n",
       "      <td>-1.180907</td>\n",
       "      <td>-0.799188</td>\n",
       "      <td>0.274992</td>\n",
       "      <td>NaN</td>\n",
       "      <td>-0.941085</td>\n",
       "    </tr>\n",
       "    <tr>\n",
       "      <th>9</th>\n",
       "      <td>0.179066</td>\n",
       "      <td>-0.247512</td>\n",
       "      <td>NaN</td>\n",
       "      <td>0.060033</td>\n",
       "      <td>NaN</td>\n",
       "      <td>NaN</td>\n",
       "      <td>-0.811199</td>\n",
       "      <td>NaN</td>\n",
       "    </tr>\n",
       "  </tbody>\n",
       "</table>\n",
       "</div>"
      ],
      "text/plain": [
       "          A         B         C         D         E         F         G  \\\n",
       "0       NaN -0.048947  0.137943       NaN -1.415298 -0.111825 -0.311688   \n",
       "1 -0.254874       NaN -1.138701 -0.085680 -0.095247 -1.821507 -0.436848   \n",
       "2       NaN       NaN  0.344676  0.023320 -0.365488       NaN       NaN   \n",
       "3  0.280762  0.055586  0.235312  0.227473 -1.348248 -0.475080       NaN   \n",
       "4 -0.773995 -0.135183  0.220046 -1.336325 -0.041316 -0.413270 -1.355229   \n",
       "5 -0.400092       NaN       NaN -0.193890       NaN       NaN       NaN   \n",
       "6  0.121720 -3.219652  0.232913 -1.020645  0.278141 -1.262921       NaN   \n",
       "7 -0.310971  0.229454 -1.042809       NaN       NaN -2.211824  0.472789   \n",
       "8 -1.377060       NaN  0.223270 -1.180907 -0.799188  0.274992       NaN   \n",
       "9  0.179066 -0.247512       NaN  0.060033       NaN       NaN -0.811199   \n",
       "\n",
       "          H  \n",
       "0       NaN  \n",
       "1  0.201702  \n",
       "2 -0.513525  \n",
       "3  0.268097  \n",
       "4 -0.665385  \n",
       "5       NaN  \n",
       "6  0.130810  \n",
       "7 -1.898606  \n",
       "8 -0.941085  \n",
       "9       NaN  "
      ]
     },
     "execution_count": 58,
     "metadata": {},
     "output_type": "execute_result"
    }
   ],
   "source": [
    "df3[df3<.5]"
   ]
  },
  {
   "cell_type": "markdown",
   "metadata": {},
   "source": [
    "<mark><font color=red size=4 face=雅黑>从下面代码块开始，df、df2均被覆盖"
   ]
  },
  {
   "cell_type": "markdown",
   "metadata": {},
   "source": [
    "<mark>创建 df :\n",
    "df = pd.DataFrame(np.random.randn(6, 4), index=dates, columns=list('ABCD'))"
   ]
  },
  {
   "cell_type": "code",
   "execution_count": 59,
   "metadata": {},
   "outputs": [
    {
     "data": {
      "text/html": [
       "<div>\n",
       "<style scoped>\n",
       "    .dataframe tbody tr th:only-of-type {\n",
       "        vertical-align: middle;\n",
       "    }\n",
       "\n",
       "    .dataframe tbody tr th {\n",
       "        vertical-align: top;\n",
       "    }\n",
       "\n",
       "    .dataframe thead th {\n",
       "        text-align: right;\n",
       "    }\n",
       "</style>\n",
       "<table border=\"1\" class=\"dataframe\">\n",
       "  <thead>\n",
       "    <tr style=\"text-align: right;\">\n",
       "      <th></th>\n",
       "      <th>A</th>\n",
       "      <th>B</th>\n",
       "      <th>C</th>\n",
       "      <th>D</th>\n",
       "    </tr>\n",
       "  </thead>\n",
       "  <tbody>\n",
       "    <tr>\n",
       "      <th>2013-01-01</th>\n",
       "      <td>-1.573588</td>\n",
       "      <td>0.142956</td>\n",
       "      <td>-0.385871</td>\n",
       "      <td>0.725706</td>\n",
       "    </tr>\n",
       "    <tr>\n",
       "      <th>2013-01-02</th>\n",
       "      <td>-0.161212</td>\n",
       "      <td>2.003575</td>\n",
       "      <td>-0.014554</td>\n",
       "      <td>1.122852</td>\n",
       "    </tr>\n",
       "    <tr>\n",
       "      <th>2013-01-03</th>\n",
       "      <td>-0.646614</td>\n",
       "      <td>-2.817714</td>\n",
       "      <td>-0.499927</td>\n",
       "      <td>0.572079</td>\n",
       "    </tr>\n",
       "    <tr>\n",
       "      <th>2013-01-04</th>\n",
       "      <td>-1.130273</td>\n",
       "      <td>-1.545320</td>\n",
       "      <td>-0.338461</td>\n",
       "      <td>-1.013032</td>\n",
       "    </tr>\n",
       "    <tr>\n",
       "      <th>2013-01-05</th>\n",
       "      <td>-0.816211</td>\n",
       "      <td>2.454490</td>\n",
       "      <td>1.375652</td>\n",
       "      <td>1.388656</td>\n",
       "    </tr>\n",
       "    <tr>\n",
       "      <th>2013-01-06</th>\n",
       "      <td>0.075114</td>\n",
       "      <td>0.059730</td>\n",
       "      <td>1.475762</td>\n",
       "      <td>-0.688870</td>\n",
       "    </tr>\n",
       "  </tbody>\n",
       "</table>\n",
       "</div>"
      ],
      "text/plain": [
       "                   A         B         C         D\n",
       "2013-01-01 -1.573588  0.142956 -0.385871  0.725706\n",
       "2013-01-02 -0.161212  2.003575 -0.014554  1.122852\n",
       "2013-01-03 -0.646614 -2.817714 -0.499927  0.572079\n",
       "2013-01-04 -1.130273 -1.545320 -0.338461 -1.013032\n",
       "2013-01-05 -0.816211  2.454490  1.375652  1.388656\n",
       "2013-01-06  0.075114  0.059730  1.475762 -0.688870"
      ]
     },
     "execution_count": 59,
     "metadata": {},
     "output_type": "execute_result"
    }
   ],
   "source": [
    "df = pd.DataFrame(np.random.randn(6, 4), index=dates, columns=list('ABCD'))\n",
    "df"
   ]
  },
  {
   "cell_type": "markdown",
   "metadata": {},
   "source": [
    "<mark>copy - 按照示例复制 df 并命名为 df2"
   ]
  },
  {
   "cell_type": "code",
   "execution_count": 60,
   "metadata": {},
   "outputs": [
    {
     "data": {
      "text/html": [
       "<div>\n",
       "<style scoped>\n",
       "    .dataframe tbody tr th:only-of-type {\n",
       "        vertical-align: middle;\n",
       "    }\n",
       "\n",
       "    .dataframe tbody tr th {\n",
       "        vertical-align: top;\n",
       "    }\n",
       "\n",
       "    .dataframe thead th {\n",
       "        text-align: right;\n",
       "    }\n",
       "</style>\n",
       "<table border=\"1\" class=\"dataframe\">\n",
       "  <thead>\n",
       "    <tr style=\"text-align: right;\">\n",
       "      <th></th>\n",
       "      <th>A</th>\n",
       "      <th>B</th>\n",
       "      <th>C</th>\n",
       "      <th>D</th>\n",
       "    </tr>\n",
       "  </thead>\n",
       "  <tbody>\n",
       "    <tr>\n",
       "      <th>2013-01-01</th>\n",
       "      <td>-1.573588</td>\n",
       "      <td>0.142956</td>\n",
       "      <td>-0.385871</td>\n",
       "      <td>0.725706</td>\n",
       "    </tr>\n",
       "    <tr>\n",
       "      <th>2013-01-02</th>\n",
       "      <td>-0.161212</td>\n",
       "      <td>2.003575</td>\n",
       "      <td>-0.014554</td>\n",
       "      <td>1.122852</td>\n",
       "    </tr>\n",
       "    <tr>\n",
       "      <th>2013-01-03</th>\n",
       "      <td>-0.646614</td>\n",
       "      <td>-2.817714</td>\n",
       "      <td>-0.499927</td>\n",
       "      <td>0.572079</td>\n",
       "    </tr>\n",
       "    <tr>\n",
       "      <th>2013-01-04</th>\n",
       "      <td>-1.130273</td>\n",
       "      <td>-1.545320</td>\n",
       "      <td>-0.338461</td>\n",
       "      <td>-1.013032</td>\n",
       "    </tr>\n",
       "    <tr>\n",
       "      <th>2013-01-05</th>\n",
       "      <td>-0.816211</td>\n",
       "      <td>2.454490</td>\n",
       "      <td>1.375652</td>\n",
       "      <td>1.388656</td>\n",
       "    </tr>\n",
       "    <tr>\n",
       "      <th>2013-01-06</th>\n",
       "      <td>0.075114</td>\n",
       "      <td>0.059730</td>\n",
       "      <td>1.475762</td>\n",
       "      <td>-0.688870</td>\n",
       "    </tr>\n",
       "  </tbody>\n",
       "</table>\n",
       "</div>"
      ],
      "text/plain": [
       "                   A         B         C         D\n",
       "2013-01-01 -1.573588  0.142956 -0.385871  0.725706\n",
       "2013-01-02 -0.161212  2.003575 -0.014554  1.122852\n",
       "2013-01-03 -0.646614 -2.817714 -0.499927  0.572079\n",
       "2013-01-04 -1.130273 -1.545320 -0.338461 -1.013032\n",
       "2013-01-05 -0.816211  2.454490  1.375652  1.388656\n",
       "2013-01-06  0.075114  0.059730  1.475762 -0.688870"
      ]
     },
     "execution_count": 60,
     "metadata": {},
     "output_type": "execute_result"
    }
   ],
   "source": [
    "#df2=df是对原df的引用\n",
    "#df2=df.copy()是复制，a new object will be created\n",
    "#默认deep=True，deep=False的时候就相当于df2=df\n",
    "df2=df.copy()\n",
    "df2"
   ]
  },
  {
   "cell_type": "markdown",
   "metadata": {},
   "source": [
    "<mark>仿照示例创建 df2 的 E 列，值为 ['T', 'O', 'T', 'T', 'D', 'U']"
   ]
  },
  {
   "cell_type": "code",
   "execution_count": 61,
   "metadata": {},
   "outputs": [
    {
     "data": {
      "text/html": [
       "<div>\n",
       "<style scoped>\n",
       "    .dataframe tbody tr th:only-of-type {\n",
       "        vertical-align: middle;\n",
       "    }\n",
       "\n",
       "    .dataframe tbody tr th {\n",
       "        vertical-align: top;\n",
       "    }\n",
       "\n",
       "    .dataframe thead th {\n",
       "        text-align: right;\n",
       "    }\n",
       "</style>\n",
       "<table border=\"1\" class=\"dataframe\">\n",
       "  <thead>\n",
       "    <tr style=\"text-align: right;\">\n",
       "      <th></th>\n",
       "      <th>A</th>\n",
       "      <th>B</th>\n",
       "      <th>C</th>\n",
       "      <th>D</th>\n",
       "      <th>E</th>\n",
       "    </tr>\n",
       "  </thead>\n",
       "  <tbody>\n",
       "    <tr>\n",
       "      <th>2013-01-01</th>\n",
       "      <td>-1.573588</td>\n",
       "      <td>0.142956</td>\n",
       "      <td>-0.385871</td>\n",
       "      <td>0.725706</td>\n",
       "      <td>T</td>\n",
       "    </tr>\n",
       "    <tr>\n",
       "      <th>2013-01-02</th>\n",
       "      <td>-0.161212</td>\n",
       "      <td>2.003575</td>\n",
       "      <td>-0.014554</td>\n",
       "      <td>1.122852</td>\n",
       "      <td>O</td>\n",
       "    </tr>\n",
       "    <tr>\n",
       "      <th>2013-01-03</th>\n",
       "      <td>-0.646614</td>\n",
       "      <td>-2.817714</td>\n",
       "      <td>-0.499927</td>\n",
       "      <td>0.572079</td>\n",
       "      <td>T</td>\n",
       "    </tr>\n",
       "    <tr>\n",
       "      <th>2013-01-04</th>\n",
       "      <td>-1.130273</td>\n",
       "      <td>-1.545320</td>\n",
       "      <td>-0.338461</td>\n",
       "      <td>-1.013032</td>\n",
       "      <td>T</td>\n",
       "    </tr>\n",
       "    <tr>\n",
       "      <th>2013-01-05</th>\n",
       "      <td>-0.816211</td>\n",
       "      <td>2.454490</td>\n",
       "      <td>1.375652</td>\n",
       "      <td>1.388656</td>\n",
       "      <td>D</td>\n",
       "    </tr>\n",
       "    <tr>\n",
       "      <th>2013-01-06</th>\n",
       "      <td>0.075114</td>\n",
       "      <td>0.059730</td>\n",
       "      <td>1.475762</td>\n",
       "      <td>-0.688870</td>\n",
       "      <td>U</td>\n",
       "    </tr>\n",
       "  </tbody>\n",
       "</table>\n",
       "</div>"
      ],
      "text/plain": [
       "                   A         B         C         D  E\n",
       "2013-01-01 -1.573588  0.142956 -0.385871  0.725706  T\n",
       "2013-01-02 -0.161212  2.003575 -0.014554  1.122852  O\n",
       "2013-01-03 -0.646614 -2.817714 -0.499927  0.572079  T\n",
       "2013-01-04 -1.130273 -1.545320 -0.338461 -1.013032  T\n",
       "2013-01-05 -0.816211  2.454490  1.375652  1.388656  D\n",
       "2013-01-06  0.075114  0.059730  1.475762 -0.688870  U"
      ]
     },
     "execution_count": 61,
     "metadata": {},
     "output_type": "execute_result"
    }
   ],
   "source": [
    "df2['E'] = ['T', 'O', 'T', 'T', 'D', 'U']#没有的时候是创建，有的时候是赋值\n",
    "df2"
   ]
  },
  {
   "cell_type": "markdown",
   "metadata": {},
   "source": [
    "<mark>isin - 仿照示例选取 df2 中 E 列值为 T,D,U 的部分"
   ]
  },
  {
   "cell_type": "code",
   "execution_count": 62,
   "metadata": {},
   "outputs": [
    {
     "data": {
      "text/html": [
       "<div>\n",
       "<style scoped>\n",
       "    .dataframe tbody tr th:only-of-type {\n",
       "        vertical-align: middle;\n",
       "    }\n",
       "\n",
       "    .dataframe tbody tr th {\n",
       "        vertical-align: top;\n",
       "    }\n",
       "\n",
       "    .dataframe thead th {\n",
       "        text-align: right;\n",
       "    }\n",
       "</style>\n",
       "<table border=\"1\" class=\"dataframe\">\n",
       "  <thead>\n",
       "    <tr style=\"text-align: right;\">\n",
       "      <th></th>\n",
       "      <th>A</th>\n",
       "      <th>B</th>\n",
       "      <th>C</th>\n",
       "      <th>D</th>\n",
       "      <th>E</th>\n",
       "    </tr>\n",
       "  </thead>\n",
       "  <tbody>\n",
       "    <tr>\n",
       "      <th>2013-01-01</th>\n",
       "      <td>-1.573588</td>\n",
       "      <td>0.142956</td>\n",
       "      <td>-0.385871</td>\n",
       "      <td>0.725706</td>\n",
       "      <td>T</td>\n",
       "    </tr>\n",
       "    <tr>\n",
       "      <th>2013-01-03</th>\n",
       "      <td>-0.646614</td>\n",
       "      <td>-2.817714</td>\n",
       "      <td>-0.499927</td>\n",
       "      <td>0.572079</td>\n",
       "      <td>T</td>\n",
       "    </tr>\n",
       "    <tr>\n",
       "      <th>2013-01-04</th>\n",
       "      <td>-1.130273</td>\n",
       "      <td>-1.545320</td>\n",
       "      <td>-0.338461</td>\n",
       "      <td>-1.013032</td>\n",
       "      <td>T</td>\n",
       "    </tr>\n",
       "    <tr>\n",
       "      <th>2013-01-05</th>\n",
       "      <td>-0.816211</td>\n",
       "      <td>2.454490</td>\n",
       "      <td>1.375652</td>\n",
       "      <td>1.388656</td>\n",
       "      <td>D</td>\n",
       "    </tr>\n",
       "    <tr>\n",
       "      <th>2013-01-06</th>\n",
       "      <td>0.075114</td>\n",
       "      <td>0.059730</td>\n",
       "      <td>1.475762</td>\n",
       "      <td>-0.688870</td>\n",
       "      <td>U</td>\n",
       "    </tr>\n",
       "  </tbody>\n",
       "</table>\n",
       "</div>"
      ],
      "text/plain": [
       "                   A         B         C         D  E\n",
       "2013-01-01 -1.573588  0.142956 -0.385871  0.725706  T\n",
       "2013-01-03 -0.646614 -2.817714 -0.499927  0.572079  T\n",
       "2013-01-04 -1.130273 -1.545320 -0.338461 -1.013032  T\n",
       "2013-01-05 -0.816211  2.454490  1.375652  1.388656  D\n",
       "2013-01-06  0.075114  0.059730  1.475762 -0.688870  U"
      ]
     },
     "execution_count": 62,
     "metadata": {},
     "output_type": "execute_result"
    }
   ],
   "source": [
    "df2[df2.E.isin(['T','D','U'])]"
   ]
  },
  {
   "cell_type": "markdown",
   "metadata": {},
   "source": [
    "<mark>仿照示例创建 s1，长度为 7，数值任意，其中 index 为 20200206 起的 7 天"
   ]
  },
  {
   "cell_type": "code",
   "execution_count": 63,
   "metadata": {},
   "outputs": [
    {
     "data": {
      "text/plain": [
       "2020-02-06    1\n",
       "2020-02-07    2\n",
       "2020-02-08    3\n",
       "2020-02-09    4\n",
       "2020-02-10    5\n",
       "2020-02-11    6\n",
       "2020-02-12    7\n",
       "Freq: D, dtype: int64"
      ]
     },
     "execution_count": 63,
     "metadata": {},
     "output_type": "execute_result"
    }
   ],
   "source": [
    "s1 = pd.Series(list(range(1,8)), index=pd.date_range('20200206', periods=7))#list(range(1,8))==[1, 2, 3, 4, 5, 6,7]\n",
    "s1"
   ]
  },
  {
   "cell_type": "markdown",
   "metadata": {},
   "source": [
    "<mark>at - 仿照示例将 df 的 0 行 B 列赋值为 0"
   ]
  },
  {
   "cell_type": "code",
   "execution_count": 64,
   "metadata": {},
   "outputs": [
    {
     "data": {
      "text/html": [
       "<div>\n",
       "<style scoped>\n",
       "    .dataframe tbody tr th:only-of-type {\n",
       "        vertical-align: middle;\n",
       "    }\n",
       "\n",
       "    .dataframe tbody tr th {\n",
       "        vertical-align: top;\n",
       "    }\n",
       "\n",
       "    .dataframe thead th {\n",
       "        text-align: right;\n",
       "    }\n",
       "</style>\n",
       "<table border=\"1\" class=\"dataframe\">\n",
       "  <thead>\n",
       "    <tr style=\"text-align: right;\">\n",
       "      <th></th>\n",
       "      <th>A</th>\n",
       "      <th>B</th>\n",
       "      <th>C</th>\n",
       "      <th>D</th>\n",
       "    </tr>\n",
       "  </thead>\n",
       "  <tbody>\n",
       "    <tr>\n",
       "      <th>2013-01-01</th>\n",
       "      <td>-1.573588</td>\n",
       "      <td>0.000000</td>\n",
       "      <td>-0.385871</td>\n",
       "      <td>0.725706</td>\n",
       "    </tr>\n",
       "    <tr>\n",
       "      <th>2013-01-02</th>\n",
       "      <td>-0.161212</td>\n",
       "      <td>2.003575</td>\n",
       "      <td>-0.014554</td>\n",
       "      <td>1.122852</td>\n",
       "    </tr>\n",
       "    <tr>\n",
       "      <th>2013-01-03</th>\n",
       "      <td>-0.646614</td>\n",
       "      <td>-2.817714</td>\n",
       "      <td>-0.499927</td>\n",
       "      <td>0.572079</td>\n",
       "    </tr>\n",
       "    <tr>\n",
       "      <th>2013-01-04</th>\n",
       "      <td>-1.130273</td>\n",
       "      <td>-1.545320</td>\n",
       "      <td>-0.338461</td>\n",
       "      <td>-1.013032</td>\n",
       "    </tr>\n",
       "    <tr>\n",
       "      <th>2013-01-05</th>\n",
       "      <td>-0.816211</td>\n",
       "      <td>2.454490</td>\n",
       "      <td>1.375652</td>\n",
       "      <td>1.388656</td>\n",
       "    </tr>\n",
       "    <tr>\n",
       "      <th>2013-01-06</th>\n",
       "      <td>0.075114</td>\n",
       "      <td>0.059730</td>\n",
       "      <td>1.475762</td>\n",
       "      <td>-0.688870</td>\n",
       "    </tr>\n",
       "  </tbody>\n",
       "</table>\n",
       "</div>"
      ],
      "text/plain": [
       "                   A         B         C         D\n",
       "2013-01-01 -1.573588  0.000000 -0.385871  0.725706\n",
       "2013-01-02 -0.161212  2.003575 -0.014554  1.122852\n",
       "2013-01-03 -0.646614 -2.817714 -0.499927  0.572079\n",
       "2013-01-04 -1.130273 -1.545320 -0.338461 -1.013032\n",
       "2013-01-05 -0.816211  2.454490  1.375652  1.388656\n",
       "2013-01-06  0.075114  0.059730  1.475762 -0.688870"
      ]
     },
     "execution_count": 64,
     "metadata": {},
     "output_type": "execute_result"
    }
   ],
   "source": [
    "df.at['20130101','B']=0\n",
    "df"
   ]
  },
  {
   "cell_type": "markdown",
   "metadata": {},
   "source": [
    "<mark>iat - 仿照示例将 df 的 0 行 0 列赋值为 0"
   ]
  },
  {
   "cell_type": "code",
   "execution_count": 65,
   "metadata": {},
   "outputs": [
    {
     "data": {
      "text/html": [
       "<div>\n",
       "<style scoped>\n",
       "    .dataframe tbody tr th:only-of-type {\n",
       "        vertical-align: middle;\n",
       "    }\n",
       "\n",
       "    .dataframe tbody tr th {\n",
       "        vertical-align: top;\n",
       "    }\n",
       "\n",
       "    .dataframe thead th {\n",
       "        text-align: right;\n",
       "    }\n",
       "</style>\n",
       "<table border=\"1\" class=\"dataframe\">\n",
       "  <thead>\n",
       "    <tr style=\"text-align: right;\">\n",
       "      <th></th>\n",
       "      <th>A</th>\n",
       "      <th>B</th>\n",
       "      <th>C</th>\n",
       "      <th>D</th>\n",
       "    </tr>\n",
       "  </thead>\n",
       "  <tbody>\n",
       "    <tr>\n",
       "      <th>2013-01-01</th>\n",
       "      <td>0.000000</td>\n",
       "      <td>0.000000</td>\n",
       "      <td>-0.385871</td>\n",
       "      <td>0.725706</td>\n",
       "    </tr>\n",
       "    <tr>\n",
       "      <th>2013-01-02</th>\n",
       "      <td>-0.161212</td>\n",
       "      <td>2.003575</td>\n",
       "      <td>-0.014554</td>\n",
       "      <td>1.122852</td>\n",
       "    </tr>\n",
       "    <tr>\n",
       "      <th>2013-01-03</th>\n",
       "      <td>-0.646614</td>\n",
       "      <td>-2.817714</td>\n",
       "      <td>-0.499927</td>\n",
       "      <td>0.572079</td>\n",
       "    </tr>\n",
       "    <tr>\n",
       "      <th>2013-01-04</th>\n",
       "      <td>-1.130273</td>\n",
       "      <td>-1.545320</td>\n",
       "      <td>-0.338461</td>\n",
       "      <td>-1.013032</td>\n",
       "    </tr>\n",
       "    <tr>\n",
       "      <th>2013-01-05</th>\n",
       "      <td>-0.816211</td>\n",
       "      <td>2.454490</td>\n",
       "      <td>1.375652</td>\n",
       "      <td>1.388656</td>\n",
       "    </tr>\n",
       "    <tr>\n",
       "      <th>2013-01-06</th>\n",
       "      <td>0.075114</td>\n",
       "      <td>0.059730</td>\n",
       "      <td>1.475762</td>\n",
       "      <td>-0.688870</td>\n",
       "    </tr>\n",
       "  </tbody>\n",
       "</table>\n",
       "</div>"
      ],
      "text/plain": [
       "                   A         B         C         D\n",
       "2013-01-01  0.000000  0.000000 -0.385871  0.725706\n",
       "2013-01-02 -0.161212  2.003575 -0.014554  1.122852\n",
       "2013-01-03 -0.646614 -2.817714 -0.499927  0.572079\n",
       "2013-01-04 -1.130273 -1.545320 -0.338461 -1.013032\n",
       "2013-01-05 -0.816211  2.454490  1.375652  1.388656\n",
       "2013-01-06  0.075114  0.059730  1.475762 -0.688870"
      ]
     },
     "execution_count": 65,
     "metadata": {},
     "output_type": "execute_result"
    }
   ],
   "source": [
    "df.iat[0,0]=0\n",
    "df"
   ]
  },
  {
   "cell_type": "markdown",
   "metadata": {},
   "source": [
    "<mark>将 df 的 D 列均赋值为 5"
   ]
  },
  {
   "cell_type": "code",
   "execution_count": 66,
   "metadata": {},
   "outputs": [
    {
     "data": {
      "text/html": [
       "<div>\n",
       "<style scoped>\n",
       "    .dataframe tbody tr th:only-of-type {\n",
       "        vertical-align: middle;\n",
       "    }\n",
       "\n",
       "    .dataframe tbody tr th {\n",
       "        vertical-align: top;\n",
       "    }\n",
       "\n",
       "    .dataframe thead th {\n",
       "        text-align: right;\n",
       "    }\n",
       "</style>\n",
       "<table border=\"1\" class=\"dataframe\">\n",
       "  <thead>\n",
       "    <tr style=\"text-align: right;\">\n",
       "      <th></th>\n",
       "      <th>A</th>\n",
       "      <th>B</th>\n",
       "      <th>C</th>\n",
       "      <th>D</th>\n",
       "    </tr>\n",
       "  </thead>\n",
       "  <tbody>\n",
       "    <tr>\n",
       "      <th>2013-01-01</th>\n",
       "      <td>0.000000</td>\n",
       "      <td>0.000000</td>\n",
       "      <td>-0.385871</td>\n",
       "      <td>5</td>\n",
       "    </tr>\n",
       "    <tr>\n",
       "      <th>2013-01-02</th>\n",
       "      <td>-0.161212</td>\n",
       "      <td>2.003575</td>\n",
       "      <td>-0.014554</td>\n",
       "      <td>5</td>\n",
       "    </tr>\n",
       "    <tr>\n",
       "      <th>2013-01-03</th>\n",
       "      <td>-0.646614</td>\n",
       "      <td>-2.817714</td>\n",
       "      <td>-0.499927</td>\n",
       "      <td>5</td>\n",
       "    </tr>\n",
       "    <tr>\n",
       "      <th>2013-01-04</th>\n",
       "      <td>-1.130273</td>\n",
       "      <td>-1.545320</td>\n",
       "      <td>-0.338461</td>\n",
       "      <td>5</td>\n",
       "    </tr>\n",
       "    <tr>\n",
       "      <th>2013-01-05</th>\n",
       "      <td>-0.816211</td>\n",
       "      <td>2.454490</td>\n",
       "      <td>1.375652</td>\n",
       "      <td>5</td>\n",
       "    </tr>\n",
       "    <tr>\n",
       "      <th>2013-01-06</th>\n",
       "      <td>0.075114</td>\n",
       "      <td>0.059730</td>\n",
       "      <td>1.475762</td>\n",
       "      <td>5</td>\n",
       "    </tr>\n",
       "  </tbody>\n",
       "</table>\n",
       "</div>"
      ],
      "text/plain": [
       "                   A         B         C  D\n",
       "2013-01-01  0.000000  0.000000 -0.385871  5\n",
       "2013-01-02 -0.161212  2.003575 -0.014554  5\n",
       "2013-01-03 -0.646614 -2.817714 -0.499927  5\n",
       "2013-01-04 -1.130273 -1.545320 -0.338461  5\n",
       "2013-01-05 -0.816211  2.454490  1.375652  5\n",
       "2013-01-06  0.075114  0.059730  1.475762  5"
      ]
     },
     "execution_count": 66,
     "metadata": {},
     "output_type": "execute_result"
    }
   ],
   "source": [
    "df.D=5\n",
    "df.loc[:,'D']=5#效果同上，逗号前面的冒号不能省略\n",
    "df.iloc[:,3]=np.array([5] * len(df))#效果同上，Python len() 方法返回对象（字符、列表、元组等）长度或项目个数。=df.shape[0]\n",
    "df"
   ]
  },
  {
   "cell_type": "markdown",
   "metadata": {},
   "source": [
    "<mark>仿照示例将 df 中数值为 5 的赋值为其相反数"
   ]
  },
  {
   "cell_type": "code",
   "execution_count": 67,
   "metadata": {},
   "outputs": [
    {
     "data": {
      "text/html": [
       "<div>\n",
       "<style scoped>\n",
       "    .dataframe tbody tr th:only-of-type {\n",
       "        vertical-align: middle;\n",
       "    }\n",
       "\n",
       "    .dataframe tbody tr th {\n",
       "        vertical-align: top;\n",
       "    }\n",
       "\n",
       "    .dataframe thead th {\n",
       "        text-align: right;\n",
       "    }\n",
       "</style>\n",
       "<table border=\"1\" class=\"dataframe\">\n",
       "  <thead>\n",
       "    <tr style=\"text-align: right;\">\n",
       "      <th></th>\n",
       "      <th>A</th>\n",
       "      <th>B</th>\n",
       "      <th>C</th>\n",
       "      <th>D</th>\n",
       "    </tr>\n",
       "  </thead>\n",
       "  <tbody>\n",
       "    <tr>\n",
       "      <th>2013-01-01</th>\n",
       "      <td>0.000000</td>\n",
       "      <td>0.000000</td>\n",
       "      <td>-0.385871</td>\n",
       "      <td>-5</td>\n",
       "    </tr>\n",
       "    <tr>\n",
       "      <th>2013-01-02</th>\n",
       "      <td>-0.161212</td>\n",
       "      <td>2.003575</td>\n",
       "      <td>-0.014554</td>\n",
       "      <td>-5</td>\n",
       "    </tr>\n",
       "    <tr>\n",
       "      <th>2013-01-03</th>\n",
       "      <td>-0.646614</td>\n",
       "      <td>-2.817714</td>\n",
       "      <td>-0.499927</td>\n",
       "      <td>-5</td>\n",
       "    </tr>\n",
       "    <tr>\n",
       "      <th>2013-01-04</th>\n",
       "      <td>-1.130273</td>\n",
       "      <td>-1.545320</td>\n",
       "      <td>-0.338461</td>\n",
       "      <td>-5</td>\n",
       "    </tr>\n",
       "    <tr>\n",
       "      <th>2013-01-05</th>\n",
       "      <td>-0.816211</td>\n",
       "      <td>2.454490</td>\n",
       "      <td>1.375652</td>\n",
       "      <td>-5</td>\n",
       "    </tr>\n",
       "    <tr>\n",
       "      <th>2013-01-06</th>\n",
       "      <td>0.075114</td>\n",
       "      <td>0.059730</td>\n",
       "      <td>1.475762</td>\n",
       "      <td>-5</td>\n",
       "    </tr>\n",
       "  </tbody>\n",
       "</table>\n",
       "</div>"
      ],
      "text/plain": [
       "                   A         B         C  D\n",
       "2013-01-01  0.000000  0.000000 -0.385871 -5\n",
       "2013-01-02 -0.161212  2.003575 -0.014554 -5\n",
       "2013-01-03 -0.646614 -2.817714 -0.499927 -5\n",
       "2013-01-04 -1.130273 -1.545320 -0.338461 -5\n",
       "2013-01-05 -0.816211  2.454490  1.375652 -5\n",
       "2013-01-06  0.075114  0.059730  1.475762 -5"
      ]
     },
     "execution_count": 67,
     "metadata": {},
     "output_type": "execute_result"
    }
   ],
   "source": [
    "df[df==5]=-df\n",
    "df"
   ]
  },
  {
   "cell_type": "markdown",
   "metadata": {},
   "source": [
    "<mark>按照示例创建 df1"
   ]
  },
  {
   "cell_type": "code",
   "execution_count": 68,
   "metadata": {},
   "outputs": [
    {
     "data": {
      "text/html": [
       "<div>\n",
       "<style scoped>\n",
       "    .dataframe tbody tr th:only-of-type {\n",
       "        vertical-align: middle;\n",
       "    }\n",
       "\n",
       "    .dataframe tbody tr th {\n",
       "        vertical-align: top;\n",
       "    }\n",
       "\n",
       "    .dataframe thead th {\n",
       "        text-align: right;\n",
       "    }\n",
       "</style>\n",
       "<table border=\"1\" class=\"dataframe\">\n",
       "  <thead>\n",
       "    <tr style=\"text-align: right;\">\n",
       "      <th></th>\n",
       "      <th>A</th>\n",
       "      <th>B</th>\n",
       "      <th>C</th>\n",
       "      <th>D</th>\n",
       "      <th>E</th>\n",
       "    </tr>\n",
       "  </thead>\n",
       "  <tbody>\n",
       "    <tr>\n",
       "      <th>2013-01-01</th>\n",
       "      <td>0.000000</td>\n",
       "      <td>0.000000</td>\n",
       "      <td>-0.385871</td>\n",
       "      <td>-5</td>\n",
       "      <td>NaN</td>\n",
       "    </tr>\n",
       "    <tr>\n",
       "      <th>2013-01-02</th>\n",
       "      <td>-0.161212</td>\n",
       "      <td>2.003575</td>\n",
       "      <td>-0.014554</td>\n",
       "      <td>-5</td>\n",
       "      <td>NaN</td>\n",
       "    </tr>\n",
       "    <tr>\n",
       "      <th>2013-01-03</th>\n",
       "      <td>-0.646614</td>\n",
       "      <td>-2.817714</td>\n",
       "      <td>-0.499927</td>\n",
       "      <td>-5</td>\n",
       "      <td>NaN</td>\n",
       "    </tr>\n",
       "    <tr>\n",
       "      <th>2013-01-04</th>\n",
       "      <td>-1.130273</td>\n",
       "      <td>-1.545320</td>\n",
       "      <td>-0.338461</td>\n",
       "      <td>-5</td>\n",
       "      <td>NaN</td>\n",
       "    </tr>\n",
       "  </tbody>\n",
       "</table>\n",
       "</div>"
      ],
      "text/plain": [
       "                   A         B         C  D   E\n",
       "2013-01-01  0.000000  0.000000 -0.385871 -5 NaN\n",
       "2013-01-02 -0.161212  2.003575 -0.014554 -5 NaN\n",
       "2013-01-03 -0.646614 -2.817714 -0.499927 -5 NaN\n",
       "2013-01-04 -1.130273 -1.545320 -0.338461 -5 NaN"
      ]
     },
     "execution_count": 68,
     "metadata": {},
     "output_type": "execute_result"
    }
   ],
   "source": [
    "#Reindexing allows you to change/add/delete the index on a specified axis. This returns a copy of the data.\n",
    "#df.columns是index对象， + ['E']是遍历data加，list(df.columns) + ['E']是延长\n",
    "#df.columns.tolist()也ok\n",
    "df1 = df.reindex(index=dates[0:4], columns=list(df.columns) + ['E'])\n",
    "df1"
   ]
  },
  {
   "cell_type": "markdown",
   "metadata": {},
   "source": [
    "<mark>按照示例给 E 列 0,1 行赋值为 1"
   ]
  },
  {
   "cell_type": "code",
   "execution_count": 69,
   "metadata": {},
   "outputs": [
    {
     "data": {
      "text/html": [
       "<div>\n",
       "<style scoped>\n",
       "    .dataframe tbody tr th:only-of-type {\n",
       "        vertical-align: middle;\n",
       "    }\n",
       "\n",
       "    .dataframe tbody tr th {\n",
       "        vertical-align: top;\n",
       "    }\n",
       "\n",
       "    .dataframe thead th {\n",
       "        text-align: right;\n",
       "    }\n",
       "</style>\n",
       "<table border=\"1\" class=\"dataframe\">\n",
       "  <thead>\n",
       "    <tr style=\"text-align: right;\">\n",
       "      <th></th>\n",
       "      <th>A</th>\n",
       "      <th>B</th>\n",
       "      <th>C</th>\n",
       "      <th>D</th>\n",
       "      <th>E</th>\n",
       "    </tr>\n",
       "  </thead>\n",
       "  <tbody>\n",
       "    <tr>\n",
       "      <th>2013-01-01</th>\n",
       "      <td>0.000000</td>\n",
       "      <td>0.000000</td>\n",
       "      <td>-0.385871</td>\n",
       "      <td>-5</td>\n",
       "      <td>1.0</td>\n",
       "    </tr>\n",
       "    <tr>\n",
       "      <th>2013-01-02</th>\n",
       "      <td>-0.161212</td>\n",
       "      <td>2.003575</td>\n",
       "      <td>-0.014554</td>\n",
       "      <td>-5</td>\n",
       "      <td>1.0</td>\n",
       "    </tr>\n",
       "    <tr>\n",
       "      <th>2013-01-03</th>\n",
       "      <td>-0.646614</td>\n",
       "      <td>-2.817714</td>\n",
       "      <td>-0.499927</td>\n",
       "      <td>-5</td>\n",
       "      <td>NaN</td>\n",
       "    </tr>\n",
       "    <tr>\n",
       "      <th>2013-01-04</th>\n",
       "      <td>-1.130273</td>\n",
       "      <td>-1.545320</td>\n",
       "      <td>-0.338461</td>\n",
       "      <td>-5</td>\n",
       "      <td>NaN</td>\n",
       "    </tr>\n",
       "  </tbody>\n",
       "</table>\n",
       "</div>"
      ],
      "text/plain": [
       "                   A         B         C  D    E\n",
       "2013-01-01  0.000000  0.000000 -0.385871 -5  1.0\n",
       "2013-01-02 -0.161212  2.003575 -0.014554 -5  1.0\n",
       "2013-01-03 -0.646614 -2.817714 -0.499927 -5  NaN\n",
       "2013-01-04 -1.130273 -1.545320 -0.338461 -5  NaN"
      ]
     },
     "execution_count": 69,
     "metadata": {},
     "output_type": "execute_result"
    }
   ],
   "source": [
    "df1.iloc[[0,1],4]=1#等同于：df1.loc[dates[0]:dates[1], 'E'] = 1或df1.iloc[0:2,4]\n",
    "df1"
   ]
  },
  {
   "cell_type": "markdown",
   "metadata": {},
   "source": [
    "<mark>dropna - 按照示例对 df1 去除所有含有空值的行"
   ]
  },
  {
   "cell_type": "code",
   "execution_count": 70,
   "metadata": {},
   "outputs": [
    {
     "data": {
      "text/html": [
       "<div>\n",
       "<style scoped>\n",
       "    .dataframe tbody tr th:only-of-type {\n",
       "        vertical-align: middle;\n",
       "    }\n",
       "\n",
       "    .dataframe tbody tr th {\n",
       "        vertical-align: top;\n",
       "    }\n",
       "\n",
       "    .dataframe thead th {\n",
       "        text-align: right;\n",
       "    }\n",
       "</style>\n",
       "<table border=\"1\" class=\"dataframe\">\n",
       "  <thead>\n",
       "    <tr style=\"text-align: right;\">\n",
       "      <th></th>\n",
       "      <th>A</th>\n",
       "      <th>B</th>\n",
       "      <th>C</th>\n",
       "      <th>D</th>\n",
       "      <th>E</th>\n",
       "    </tr>\n",
       "  </thead>\n",
       "  <tbody>\n",
       "    <tr>\n",
       "      <th>2013-01-01</th>\n",
       "      <td>0.000000</td>\n",
       "      <td>0.000000</td>\n",
       "      <td>-0.385871</td>\n",
       "      <td>-5</td>\n",
       "      <td>1.0</td>\n",
       "    </tr>\n",
       "    <tr>\n",
       "      <th>2013-01-02</th>\n",
       "      <td>-0.161212</td>\n",
       "      <td>2.003575</td>\n",
       "      <td>-0.014554</td>\n",
       "      <td>-5</td>\n",
       "      <td>1.0</td>\n",
       "    </tr>\n",
       "  </tbody>\n",
       "</table>\n",
       "</div>"
      ],
      "text/plain": [
       "                   A         B         C  D    E\n",
       "2013-01-01  0.000000  0.000000 -0.385871 -5  1.0\n",
       "2013-01-02 -0.161212  2.003575 -0.014554 -5  1.0"
      ]
     },
     "execution_count": 70,
     "metadata": {},
     "output_type": "execute_result"
    }
   ],
   "source": [
    "#默认返回副本，不改变原dataframe\n",
    "#inplacebool, default False，If True, do operation inplace and return None.\n",
    "#how{‘any’, ‘all’}, default ‘any’\n",
    "df1.dropna(how='any')"
   ]
  },
  {
   "cell_type": "markdown",
   "metadata": {},
   "source": [
    "<mark>fillna - 按照示例将 df1 中所有空值用数值 5 填充"
   ]
  },
  {
   "cell_type": "code",
   "execution_count": 71,
   "metadata": {},
   "outputs": [
    {
     "data": {
      "text/html": [
       "<div>\n",
       "<style scoped>\n",
       "    .dataframe tbody tr th:only-of-type {\n",
       "        vertical-align: middle;\n",
       "    }\n",
       "\n",
       "    .dataframe tbody tr th {\n",
       "        vertical-align: top;\n",
       "    }\n",
       "\n",
       "    .dataframe thead th {\n",
       "        text-align: right;\n",
       "    }\n",
       "</style>\n",
       "<table border=\"1\" class=\"dataframe\">\n",
       "  <thead>\n",
       "    <tr style=\"text-align: right;\">\n",
       "      <th></th>\n",
       "      <th>A</th>\n",
       "      <th>B</th>\n",
       "      <th>C</th>\n",
       "      <th>D</th>\n",
       "      <th>E</th>\n",
       "    </tr>\n",
       "  </thead>\n",
       "  <tbody>\n",
       "    <tr>\n",
       "      <th>2013-01-01</th>\n",
       "      <td>0.000000</td>\n",
       "      <td>0.000000</td>\n",
       "      <td>-0.385871</td>\n",
       "      <td>-5</td>\n",
       "      <td>1.0</td>\n",
       "    </tr>\n",
       "    <tr>\n",
       "      <th>2013-01-02</th>\n",
       "      <td>-0.161212</td>\n",
       "      <td>2.003575</td>\n",
       "      <td>-0.014554</td>\n",
       "      <td>-5</td>\n",
       "      <td>1.0</td>\n",
       "    </tr>\n",
       "    <tr>\n",
       "      <th>2013-01-03</th>\n",
       "      <td>-0.646614</td>\n",
       "      <td>-2.817714</td>\n",
       "      <td>-0.499927</td>\n",
       "      <td>-5</td>\n",
       "      <td>5.0</td>\n",
       "    </tr>\n",
       "    <tr>\n",
       "      <th>2013-01-04</th>\n",
       "      <td>-1.130273</td>\n",
       "      <td>-1.545320</td>\n",
       "      <td>-0.338461</td>\n",
       "      <td>-5</td>\n",
       "      <td>5.0</td>\n",
       "    </tr>\n",
       "  </tbody>\n",
       "</table>\n",
       "</div>"
      ],
      "text/plain": [
       "                   A         B         C  D    E\n",
       "2013-01-01  0.000000  0.000000 -0.385871 -5  1.0\n",
       "2013-01-02 -0.161212  2.003575 -0.014554 -5  1.0\n",
       "2013-01-03 -0.646614 -2.817714 -0.499927 -5  5.0\n",
       "2013-01-04 -1.130273 -1.545320 -0.338461 -5  5.0"
      ]
     },
     "execution_count": 71,
     "metadata": {},
     "output_type": "execute_result"
    }
   ],
   "source": [
    "#默认返回副本，不改变原dataframe\n",
    "#inplacebool, default False，If True, do operation inplace and return None.\n",
    "df1.fillna(value=5)"
   ]
  },
  {
   "cell_type": "markdown",
   "metadata": {},
   "source": [
    "<mark>isna - 按照示例判断 df1 中每个值是否为空值"
   ]
  },
  {
   "cell_type": "code",
   "execution_count": 72,
   "metadata": {},
   "outputs": [
    {
     "data": {
      "text/html": [
       "<div>\n",
       "<style scoped>\n",
       "    .dataframe tbody tr th:only-of-type {\n",
       "        vertical-align: middle;\n",
       "    }\n",
       "\n",
       "    .dataframe tbody tr th {\n",
       "        vertical-align: top;\n",
       "    }\n",
       "\n",
       "    .dataframe thead th {\n",
       "        text-align: right;\n",
       "    }\n",
       "</style>\n",
       "<table border=\"1\" class=\"dataframe\">\n",
       "  <thead>\n",
       "    <tr style=\"text-align: right;\">\n",
       "      <th></th>\n",
       "      <th>A</th>\n",
       "      <th>B</th>\n",
       "      <th>C</th>\n",
       "      <th>D</th>\n",
       "      <th>E</th>\n",
       "    </tr>\n",
       "  </thead>\n",
       "  <tbody>\n",
       "    <tr>\n",
       "      <th>2013-01-01</th>\n",
       "      <td>False</td>\n",
       "      <td>False</td>\n",
       "      <td>False</td>\n",
       "      <td>False</td>\n",
       "      <td>False</td>\n",
       "    </tr>\n",
       "    <tr>\n",
       "      <th>2013-01-02</th>\n",
       "      <td>False</td>\n",
       "      <td>False</td>\n",
       "      <td>False</td>\n",
       "      <td>False</td>\n",
       "      <td>False</td>\n",
       "    </tr>\n",
       "    <tr>\n",
       "      <th>2013-01-03</th>\n",
       "      <td>False</td>\n",
       "      <td>False</td>\n",
       "      <td>False</td>\n",
       "      <td>False</td>\n",
       "      <td>True</td>\n",
       "    </tr>\n",
       "    <tr>\n",
       "      <th>2013-01-04</th>\n",
       "      <td>False</td>\n",
       "      <td>False</td>\n",
       "      <td>False</td>\n",
       "      <td>False</td>\n",
       "      <td>True</td>\n",
       "    </tr>\n",
       "  </tbody>\n",
       "</table>\n",
       "</div>"
      ],
      "text/plain": [
       "                A      B      C      D      E\n",
       "2013-01-01  False  False  False  False  False\n",
       "2013-01-02  False  False  False  False  False\n",
       "2013-01-03  False  False  False  False   True\n",
       "2013-01-04  False  False  False  False   True"
      ]
     },
     "execution_count": 72,
     "metadata": {},
     "output_type": "execute_result"
    }
   ],
   "source": [
    "df1.isna()"
   ]
  },
  {
   "cell_type": "markdown",
   "metadata": {},
   "source": [
    "<mark>mean - 按照示例计算 df 每一列的平均值"
   ]
  },
  {
   "cell_type": "code",
   "execution_count": 73,
   "metadata": {},
   "outputs": [
    {
     "data": {
      "text/plain": [
       "A   -0.446533\n",
       "B    0.025793\n",
       "C    0.268767\n",
       "D   -5.000000\n",
       "dtype: float64"
      ]
     },
     "execution_count": 73,
     "metadata": {},
     "output_type": "execute_result"
    }
   ],
   "source": [
    "df.mean()"
   ]
  },
  {
   "cell_type": "markdown",
   "metadata": {},
   "source": [
    "<mark>mean - 按照示例计算 df 每一行的平均值"
   ]
  },
  {
   "cell_type": "code",
   "execution_count": 74,
   "metadata": {},
   "outputs": [
    {
     "data": {
      "text/plain": [
       "2013-01-01   -1.346468\n",
       "2013-01-02   -0.793048\n",
       "2013-01-03   -2.241064\n",
       "2013-01-04   -2.003514\n",
       "2013-01-05   -0.496517\n",
       "2013-01-06   -0.847349\n",
       "Freq: D, dtype: float64"
      ]
     },
     "execution_count": 74,
     "metadata": {},
     "output_type": "execute_result"
    }
   ],
   "source": [
    "df.mean(1)"
   ]
  },
  {
   "cell_type": "markdown",
   "metadata": {},
   "source": [
    "<mark>shift - 按照示例创建 s 并后移 2 行"
   ]
  },
  {
   "cell_type": "code",
   "execution_count": 75,
   "metadata": {},
   "outputs": [
    {
     "data": {
      "text/plain": [
       "2013-01-01    NaN\n",
       "2013-01-02    NaN\n",
       "2013-01-03    1.0\n",
       "2013-01-04    3.0\n",
       "2013-01-05    5.0\n",
       "2013-01-06    NaN\n",
       "Freq: D, dtype: float64"
      ]
     },
     "execution_count": 75,
     "metadata": {},
     "output_type": "execute_result"
    }
   ],
   "source": [
    "#shift(periods=1, freq改变的是时间索引（如果有）=None, axis=0, fill_value=None)\n",
    "#freq改变的是时间索引（如果有）\n",
    "s = pd.Series([1, 3, 5, np.nan, 6, 8], index=dates).shift(2)\n",
    "s"
   ]
  },
  {
   "cell_type": "markdown",
   "metadata": {},
   "source": [
    "<mark>sub - 按照示例将 df 每一列与 s 相减"
   ]
  },
  {
   "cell_type": "code",
   "execution_count": 76,
   "metadata": {},
   "outputs": [
    {
     "data": {
      "text/html": [
       "<div>\n",
       "<style scoped>\n",
       "    .dataframe tbody tr th:only-of-type {\n",
       "        vertical-align: middle;\n",
       "    }\n",
       "\n",
       "    .dataframe tbody tr th {\n",
       "        vertical-align: top;\n",
       "    }\n",
       "\n",
       "    .dataframe thead th {\n",
       "        text-align: right;\n",
       "    }\n",
       "</style>\n",
       "<table border=\"1\" class=\"dataframe\">\n",
       "  <thead>\n",
       "    <tr style=\"text-align: right;\">\n",
       "      <th></th>\n",
       "      <th>A</th>\n",
       "      <th>B</th>\n",
       "      <th>C</th>\n",
       "      <th>D</th>\n",
       "    </tr>\n",
       "  </thead>\n",
       "  <tbody>\n",
       "    <tr>\n",
       "      <th>2013-01-01</th>\n",
       "      <td>0.000000</td>\n",
       "      <td>0.000000</td>\n",
       "      <td>-0.385871</td>\n",
       "      <td>-5</td>\n",
       "    </tr>\n",
       "    <tr>\n",
       "      <th>2013-01-02</th>\n",
       "      <td>-0.161212</td>\n",
       "      <td>2.003575</td>\n",
       "      <td>-0.014554</td>\n",
       "      <td>-5</td>\n",
       "    </tr>\n",
       "    <tr>\n",
       "      <th>2013-01-03</th>\n",
       "      <td>-0.646614</td>\n",
       "      <td>-2.817714</td>\n",
       "      <td>-0.499927</td>\n",
       "      <td>-5</td>\n",
       "    </tr>\n",
       "    <tr>\n",
       "      <th>2013-01-04</th>\n",
       "      <td>-1.130273</td>\n",
       "      <td>-1.545320</td>\n",
       "      <td>-0.338461</td>\n",
       "      <td>-5</td>\n",
       "    </tr>\n",
       "    <tr>\n",
       "      <th>2013-01-05</th>\n",
       "      <td>-0.816211</td>\n",
       "      <td>2.454490</td>\n",
       "      <td>1.375652</td>\n",
       "      <td>-5</td>\n",
       "    </tr>\n",
       "    <tr>\n",
       "      <th>2013-01-06</th>\n",
       "      <td>0.075114</td>\n",
       "      <td>0.059730</td>\n",
       "      <td>1.475762</td>\n",
       "      <td>-5</td>\n",
       "    </tr>\n",
       "  </tbody>\n",
       "</table>\n",
       "</div>"
      ],
      "text/plain": [
       "                   A         B         C  D\n",
       "2013-01-01  0.000000  0.000000 -0.385871 -5\n",
       "2013-01-02 -0.161212  2.003575 -0.014554 -5\n",
       "2013-01-03 -0.646614 -2.817714 -0.499927 -5\n",
       "2013-01-04 -1.130273 -1.545320 -0.338461 -5\n",
       "2013-01-05 -0.816211  2.454490  1.375652 -5\n",
       "2013-01-06  0.075114  0.059730  1.475762 -5"
      ]
     },
     "execution_count": 76,
     "metadata": {},
     "output_type": "execute_result"
    }
   ],
   "source": [
    "df"
   ]
  },
  {
   "cell_type": "code",
   "execution_count": 77,
   "metadata": {},
   "outputs": [
    {
     "data": {
      "text/html": [
       "<div>\n",
       "<style scoped>\n",
       "    .dataframe tbody tr th:only-of-type {\n",
       "        vertical-align: middle;\n",
       "    }\n",
       "\n",
       "    .dataframe tbody tr th {\n",
       "        vertical-align: top;\n",
       "    }\n",
       "\n",
       "    .dataframe thead th {\n",
       "        text-align: right;\n",
       "    }\n",
       "</style>\n",
       "<table border=\"1\" class=\"dataframe\">\n",
       "  <thead>\n",
       "    <tr style=\"text-align: right;\">\n",
       "      <th></th>\n",
       "      <th>A</th>\n",
       "      <th>B</th>\n",
       "      <th>C</th>\n",
       "      <th>D</th>\n",
       "    </tr>\n",
       "  </thead>\n",
       "  <tbody>\n",
       "    <tr>\n",
       "      <th>2013-01-01</th>\n",
       "      <td>NaN</td>\n",
       "      <td>NaN</td>\n",
       "      <td>NaN</td>\n",
       "      <td>NaN</td>\n",
       "    </tr>\n",
       "    <tr>\n",
       "      <th>2013-01-02</th>\n",
       "      <td>NaN</td>\n",
       "      <td>NaN</td>\n",
       "      <td>NaN</td>\n",
       "      <td>NaN</td>\n",
       "    </tr>\n",
       "    <tr>\n",
       "      <th>2013-01-03</th>\n",
       "      <td>-1.646614</td>\n",
       "      <td>-3.817714</td>\n",
       "      <td>-1.499927</td>\n",
       "      <td>-6.0</td>\n",
       "    </tr>\n",
       "    <tr>\n",
       "      <th>2013-01-04</th>\n",
       "      <td>-4.130273</td>\n",
       "      <td>-4.545320</td>\n",
       "      <td>-3.338461</td>\n",
       "      <td>-8.0</td>\n",
       "    </tr>\n",
       "    <tr>\n",
       "      <th>2013-01-05</th>\n",
       "      <td>-5.816211</td>\n",
       "      <td>-2.545510</td>\n",
       "      <td>-3.624348</td>\n",
       "      <td>-10.0</td>\n",
       "    </tr>\n",
       "    <tr>\n",
       "      <th>2013-01-06</th>\n",
       "      <td>NaN</td>\n",
       "      <td>NaN</td>\n",
       "      <td>NaN</td>\n",
       "      <td>NaN</td>\n",
       "    </tr>\n",
       "  </tbody>\n",
       "</table>\n",
       "</div>"
      ],
      "text/plain": [
       "                   A         B         C     D\n",
       "2013-01-01       NaN       NaN       NaN   NaN\n",
       "2013-01-02       NaN       NaN       NaN   NaN\n",
       "2013-01-03 -1.646614 -3.817714 -1.499927  -6.0\n",
       "2013-01-04 -4.130273 -4.545320 -3.338461  -8.0\n",
       "2013-01-05 -5.816211 -2.545510 -3.624348 -10.0\n",
       "2013-01-06       NaN       NaN       NaN   NaN"
      ]
     },
     "execution_count": 77,
     "metadata": {},
     "output_type": "execute_result"
    }
   ],
   "source": [
    "df.sub(s, axis='index')#For Series input, axis to match Series index on.注意df和s的index需要类型和值都相同"
   ]
  },
  {
   "cell_type": "markdown",
   "metadata": {},
   "source": [
    "<mark>apply & cumsum - 按照示例对 df 每一列执行累加"
   ]
  },
  {
   "cell_type": "code",
   "execution_count": 78,
   "metadata": {},
   "outputs": [
    {
     "data": {
      "text/html": [
       "<div>\n",
       "<style scoped>\n",
       "    .dataframe tbody tr th:only-of-type {\n",
       "        vertical-align: middle;\n",
       "    }\n",
       "\n",
       "    .dataframe tbody tr th {\n",
       "        vertical-align: top;\n",
       "    }\n",
       "\n",
       "    .dataframe thead th {\n",
       "        text-align: right;\n",
       "    }\n",
       "</style>\n",
       "<table border=\"1\" class=\"dataframe\">\n",
       "  <thead>\n",
       "    <tr style=\"text-align: right;\">\n",
       "      <th></th>\n",
       "      <th>A</th>\n",
       "      <th>B</th>\n",
       "      <th>C</th>\n",
       "      <th>D</th>\n",
       "    </tr>\n",
       "  </thead>\n",
       "  <tbody>\n",
       "    <tr>\n",
       "      <th>2013-01-01</th>\n",
       "      <td>0.000000</td>\n",
       "      <td>0.000000</td>\n",
       "      <td>-0.385871</td>\n",
       "      <td>-5</td>\n",
       "    </tr>\n",
       "    <tr>\n",
       "      <th>2013-01-02</th>\n",
       "      <td>-0.161212</td>\n",
       "      <td>2.003575</td>\n",
       "      <td>-0.400425</td>\n",
       "      <td>-10</td>\n",
       "    </tr>\n",
       "    <tr>\n",
       "      <th>2013-01-03</th>\n",
       "      <td>-0.807826</td>\n",
       "      <td>-0.814139</td>\n",
       "      <td>-0.900352</td>\n",
       "      <td>-15</td>\n",
       "    </tr>\n",
       "    <tr>\n",
       "      <th>2013-01-04</th>\n",
       "      <td>-1.938099</td>\n",
       "      <td>-2.359460</td>\n",
       "      <td>-1.238813</td>\n",
       "      <td>-20</td>\n",
       "    </tr>\n",
       "    <tr>\n",
       "      <th>2013-01-05</th>\n",
       "      <td>-2.754310</td>\n",
       "      <td>0.095030</td>\n",
       "      <td>0.136839</td>\n",
       "      <td>-25</td>\n",
       "    </tr>\n",
       "    <tr>\n",
       "      <th>2013-01-06</th>\n",
       "      <td>-2.679196</td>\n",
       "      <td>0.154760</td>\n",
       "      <td>1.612601</td>\n",
       "      <td>-30</td>\n",
       "    </tr>\n",
       "  </tbody>\n",
       "</table>\n",
       "</div>"
      ],
      "text/plain": [
       "                   A         B         C   D\n",
       "2013-01-01  0.000000  0.000000 -0.385871  -5\n",
       "2013-01-02 -0.161212  2.003575 -0.400425 -10\n",
       "2013-01-03 -0.807826 -0.814139 -0.900352 -15\n",
       "2013-01-04 -1.938099 -2.359460 -1.238813 -20\n",
       "2013-01-05 -2.754310  0.095030  0.136839 -25\n",
       "2013-01-06 -2.679196  0.154760  1.612601 -30"
      ]
     },
     "execution_count": 78,
     "metadata": {},
     "output_type": "execute_result"
    }
   ],
   "source": [
    "#axis{0 or ‘index’, 1 or ‘columns’}, default 0\n",
    "#接收function为参数\n",
    "df.apply(np.cumsum)"
   ]
  },
  {
   "cell_type": "markdown",
   "metadata": {},
   "source": [
    "<mark>apply & cumsum - 仿照示例对 df 每一行执行累加"
   ]
  },
  {
   "cell_type": "code",
   "execution_count": 79,
   "metadata": {},
   "outputs": [
    {
     "data": {
      "text/html": [
       "<div>\n",
       "<style scoped>\n",
       "    .dataframe tbody tr th:only-of-type {\n",
       "        vertical-align: middle;\n",
       "    }\n",
       "\n",
       "    .dataframe tbody tr th {\n",
       "        vertical-align: top;\n",
       "    }\n",
       "\n",
       "    .dataframe thead th {\n",
       "        text-align: right;\n",
       "    }\n",
       "</style>\n",
       "<table border=\"1\" class=\"dataframe\">\n",
       "  <thead>\n",
       "    <tr style=\"text-align: right;\">\n",
       "      <th></th>\n",
       "      <th>A</th>\n",
       "      <th>B</th>\n",
       "      <th>C</th>\n",
       "      <th>D</th>\n",
       "    </tr>\n",
       "  </thead>\n",
       "  <tbody>\n",
       "    <tr>\n",
       "      <th>2013-01-01</th>\n",
       "      <td>0.000000</td>\n",
       "      <td>0.000000</td>\n",
       "      <td>-0.385871</td>\n",
       "      <td>-5.385871</td>\n",
       "    </tr>\n",
       "    <tr>\n",
       "      <th>2013-01-02</th>\n",
       "      <td>-0.161212</td>\n",
       "      <td>1.842363</td>\n",
       "      <td>1.827809</td>\n",
       "      <td>-3.172191</td>\n",
       "    </tr>\n",
       "    <tr>\n",
       "      <th>2013-01-03</th>\n",
       "      <td>-0.646614</td>\n",
       "      <td>-3.464329</td>\n",
       "      <td>-3.964255</td>\n",
       "      <td>-8.964255</td>\n",
       "    </tr>\n",
       "    <tr>\n",
       "      <th>2013-01-04</th>\n",
       "      <td>-1.130273</td>\n",
       "      <td>-2.675593</td>\n",
       "      <td>-3.014055</td>\n",
       "      <td>-8.014055</td>\n",
       "    </tr>\n",
       "    <tr>\n",
       "      <th>2013-01-05</th>\n",
       "      <td>-0.816211</td>\n",
       "      <td>1.638279</td>\n",
       "      <td>3.013932</td>\n",
       "      <td>-1.986068</td>\n",
       "    </tr>\n",
       "    <tr>\n",
       "      <th>2013-01-06</th>\n",
       "      <td>0.075114</td>\n",
       "      <td>0.134844</td>\n",
       "      <td>1.610606</td>\n",
       "      <td>-3.389394</td>\n",
       "    </tr>\n",
       "  </tbody>\n",
       "</table>\n",
       "</div>"
      ],
      "text/plain": [
       "                   A         B         C         D\n",
       "2013-01-01  0.000000  0.000000 -0.385871 -5.385871\n",
       "2013-01-02 -0.161212  1.842363  1.827809 -3.172191\n",
       "2013-01-03 -0.646614 -3.464329 -3.964255 -8.964255\n",
       "2013-01-04 -1.130273 -2.675593 -3.014055 -8.014055\n",
       "2013-01-05 -0.816211  1.638279  3.013932 -1.986068\n",
       "2013-01-06  0.075114  0.134844  1.610606 -3.389394"
      ]
     },
     "execution_count": 79,
     "metadata": {},
     "output_type": "execute_result"
    }
   ],
   "source": [
    "df.apply(np.cumsum,axis=1)"
   ]
  },
  {
   "cell_type": "markdown",
   "metadata": {},
   "source": [
    "<mark>apply & lambda - 按照示例对 df 每一列求极差"
   ]
  },
  {
   "cell_type": "code",
   "execution_count": 80,
   "metadata": {},
   "outputs": [
    {
     "data": {
      "text/plain": [
       "A    1.205386\n",
       "B    5.272204\n",
       "C    1.975688\n",
       "D    0.000000\n",
       "dtype: float64"
      ]
     },
     "execution_count": 80,
     "metadata": {},
     "output_type": "execute_result"
    }
   ],
   "source": [
    "df.apply(lambda x: x.max() - x.min())#关注lambda函数"
   ]
  },
  {
   "cell_type": "markdown",
   "metadata": {},
   "source": [
    "<mark>按照示例创建 s"
   ]
  },
  {
   "cell_type": "code",
   "execution_count": 81,
   "metadata": {},
   "outputs": [
    {
     "data": {
      "text/plain": [
       "0    1\n",
       "1    1\n",
       "2    4\n",
       "3    6\n",
       "4    2\n",
       "5    6\n",
       "6    5\n",
       "7    5\n",
       "8    6\n",
       "9    6\n",
       "dtype: int32"
      ]
     },
     "execution_count": 81,
     "metadata": {},
     "output_type": "execute_result"
    }
   ],
   "source": [
    "s = pd.Series(np.random.randint(0, 7, size=10))#Return random integers from `low` (inclusive) to `high` (exclusive).from均匀分布\n",
    "s"
   ]
  },
  {
   "cell_type": "markdown",
   "metadata": {},
   "source": [
    "<mark>value_counts - 统计 s 中各个数值出现的频次"
   ]
  },
  {
   "cell_type": "code",
   "execution_count": 82,
   "metadata": {},
   "outputs": [
    {
     "data": {
      "text/plain": [
       "6    4\n",
       "5    2\n",
       "1    2\n",
       "4    1\n",
       "2    1\n",
       "dtype: int64"
      ]
     },
     "execution_count": 82,
     "metadata": {},
     "output_type": "execute_result"
    }
   ],
   "source": [
    "s.value_counts()"
   ]
  },
  {
   "cell_type": "markdown",
   "metadata": {},
   "source": [
    "<mark>按照示例创建 s"
   ]
  },
  {
   "cell_type": "code",
   "execution_count": 83,
   "metadata": {},
   "outputs": [
    {
     "data": {
      "text/plain": [
       "0       A\n",
       "1       B\n",
       "2       C\n",
       "3    Aaba\n",
       "4    Baca\n",
       "5     NaN\n",
       "6    CABA\n",
       "7     dog\n",
       "8     cat\n",
       "dtype: object"
      ]
     },
     "execution_count": 83,
     "metadata": {},
     "output_type": "execute_result"
    }
   ],
   "source": [
    "s = pd.Series(['A', 'B', 'C', 'Aaba', 'Baca', np.nan, 'CABA', 'dog', 'cat'])\n",
    "s"
   ]
  },
  {
   "cell_type": "markdown",
   "metadata": {},
   "source": [
    "<mark>str.lower - 按照示例将 s 中元素的字母都变为小写"
   ]
  },
  {
   "cell_type": "code",
   "execution_count": 84,
   "metadata": {},
   "outputs": [
    {
     "data": {
      "text/plain": [
       "0       a\n",
       "1       b\n",
       "2       c\n",
       "3    aaba\n",
       "4    baca\n",
       "5     NaN\n",
       "6    caba\n",
       "7     dog\n",
       "8     cat\n",
       "dtype: object"
      ]
     },
     "execution_count": 84,
     "metadata": {},
     "output_type": "execute_result"
    }
   ],
   "source": [
    "s.str.lower()"
   ]
  },
  {
   "cell_type": "markdown",
   "metadata": {},
   "source": [
    "<mark>str.upper - 仿照示例将 s 中元素的字母都变为大写"
   ]
  },
  {
   "cell_type": "code",
   "execution_count": 85,
   "metadata": {},
   "outputs": [
    {
     "data": {
      "text/plain": [
       "0       A\n",
       "1       B\n",
       "2       C\n",
       "3    AABA\n",
       "4    BACA\n",
       "5     NaN\n",
       "6    CABA\n",
       "7     DOG\n",
       "8     CAT\n",
       "dtype: object"
      ]
     },
     "execution_count": 85,
     "metadata": {},
     "output_type": "execute_result"
    }
   ],
   "source": [
    "s.str.upper()"
   ]
  },
  {
   "cell_type": "markdown",
   "metadata": {},
   "source": [
    "<mark>str.capitalize - 仿照示例将 s 中元素的首字母变为大写"
   ]
  },
  {
   "cell_type": "code",
   "execution_count": 86,
   "metadata": {},
   "outputs": [
    {
     "data": {
      "text/plain": [
       "0       A\n",
       "1       B\n",
       "2       C\n",
       "3    Aaba\n",
       "4    Baca\n",
       "5     NaN\n",
       "6    Caba\n",
       "7     Dog\n",
       "8     Cat\n",
       "dtype: object"
      ]
     },
     "execution_count": 86,
     "metadata": {},
     "output_type": "execute_result"
    }
   ],
   "source": [
    "s.str.capitalize()"
   ]
  },
  {
   "cell_type": "markdown",
   "metadata": {},
   "source": [
    "<mark>Merge\n",
    "Concat\n",
    "按照示例创建 df</mark>"
   ]
  },
  {
   "cell_type": "code",
   "execution_count": 87,
   "metadata": {},
   "outputs": [
    {
     "data": {
      "text/html": [
       "<div>\n",
       "<style scoped>\n",
       "    .dataframe tbody tr th:only-of-type {\n",
       "        vertical-align: middle;\n",
       "    }\n",
       "\n",
       "    .dataframe tbody tr th {\n",
       "        vertical-align: top;\n",
       "    }\n",
       "\n",
       "    .dataframe thead th {\n",
       "        text-align: right;\n",
       "    }\n",
       "</style>\n",
       "<table border=\"1\" class=\"dataframe\">\n",
       "  <thead>\n",
       "    <tr style=\"text-align: right;\">\n",
       "      <th></th>\n",
       "      <th>0</th>\n",
       "      <th>1</th>\n",
       "      <th>2</th>\n",
       "      <th>3</th>\n",
       "    </tr>\n",
       "  </thead>\n",
       "  <tbody>\n",
       "    <tr>\n",
       "      <th>0</th>\n",
       "      <td>-0.437725</td>\n",
       "      <td>-0.054247</td>\n",
       "      <td>0.550346</td>\n",
       "      <td>-0.056704</td>\n",
       "    </tr>\n",
       "    <tr>\n",
       "      <th>1</th>\n",
       "      <td>1.366455</td>\n",
       "      <td>0.303706</td>\n",
       "      <td>0.536089</td>\n",
       "      <td>0.524999</td>\n",
       "    </tr>\n",
       "    <tr>\n",
       "      <th>2</th>\n",
       "      <td>-0.757277</td>\n",
       "      <td>-0.329649</td>\n",
       "      <td>-1.883398</td>\n",
       "      <td>0.756779</td>\n",
       "    </tr>\n",
       "    <tr>\n",
       "      <th>3</th>\n",
       "      <td>0.649073</td>\n",
       "      <td>1.157531</td>\n",
       "      <td>0.723258</td>\n",
       "      <td>-0.106236</td>\n",
       "    </tr>\n",
       "    <tr>\n",
       "      <th>4</th>\n",
       "      <td>0.536351</td>\n",
       "      <td>-1.095750</td>\n",
       "      <td>0.583111</td>\n",
       "      <td>0.804208</td>\n",
       "    </tr>\n",
       "    <tr>\n",
       "      <th>5</th>\n",
       "      <td>1.177075</td>\n",
       "      <td>1.398464</td>\n",
       "      <td>-0.058811</td>\n",
       "      <td>-1.185875</td>\n",
       "    </tr>\n",
       "    <tr>\n",
       "      <th>6</th>\n",
       "      <td>-0.276659</td>\n",
       "      <td>-0.974131</td>\n",
       "      <td>0.435056</td>\n",
       "      <td>-0.249776</td>\n",
       "    </tr>\n",
       "    <tr>\n",
       "      <th>7</th>\n",
       "      <td>-0.855638</td>\n",
       "      <td>-0.759469</td>\n",
       "      <td>-1.158062</td>\n",
       "      <td>-1.129400</td>\n",
       "    </tr>\n",
       "    <tr>\n",
       "      <th>8</th>\n",
       "      <td>1.544392</td>\n",
       "      <td>0.732822</td>\n",
       "      <td>0.375282</td>\n",
       "      <td>-0.137196</td>\n",
       "    </tr>\n",
       "    <tr>\n",
       "      <th>9</th>\n",
       "      <td>-1.143701</td>\n",
       "      <td>2.360066</td>\n",
       "      <td>-0.661125</td>\n",
       "      <td>0.124113</td>\n",
       "    </tr>\n",
       "  </tbody>\n",
       "</table>\n",
       "</div>"
      ],
      "text/plain": [
       "          0         1         2         3\n",
       "0 -0.437725 -0.054247  0.550346 -0.056704\n",
       "1  1.366455  0.303706  0.536089  0.524999\n",
       "2 -0.757277 -0.329649 -1.883398  0.756779\n",
       "3  0.649073  1.157531  0.723258 -0.106236\n",
       "4  0.536351 -1.095750  0.583111  0.804208\n",
       "5  1.177075  1.398464 -0.058811 -1.185875\n",
       "6 -0.276659 -0.974131  0.435056 -0.249776\n",
       "7 -0.855638 -0.759469 -1.158062 -1.129400\n",
       "8  1.544392  0.732822  0.375282 -0.137196\n",
       "9 -1.143701  2.360066 -0.661125  0.124113"
      ]
     },
     "execution_count": 87,
     "metadata": {},
     "output_type": "execute_result"
    }
   ],
   "source": [
    "df = pd.DataFrame(np.random.randn(10, 4))\n",
    "df"
   ]
  },
  {
   "cell_type": "markdown",
   "metadata": {},
   "source": [
    "<mark>按照示例将 df 切成三份"
   ]
  },
  {
   "cell_type": "code",
   "execution_count": 88,
   "metadata": {},
   "outputs": [
    {
     "name": "stdout",
     "output_type": "stream",
     "text": [
      "          0         1         2         3\n",
      "0 -0.437725 -0.054247  0.550346 -0.056704\n",
      "1  1.366455  0.303706  0.536089  0.524999\n",
      "2 -0.757277 -0.329649 -1.883398  0.756779\n",
      "          0         1         2         3\n",
      "3  0.649073  1.157531  0.723258 -0.106236\n",
      "4  0.536351 -1.095750  0.583111  0.804208\n",
      "5  1.177075  1.398464 -0.058811 -1.185875\n",
      "6 -0.276659 -0.974131  0.435056 -0.249776\n",
      "          0         1         2         3\n",
      "7 -0.855638 -0.759469 -1.158062 -1.129400\n",
      "8  1.544392  0.732822  0.375282 -0.137196\n",
      "9 -1.143701  2.360066 -0.661125  0.124113\n"
     ]
    }
   ],
   "source": [
    "pieces = [df[:3], df[3:7], df[7:]]#分别是：012行、3456行、789行\n",
    "print(df[:3])\n",
    "print(df[3:7])\n",
    "print(df[7:])"
   ]
  },
  {
   "cell_type": "markdown",
   "metadata": {},
   "source": [
    "<mark>concat - 按照示例将切割后的 pieces 拼接起来(关于函数更详尽的解释见官方文档)"
   ]
  },
  {
   "cell_type": "code",
   "execution_count": 89,
   "metadata": {
    "scrolled": true
   },
   "outputs": [
    {
     "data": {
      "text/html": [
       "<div>\n",
       "<style scoped>\n",
       "    .dataframe tbody tr th:only-of-type {\n",
       "        vertical-align: middle;\n",
       "    }\n",
       "\n",
       "    .dataframe tbody tr th {\n",
       "        vertical-align: top;\n",
       "    }\n",
       "\n",
       "    .dataframe thead th {\n",
       "        text-align: right;\n",
       "    }\n",
       "</style>\n",
       "<table border=\"1\" class=\"dataframe\">\n",
       "  <thead>\n",
       "    <tr style=\"text-align: right;\">\n",
       "      <th></th>\n",
       "      <th>0</th>\n",
       "      <th>1</th>\n",
       "      <th>2</th>\n",
       "      <th>3</th>\n",
       "    </tr>\n",
       "  </thead>\n",
       "  <tbody>\n",
       "    <tr>\n",
       "      <th>0</th>\n",
       "      <td>-0.437725</td>\n",
       "      <td>-0.054247</td>\n",
       "      <td>0.550346</td>\n",
       "      <td>-0.056704</td>\n",
       "    </tr>\n",
       "    <tr>\n",
       "      <th>1</th>\n",
       "      <td>1.366455</td>\n",
       "      <td>0.303706</td>\n",
       "      <td>0.536089</td>\n",
       "      <td>0.524999</td>\n",
       "    </tr>\n",
       "    <tr>\n",
       "      <th>2</th>\n",
       "      <td>-0.757277</td>\n",
       "      <td>-0.329649</td>\n",
       "      <td>-1.883398</td>\n",
       "      <td>0.756779</td>\n",
       "    </tr>\n",
       "    <tr>\n",
       "      <th>3</th>\n",
       "      <td>0.649073</td>\n",
       "      <td>1.157531</td>\n",
       "      <td>0.723258</td>\n",
       "      <td>-0.106236</td>\n",
       "    </tr>\n",
       "    <tr>\n",
       "      <th>4</th>\n",
       "      <td>0.536351</td>\n",
       "      <td>-1.095750</td>\n",
       "      <td>0.583111</td>\n",
       "      <td>0.804208</td>\n",
       "    </tr>\n",
       "    <tr>\n",
       "      <th>5</th>\n",
       "      <td>1.177075</td>\n",
       "      <td>1.398464</td>\n",
       "      <td>-0.058811</td>\n",
       "      <td>-1.185875</td>\n",
       "    </tr>\n",
       "    <tr>\n",
       "      <th>6</th>\n",
       "      <td>-0.276659</td>\n",
       "      <td>-0.974131</td>\n",
       "      <td>0.435056</td>\n",
       "      <td>-0.249776</td>\n",
       "    </tr>\n",
       "    <tr>\n",
       "      <th>7</th>\n",
       "      <td>-0.855638</td>\n",
       "      <td>-0.759469</td>\n",
       "      <td>-1.158062</td>\n",
       "      <td>-1.129400</td>\n",
       "    </tr>\n",
       "    <tr>\n",
       "      <th>8</th>\n",
       "      <td>1.544392</td>\n",
       "      <td>0.732822</td>\n",
       "      <td>0.375282</td>\n",
       "      <td>-0.137196</td>\n",
       "    </tr>\n",
       "    <tr>\n",
       "      <th>9</th>\n",
       "      <td>-1.143701</td>\n",
       "      <td>2.360066</td>\n",
       "      <td>-0.661125</td>\n",
       "      <td>0.124113</td>\n",
       "    </tr>\n",
       "  </tbody>\n",
       "</table>\n",
       "</div>"
      ],
      "text/plain": [
       "          0         1         2         3\n",
       "0 -0.437725 -0.054247  0.550346 -0.056704\n",
       "1  1.366455  0.303706  0.536089  0.524999\n",
       "2 -0.757277 -0.329649 -1.883398  0.756779\n",
       "3  0.649073  1.157531  0.723258 -0.106236\n",
       "4  0.536351 -1.095750  0.583111  0.804208\n",
       "5  1.177075  1.398464 -0.058811 -1.185875\n",
       "6 -0.276659 -0.974131  0.435056 -0.249776\n",
       "7 -0.855638 -0.759469 -1.158062 -1.129400\n",
       "8  1.544392  0.732822  0.375282 -0.137196\n",
       "9 -1.143701  2.360066 -0.661125  0.124113"
      ]
     },
     "execution_count": 89,
     "metadata": {},
     "output_type": "execute_result"
    }
   ],
   "source": [
    "pd.concat(pieces)#axis=0,join='outer',默认外连接，不区分左外右外，左右需要单独处理"
   ]
  },
  {
   "cell_type": "markdown",
   "metadata": {},
   "source": [
    "<mark>仿照示例将 df 按列切成三份，每一份分别拥有1、2、1列"
   ]
  },
  {
   "cell_type": "code",
   "execution_count": 90,
   "metadata": {
    "scrolled": true
   },
   "outputs": [
    {
     "name": "stdout",
     "output_type": "stream",
     "text": [
      "          0\n",
      "0 -0.437725\n",
      "1  1.366455\n",
      "2 -0.757277\n",
      "3  0.649073\n",
      "4  0.536351\n",
      "5  1.177075\n",
      "6 -0.276659\n",
      "7 -0.855638\n",
      "8  1.544392\n",
      "9 -1.143701\n",
      "          1         2\n",
      "0 -0.054247  0.550346\n",
      "1  0.303706  0.536089\n",
      "2 -0.329649 -1.883398\n",
      "3  1.157531  0.723258\n",
      "4 -1.095750  0.583111\n",
      "5  1.398464 -0.058811\n",
      "6 -0.974131  0.435056\n",
      "7 -0.759469 -1.158062\n",
      "8  0.732822  0.375282\n",
      "9  2.360066 -0.661125\n",
      "          3\n",
      "0 -0.056704\n",
      "1  0.524999\n",
      "2  0.756779\n",
      "3 -0.106236\n",
      "4  0.804208\n",
      "5 -1.185875\n",
      "6 -0.249776\n",
      "7 -1.129400\n",
      "8 -0.137196\n",
      "9  0.124113\n"
     ]
    }
   ],
   "source": [
    "pieces2=[df.iloc[:,[0]],df.iloc[:,[1,2]],df.iloc[:,[-1]]]\n",
    "print(df.iloc[:,[0]])\n",
    "print(df.iloc[:,[1,2]])\n",
    "print(df.iloc[:,[-1]])"
   ]
  },
  {
   "cell_type": "markdown",
   "metadata": {},
   "source": [
    "<mark>concat - 仿照示例将按列切割后的拼接起来(关于函数更详尽的解释见官方文档)"
   ]
  },
  {
   "cell_type": "code",
   "execution_count": 91,
   "metadata": {},
   "outputs": [
    {
     "data": {
      "text/html": [
       "<div>\n",
       "<style scoped>\n",
       "    .dataframe tbody tr th:only-of-type {\n",
       "        vertical-align: middle;\n",
       "    }\n",
       "\n",
       "    .dataframe tbody tr th {\n",
       "        vertical-align: top;\n",
       "    }\n",
       "\n",
       "    .dataframe thead th {\n",
       "        text-align: right;\n",
       "    }\n",
       "</style>\n",
       "<table border=\"1\" class=\"dataframe\">\n",
       "  <thead>\n",
       "    <tr style=\"text-align: right;\">\n",
       "      <th></th>\n",
       "      <th>0</th>\n",
       "      <th>1</th>\n",
       "      <th>2</th>\n",
       "      <th>3</th>\n",
       "    </tr>\n",
       "  </thead>\n",
       "  <tbody>\n",
       "    <tr>\n",
       "      <th>0</th>\n",
       "      <td>-0.437725</td>\n",
       "      <td>-0.054247</td>\n",
       "      <td>0.550346</td>\n",
       "      <td>-0.056704</td>\n",
       "    </tr>\n",
       "    <tr>\n",
       "      <th>1</th>\n",
       "      <td>1.366455</td>\n",
       "      <td>0.303706</td>\n",
       "      <td>0.536089</td>\n",
       "      <td>0.524999</td>\n",
       "    </tr>\n",
       "    <tr>\n",
       "      <th>2</th>\n",
       "      <td>-0.757277</td>\n",
       "      <td>-0.329649</td>\n",
       "      <td>-1.883398</td>\n",
       "      <td>0.756779</td>\n",
       "    </tr>\n",
       "    <tr>\n",
       "      <th>3</th>\n",
       "      <td>0.649073</td>\n",
       "      <td>1.157531</td>\n",
       "      <td>0.723258</td>\n",
       "      <td>-0.106236</td>\n",
       "    </tr>\n",
       "    <tr>\n",
       "      <th>4</th>\n",
       "      <td>0.536351</td>\n",
       "      <td>-1.095750</td>\n",
       "      <td>0.583111</td>\n",
       "      <td>0.804208</td>\n",
       "    </tr>\n",
       "    <tr>\n",
       "      <th>5</th>\n",
       "      <td>1.177075</td>\n",
       "      <td>1.398464</td>\n",
       "      <td>-0.058811</td>\n",
       "      <td>-1.185875</td>\n",
       "    </tr>\n",
       "    <tr>\n",
       "      <th>6</th>\n",
       "      <td>-0.276659</td>\n",
       "      <td>-0.974131</td>\n",
       "      <td>0.435056</td>\n",
       "      <td>-0.249776</td>\n",
       "    </tr>\n",
       "    <tr>\n",
       "      <th>7</th>\n",
       "      <td>-0.855638</td>\n",
       "      <td>-0.759469</td>\n",
       "      <td>-1.158062</td>\n",
       "      <td>-1.129400</td>\n",
       "    </tr>\n",
       "    <tr>\n",
       "      <th>8</th>\n",
       "      <td>1.544392</td>\n",
       "      <td>0.732822</td>\n",
       "      <td>0.375282</td>\n",
       "      <td>-0.137196</td>\n",
       "    </tr>\n",
       "    <tr>\n",
       "      <th>9</th>\n",
       "      <td>-1.143701</td>\n",
       "      <td>2.360066</td>\n",
       "      <td>-0.661125</td>\n",
       "      <td>0.124113</td>\n",
       "    </tr>\n",
       "  </tbody>\n",
       "</table>\n",
       "</div>"
      ],
      "text/plain": [
       "          0         1         2         3\n",
       "0 -0.437725 -0.054247  0.550346 -0.056704\n",
       "1  1.366455  0.303706  0.536089  0.524999\n",
       "2 -0.757277 -0.329649 -1.883398  0.756779\n",
       "3  0.649073  1.157531  0.723258 -0.106236\n",
       "4  0.536351 -1.095750  0.583111  0.804208\n",
       "5  1.177075  1.398464 -0.058811 -1.185875\n",
       "6 -0.276659 -0.974131  0.435056 -0.249776\n",
       "7 -0.855638 -0.759469 -1.158062 -1.129400\n",
       "8  1.544392  0.732822  0.375282 -0.137196\n",
       "9 -1.143701  2.360066 -0.661125  0.124113"
      ]
     },
     "execution_count": 91,
     "metadata": {},
     "output_type": "execute_result"
    }
   ],
   "source": [
    "pd.concat(pieces2,axis=1)"
   ]
  },
  {
   "cell_type": "markdown",
   "metadata": {},
   "source": [
    "<mark>Merge\n",
    "Join按照示例创建数据框 left 和 right</mark>"
   ]
  },
  {
   "cell_type": "code",
   "execution_count": 92,
   "metadata": {},
   "outputs": [
    {
     "name": "stdout",
     "output_type": "stream",
     "text": [
      "   key  lval\n",
      "0  foo     1\n",
      "1  foo     2\n",
      "   key  rval\n",
      "0  foo     4\n",
      "1  foo     5\n"
     ]
    }
   ],
   "source": [
    "left = pd.DataFrame({'key': ['foo', 'foo'], 'lval': [1, 2]})\n",
    "right = pd.DataFrame({'key': ['foo', 'foo'], 'rval': [4, 5]})\n",
    "print(left)\n",
    "print(right)"
   ]
  },
  {
   "cell_type": "markdown",
   "metadata": {},
   "source": [
    "<mark>merge - 按照示例以 key 为主键合并 left 和 right(关于函数更详尽的解释见官方文档)"
   ]
  },
  {
   "cell_type": "code",
   "execution_count": 93,
   "metadata": {},
   "outputs": [
    {
     "data": {
      "text/html": [
       "<div>\n",
       "<style scoped>\n",
       "    .dataframe tbody tr th:only-of-type {\n",
       "        vertical-align: middle;\n",
       "    }\n",
       "\n",
       "    .dataframe tbody tr th {\n",
       "        vertical-align: top;\n",
       "    }\n",
       "\n",
       "    .dataframe thead th {\n",
       "        text-align: right;\n",
       "    }\n",
       "</style>\n",
       "<table border=\"1\" class=\"dataframe\">\n",
       "  <thead>\n",
       "    <tr style=\"text-align: right;\">\n",
       "      <th></th>\n",
       "      <th>key</th>\n",
       "      <th>lval</th>\n",
       "      <th>rval</th>\n",
       "    </tr>\n",
       "  </thead>\n",
       "  <tbody>\n",
       "    <tr>\n",
       "      <th>0</th>\n",
       "      <td>foo</td>\n",
       "      <td>1</td>\n",
       "      <td>4</td>\n",
       "    </tr>\n",
       "    <tr>\n",
       "      <th>1</th>\n",
       "      <td>foo</td>\n",
       "      <td>1</td>\n",
       "      <td>5</td>\n",
       "    </tr>\n",
       "    <tr>\n",
       "      <th>2</th>\n",
       "      <td>foo</td>\n",
       "      <td>2</td>\n",
       "      <td>4</td>\n",
       "    </tr>\n",
       "    <tr>\n",
       "      <th>3</th>\n",
       "      <td>foo</td>\n",
       "      <td>2</td>\n",
       "      <td>5</td>\n",
       "    </tr>\n",
       "  </tbody>\n",
       "</table>\n",
       "</div>"
      ],
      "text/plain": [
       "   key  lval  rval\n",
       "0  foo     1     4\n",
       "1  foo     1     5\n",
       "2  foo     2     4\n",
       "3  foo     2     5"
      ]
     },
     "execution_count": 93,
     "metadata": {},
     "output_type": "execute_result"
    }
   ],
   "source": [
    "#on:指定连接键，如果不指定，自动用左右交集作为连接键\n",
    "#how: One of 'left', 'right', 'outer', 'inner'. Defaults to inner.\n",
    "pd.merge(left, right, on='key')"
   ]
  },
  {
   "cell_type": "markdown",
   "metadata": {},
   "source": [
    "<mark>按照示例创建数据框 left 和 right"
   ]
  },
  {
   "cell_type": "code",
   "execution_count": 94,
   "metadata": {},
   "outputs": [
    {
     "name": "stdout",
     "output_type": "stream",
     "text": [
      "   key  lval\n",
      "0  foo     1\n",
      "1  bar     2\n",
      "   key  rval\n",
      "0  foo     4\n",
      "1  bar     5\n"
     ]
    }
   ],
   "source": [
    "left = pd.DataFrame({'key': ['foo', 'bar'], 'lval': [1, 2]})\n",
    "right = pd.DataFrame({'key': ['foo', 'bar'], 'rval': [4, 5]})\n",
    "print(left)\n",
    "print(right)"
   ]
  },
  {
   "cell_type": "markdown",
   "metadata": {},
   "source": [
    "<mark>merge - 按照示例以 key 为主键合并 left 和 right(关于函数更详尽的解释见官方文档)"
   ]
  },
  {
   "cell_type": "code",
   "execution_count": 95,
   "metadata": {},
   "outputs": [
    {
     "data": {
      "text/html": [
       "<div>\n",
       "<style scoped>\n",
       "    .dataframe tbody tr th:only-of-type {\n",
       "        vertical-align: middle;\n",
       "    }\n",
       "\n",
       "    .dataframe tbody tr th {\n",
       "        vertical-align: top;\n",
       "    }\n",
       "\n",
       "    .dataframe thead th {\n",
       "        text-align: right;\n",
       "    }\n",
       "</style>\n",
       "<table border=\"1\" class=\"dataframe\">\n",
       "  <thead>\n",
       "    <tr style=\"text-align: right;\">\n",
       "      <th></th>\n",
       "      <th>key</th>\n",
       "      <th>lval</th>\n",
       "      <th>rval</th>\n",
       "    </tr>\n",
       "  </thead>\n",
       "  <tbody>\n",
       "    <tr>\n",
       "      <th>0</th>\n",
       "      <td>foo</td>\n",
       "      <td>1</td>\n",
       "      <td>4</td>\n",
       "    </tr>\n",
       "    <tr>\n",
       "      <th>1</th>\n",
       "      <td>bar</td>\n",
       "      <td>2</td>\n",
       "      <td>5</td>\n",
       "    </tr>\n",
       "  </tbody>\n",
       "</table>\n",
       "</div>"
      ],
      "text/plain": [
       "   key  lval  rval\n",
       "0  foo     1     4\n",
       "1  bar     2     5"
      ]
     },
     "execution_count": 95,
     "metadata": {},
     "output_type": "execute_result"
    }
   ],
   "source": [
    "pd.merge(left, right, on='key')"
   ]
  },
  {
   "cell_type": "markdown",
   "metadata": {},
   "source": [
    "<mark>Grouping\n",
    "按照示例创建数据框 df"
   ]
  },
  {
   "cell_type": "code",
   "execution_count": 96,
   "metadata": {},
   "outputs": [
    {
     "data": {
      "text/html": [
       "<div>\n",
       "<style scoped>\n",
       "    .dataframe tbody tr th:only-of-type {\n",
       "        vertical-align: middle;\n",
       "    }\n",
       "\n",
       "    .dataframe tbody tr th {\n",
       "        vertical-align: top;\n",
       "    }\n",
       "\n",
       "    .dataframe thead th {\n",
       "        text-align: right;\n",
       "    }\n",
       "</style>\n",
       "<table border=\"1\" class=\"dataframe\">\n",
       "  <thead>\n",
       "    <tr style=\"text-align: right;\">\n",
       "      <th></th>\n",
       "      <th>A</th>\n",
       "      <th>B</th>\n",
       "      <th>C</th>\n",
       "      <th>D</th>\n",
       "    </tr>\n",
       "  </thead>\n",
       "  <tbody>\n",
       "    <tr>\n",
       "      <th>0</th>\n",
       "      <td>foo</td>\n",
       "      <td>one</td>\n",
       "      <td>-1.451054</td>\n",
       "      <td>1.622528</td>\n",
       "    </tr>\n",
       "    <tr>\n",
       "      <th>1</th>\n",
       "      <td>bar</td>\n",
       "      <td>one</td>\n",
       "      <td>-0.135580</td>\n",
       "      <td>-0.929697</td>\n",
       "    </tr>\n",
       "    <tr>\n",
       "      <th>2</th>\n",
       "      <td>foo</td>\n",
       "      <td>two</td>\n",
       "      <td>2.078534</td>\n",
       "      <td>0.380728</td>\n",
       "    </tr>\n",
       "    <tr>\n",
       "      <th>3</th>\n",
       "      <td>bar</td>\n",
       "      <td>three</td>\n",
       "      <td>0.226133</td>\n",
       "      <td>-0.963478</td>\n",
       "    </tr>\n",
       "    <tr>\n",
       "      <th>4</th>\n",
       "      <td>foo</td>\n",
       "      <td>two</td>\n",
       "      <td>1.227150</td>\n",
       "      <td>-0.139053</td>\n",
       "    </tr>\n",
       "    <tr>\n",
       "      <th>5</th>\n",
       "      <td>bar</td>\n",
       "      <td>two</td>\n",
       "      <td>-0.177644</td>\n",
       "      <td>0.425916</td>\n",
       "    </tr>\n",
       "    <tr>\n",
       "      <th>6</th>\n",
       "      <td>foo</td>\n",
       "      <td>one</td>\n",
       "      <td>1.450999</td>\n",
       "      <td>1.513440</td>\n",
       "    </tr>\n",
       "    <tr>\n",
       "      <th>7</th>\n",
       "      <td>foo</td>\n",
       "      <td>three</td>\n",
       "      <td>0.855827</td>\n",
       "      <td>0.142531</td>\n",
       "    </tr>\n",
       "  </tbody>\n",
       "</table>\n",
       "</div>"
      ],
      "text/plain": [
       "     A      B         C         D\n",
       "0  foo    one -1.451054  1.622528\n",
       "1  bar    one -0.135580 -0.929697\n",
       "2  foo    two  2.078534  0.380728\n",
       "3  bar  three  0.226133 -0.963478\n",
       "4  foo    two  1.227150 -0.139053\n",
       "5  bar    two -0.177644  0.425916\n",
       "6  foo    one  1.450999  1.513440\n",
       "7  foo  three  0.855827  0.142531"
      ]
     },
     "execution_count": 96,
     "metadata": {},
     "output_type": "execute_result"
    }
   ],
   "source": [
    "df = pd.DataFrame({'A': ['foo', 'bar', 'foo', 'bar','foo', 'bar', 'foo', 'foo'],\n",
    "                   'B': ['one', 'one', 'two', 'three','two', 'two', 'one', 'three'],\n",
    "                   'C': np.random.randn(8),\n",
    "                   'D': np.random.randn(8)})\n",
    "df"
   ]
  },
  {
   "cell_type": "markdown",
   "metadata": {},
   "source": [
    "<mark>groupby & sum - 按照示例将 df 按 A 列分组对有数值的列求和"
   ]
  },
  {
   "cell_type": "code",
   "execution_count": 97,
   "metadata": {},
   "outputs": [
    {
     "data": {
      "text/html": [
       "<div>\n",
       "<style scoped>\n",
       "    .dataframe tbody tr th:only-of-type {\n",
       "        vertical-align: middle;\n",
       "    }\n",
       "\n",
       "    .dataframe tbody tr th {\n",
       "        vertical-align: top;\n",
       "    }\n",
       "\n",
       "    .dataframe thead th {\n",
       "        text-align: right;\n",
       "    }\n",
       "</style>\n",
       "<table border=\"1\" class=\"dataframe\">\n",
       "  <thead>\n",
       "    <tr style=\"text-align: right;\">\n",
       "      <th></th>\n",
       "      <th>C</th>\n",
       "      <th>D</th>\n",
       "    </tr>\n",
       "    <tr>\n",
       "      <th>A</th>\n",
       "      <th></th>\n",
       "      <th></th>\n",
       "    </tr>\n",
       "  </thead>\n",
       "  <tbody>\n",
       "    <tr>\n",
       "      <th>bar</th>\n",
       "      <td>-0.087090</td>\n",
       "      <td>-1.467259</td>\n",
       "    </tr>\n",
       "    <tr>\n",
       "      <th>foo</th>\n",
       "      <td>4.161456</td>\n",
       "      <td>3.520173</td>\n",
       "    </tr>\n",
       "  </tbody>\n",
       "</table>\n",
       "</div>"
      ],
      "text/plain": [
       "            C         D\n",
       "A                      \n",
       "bar -0.087090 -1.467259\n",
       "foo  4.161456  3.520173"
      ]
     },
     "execution_count": 97,
     "metadata": {},
     "output_type": "execute_result"
    }
   ],
   "source": [
    "df.groupby('A').sum()"
   ]
  },
  {
   "cell_type": "markdown",
   "metadata": {},
   "source": [
    "<mark>groupby & sum - 按照示例将 df 按 A,B 列分组对有数值的列求和"
   ]
  },
  {
   "cell_type": "code",
   "execution_count": 98,
   "metadata": {},
   "outputs": [
    {
     "data": {
      "text/html": [
       "<div>\n",
       "<style scoped>\n",
       "    .dataframe tbody tr th:only-of-type {\n",
       "        vertical-align: middle;\n",
       "    }\n",
       "\n",
       "    .dataframe tbody tr th {\n",
       "        vertical-align: top;\n",
       "    }\n",
       "\n",
       "    .dataframe thead th {\n",
       "        text-align: right;\n",
       "    }\n",
       "</style>\n",
       "<table border=\"1\" class=\"dataframe\">\n",
       "  <thead>\n",
       "    <tr style=\"text-align: right;\">\n",
       "      <th></th>\n",
       "      <th></th>\n",
       "      <th>C</th>\n",
       "      <th>D</th>\n",
       "    </tr>\n",
       "    <tr>\n",
       "      <th>A</th>\n",
       "      <th>B</th>\n",
       "      <th></th>\n",
       "      <th></th>\n",
       "    </tr>\n",
       "  </thead>\n",
       "  <tbody>\n",
       "    <tr>\n",
       "      <th rowspan=\"3\" valign=\"top\">bar</th>\n",
       "      <th>one</th>\n",
       "      <td>-0.135580</td>\n",
       "      <td>-0.929697</td>\n",
       "    </tr>\n",
       "    <tr>\n",
       "      <th>three</th>\n",
       "      <td>0.226133</td>\n",
       "      <td>-0.963478</td>\n",
       "    </tr>\n",
       "    <tr>\n",
       "      <th>two</th>\n",
       "      <td>-0.177644</td>\n",
       "      <td>0.425916</td>\n",
       "    </tr>\n",
       "    <tr>\n",
       "      <th rowspan=\"3\" valign=\"top\">foo</th>\n",
       "      <th>one</th>\n",
       "      <td>-0.000054</td>\n",
       "      <td>3.135968</td>\n",
       "    </tr>\n",
       "    <tr>\n",
       "      <th>three</th>\n",
       "      <td>0.855827</td>\n",
       "      <td>0.142531</td>\n",
       "    </tr>\n",
       "    <tr>\n",
       "      <th>two</th>\n",
       "      <td>3.305684</td>\n",
       "      <td>0.241675</td>\n",
       "    </tr>\n",
       "  </tbody>\n",
       "</table>\n",
       "</div>"
      ],
      "text/plain": [
       "                  C         D\n",
       "A   B                        \n",
       "bar one   -0.135580 -0.929697\n",
       "    three  0.226133 -0.963478\n",
       "    two   -0.177644  0.425916\n",
       "foo one   -0.000054  3.135968\n",
       "    three  0.855827  0.142531\n",
       "    two    3.305684  0.241675"
      ]
     },
     "execution_count": 98,
     "metadata": {},
     "output_type": "execute_result"
    }
   ],
   "source": [
    "df.groupby(['A', 'B']).sum()#df.groupby(['A', 'B']).agg(sum)"
   ]
  },
  {
   "cell_type": "markdown",
   "metadata": {},
   "source": [
    "<mark>groupby & sum - 仿照示例将 df 按 A 列分组对 C 列求和"
   ]
  },
  {
   "cell_type": "code",
   "execution_count": 99,
   "metadata": {},
   "outputs": [
    {
     "data": {
      "text/html": [
       "<div>\n",
       "<style scoped>\n",
       "    .dataframe tbody tr th:only-of-type {\n",
       "        vertical-align: middle;\n",
       "    }\n",
       "\n",
       "    .dataframe tbody tr th {\n",
       "        vertical-align: top;\n",
       "    }\n",
       "\n",
       "    .dataframe thead th {\n",
       "        text-align: right;\n",
       "    }\n",
       "</style>\n",
       "<table border=\"1\" class=\"dataframe\">\n",
       "  <thead>\n",
       "    <tr style=\"text-align: right;\">\n",
       "      <th></th>\n",
       "      <th>C</th>\n",
       "    </tr>\n",
       "    <tr>\n",
       "      <th>A</th>\n",
       "      <th></th>\n",
       "    </tr>\n",
       "  </thead>\n",
       "  <tbody>\n",
       "    <tr>\n",
       "      <th>bar</th>\n",
       "      <td>-0.087090</td>\n",
       "    </tr>\n",
       "    <tr>\n",
       "      <th>foo</th>\n",
       "      <td>4.161456</td>\n",
       "    </tr>\n",
       "  </tbody>\n",
       "</table>\n",
       "</div>"
      ],
      "text/plain": [
       "            C\n",
       "A            \n",
       "bar -0.087090\n",
       "foo  4.161456"
      ]
     },
     "execution_count": 99,
     "metadata": {},
     "output_type": "execute_result"
    }
   ],
   "source": [
    "df.groupby('A').agg({'C':'sum'})#df.groupby().agg({列名:函数名,列名:函数名})"
   ]
  },
  {
   "cell_type": "code",
   "execution_count": 100,
   "metadata": {},
   "outputs": [
    {
     "data": {
      "text/plain": [
       "A\n",
       "bar   -0.087090\n",
       "foo    4.161456\n",
       "Name: C, dtype: float64"
      ]
     },
     "execution_count": 100,
     "metadata": {},
     "output_type": "execute_result"
    }
   ],
   "source": [
    "df.groupby('A')['C'].sum()#同上"
   ]
  },
  {
   "cell_type": "markdown",
   "metadata": {},
   "source": [
    "<mark>groupby & mean - 仿照示例将 df 按 B 列分组对 D 列求平均"
   ]
  },
  {
   "cell_type": "code",
   "execution_count": 101,
   "metadata": {},
   "outputs": [
    {
     "data": {
      "text/html": [
       "<div>\n",
       "<style scoped>\n",
       "    .dataframe tbody tr th:only-of-type {\n",
       "        vertical-align: middle;\n",
       "    }\n",
       "\n",
       "    .dataframe tbody tr th {\n",
       "        vertical-align: top;\n",
       "    }\n",
       "\n",
       "    .dataframe thead th {\n",
       "        text-align: right;\n",
       "    }\n",
       "</style>\n",
       "<table border=\"1\" class=\"dataframe\">\n",
       "  <thead>\n",
       "    <tr style=\"text-align: right;\">\n",
       "      <th></th>\n",
       "      <th>D</th>\n",
       "    </tr>\n",
       "    <tr>\n",
       "      <th>B</th>\n",
       "      <th></th>\n",
       "    </tr>\n",
       "  </thead>\n",
       "  <tbody>\n",
       "    <tr>\n",
       "      <th>one</th>\n",
       "      <td>0.735424</td>\n",
       "    </tr>\n",
       "    <tr>\n",
       "      <th>three</th>\n",
       "      <td>-0.410473</td>\n",
       "    </tr>\n",
       "    <tr>\n",
       "      <th>two</th>\n",
       "      <td>0.222530</td>\n",
       "    </tr>\n",
       "  </tbody>\n",
       "</table>\n",
       "</div>"
      ],
      "text/plain": [
       "              D\n",
       "B              \n",
       "one    0.735424\n",
       "three -0.410473\n",
       "two    0.222530"
      ]
     },
     "execution_count": 101,
     "metadata": {},
     "output_type": "execute_result"
    }
   ],
   "source": [
    "df.groupby('B').agg({'D':'mean'})"
   ]
  },
  {
   "cell_type": "markdown",
   "metadata": {},
   "source": [
    "<mark>Reshaping\n",
    "Stack\n",
    "按照示例创建 tuples 和 index 并打印显示</mark>"
   ]
  },
  {
   "cell_type": "code",
   "execution_count": 102,
   "metadata": {},
   "outputs": [
    {
     "data": {
      "text/plain": [
       "[('bar', 'one'),\n",
       " ('bar', 'two'),\n",
       " ('baz', 'one'),\n",
       " ('baz', 'two'),\n",
       " ('foo', 'one'),\n",
       " ('foo', 'two'),\n",
       " ('qux', 'one'),\n",
       " ('qux', 'two')]"
      ]
     },
     "execution_count": 102,
     "metadata": {},
     "output_type": "execute_result"
    }
   ],
   "source": [
    "#这种写法太麻烦了，在参数为list时，zip和*zip是效果相同的，只有当参数是zip类型对象时用*zip解压才有意义\n",
    "tuples = list(zip(*[['bar', 'bar', 'baz', 'baz', 'foo', 'foo', 'qux', 'qux'],\n",
    "                    ['one', 'two', 'one', 'two', 'one', 'two', 'one', 'two']]))\n",
    "tuples"
   ]
  },
  {
   "cell_type": "code",
   "execution_count": 103,
   "metadata": {},
   "outputs": [
    {
     "data": {
      "text/plain": [
       "[('bar', 'one'),\n",
       " ('bar', 'two'),\n",
       " ('baz', 'one'),\n",
       " ('baz', 'two'),\n",
       " ('foo', 'one'),\n",
       " ('foo', 'two'),\n",
       " ('qux', 'one'),\n",
       " ('qux', 'two')]"
      ]
     },
     "execution_count": 103,
     "metadata": {},
     "output_type": "execute_result"
    }
   ],
   "source": [
    "#建议用下面这种写法，虽然结果一样，但是这种比较好理解\n",
    "tuples = list(zip(['bar', 'bar', 'baz', 'baz', 'foo', 'foo', 'qux', 'qux'],\n",
    "                  ['one', 'two', 'one', 'two', 'one', 'two', 'one', 'two']))\n",
    "tuples"
   ]
  },
  {
   "cell_type": "code",
   "execution_count": 104,
   "metadata": {},
   "outputs": [
    {
     "data": {
      "text/plain": [
       "MultiIndex([('bar', 'one'),\n",
       "            ('bar', 'two'),\n",
       "            ('baz', 'one'),\n",
       "            ('baz', 'two'),\n",
       "            ('foo', 'one'),\n",
       "            ('foo', 'two'),\n",
       "            ('qux', 'one'),\n",
       "            ('qux', 'two')],\n",
       "           names=['first', 'second'])"
      ]
     },
     "execution_count": 104,
     "metadata": {},
     "output_type": "execute_result"
    }
   ],
   "source": [
    "index = pd.MultiIndex.from_tuples(tuples, names=['first', 'second'])\n",
    "index"
   ]
  },
  {
   "cell_type": "code",
   "execution_count": 105,
   "metadata": {},
   "outputs": [
    {
     "data": {
      "text/plain": [
       "MultiIndex([('bar', 'one'),\n",
       "            ('bar', 'two'),\n",
       "            ('baz', 'one'),\n",
       "            ('baz', 'two'),\n",
       "            ('foo', 'one'),\n",
       "            ('foo', 'two'),\n",
       "            ('qux', 'one'),\n",
       "            ('qux', 'two')],\n",
       "           names=['first', 'second'])"
      ]
     },
     "execution_count": 105,
     "metadata": {},
     "output_type": "execute_result"
    }
   ],
   "source": [
    "#如果对每一个元素都进行迭代的话，最顺的办法是不用zip转换再转换，直接用from_product\n",
    "iterables = [['bar', 'baz', 'foo', 'qux'], ['one', 'two']]\n",
    "index = pd.MultiIndex.from_product(iterables, names=['first', 'second'])\n",
    "index"
   ]
  },
  {
   "cell_type": "markdown",
   "metadata": {},
   "source": [
    "<mark>按照示例创建 df、df2 并打印显示"
   ]
  },
  {
   "cell_type": "code",
   "execution_count": 106,
   "metadata": {},
   "outputs": [
    {
     "data": {
      "text/html": [
       "<div>\n",
       "<style scoped>\n",
       "    .dataframe tbody tr th:only-of-type {\n",
       "        vertical-align: middle;\n",
       "    }\n",
       "\n",
       "    .dataframe tbody tr th {\n",
       "        vertical-align: top;\n",
       "    }\n",
       "\n",
       "    .dataframe thead th {\n",
       "        text-align: right;\n",
       "    }\n",
       "</style>\n",
       "<table border=\"1\" class=\"dataframe\">\n",
       "  <thead>\n",
       "    <tr style=\"text-align: right;\">\n",
       "      <th></th>\n",
       "      <th></th>\n",
       "      <th>A</th>\n",
       "      <th>B</th>\n",
       "    </tr>\n",
       "    <tr>\n",
       "      <th>first</th>\n",
       "      <th>second</th>\n",
       "      <th></th>\n",
       "      <th></th>\n",
       "    </tr>\n",
       "  </thead>\n",
       "  <tbody>\n",
       "    <tr>\n",
       "      <th rowspan=\"2\" valign=\"top\">bar</th>\n",
       "      <th>one</th>\n",
       "      <td>-2.448343</td>\n",
       "      <td>0.279573</td>\n",
       "    </tr>\n",
       "    <tr>\n",
       "      <th>two</th>\n",
       "      <td>-0.777919</td>\n",
       "      <td>-1.106198</td>\n",
       "    </tr>\n",
       "    <tr>\n",
       "      <th rowspan=\"2\" valign=\"top\">baz</th>\n",
       "      <th>one</th>\n",
       "      <td>0.572658</td>\n",
       "      <td>-0.126185</td>\n",
       "    </tr>\n",
       "    <tr>\n",
       "      <th>two</th>\n",
       "      <td>1.307399</td>\n",
       "      <td>-0.236034</td>\n",
       "    </tr>\n",
       "    <tr>\n",
       "      <th rowspan=\"2\" valign=\"top\">foo</th>\n",
       "      <th>one</th>\n",
       "      <td>0.441952</td>\n",
       "      <td>0.505582</td>\n",
       "    </tr>\n",
       "    <tr>\n",
       "      <th>two</th>\n",
       "      <td>-0.936522</td>\n",
       "      <td>0.605908</td>\n",
       "    </tr>\n",
       "    <tr>\n",
       "      <th rowspan=\"2\" valign=\"top\">qux</th>\n",
       "      <th>one</th>\n",
       "      <td>-0.020688</td>\n",
       "      <td>-1.132808</td>\n",
       "    </tr>\n",
       "    <tr>\n",
       "      <th>two</th>\n",
       "      <td>-1.775495</td>\n",
       "      <td>-0.558316</td>\n",
       "    </tr>\n",
       "  </tbody>\n",
       "</table>\n",
       "</div>"
      ],
      "text/plain": [
       "                     A         B\n",
       "first second                    \n",
       "bar   one    -2.448343  0.279573\n",
       "      two    -0.777919 -1.106198\n",
       "baz   one     0.572658 -0.126185\n",
       "      two     1.307399 -0.236034\n",
       "foo   one     0.441952  0.505582\n",
       "      two    -0.936522  0.605908\n",
       "qux   one    -0.020688 -1.132808\n",
       "      two    -1.775495 -0.558316"
      ]
     },
     "execution_count": 106,
     "metadata": {},
     "output_type": "execute_result"
    }
   ],
   "source": [
    "df = pd.DataFrame(np.random.randn(8, 2), index=index, columns=['A', 'B'])\n",
    "df"
   ]
  },
  {
   "cell_type": "code",
   "execution_count": 107,
   "metadata": {},
   "outputs": [
    {
     "data": {
      "text/html": [
       "<div>\n",
       "<style scoped>\n",
       "    .dataframe tbody tr th:only-of-type {\n",
       "        vertical-align: middle;\n",
       "    }\n",
       "\n",
       "    .dataframe tbody tr th {\n",
       "        vertical-align: top;\n",
       "    }\n",
       "\n",
       "    .dataframe thead th {\n",
       "        text-align: right;\n",
       "    }\n",
       "</style>\n",
       "<table border=\"1\" class=\"dataframe\">\n",
       "  <thead>\n",
       "    <tr style=\"text-align: right;\">\n",
       "      <th></th>\n",
       "      <th></th>\n",
       "      <th>A</th>\n",
       "      <th>B</th>\n",
       "    </tr>\n",
       "    <tr>\n",
       "      <th>first</th>\n",
       "      <th>second</th>\n",
       "      <th></th>\n",
       "      <th></th>\n",
       "    </tr>\n",
       "  </thead>\n",
       "  <tbody>\n",
       "    <tr>\n",
       "      <th rowspan=\"2\" valign=\"top\">bar</th>\n",
       "      <th>one</th>\n",
       "      <td>-2.448343</td>\n",
       "      <td>0.279573</td>\n",
       "    </tr>\n",
       "    <tr>\n",
       "      <th>two</th>\n",
       "      <td>-0.777919</td>\n",
       "      <td>-1.106198</td>\n",
       "    </tr>\n",
       "    <tr>\n",
       "      <th rowspan=\"2\" valign=\"top\">baz</th>\n",
       "      <th>one</th>\n",
       "      <td>0.572658</td>\n",
       "      <td>-0.126185</td>\n",
       "    </tr>\n",
       "    <tr>\n",
       "      <th>two</th>\n",
       "      <td>1.307399</td>\n",
       "      <td>-0.236034</td>\n",
       "    </tr>\n",
       "  </tbody>\n",
       "</table>\n",
       "</div>"
      ],
      "text/plain": [
       "                     A         B\n",
       "first second                    \n",
       "bar   one    -2.448343  0.279573\n",
       "      two    -0.777919 -1.106198\n",
       "baz   one     0.572658 -0.126185\n",
       "      two     1.307399 -0.236034"
      ]
     },
     "execution_count": 107,
     "metadata": {},
     "output_type": "execute_result"
    }
   ],
   "source": [
    "df2 = df[:4]\n",
    "df2"
   ]
  },
  {
   "cell_type": "markdown",
   "metadata": {},
   "source": [
    "<mark>stack - 按照示例对 df2 进行堆叠"
   ]
  },
  {
   "cell_type": "code",
   "execution_count": 108,
   "metadata": {},
   "outputs": [
    {
     "data": {
      "text/plain": [
       "first  second   \n",
       "bar    one     A   -2.448343\n",
       "               B    0.279573\n",
       "       two     A   -0.777919\n",
       "               B   -1.106198\n",
       "baz    one     A    0.572658\n",
       "               B   -0.126185\n",
       "       two     A    1.307399\n",
       "               B   -0.236034\n",
       "dtype: float64"
      ]
     },
     "execution_count": 108,
     "metadata": {},
     "output_type": "execute_result"
    }
   ],
   "source": [
    "#stack操作后将列索引number旋转为行索引，并且置于行索引的最内层（外层为索引state），也就是将旋转轴（number）的结果置于最低级别\n",
    "stacked = df2.stack()\n",
    "stacked"
   ]
  },
  {
   "cell_type": "markdown",
   "metadata": {},
   "source": [
    "<mark>unstack - 按照示例对数据框 stack 进行去堆叠\n",
    "<p><mark>unstack - 按照示例对数据框 stack 按 level = 1 进行去堆叠(提示：数据框 stack 共有三层 index，分别为 first,second,A/B, 对应 level 0,1,2)\n",
    "<p><mark>unstack - 按照示例对数据框 stack 按 level = 0 进行去堆叠\n",
    "<p><mark>unstack - 仿照示例对数据框 stack 按 level = 2进行去堆叠(提示：数据框 stack A/B 这个 index 的 level 为 2，同时，由于它在 index 中排在最末，也可表示为 level = -1。unstack 默认 level 参数为 -1)"
   ]
  },
  {
   "cell_type": "code",
   "execution_count": 109,
   "metadata": {},
   "outputs": [
    {
     "data": {
      "text/html": [
       "<div>\n",
       "<style scoped>\n",
       "    .dataframe tbody tr th:only-of-type {\n",
       "        vertical-align: middle;\n",
       "    }\n",
       "\n",
       "    .dataframe tbody tr th {\n",
       "        vertical-align: top;\n",
       "    }\n",
       "\n",
       "    .dataframe thead th {\n",
       "        text-align: right;\n",
       "    }\n",
       "</style>\n",
       "<table border=\"1\" class=\"dataframe\">\n",
       "  <thead>\n",
       "    <tr style=\"text-align: right;\">\n",
       "      <th></th>\n",
       "      <th></th>\n",
       "      <th>A</th>\n",
       "      <th>B</th>\n",
       "    </tr>\n",
       "    <tr>\n",
       "      <th>first</th>\n",
       "      <th>second</th>\n",
       "      <th></th>\n",
       "      <th></th>\n",
       "    </tr>\n",
       "  </thead>\n",
       "  <tbody>\n",
       "    <tr>\n",
       "      <th rowspan=\"2\" valign=\"top\">bar</th>\n",
       "      <th>one</th>\n",
       "      <td>-2.448343</td>\n",
       "      <td>0.279573</td>\n",
       "    </tr>\n",
       "    <tr>\n",
       "      <th>two</th>\n",
       "      <td>-0.777919</td>\n",
       "      <td>-1.106198</td>\n",
       "    </tr>\n",
       "    <tr>\n",
       "      <th rowspan=\"2\" valign=\"top\">baz</th>\n",
       "      <th>one</th>\n",
       "      <td>0.572658</td>\n",
       "      <td>-0.126185</td>\n",
       "    </tr>\n",
       "    <tr>\n",
       "      <th>two</th>\n",
       "      <td>1.307399</td>\n",
       "      <td>-0.236034</td>\n",
       "    </tr>\n",
       "  </tbody>\n",
       "</table>\n",
       "</div>"
      ],
      "text/plain": [
       "                     A         B\n",
       "first second                    \n",
       "bar   one    -2.448343  0.279573\n",
       "      two    -0.777919 -1.106198\n",
       "baz   one     0.572658 -0.126185\n",
       "      two     1.307399 -0.236034"
      ]
     },
     "execution_count": 109,
     "metadata": {},
     "output_type": "execute_result"
    }
   ],
   "source": [
    "#unstack操作默认将内层行索引number旋转为列索引。同时，也可以指定分层级别或者索引名称来指定操作级别\n",
    "stacked.unstack()"
   ]
  },
  {
   "cell_type": "code",
   "execution_count": 110,
   "metadata": {},
   "outputs": [
    {
     "data": {
      "text/html": [
       "<div>\n",
       "<style scoped>\n",
       "    .dataframe tbody tr th:only-of-type {\n",
       "        vertical-align: middle;\n",
       "    }\n",
       "\n",
       "    .dataframe tbody tr th {\n",
       "        vertical-align: top;\n",
       "    }\n",
       "\n",
       "    .dataframe thead th {\n",
       "        text-align: right;\n",
       "    }\n",
       "</style>\n",
       "<table border=\"1\" class=\"dataframe\">\n",
       "  <thead>\n",
       "    <tr style=\"text-align: right;\">\n",
       "      <th></th>\n",
       "      <th>second</th>\n",
       "      <th>one</th>\n",
       "      <th>two</th>\n",
       "    </tr>\n",
       "    <tr>\n",
       "      <th>first</th>\n",
       "      <th></th>\n",
       "      <th></th>\n",
       "      <th></th>\n",
       "    </tr>\n",
       "  </thead>\n",
       "  <tbody>\n",
       "    <tr>\n",
       "      <th rowspan=\"2\" valign=\"top\">bar</th>\n",
       "      <th>A</th>\n",
       "      <td>-2.448343</td>\n",
       "      <td>-0.777919</td>\n",
       "    </tr>\n",
       "    <tr>\n",
       "      <th>B</th>\n",
       "      <td>0.279573</td>\n",
       "      <td>-1.106198</td>\n",
       "    </tr>\n",
       "    <tr>\n",
       "      <th rowspan=\"2\" valign=\"top\">baz</th>\n",
       "      <th>A</th>\n",
       "      <td>0.572658</td>\n",
       "      <td>1.307399</td>\n",
       "    </tr>\n",
       "    <tr>\n",
       "      <th>B</th>\n",
       "      <td>-0.126185</td>\n",
       "      <td>-0.236034</td>\n",
       "    </tr>\n",
       "  </tbody>\n",
       "</table>\n",
       "</div>"
      ],
      "text/plain": [
       "second        one       two\n",
       "first                      \n",
       "bar   A -2.448343 -0.777919\n",
       "      B  0.279573 -1.106198\n",
       "baz   A  0.572658  1.307399\n",
       "      B -0.126185 -0.236034"
      ]
     },
     "execution_count": 110,
     "metadata": {},
     "output_type": "execute_result"
    }
   ],
   "source": [
    "stacked.unstack(1)#最外侧是0"
   ]
  },
  {
   "cell_type": "code",
   "execution_count": 111,
   "metadata": {},
   "outputs": [
    {
     "data": {
      "text/html": [
       "<div>\n",
       "<style scoped>\n",
       "    .dataframe tbody tr th:only-of-type {\n",
       "        vertical-align: middle;\n",
       "    }\n",
       "\n",
       "    .dataframe tbody tr th {\n",
       "        vertical-align: top;\n",
       "    }\n",
       "\n",
       "    .dataframe thead th {\n",
       "        text-align: right;\n",
       "    }\n",
       "</style>\n",
       "<table border=\"1\" class=\"dataframe\">\n",
       "  <thead>\n",
       "    <tr style=\"text-align: right;\">\n",
       "      <th></th>\n",
       "      <th>first</th>\n",
       "      <th>bar</th>\n",
       "      <th>baz</th>\n",
       "    </tr>\n",
       "    <tr>\n",
       "      <th>second</th>\n",
       "      <th></th>\n",
       "      <th></th>\n",
       "      <th></th>\n",
       "    </tr>\n",
       "  </thead>\n",
       "  <tbody>\n",
       "    <tr>\n",
       "      <th rowspan=\"2\" valign=\"top\">one</th>\n",
       "      <th>A</th>\n",
       "      <td>-2.448343</td>\n",
       "      <td>0.572658</td>\n",
       "    </tr>\n",
       "    <tr>\n",
       "      <th>B</th>\n",
       "      <td>0.279573</td>\n",
       "      <td>-0.126185</td>\n",
       "    </tr>\n",
       "    <tr>\n",
       "      <th rowspan=\"2\" valign=\"top\">two</th>\n",
       "      <th>A</th>\n",
       "      <td>-0.777919</td>\n",
       "      <td>1.307399</td>\n",
       "    </tr>\n",
       "    <tr>\n",
       "      <th>B</th>\n",
       "      <td>-1.106198</td>\n",
       "      <td>-0.236034</td>\n",
       "    </tr>\n",
       "  </tbody>\n",
       "</table>\n",
       "</div>"
      ],
      "text/plain": [
       "first          bar       baz\n",
       "second                      \n",
       "one    A -2.448343  0.572658\n",
       "       B  0.279573 -0.126185\n",
       "two    A -0.777919  1.307399\n",
       "       B -1.106198 -0.236034"
      ]
     },
     "execution_count": 111,
     "metadata": {},
     "output_type": "execute_result"
    }
   ],
   "source": [
    "stacked.unstack(0)"
   ]
  },
  {
   "cell_type": "code",
   "execution_count": 112,
   "metadata": {},
   "outputs": [
    {
     "data": {
      "text/html": [
       "<div>\n",
       "<style scoped>\n",
       "    .dataframe tbody tr th:only-of-type {\n",
       "        vertical-align: middle;\n",
       "    }\n",
       "\n",
       "    .dataframe tbody tr th {\n",
       "        vertical-align: top;\n",
       "    }\n",
       "\n",
       "    .dataframe thead th {\n",
       "        text-align: right;\n",
       "    }\n",
       "</style>\n",
       "<table border=\"1\" class=\"dataframe\">\n",
       "  <thead>\n",
       "    <tr style=\"text-align: right;\">\n",
       "      <th></th>\n",
       "      <th></th>\n",
       "      <th>A</th>\n",
       "      <th>B</th>\n",
       "    </tr>\n",
       "    <tr>\n",
       "      <th>first</th>\n",
       "      <th>second</th>\n",
       "      <th></th>\n",
       "      <th></th>\n",
       "    </tr>\n",
       "  </thead>\n",
       "  <tbody>\n",
       "    <tr>\n",
       "      <th rowspan=\"2\" valign=\"top\">bar</th>\n",
       "      <th>one</th>\n",
       "      <td>-2.448343</td>\n",
       "      <td>0.279573</td>\n",
       "    </tr>\n",
       "    <tr>\n",
       "      <th>two</th>\n",
       "      <td>-0.777919</td>\n",
       "      <td>-1.106198</td>\n",
       "    </tr>\n",
       "    <tr>\n",
       "      <th rowspan=\"2\" valign=\"top\">baz</th>\n",
       "      <th>one</th>\n",
       "      <td>0.572658</td>\n",
       "      <td>-0.126185</td>\n",
       "    </tr>\n",
       "    <tr>\n",
       "      <th>two</th>\n",
       "      <td>1.307399</td>\n",
       "      <td>-0.236034</td>\n",
       "    </tr>\n",
       "  </tbody>\n",
       "</table>\n",
       "</div>"
      ],
      "text/plain": [
       "                     A         B\n",
       "first second                    \n",
       "bar   one    -2.448343  0.279573\n",
       "      two    -0.777919 -1.106198\n",
       "baz   one     0.572658 -0.126185\n",
       "      two     1.307399 -0.236034"
      ]
     },
     "execution_count": 112,
     "metadata": {},
     "output_type": "execute_result"
    }
   ],
   "source": [
    "stacked.unstack(2)\n",
    "stacked.unstack(-1)#同上\n",
    "stacked.unstack()#同上"
   ]
  },
  {
   "cell_type": "markdown",
   "metadata": {},
   "source": [
    "<mark>Reshaping\n",
    "Pivot tables\n",
    "按照示例创建 df 并打印显示</mark>"
   ]
  },
  {
   "cell_type": "code",
   "execution_count": 113,
   "metadata": {},
   "outputs": [
    {
     "data": {
      "text/html": [
       "<div>\n",
       "<style scoped>\n",
       "    .dataframe tbody tr th:only-of-type {\n",
       "        vertical-align: middle;\n",
       "    }\n",
       "\n",
       "    .dataframe tbody tr th {\n",
       "        vertical-align: top;\n",
       "    }\n",
       "\n",
       "    .dataframe thead th {\n",
       "        text-align: right;\n",
       "    }\n",
       "</style>\n",
       "<table border=\"1\" class=\"dataframe\">\n",
       "  <thead>\n",
       "    <tr style=\"text-align: right;\">\n",
       "      <th></th>\n",
       "      <th>A</th>\n",
       "      <th>B</th>\n",
       "      <th>C</th>\n",
       "      <th>D</th>\n",
       "      <th>E</th>\n",
       "    </tr>\n",
       "  </thead>\n",
       "  <tbody>\n",
       "    <tr>\n",
       "      <th>0</th>\n",
       "      <td>one</td>\n",
       "      <td>A</td>\n",
       "      <td>foo</td>\n",
       "      <td>-0.299000</td>\n",
       "      <td>-0.519769</td>\n",
       "    </tr>\n",
       "    <tr>\n",
       "      <th>1</th>\n",
       "      <td>one</td>\n",
       "      <td>B</td>\n",
       "      <td>foo</td>\n",
       "      <td>-0.287779</td>\n",
       "      <td>2.838982</td>\n",
       "    </tr>\n",
       "    <tr>\n",
       "      <th>2</th>\n",
       "      <td>two</td>\n",
       "      <td>C</td>\n",
       "      <td>foo</td>\n",
       "      <td>0.547219</td>\n",
       "      <td>-1.720053</td>\n",
       "    </tr>\n",
       "    <tr>\n",
       "      <th>3</th>\n",
       "      <td>three</td>\n",
       "      <td>A</td>\n",
       "      <td>bar</td>\n",
       "      <td>-0.936810</td>\n",
       "      <td>-0.296975</td>\n",
       "    </tr>\n",
       "    <tr>\n",
       "      <th>4</th>\n",
       "      <td>one</td>\n",
       "      <td>B</td>\n",
       "      <td>bar</td>\n",
       "      <td>-2.746837</td>\n",
       "      <td>-0.220455</td>\n",
       "    </tr>\n",
       "    <tr>\n",
       "      <th>5</th>\n",
       "      <td>one</td>\n",
       "      <td>C</td>\n",
       "      <td>bar</td>\n",
       "      <td>-0.862854</td>\n",
       "      <td>-0.625256</td>\n",
       "    </tr>\n",
       "    <tr>\n",
       "      <th>6</th>\n",
       "      <td>two</td>\n",
       "      <td>A</td>\n",
       "      <td>foo</td>\n",
       "      <td>-1.933614</td>\n",
       "      <td>0.106892</td>\n",
       "    </tr>\n",
       "    <tr>\n",
       "      <th>7</th>\n",
       "      <td>three</td>\n",
       "      <td>B</td>\n",
       "      <td>foo</td>\n",
       "      <td>-1.494173</td>\n",
       "      <td>1.338958</td>\n",
       "    </tr>\n",
       "    <tr>\n",
       "      <th>8</th>\n",
       "      <td>one</td>\n",
       "      <td>C</td>\n",
       "      <td>foo</td>\n",
       "      <td>-0.813152</td>\n",
       "      <td>1.107292</td>\n",
       "    </tr>\n",
       "    <tr>\n",
       "      <th>9</th>\n",
       "      <td>one</td>\n",
       "      <td>A</td>\n",
       "      <td>bar</td>\n",
       "      <td>0.039609</td>\n",
       "      <td>-3.141321</td>\n",
       "    </tr>\n",
       "    <tr>\n",
       "      <th>10</th>\n",
       "      <td>two</td>\n",
       "      <td>B</td>\n",
       "      <td>bar</td>\n",
       "      <td>-1.511452</td>\n",
       "      <td>0.607936</td>\n",
       "    </tr>\n",
       "    <tr>\n",
       "      <th>11</th>\n",
       "      <td>three</td>\n",
       "      <td>C</td>\n",
       "      <td>bar</td>\n",
       "      <td>-1.830921</td>\n",
       "      <td>0.507563</td>\n",
       "    </tr>\n",
       "  </tbody>\n",
       "</table>\n",
       "</div>"
      ],
      "text/plain": [
       "        A  B    C         D         E\n",
       "0     one  A  foo -0.299000 -0.519769\n",
       "1     one  B  foo -0.287779  2.838982\n",
       "2     two  C  foo  0.547219 -1.720053\n",
       "3   three  A  bar -0.936810 -0.296975\n",
       "4     one  B  bar -2.746837 -0.220455\n",
       "5     one  C  bar -0.862854 -0.625256\n",
       "6     two  A  foo -1.933614  0.106892\n",
       "7   three  B  foo -1.494173  1.338958\n",
       "8     one  C  foo -0.813152  1.107292\n",
       "9     one  A  bar  0.039609 -3.141321\n",
       "10    two  B  bar -1.511452  0.607936\n",
       "11  three  C  bar -1.830921  0.507563"
      ]
     },
     "execution_count": 113,
     "metadata": {},
     "output_type": "execute_result"
    }
   ],
   "source": [
    "df = pd.DataFrame({'A': ['one', 'one', 'two', 'three'] * 3,\n",
    "                   'B': ['A', 'B', 'C'] * 4,\n",
    "                   'C': ['foo', 'foo', 'foo', 'bar', 'bar', 'bar'] * 2,\n",
    "                   'D': np.random.randn(12),\n",
    "                   'E': np.random.randn(12)})\n",
    "df"
   ]
  },
  {
   "cell_type": "markdown",
   "metadata": {},
   "source": [
    "<mark>pivot_table - 按照示例创建 df 的数据透视表\n",
    "![](https://pbpython.com/images/pivot-table-datasheet.png)"
   ]
  },
  {
   "cell_type": "code",
   "execution_count": 114,
   "metadata": {},
   "outputs": [
    {
     "data": {
      "text/html": [
       "<div>\n",
       "<style scoped>\n",
       "    .dataframe tbody tr th:only-of-type {\n",
       "        vertical-align: middle;\n",
       "    }\n",
       "\n",
       "    .dataframe tbody tr th {\n",
       "        vertical-align: top;\n",
       "    }\n",
       "\n",
       "    .dataframe thead th {\n",
       "        text-align: right;\n",
       "    }\n",
       "</style>\n",
       "<table border=\"1\" class=\"dataframe\">\n",
       "  <thead>\n",
       "    <tr style=\"text-align: right;\">\n",
       "      <th></th>\n",
       "      <th>C</th>\n",
       "      <th>bar</th>\n",
       "      <th>foo</th>\n",
       "    </tr>\n",
       "    <tr>\n",
       "      <th>A</th>\n",
       "      <th>B</th>\n",
       "      <th></th>\n",
       "      <th></th>\n",
       "    </tr>\n",
       "  </thead>\n",
       "  <tbody>\n",
       "    <tr>\n",
       "      <th rowspan=\"3\" valign=\"top\">one</th>\n",
       "      <th>A</th>\n",
       "      <td>0.039609</td>\n",
       "      <td>-0.299000</td>\n",
       "    </tr>\n",
       "    <tr>\n",
       "      <th>B</th>\n",
       "      <td>-2.746837</td>\n",
       "      <td>-0.287779</td>\n",
       "    </tr>\n",
       "    <tr>\n",
       "      <th>C</th>\n",
       "      <td>-0.862854</td>\n",
       "      <td>-0.813152</td>\n",
       "    </tr>\n",
       "    <tr>\n",
       "      <th rowspan=\"3\" valign=\"top\">three</th>\n",
       "      <th>A</th>\n",
       "      <td>-0.936810</td>\n",
       "      <td>NaN</td>\n",
       "    </tr>\n",
       "    <tr>\n",
       "      <th>B</th>\n",
       "      <td>NaN</td>\n",
       "      <td>-1.494173</td>\n",
       "    </tr>\n",
       "    <tr>\n",
       "      <th>C</th>\n",
       "      <td>-1.830921</td>\n",
       "      <td>NaN</td>\n",
       "    </tr>\n",
       "    <tr>\n",
       "      <th rowspan=\"3\" valign=\"top\">two</th>\n",
       "      <th>A</th>\n",
       "      <td>NaN</td>\n",
       "      <td>-1.933614</td>\n",
       "    </tr>\n",
       "    <tr>\n",
       "      <th>B</th>\n",
       "      <td>-1.511452</td>\n",
       "      <td>NaN</td>\n",
       "    </tr>\n",
       "    <tr>\n",
       "      <th>C</th>\n",
       "      <td>NaN</td>\n",
       "      <td>0.547219</td>\n",
       "    </tr>\n",
       "  </tbody>\n",
       "</table>\n",
       "</div>"
      ],
      "text/plain": [
       "C             bar       foo\n",
       "A     B                    \n",
       "one   A  0.039609 -0.299000\n",
       "      B -2.746837 -0.287779\n",
       "      C -0.862854 -0.813152\n",
       "three A -0.936810       NaN\n",
       "      B       NaN -1.494173\n",
       "      C -1.830921       NaN\n",
       "two   A       NaN -1.933614\n",
       "      B -1.511452       NaN\n",
       "      C       NaN  0.547219"
      ]
     },
     "execution_count": 114,
     "metadata": {},
     "output_type": "execute_result"
    }
   ],
   "source": [
    "pd.pivot_table(df, values='D', index=['A', 'B'], columns=['C'])"
   ]
  },
  {
   "cell_type": "code",
   "execution_count": 115,
   "metadata": {},
   "outputs": [
    {
     "data": {
      "text/html": [
       "<div>\n",
       "<style scoped>\n",
       "    .dataframe tbody tr th:only-of-type {\n",
       "        vertical-align: middle;\n",
       "    }\n",
       "\n",
       "    .dataframe tbody tr th {\n",
       "        vertical-align: top;\n",
       "    }\n",
       "\n",
       "    .dataframe thead th {\n",
       "        text-align: right;\n",
       "    }\n",
       "</style>\n",
       "<table border=\"1\" class=\"dataframe\">\n",
       "  <thead>\n",
       "    <tr style=\"text-align: right;\">\n",
       "      <th></th>\n",
       "      <th>C</th>\n",
       "      <th>bar</th>\n",
       "      <th>foo</th>\n",
       "      <th>All</th>\n",
       "    </tr>\n",
       "    <tr>\n",
       "      <th>A</th>\n",
       "      <th>B</th>\n",
       "      <th></th>\n",
       "      <th></th>\n",
       "      <th></th>\n",
       "    </tr>\n",
       "  </thead>\n",
       "  <tbody>\n",
       "    <tr>\n",
       "      <th rowspan=\"3\" valign=\"top\">one</th>\n",
       "      <th>A</th>\n",
       "      <td>0.039609</td>\n",
       "      <td>-0.299000</td>\n",
       "      <td>-0.259391</td>\n",
       "    </tr>\n",
       "    <tr>\n",
       "      <th>B</th>\n",
       "      <td>-2.746837</td>\n",
       "      <td>-0.287779</td>\n",
       "      <td>-3.034616</td>\n",
       "    </tr>\n",
       "    <tr>\n",
       "      <th>C</th>\n",
       "      <td>-0.862854</td>\n",
       "      <td>-0.813152</td>\n",
       "      <td>-1.676006</td>\n",
       "    </tr>\n",
       "    <tr>\n",
       "      <th rowspan=\"3\" valign=\"top\">three</th>\n",
       "      <th>A</th>\n",
       "      <td>-0.936810</td>\n",
       "      <td>NaN</td>\n",
       "      <td>-0.936810</td>\n",
       "    </tr>\n",
       "    <tr>\n",
       "      <th>B</th>\n",
       "      <td>NaN</td>\n",
       "      <td>-1.494173</td>\n",
       "      <td>-1.494173</td>\n",
       "    </tr>\n",
       "    <tr>\n",
       "      <th>C</th>\n",
       "      <td>-1.830921</td>\n",
       "      <td>NaN</td>\n",
       "      <td>-1.830921</td>\n",
       "    </tr>\n",
       "    <tr>\n",
       "      <th rowspan=\"3\" valign=\"top\">two</th>\n",
       "      <th>A</th>\n",
       "      <td>NaN</td>\n",
       "      <td>-1.933614</td>\n",
       "      <td>-1.933614</td>\n",
       "    </tr>\n",
       "    <tr>\n",
       "      <th>B</th>\n",
       "      <td>-1.511452</td>\n",
       "      <td>NaN</td>\n",
       "      <td>-1.511452</td>\n",
       "    </tr>\n",
       "    <tr>\n",
       "      <th>C</th>\n",
       "      <td>NaN</td>\n",
       "      <td>0.547219</td>\n",
       "      <td>0.547219</td>\n",
       "    </tr>\n",
       "    <tr>\n",
       "      <th>All</th>\n",
       "      <th></th>\n",
       "      <td>-7.849264</td>\n",
       "      <td>-4.280501</td>\n",
       "      <td>-12.129764</td>\n",
       "    </tr>\n",
       "  </tbody>\n",
       "</table>\n",
       "</div>"
      ],
      "text/plain": [
       "C             bar       foo        All\n",
       "A     B                               \n",
       "one   A  0.039609 -0.299000  -0.259391\n",
       "      B -2.746837 -0.287779  -3.034616\n",
       "      C -0.862854 -0.813152  -1.676006\n",
       "three A -0.936810       NaN  -0.936810\n",
       "      B       NaN -1.494173  -1.494173\n",
       "      C -1.830921       NaN  -1.830921\n",
       "two   A       NaN -1.933614  -1.933614\n",
       "      B -1.511452       NaN  -1.511452\n",
       "      C       NaN  0.547219   0.547219\n",
       "All     -7.849264 -4.280501 -12.129764"
      ]
     },
     "execution_count": 115,
     "metadata": {},
     "output_type": "execute_result"
    }
   ],
   "source": [
    "pd.pivot_table(df, values='D', index=['A', 'B'], columns=['C'],aggfunc={'D':np.sum},margins=True)"
   ]
  },
  {
   "cell_type": "markdown",
   "metadata": {},
   "source": [
    "<mark>Time series\n",
    "date_range - 按照示例创建以时间序列 rng 为 index 的随机数数据框 ts\n",
    "<p><mark>freq取值列表看https://pandas.pydata.org/pandas-docs/stable/user_guide/timeseries.html#timeseries-offset-aliases"
   ]
  },
  {
   "cell_type": "code",
   "execution_count": 116,
   "metadata": {},
   "outputs": [
    {
     "data": {
      "text/plain": [
       "DatetimeIndex(['2012-01-01 00:00:00', '2012-01-01 00:00:01',\n",
       "               '2012-01-01 00:00:02', '2012-01-01 00:00:03',\n",
       "               '2012-01-01 00:00:04', '2012-01-01 00:00:05',\n",
       "               '2012-01-01 00:00:06', '2012-01-01 00:00:07',\n",
       "               '2012-01-01 00:00:08', '2012-01-01 00:00:09'],\n",
       "              dtype='datetime64[ns]', freq='S')"
      ]
     },
     "execution_count": 116,
     "metadata": {},
     "output_type": "execute_result"
    }
   ],
   "source": [
    "rng = pd.date_range('1/1/2012', periods=100, freq='S')\n",
    "rng[:10]"
   ]
  },
  {
   "cell_type": "markdown",
   "metadata": {},
   "source": [
    "<mark>resample & sum - 仿照示例对 ts 按 30S 进行重采样并求和"
   ]
  },
  {
   "cell_type": "code",
   "execution_count": 117,
   "metadata": {},
   "outputs": [
    {
     "data": {
      "text/plain": [
       "2012-01-01 00:00:00    8143\n",
       "2012-01-01 00:00:30    6763\n",
       "2012-01-01 00:01:00    7518\n",
       "2012-01-01 00:01:30    2376\n",
       "Freq: 30S, dtype: int32"
      ]
     },
     "execution_count": 117,
     "metadata": {},
     "output_type": "execute_result"
    }
   ],
   "source": [
    "ts = pd.Series(np.random.randint(0, 500, len(rng)), index=rng)\n",
    "ts.resample('30S').sum()#降采样默认为左闭右开区间closed='left'，label='left'"
   ]
  },
  {
   "cell_type": "markdown",
   "metadata": {},
   "source": [
    "<mark>date_range - 按照示例创建以时间序列 rng 为 index 的随机数数据框 ts"
   ]
  },
  {
   "cell_type": "code",
   "execution_count": 118,
   "metadata": {},
   "outputs": [
    {
     "data": {
      "text/plain": [
       "2012-03-06    0.265234\n",
       "2012-03-07   -0.157692\n",
       "2012-03-08    1.647037\n",
       "2012-03-09   -0.532214\n",
       "2012-03-10    2.062198\n",
       "Freq: D, dtype: float64"
      ]
     },
     "execution_count": 118,
     "metadata": {},
     "output_type": "execute_result"
    }
   ],
   "source": [
    "rng = pd.date_range('3/6/2012 00:00', periods=5, freq='D')\n",
    "ts = pd.Series(np.random.randn(len(rng)), rng)\n",
    "ts"
   ]
  },
  {
   "cell_type": "markdown",
   "metadata": {},
   "source": [
    "<mark>tz_localize - 按照示例将 ts 索引上的时间序列设定为 UTC 时间"
   ]
  },
  {
   "cell_type": "code",
   "execution_count": 119,
   "metadata": {},
   "outputs": [
    {
     "data": {
      "text/plain": [
       "2012-03-06 00:00:00+00:00    0.265234\n",
       "2012-03-07 00:00:00+00:00   -0.157692\n",
       "2012-03-08 00:00:00+00:00    1.647037\n",
       "2012-03-09 00:00:00+00:00   -0.532214\n",
       "2012-03-10 00:00:00+00:00    2.062198\n",
       "Freq: D, dtype: float64"
      ]
     },
     "execution_count": 119,
     "metadata": {},
     "output_type": "execute_result"
    }
   ],
   "source": [
    "ts_utc = ts.tz_localize('UTC')\n",
    "ts_utc"
   ]
  },
  {
   "cell_type": "markdown",
   "metadata": {},
   "source": [
    " <mark>tz_convert - 按照示例将 ts_utc 索引上的时间从 UTC 时间转为美国东部时间"
   ]
  },
  {
   "cell_type": "code",
   "execution_count": 120,
   "metadata": {},
   "outputs": [
    {
     "data": {
      "text/plain": [
       "2012-03-05 19:00:00-05:00    0.265234\n",
       "2012-03-06 19:00:00-05:00   -0.157692\n",
       "2012-03-07 19:00:00-05:00    1.647037\n",
       "2012-03-08 19:00:00-05:00   -0.532214\n",
       "2012-03-09 19:00:00-05:00    2.062198\n",
       "Freq: D, dtype: float64"
      ]
     },
     "execution_count": 120,
     "metadata": {},
     "output_type": "execute_result"
    }
   ],
   "source": [
    "ts_utc.tz_convert('US/Eastern')"
   ]
  },
  {
   "cell_type": "markdown",
   "metadata": {},
   "source": [
    "<mark>Time series\n",
    "date_range - 按照示例创建以时间序列 rng 为 index 的随机数数据框 ts</mark>"
   ]
  },
  {
   "cell_type": "code",
   "execution_count": 121,
   "metadata": {},
   "outputs": [
    {
     "data": {
      "text/plain": [
       "2012-01-31    0.887464\n",
       "2012-02-29   -0.935110\n",
       "2012-03-31   -0.532403\n",
       "2012-04-30   -0.804094\n",
       "2012-05-31   -1.110844\n",
       "Freq: M, dtype: float64"
      ]
     },
     "execution_count": 121,
     "metadata": {},
     "output_type": "execute_result"
    }
   ],
   "source": [
    "rng = pd.date_range('1/1/2012', periods=5, freq='M')\n",
    "ts = pd.Series(np.random.randn(len(rng)), index=rng)\n",
    "ts"
   ]
  },
  {
   "cell_type": "markdown",
   "metadata": {},
   "source": [
    "<mark>to_period - 按照示例将数据框 ts 的时间戳索引转为时期索引"
   ]
  },
  {
   "cell_type": "code",
   "execution_count": 122,
   "metadata": {},
   "outputs": [
    {
     "data": {
      "text/plain": [
       "2012-01    0.887464\n",
       "2012-02   -0.935110\n",
       "2012-03   -0.532403\n",
       "2012-04   -0.804094\n",
       "2012-05   -1.110844\n",
       "Freq: M, dtype: float64"
      ]
     },
     "execution_count": 122,
     "metadata": {},
     "output_type": "execute_result"
    }
   ],
   "source": [
    "ps = ts.to_period()\n",
    "ps"
   ]
  },
  {
   "cell_type": "markdown",
   "metadata": {},
   "source": [
    "<mark>to_period - 仿照示例将数据框 ts 的时间戳索引转为以季度为时期的索引(提示：freq='Q')"
   ]
  },
  {
   "cell_type": "code",
   "execution_count": 123,
   "metadata": {},
   "outputs": [
    {
     "data": {
      "text/plain": [
       "2012Q1    0.887464\n",
       "2012Q1   -0.935110\n",
       "2012Q1   -0.532403\n",
       "2012Q2   -0.804094\n",
       "2012Q2   -1.110844\n",
       "Freq: Q-DEC, dtype: float64"
      ]
     },
     "execution_count": 123,
     "metadata": {},
     "output_type": "execute_result"
    }
   ],
   "source": [
    "ps=ts.to_period(freq='Q')\n",
    "ps"
   ]
  },
  {
   "cell_type": "markdown",
   "metadata": {},
   "source": [
    "<mark>to_period - 仿照示例将数据框 ts 的时间戳索引转为以年为时期的索引"
   ]
  },
  {
   "cell_type": "code",
   "execution_count": 124,
   "metadata": {},
   "outputs": [
    {
     "data": {
      "text/plain": [
       "2012    0.887464\n",
       "2012   -0.935110\n",
       "2012   -0.532403\n",
       "2012   -0.804094\n",
       "2012   -1.110844\n",
       "Freq: A-DEC, dtype: float64"
      ]
     },
     "execution_count": 124,
     "metadata": {},
     "output_type": "execute_result"
    }
   ],
   "source": [
    "ps=ts.to_period(freq='Y')\n",
    "ps"
   ]
  },
  {
   "cell_type": "markdown",
   "metadata": {},
   "source": [
    "<mark>to_timestamp - 按照示例将数据框 ps 的时期索引转为时间戳索引"
   ]
  },
  {
   "cell_type": "code",
   "execution_count": 125,
   "metadata": {},
   "outputs": [
    {
     "data": {
      "text/plain": [
       "2012-01-01    0.887464\n",
       "2012-01-01   -0.935110\n",
       "2012-01-01   -0.532403\n",
       "2012-01-01   -0.804094\n",
       "2012-01-01   -1.110844\n",
       "dtype: float64"
      ]
     },
     "execution_count": 125,
     "metadata": {},
     "output_type": "execute_result"
    }
   ],
   "source": [
    "ps.to_timestamp()#转为以年为时期的索引后精度丢失"
   ]
  },
  {
   "cell_type": "markdown",
   "metadata": {},
   "source": [
    "<mark>period_range - 按照示例创建以时间序列 prng 为 index 的随机数数据框 ts \n",
    "    <p><mark>打印 prng"
   ]
  },
  {
   "cell_type": "code",
   "execution_count": 126,
   "metadata": {},
   "outputs": [
    {
     "data": {
      "text/plain": [
       "PeriodIndex(['1990Q1', '1990Q2', '1990Q3', '1990Q4', '1991Q1', '1991Q2',\n",
       "             '1991Q3', '1991Q4', '1992Q1', '1992Q2', '1992Q3', '1992Q4',\n",
       "             '1993Q1', '1993Q2', '1993Q3', '1993Q4', '1994Q1', '1994Q2',\n",
       "             '1994Q3', '1994Q4', '1995Q1', '1995Q2', '1995Q3', '1995Q4',\n",
       "             '1996Q1', '1996Q2', '1996Q3', '1996Q4', '1997Q1', '1997Q2',\n",
       "             '1997Q3', '1997Q4', '1998Q1', '1998Q2', '1998Q3', '1998Q4',\n",
       "             '1999Q1', '1999Q2', '1999Q3', '1999Q4', '2000Q1', '2000Q2',\n",
       "             '2000Q3', '2000Q4'],\n",
       "            dtype='period[Q-NOV]', freq='Q-NOV')"
      ]
     },
     "execution_count": 126,
     "metadata": {},
     "output_type": "execute_result"
    }
   ],
   "source": [
    "#许多季度型数据会涉及“财年末”的概念，通常是一年12个月中某月的最后一个工作日或日历日。\n",
    "#因此，时间“2012Q4”根据财年末的不同会有不同的含义。pandas支持12种可能的季度型频率，即Q-JAN到Q-DEC。\n",
    "#因为本例中“财年末”为11月，所以1990Q1的起始月为1989年的12月\n",
    "prng = pd.period_range('1990Q1', '2000Q4', freq='Q-NOV')\n",
    "ts = pd.Series(np.random.randn(len(prng)), prng)\n",
    "prng"
   ]
  },
  {
   "cell_type": "markdown",
   "metadata": {},
   "source": [
    "<mark>asfreq - 将 prng 转为以月为频率的时间序列，返回值为每个季度的结束月(提示：比如 Q1 为 1月至3月，则 Q1 的起始月为1月，最末月为3月。参数 how = 'start' 表示选择起始期返回，how = 'end' 表示选择最末期返回，它们可直接缩写为 's', 'e') "
   ]
  },
  {
   "cell_type": "code",
   "execution_count": 127,
   "metadata": {
    "scrolled": true
   },
   "outputs": [
    {
     "data": {
      "text/plain": [
       "1990-02    1.242954\n",
       "1990-05   -1.997743\n",
       "1990-08   -0.606100\n",
       "1990-11    0.348564\n",
       "1991-02   -0.030541\n",
       "Freq: M, dtype: float64"
      ]
     },
     "execution_count": 127,
     "metadata": {},
     "output_type": "execute_result"
    }
   ],
   "source": [
    "#注意，本例中Q1不是1月至3月，题干有错误，参照上一个代码块的说明\n",
    "ts.index = prng.asfreq('M', 'e')\n",
    "ts.head()"
   ]
  },
  {
   "cell_type": "markdown",
   "metadata": {},
   "source": [
    "<mark>asfreq - 仿照示例将 prng 转为以月为频率的时间序列，返回值为每个季度的结束月，并在此基础上增加一个月"
   ]
  },
  {
   "cell_type": "code",
   "execution_count": 128,
   "metadata": {},
   "outputs": [
    {
     "data": {
      "text/plain": [
       "1990-03    1.242954\n",
       "1990-06   -1.997743\n",
       "1990-09   -0.606100\n",
       "1990-12    0.348564\n",
       "1991-03   -0.030541\n",
       "Freq: M, dtype: float64"
      ]
     },
     "execution_count": 128,
     "metadata": {},
     "output_type": "execute_result"
    }
   ],
   "source": [
    "ts.index = prng.asfreq('M', 'e') + 1\n",
    "ts.head()"
   ]
  },
  {
   "cell_type": "markdown",
   "metadata": {},
   "source": [
    "<mark>asfreq - 仿照示例将 prng 转为以月为频率的时间序列，返回值为每个季度的结束月，并在此基础上增加一个月，然后将其转换为以小时为频率的时间序列，返回值为每天的起始小时，并在此基础上增加 10 个小时"
   ]
  },
  {
   "cell_type": "code",
   "execution_count": 129,
   "metadata": {},
   "outputs": [
    {
     "data": {
      "text/plain": [
       "1990-03-01 10:00    1.242954\n",
       "1990-06-01 10:00   -1.997743\n",
       "1990-09-01 10:00   -0.606100\n",
       "1990-12-01 10:00    0.348564\n",
       "1991-03-01 10:00   -0.030541\n",
       "Freq: H, dtype: float64"
      ]
     },
     "execution_count": 129,
     "metadata": {},
     "output_type": "execute_result"
    }
   ],
   "source": [
    "ts.index = (prng.asfreq('M', 'e') + 1).asfreq('H', 's') + 10\n",
    "ts.head()"
   ]
  }
 ],
 "metadata": {
  "kernelspec": {
   "display_name": "Python 3",
   "language": "python",
   "name": "python3"
  },
  "language_info": {
   "codemirror_mode": {
    "name": "ipython",
    "version": 3
   },
   "file_extension": ".py",
   "mimetype": "text/x-python",
   "name": "python",
   "nbconvert_exporter": "python",
   "pygments_lexer": "ipython3",
   "version": "3.8.3"
  }
 },
 "nbformat": 4,
 "nbformat_minor": 4
}
