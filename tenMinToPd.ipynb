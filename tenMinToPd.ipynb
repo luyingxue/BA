{
 "cells": [
  {
   "cell_type": "markdown",
   "metadata": {},
   "source": [
    "<mark>Hello Python - 在 Anaconda 中打开 Jupyter Notebook，打印出 Hello Python"
   ]
  },
  {
   "cell_type": "code",
   "execution_count": 1,
   "metadata": {},
   "outputs": [
    {
     "name": "stdout",
     "output_type": "stream",
     "text": [
      "Hello Python\n"
     ]
    }
   ],
   "source": [
    "print('Hello Python')"
   ]
  },
  {
   "cell_type": "markdown",
   "metadata": {},
   "source": [
    "<mark>import - 载入 numpy 及 pandas，并命名为 np 与 pd"
   ]
  },
  {
   "cell_type": "code",
   "execution_count": 2,
   "metadata": {},
   "outputs": [],
   "source": [
    "import numpy as np\n",
    "import pandas as pd"
   ]
  },
  {
   "cell_type": "markdown",
   "metadata": {},
   "source": [
    "<mark>Series - 仿照示例创建包含如下元素的 Series 对象：2,4,6,8,10,np.nan"
   ]
  },
  {
   "cell_type": "code",
   "execution_count": 3,
   "metadata": {
    "scrolled": true
   },
   "outputs": [
    {
     "data": {
      "text/plain": [
       "0     2.0\n",
       "1     4.0\n",
       "2     6.0\n",
       "3     8.0\n",
       "4    10.0\n",
       "5     NaN\n",
       "dtype: float64"
      ]
     },
     "execution_count": 3,
     "metadata": {},
     "output_type": "execute_result"
    }
   ],
   "source": [
    "s = pd.Series([2,4,6,8,10,np.nan])#Series中可以有不同类型元素，这里因为np.nan是float类型，所以整个series的dtype也是float\n",
    "s"
   ]
  },
  {
   "cell_type": "markdown",
   "metadata": {},
   "source": [
    "<mark>DataFrame - 按照示例创建 DataFrame 对象（两个）"
   ]
  },
  {
   "cell_type": "code",
   "execution_count": 4,
   "metadata": {},
   "outputs": [
    {
     "data": {
      "text/plain": [
       "DatetimeIndex(['2013-01-01', '2013-01-02', '2013-01-03', '2013-01-04',\n",
       "               '2013-01-05', '2013-01-06'],\n",
       "              dtype='datetime64[ns]', freq='D')"
      ]
     },
     "execution_count": 4,
     "metadata": {},
     "output_type": "execute_result"
    }
   ],
   "source": [
    "dates = pd.date_range('20130101', periods=6)\n",
    "dates"
   ]
  },
  {
   "cell_type": "code",
   "execution_count": 5,
   "metadata": {},
   "outputs": [
    {
     "data": {
      "text/html": [
       "<div>\n",
       "<style scoped>\n",
       "    .dataframe tbody tr th:only-of-type {\n",
       "        vertical-align: middle;\n",
       "    }\n",
       "\n",
       "    .dataframe tbody tr th {\n",
       "        vertical-align: top;\n",
       "    }\n",
       "\n",
       "    .dataframe thead th {\n",
       "        text-align: right;\n",
       "    }\n",
       "</style>\n",
       "<table border=\"1\" class=\"dataframe\">\n",
       "  <thead>\n",
       "    <tr style=\"text-align: right;\">\n",
       "      <th></th>\n",
       "      <th>A</th>\n",
       "      <th>B</th>\n",
       "      <th>C</th>\n",
       "      <th>D</th>\n",
       "    </tr>\n",
       "  </thead>\n",
       "  <tbody>\n",
       "    <tr>\n",
       "      <th>2013-01-01</th>\n",
       "      <td>-1.078035</td>\n",
       "      <td>0.664507</td>\n",
       "      <td>-0.483251</td>\n",
       "      <td>-0.233995</td>\n",
       "    </tr>\n",
       "    <tr>\n",
       "      <th>2013-01-02</th>\n",
       "      <td>1.825398</td>\n",
       "      <td>-0.676149</td>\n",
       "      <td>1.026701</td>\n",
       "      <td>0.370410</td>\n",
       "    </tr>\n",
       "    <tr>\n",
       "      <th>2013-01-03</th>\n",
       "      <td>0.431576</td>\n",
       "      <td>0.690820</td>\n",
       "      <td>-0.203114</td>\n",
       "      <td>0.233426</td>\n",
       "    </tr>\n",
       "    <tr>\n",
       "      <th>2013-01-04</th>\n",
       "      <td>-1.105602</td>\n",
       "      <td>-0.150827</td>\n",
       "      <td>-1.055863</td>\n",
       "      <td>-0.637589</td>\n",
       "    </tr>\n",
       "    <tr>\n",
       "      <th>2013-01-05</th>\n",
       "      <td>1.492171</td>\n",
       "      <td>-0.947391</td>\n",
       "      <td>0.767862</td>\n",
       "      <td>2.633823</td>\n",
       "    </tr>\n",
       "    <tr>\n",
       "      <th>2013-01-06</th>\n",
       "      <td>-0.259890</td>\n",
       "      <td>0.078601</td>\n",
       "      <td>-1.161370</td>\n",
       "      <td>-0.408619</td>\n",
       "    </tr>\n",
       "  </tbody>\n",
       "</table>\n",
       "</div>"
      ],
      "text/plain": [
       "                   A         B         C         D\n",
       "2013-01-01 -1.078035  0.664507 -0.483251 -0.233995\n",
       "2013-01-02  1.825398 -0.676149  1.026701  0.370410\n",
       "2013-01-03  0.431576  0.690820 -0.203114  0.233426\n",
       "2013-01-04 -1.105602 -0.150827 -1.055863 -0.637589\n",
       "2013-01-05  1.492171 -0.947391  0.767862  2.633823\n",
       "2013-01-06 -0.259890  0.078601 -1.161370 -0.408619"
      ]
     },
     "execution_count": 5,
     "metadata": {},
     "output_type": "execute_result"
    }
   ],
   "source": [
    "df = pd.DataFrame(np.random.randn(6, 4), index=dates, columns=list('ABCD'))#list('abcd')=['a','b','c','d']\n",
    "df"
   ]
  },
  {
   "cell_type": "code",
   "execution_count": 6,
   "metadata": {},
   "outputs": [
    {
     "data": {
      "text/html": [
       "<div>\n",
       "<style scoped>\n",
       "    .dataframe tbody tr th:only-of-type {\n",
       "        vertical-align: middle;\n",
       "    }\n",
       "\n",
       "    .dataframe tbody tr th {\n",
       "        vertical-align: top;\n",
       "    }\n",
       "\n",
       "    .dataframe thead th {\n",
       "        text-align: right;\n",
       "    }\n",
       "</style>\n",
       "<table border=\"1\" class=\"dataframe\">\n",
       "  <thead>\n",
       "    <tr style=\"text-align: right;\">\n",
       "      <th></th>\n",
       "      <th>A</th>\n",
       "      <th>B</th>\n",
       "      <th>C</th>\n",
       "      <th>D</th>\n",
       "      <th>E</th>\n",
       "      <th>F</th>\n",
       "    </tr>\n",
       "  </thead>\n",
       "  <tbody>\n",
       "    <tr>\n",
       "      <th>0</th>\n",
       "      <td>1.0</td>\n",
       "      <td>2013-01-02</td>\n",
       "      <td>1.0</td>\n",
       "      <td>3</td>\n",
       "      <td>test</td>\n",
       "      <td>foo</td>\n",
       "    </tr>\n",
       "    <tr>\n",
       "      <th>1</th>\n",
       "      <td>1.0</td>\n",
       "      <td>2013-01-02</td>\n",
       "      <td>1.0</td>\n",
       "      <td>3</td>\n",
       "      <td>train</td>\n",
       "      <td>foo</td>\n",
       "    </tr>\n",
       "    <tr>\n",
       "      <th>2</th>\n",
       "      <td>1.0</td>\n",
       "      <td>2013-01-02</td>\n",
       "      <td>1.0</td>\n",
       "      <td>3</td>\n",
       "      <td>test</td>\n",
       "      <td>foo</td>\n",
       "    </tr>\n",
       "    <tr>\n",
       "      <th>3</th>\n",
       "      <td>1.0</td>\n",
       "      <td>2013-01-02</td>\n",
       "      <td>1.0</td>\n",
       "      <td>3</td>\n",
       "      <td>train</td>\n",
       "      <td>foo</td>\n",
       "    </tr>\n",
       "  </tbody>\n",
       "</table>\n",
       "</div>"
      ],
      "text/plain": [
       "     A          B    C  D      E    F\n",
       "0  1.0 2013-01-02  1.0  3   test  foo\n",
       "1  1.0 2013-01-02  1.0  3  train  foo\n",
       "2  1.0 2013-01-02  1.0  3   test  foo\n",
       "3  1.0 2013-01-02  1.0  3  train  foo"
      ]
     },
     "execution_count": 6,
     "metadata": {},
     "output_type": "execute_result"
    }
   ],
   "source": [
    "df2 = pd.DataFrame({'A': 1.,#等于该列全部赋值1.0\n",
    "                    'B': pd.Timestamp('20130102'),#等于该列全部赋值Timestamp'20130102'\n",
    "                    #arrays must all be same length。series全部赋值1\n",
    "                    #其中range()返回range类型，等差数列，在本行代码中去作用是确定Serie的长度，不能去掉\n",
    "                    'C': pd.Series(1, index=list(range(4)), dtype='float32'),\n",
    "                    'D': np.array([3] * 4, dtype='int32'),#list*4=list重复4次\n",
    "                    'E': pd.Categorical([\"test\", \"train\", \"test\", \"train\"]),#arrays must all be same length。类别数据，有限取值，大量重复\n",
    "                    #写法2：pd.Series([\"test\", \"train\", \"test\", \"train\"], dtype='category')\n",
    "                    'F': 'foo'})#等于该列全部赋值'foo'\n",
    "df2"
   ]
  },
  {
   "cell_type": "markdown",
   "metadata": {},
   "source": [
    "<mark>dtype - 按照示例查看 DataFrame 的数据类型<p>\n",
    "<mark>TAB - 延续昨日的操作，在输入 df2. 后按下 tab 键（在键盘上数下第三行左一），会出现可供使用的函数。请使用此功能查看 df2 的 index。（提示：完整代码为 df2.index 。你可以输入 df2.in 之后按下 tab 键，在看到选择框后使用键盘上的方向键（在键盘右下区域）选择需要的函数，选中后按回车键） Viewing data"
   ]
  },
  {
   "cell_type": "code",
   "execution_count": 7,
   "metadata": {
    "scrolled": true
   },
   "outputs": [
    {
     "data": {
      "text/plain": [
       "A           float64\n",
       "B    datetime64[ns]\n",
       "C           float32\n",
       "D             int32\n",
       "E          category\n",
       "F            object\n",
       "dtype: object"
      ]
     },
     "execution_count": 7,
     "metadata": {},
     "output_type": "execute_result"
    }
   ],
   "source": [
    "df2.dtypes"
   ]
  },
  {
   "cell_type": "markdown",
   "metadata": {},
   "source": [
    "<mark>head - 仿照示例查看 df 前 4 行"
   ]
  },
  {
   "cell_type": "code",
   "execution_count": 8,
   "metadata": {},
   "outputs": [
    {
     "data": {
      "text/html": [
       "<div>\n",
       "<style scoped>\n",
       "    .dataframe tbody tr th:only-of-type {\n",
       "        vertical-align: middle;\n",
       "    }\n",
       "\n",
       "    .dataframe tbody tr th {\n",
       "        vertical-align: top;\n",
       "    }\n",
       "\n",
       "    .dataframe thead th {\n",
       "        text-align: right;\n",
       "    }\n",
       "</style>\n",
       "<table border=\"1\" class=\"dataframe\">\n",
       "  <thead>\n",
       "    <tr style=\"text-align: right;\">\n",
       "      <th></th>\n",
       "      <th>A</th>\n",
       "      <th>B</th>\n",
       "      <th>C</th>\n",
       "      <th>D</th>\n",
       "    </tr>\n",
       "  </thead>\n",
       "  <tbody>\n",
       "    <tr>\n",
       "      <th>2013-01-01</th>\n",
       "      <td>-1.078035</td>\n",
       "      <td>0.664507</td>\n",
       "      <td>-0.483251</td>\n",
       "      <td>-0.233995</td>\n",
       "    </tr>\n",
       "    <tr>\n",
       "      <th>2013-01-02</th>\n",
       "      <td>1.825398</td>\n",
       "      <td>-0.676149</td>\n",
       "      <td>1.026701</td>\n",
       "      <td>0.370410</td>\n",
       "    </tr>\n",
       "    <tr>\n",
       "      <th>2013-01-03</th>\n",
       "      <td>0.431576</td>\n",
       "      <td>0.690820</td>\n",
       "      <td>-0.203114</td>\n",
       "      <td>0.233426</td>\n",
       "    </tr>\n",
       "    <tr>\n",
       "      <th>2013-01-04</th>\n",
       "      <td>-1.105602</td>\n",
       "      <td>-0.150827</td>\n",
       "      <td>-1.055863</td>\n",
       "      <td>-0.637589</td>\n",
       "    </tr>\n",
       "  </tbody>\n",
       "</table>\n",
       "</div>"
      ],
      "text/plain": [
       "                   A         B         C         D\n",
       "2013-01-01 -1.078035  0.664507 -0.483251 -0.233995\n",
       "2013-01-02  1.825398 -0.676149  1.026701  0.370410\n",
       "2013-01-03  0.431576  0.690820 -0.203114  0.233426\n",
       "2013-01-04 -1.105602 -0.150827 -1.055863 -0.637589"
      ]
     },
     "execution_count": 8,
     "metadata": {},
     "output_type": "execute_result"
    }
   ],
   "source": [
    "df.head(4)#Number of rows to select.default 5"
   ]
  },
  {
   "cell_type": "markdown",
   "metadata": {},
   "source": [
    "<mark>tail - 仿照示例查看 df 末 4 行"
   ]
  },
  {
   "cell_type": "code",
   "execution_count": 9,
   "metadata": {},
   "outputs": [
    {
     "data": {
      "text/html": [
       "<div>\n",
       "<style scoped>\n",
       "    .dataframe tbody tr th:only-of-type {\n",
       "        vertical-align: middle;\n",
       "    }\n",
       "\n",
       "    .dataframe tbody tr th {\n",
       "        vertical-align: top;\n",
       "    }\n",
       "\n",
       "    .dataframe thead th {\n",
       "        text-align: right;\n",
       "    }\n",
       "</style>\n",
       "<table border=\"1\" class=\"dataframe\">\n",
       "  <thead>\n",
       "    <tr style=\"text-align: right;\">\n",
       "      <th></th>\n",
       "      <th>A</th>\n",
       "      <th>B</th>\n",
       "      <th>C</th>\n",
       "      <th>D</th>\n",
       "    </tr>\n",
       "  </thead>\n",
       "  <tbody>\n",
       "    <tr>\n",
       "      <th>2013-01-03</th>\n",
       "      <td>0.431576</td>\n",
       "      <td>0.690820</td>\n",
       "      <td>-0.203114</td>\n",
       "      <td>0.233426</td>\n",
       "    </tr>\n",
       "    <tr>\n",
       "      <th>2013-01-04</th>\n",
       "      <td>-1.105602</td>\n",
       "      <td>-0.150827</td>\n",
       "      <td>-1.055863</td>\n",
       "      <td>-0.637589</td>\n",
       "    </tr>\n",
       "    <tr>\n",
       "      <th>2013-01-05</th>\n",
       "      <td>1.492171</td>\n",
       "      <td>-0.947391</td>\n",
       "      <td>0.767862</td>\n",
       "      <td>2.633823</td>\n",
       "    </tr>\n",
       "    <tr>\n",
       "      <th>2013-01-06</th>\n",
       "      <td>-0.259890</td>\n",
       "      <td>0.078601</td>\n",
       "      <td>-1.161370</td>\n",
       "      <td>-0.408619</td>\n",
       "    </tr>\n",
       "  </tbody>\n",
       "</table>\n",
       "</div>"
      ],
      "text/plain": [
       "                   A         B         C         D\n",
       "2013-01-03  0.431576  0.690820 -0.203114  0.233426\n",
       "2013-01-04 -1.105602 -0.150827 -1.055863 -0.637589\n",
       "2013-01-05  1.492171 -0.947391  0.767862  2.633823\n",
       "2013-01-06 -0.259890  0.078601 -1.161370 -0.408619"
      ]
     },
     "execution_count": 9,
     "metadata": {},
     "output_type": "execute_result"
    }
   ],
   "source": [
    "df.tail(4)"
   ]
  },
  {
   "cell_type": "markdown",
   "metadata": {},
   "source": [
    "<mark>index - 按照示例查看 df 的 index"
   ]
  },
  {
   "cell_type": "code",
   "execution_count": 10,
   "metadata": {},
   "outputs": [
    {
     "data": {
      "text/plain": [
       "DatetimeIndex(['2013-01-01', '2013-01-02', '2013-01-03', '2013-01-04',\n",
       "               '2013-01-05', '2013-01-06'],\n",
       "              dtype='datetime64[ns]', freq='D')"
      ]
     },
     "execution_count": 10,
     "metadata": {},
     "output_type": "execute_result"
    }
   ],
   "source": [
    "df.index"
   ]
  },
  {
   "cell_type": "markdown",
   "metadata": {},
   "source": [
    "<mark>columns - 按照示例查看 df 的 columns"
   ]
  },
  {
   "cell_type": "code",
   "execution_count": 11,
   "metadata": {},
   "outputs": [
    {
     "data": {
      "text/plain": [
       "Index(['A', 'B', 'C', 'D'], dtype='object')"
      ]
     },
     "execution_count": 11,
     "metadata": {},
     "output_type": "execute_result"
    }
   ],
   "source": [
    "df.columns"
   ]
  },
  {
   "cell_type": "markdown",
   "metadata": {},
   "source": [
    "<mark>to_numpy - 按照示例将 df 转为 numpy 格式。请注意当列的数据类型不同时，to_numpy 的效率将变得很低。"
   ]
  },
  {
   "cell_type": "code",
   "execution_count": 12,
   "metadata": {},
   "outputs": [
    {
     "data": {
      "text/plain": [
       "array([[-1.07803467,  0.66450718, -0.48325069, -0.23399515],\n",
       "       [ 1.8253978 , -0.67614872,  1.02670099,  0.37040975],\n",
       "       [ 0.43157628,  0.69081968, -0.20311434,  0.23342578],\n",
       "       [-1.10560158, -0.15082714, -1.05586268, -0.637589  ],\n",
       "       [ 1.49217115, -0.94739087,  0.76786223,  2.63382329],\n",
       "       [-0.25989038,  0.07860126, -1.16136953, -0.40861889]])"
      ]
     },
     "execution_count": 12,
     "metadata": {},
     "output_type": "execute_result"
    }
   ],
   "source": [
    "df.to_numpy()"
   ]
  },
  {
   "cell_type": "code",
   "execution_count": 13,
   "metadata": {},
   "outputs": [
    {
     "data": {
      "text/plain": [
       "array([[1.0, Timestamp('2013-01-02 00:00:00'), 1.0, 3, 'test', 'foo'],\n",
       "       [1.0, Timestamp('2013-01-02 00:00:00'), 1.0, 3, 'train', 'foo'],\n",
       "       [1.0, Timestamp('2013-01-02 00:00:00'), 1.0, 3, 'test', 'foo'],\n",
       "       [1.0, Timestamp('2013-01-02 00:00:00'), 1.0, 3, 'train', 'foo']],\n",
       "      dtype=object)"
      ]
     },
     "execution_count": 13,
     "metadata": {},
     "output_type": "execute_result"
    }
   ],
   "source": [
    "df2.to_numpy()"
   ]
  },
  {
   "cell_type": "markdown",
   "metadata": {},
   "source": [
    "<mark>describe - 按照示例查看 df 的描述性统计"
   ]
  },
  {
   "cell_type": "code",
   "execution_count": 14,
   "metadata": {},
   "outputs": [
    {
     "data": {
      "text/html": [
       "<div>\n",
       "<style scoped>\n",
       "    .dataframe tbody tr th:only-of-type {\n",
       "        vertical-align: middle;\n",
       "    }\n",
       "\n",
       "    .dataframe tbody tr th {\n",
       "        vertical-align: top;\n",
       "    }\n",
       "\n",
       "    .dataframe thead th {\n",
       "        text-align: right;\n",
       "    }\n",
       "</style>\n",
       "<table border=\"1\" class=\"dataframe\">\n",
       "  <thead>\n",
       "    <tr style=\"text-align: right;\">\n",
       "      <th></th>\n",
       "      <th>A</th>\n",
       "      <th>B</th>\n",
       "      <th>C</th>\n",
       "      <th>D</th>\n",
       "    </tr>\n",
       "  </thead>\n",
       "  <tbody>\n",
       "    <tr>\n",
       "      <th>count</th>\n",
       "      <td>6.000000</td>\n",
       "      <td>6.000000</td>\n",
       "      <td>6.000000</td>\n",
       "      <td>6.000000</td>\n",
       "    </tr>\n",
       "    <tr>\n",
       "      <th>mean</th>\n",
       "      <td>0.217603</td>\n",
       "      <td>-0.056740</td>\n",
       "      <td>-0.184839</td>\n",
       "      <td>0.326243</td>\n",
       "    </tr>\n",
       "    <tr>\n",
       "      <th>std</th>\n",
       "      <td>1.258003</td>\n",
       "      <td>0.675742</td>\n",
       "      <td>0.914018</td>\n",
       "      <td>1.193177</td>\n",
       "    </tr>\n",
       "    <tr>\n",
       "      <th>min</th>\n",
       "      <td>-1.105602</td>\n",
       "      <td>-0.947391</td>\n",
       "      <td>-1.161370</td>\n",
       "      <td>-0.637589</td>\n",
       "    </tr>\n",
       "    <tr>\n",
       "      <th>25%</th>\n",
       "      <td>-0.873499</td>\n",
       "      <td>-0.544818</td>\n",
       "      <td>-0.912710</td>\n",
       "      <td>-0.364963</td>\n",
       "    </tr>\n",
       "    <tr>\n",
       "      <th>50%</th>\n",
       "      <td>0.085843</td>\n",
       "      <td>-0.036113</td>\n",
       "      <td>-0.343183</td>\n",
       "      <td>-0.000285</td>\n",
       "    </tr>\n",
       "    <tr>\n",
       "      <th>75%</th>\n",
       "      <td>1.227022</td>\n",
       "      <td>0.518031</td>\n",
       "      <td>0.525118</td>\n",
       "      <td>0.336164</td>\n",
       "    </tr>\n",
       "    <tr>\n",
       "      <th>max</th>\n",
       "      <td>1.825398</td>\n",
       "      <td>0.690820</td>\n",
       "      <td>1.026701</td>\n",
       "      <td>2.633823</td>\n",
       "    </tr>\n",
       "  </tbody>\n",
       "</table>\n",
       "</div>"
      ],
      "text/plain": [
       "              A         B         C         D\n",
       "count  6.000000  6.000000  6.000000  6.000000\n",
       "mean   0.217603 -0.056740 -0.184839  0.326243\n",
       "std    1.258003  0.675742  0.914018  1.193177\n",
       "min   -1.105602 -0.947391 -1.161370 -0.637589\n",
       "25%   -0.873499 -0.544818 -0.912710 -0.364963\n",
       "50%    0.085843 -0.036113 -0.343183 -0.000285\n",
       "75%    1.227022  0.518031  0.525118  0.336164\n",
       "max    1.825398  0.690820  1.026701  2.633823"
      ]
     },
     "execution_count": 14,
     "metadata": {},
     "output_type": "execute_result"
    }
   ],
   "source": [
    "df.describe()"
   ]
  },
  {
   "cell_type": "markdown",
   "metadata": {},
   "source": [
    "<mark>T - 按照示例查看 df 的转置"
   ]
  },
  {
   "cell_type": "code",
   "execution_count": 15,
   "metadata": {},
   "outputs": [
    {
     "data": {
      "text/html": [
       "<div>\n",
       "<style scoped>\n",
       "    .dataframe tbody tr th:only-of-type {\n",
       "        vertical-align: middle;\n",
       "    }\n",
       "\n",
       "    .dataframe tbody tr th {\n",
       "        vertical-align: top;\n",
       "    }\n",
       "\n",
       "    .dataframe thead th {\n",
       "        text-align: right;\n",
       "    }\n",
       "</style>\n",
       "<table border=\"1\" class=\"dataframe\">\n",
       "  <thead>\n",
       "    <tr style=\"text-align: right;\">\n",
       "      <th></th>\n",
       "      <th>2013-01-01</th>\n",
       "      <th>2013-01-02</th>\n",
       "      <th>2013-01-03</th>\n",
       "      <th>2013-01-04</th>\n",
       "      <th>2013-01-05</th>\n",
       "      <th>2013-01-06</th>\n",
       "    </tr>\n",
       "  </thead>\n",
       "  <tbody>\n",
       "    <tr>\n",
       "      <th>A</th>\n",
       "      <td>-1.078035</td>\n",
       "      <td>1.825398</td>\n",
       "      <td>0.431576</td>\n",
       "      <td>-1.105602</td>\n",
       "      <td>1.492171</td>\n",
       "      <td>-0.259890</td>\n",
       "    </tr>\n",
       "    <tr>\n",
       "      <th>B</th>\n",
       "      <td>0.664507</td>\n",
       "      <td>-0.676149</td>\n",
       "      <td>0.690820</td>\n",
       "      <td>-0.150827</td>\n",
       "      <td>-0.947391</td>\n",
       "      <td>0.078601</td>\n",
       "    </tr>\n",
       "    <tr>\n",
       "      <th>C</th>\n",
       "      <td>-0.483251</td>\n",
       "      <td>1.026701</td>\n",
       "      <td>-0.203114</td>\n",
       "      <td>-1.055863</td>\n",
       "      <td>0.767862</td>\n",
       "      <td>-1.161370</td>\n",
       "    </tr>\n",
       "    <tr>\n",
       "      <th>D</th>\n",
       "      <td>-0.233995</td>\n",
       "      <td>0.370410</td>\n",
       "      <td>0.233426</td>\n",
       "      <td>-0.637589</td>\n",
       "      <td>2.633823</td>\n",
       "      <td>-0.408619</td>\n",
       "    </tr>\n",
       "  </tbody>\n",
       "</table>\n",
       "</div>"
      ],
      "text/plain": [
       "   2013-01-01  2013-01-02  2013-01-03  2013-01-04  2013-01-05  2013-01-06\n",
       "A   -1.078035    1.825398    0.431576   -1.105602    1.492171   -0.259890\n",
       "B    0.664507   -0.676149    0.690820   -0.150827   -0.947391    0.078601\n",
       "C   -0.483251    1.026701   -0.203114   -1.055863    0.767862   -1.161370\n",
       "D   -0.233995    0.370410    0.233426   -0.637589    2.633823   -0.408619"
      ]
     },
     "execution_count": 15,
     "metadata": {},
     "output_type": "execute_result"
    }
   ],
   "source": [
    "df.T"
   ]
  },
  {
   "cell_type": "markdown",
   "metadata": {},
   "source": [
    "<mark>sort_index - 仿照示例将 df 按照 index （日期）从近到远排列。"
   ]
  },
  {
   "cell_type": "code",
   "execution_count": 16,
   "metadata": {},
   "outputs": [
    {
     "data": {
      "text/html": [
       "<div>\n",
       "<style scoped>\n",
       "    .dataframe tbody tr th:only-of-type {\n",
       "        vertical-align: middle;\n",
       "    }\n",
       "\n",
       "    .dataframe tbody tr th {\n",
       "        vertical-align: top;\n",
       "    }\n",
       "\n",
       "    .dataframe thead th {\n",
       "        text-align: right;\n",
       "    }\n",
       "</style>\n",
       "<table border=\"1\" class=\"dataframe\">\n",
       "  <thead>\n",
       "    <tr style=\"text-align: right;\">\n",
       "      <th></th>\n",
       "      <th>A</th>\n",
       "      <th>B</th>\n",
       "      <th>C</th>\n",
       "      <th>D</th>\n",
       "    </tr>\n",
       "  </thead>\n",
       "  <tbody>\n",
       "    <tr>\n",
       "      <th>2013-01-01</th>\n",
       "      <td>-1.078035</td>\n",
       "      <td>0.664507</td>\n",
       "      <td>-0.483251</td>\n",
       "      <td>-0.233995</td>\n",
       "    </tr>\n",
       "    <tr>\n",
       "      <th>2013-01-02</th>\n",
       "      <td>1.825398</td>\n",
       "      <td>-0.676149</td>\n",
       "      <td>1.026701</td>\n",
       "      <td>0.370410</td>\n",
       "    </tr>\n",
       "    <tr>\n",
       "      <th>2013-01-03</th>\n",
       "      <td>0.431576</td>\n",
       "      <td>0.690820</td>\n",
       "      <td>-0.203114</td>\n",
       "      <td>0.233426</td>\n",
       "    </tr>\n",
       "    <tr>\n",
       "      <th>2013-01-04</th>\n",
       "      <td>-1.105602</td>\n",
       "      <td>-0.150827</td>\n",
       "      <td>-1.055863</td>\n",
       "      <td>-0.637589</td>\n",
       "    </tr>\n",
       "    <tr>\n",
       "      <th>2013-01-05</th>\n",
       "      <td>1.492171</td>\n",
       "      <td>-0.947391</td>\n",
       "      <td>0.767862</td>\n",
       "      <td>2.633823</td>\n",
       "    </tr>\n",
       "    <tr>\n",
       "      <th>2013-01-06</th>\n",
       "      <td>-0.259890</td>\n",
       "      <td>0.078601</td>\n",
       "      <td>-1.161370</td>\n",
       "      <td>-0.408619</td>\n",
       "    </tr>\n",
       "  </tbody>\n",
       "</table>\n",
       "</div>"
      ],
      "text/plain": [
       "                   A         B         C         D\n",
       "2013-01-01 -1.078035  0.664507 -0.483251 -0.233995\n",
       "2013-01-02  1.825398 -0.676149  1.026701  0.370410\n",
       "2013-01-03  0.431576  0.690820 -0.203114  0.233426\n",
       "2013-01-04 -1.105602 -0.150827 -1.055863 -0.637589\n",
       "2013-01-05  1.492171 -0.947391  0.767862  2.633823\n",
       "2013-01-06 -0.259890  0.078601 -1.161370 -0.408619"
      ]
     },
     "execution_count": 16,
     "metadata": {},
     "output_type": "execute_result"
    }
   ],
   "source": [
    "df.sort_index()"
   ]
  },
  {
   "cell_type": "code",
   "execution_count": 17,
   "metadata": {},
   "outputs": [
    {
     "data": {
      "text/html": [
       "<div>\n",
       "<style scoped>\n",
       "    .dataframe tbody tr th:only-of-type {\n",
       "        vertical-align: middle;\n",
       "    }\n",
       "\n",
       "    .dataframe tbody tr th {\n",
       "        vertical-align: top;\n",
       "    }\n",
       "\n",
       "    .dataframe thead th {\n",
       "        text-align: right;\n",
       "    }\n",
       "</style>\n",
       "<table border=\"1\" class=\"dataframe\">\n",
       "  <thead>\n",
       "    <tr style=\"text-align: right;\">\n",
       "      <th></th>\n",
       "      <th>D</th>\n",
       "      <th>C</th>\n",
       "      <th>B</th>\n",
       "      <th>A</th>\n",
       "    </tr>\n",
       "  </thead>\n",
       "  <tbody>\n",
       "    <tr>\n",
       "      <th>2013-01-01</th>\n",
       "      <td>-0.233995</td>\n",
       "      <td>-0.483251</td>\n",
       "      <td>0.664507</td>\n",
       "      <td>-1.078035</td>\n",
       "    </tr>\n",
       "    <tr>\n",
       "      <th>2013-01-02</th>\n",
       "      <td>0.370410</td>\n",
       "      <td>1.026701</td>\n",
       "      <td>-0.676149</td>\n",
       "      <td>1.825398</td>\n",
       "    </tr>\n",
       "    <tr>\n",
       "      <th>2013-01-03</th>\n",
       "      <td>0.233426</td>\n",
       "      <td>-0.203114</td>\n",
       "      <td>0.690820</td>\n",
       "      <td>0.431576</td>\n",
       "    </tr>\n",
       "    <tr>\n",
       "      <th>2013-01-04</th>\n",
       "      <td>-0.637589</td>\n",
       "      <td>-1.055863</td>\n",
       "      <td>-0.150827</td>\n",
       "      <td>-1.105602</td>\n",
       "    </tr>\n",
       "    <tr>\n",
       "      <th>2013-01-05</th>\n",
       "      <td>2.633823</td>\n",
       "      <td>0.767862</td>\n",
       "      <td>-0.947391</td>\n",
       "      <td>1.492171</td>\n",
       "    </tr>\n",
       "    <tr>\n",
       "      <th>2013-01-06</th>\n",
       "      <td>-0.408619</td>\n",
       "      <td>-1.161370</td>\n",
       "      <td>0.078601</td>\n",
       "      <td>-0.259890</td>\n",
       "    </tr>\n",
       "  </tbody>\n",
       "</table>\n",
       "</div>"
      ],
      "text/plain": [
       "                   D         C         B         A\n",
       "2013-01-01 -0.233995 -0.483251  0.664507 -1.078035\n",
       "2013-01-02  0.370410  1.026701 -0.676149  1.825398\n",
       "2013-01-03  0.233426 -0.203114  0.690820  0.431576\n",
       "2013-01-04 -0.637589 -1.055863 -0.150827 -1.105602\n",
       "2013-01-05  2.633823  0.767862 -0.947391  1.492171\n",
       "2013-01-06 -0.408619 -1.161370  0.078601 -0.259890"
      ]
     },
     "execution_count": 17,
     "metadata": {},
     "output_type": "execute_result"
    }
   ],
   "source": [
    "df.sort_index(axis=1, ascending=False)#默认0按index排序，1为按column，默认ascending=True正序，返回新对象，原df不变"
   ]
  },
  {
   "cell_type": "markdown",
   "metadata": {},
   "source": [
    "<mark>sort_values - 仿照示例将 df 按照 A,B 两列从大到小排列。"
   ]
  },
  {
   "cell_type": "code",
   "execution_count": 18,
   "metadata": {
    "scrolled": true
   },
   "outputs": [
    {
     "data": {
      "text/html": [
       "<div>\n",
       "<style scoped>\n",
       "    .dataframe tbody tr th:only-of-type {\n",
       "        vertical-align: middle;\n",
       "    }\n",
       "\n",
       "    .dataframe tbody tr th {\n",
       "        vertical-align: top;\n",
       "    }\n",
       "\n",
       "    .dataframe thead th {\n",
       "        text-align: right;\n",
       "    }\n",
       "</style>\n",
       "<table border=\"1\" class=\"dataframe\">\n",
       "  <thead>\n",
       "    <tr style=\"text-align: right;\">\n",
       "      <th></th>\n",
       "      <th>A</th>\n",
       "      <th>B</th>\n",
       "      <th>C</th>\n",
       "      <th>D</th>\n",
       "    </tr>\n",
       "  </thead>\n",
       "  <tbody>\n",
       "    <tr>\n",
       "      <th>2013-01-02</th>\n",
       "      <td>1.825398</td>\n",
       "      <td>-0.676149</td>\n",
       "      <td>1.026701</td>\n",
       "      <td>0.370410</td>\n",
       "    </tr>\n",
       "    <tr>\n",
       "      <th>2013-01-05</th>\n",
       "      <td>1.492171</td>\n",
       "      <td>-0.947391</td>\n",
       "      <td>0.767862</td>\n",
       "      <td>2.633823</td>\n",
       "    </tr>\n",
       "    <tr>\n",
       "      <th>2013-01-03</th>\n",
       "      <td>0.431576</td>\n",
       "      <td>0.690820</td>\n",
       "      <td>-0.203114</td>\n",
       "      <td>0.233426</td>\n",
       "    </tr>\n",
       "    <tr>\n",
       "      <th>2013-01-06</th>\n",
       "      <td>-0.259890</td>\n",
       "      <td>0.078601</td>\n",
       "      <td>-1.161370</td>\n",
       "      <td>-0.408619</td>\n",
       "    </tr>\n",
       "    <tr>\n",
       "      <th>2013-01-01</th>\n",
       "      <td>-1.078035</td>\n",
       "      <td>0.664507</td>\n",
       "      <td>-0.483251</td>\n",
       "      <td>-0.233995</td>\n",
       "    </tr>\n",
       "    <tr>\n",
       "      <th>2013-01-04</th>\n",
       "      <td>-1.105602</td>\n",
       "      <td>-0.150827</td>\n",
       "      <td>-1.055863</td>\n",
       "      <td>-0.637589</td>\n",
       "    </tr>\n",
       "  </tbody>\n",
       "</table>\n",
       "</div>"
      ],
      "text/plain": [
       "                   A         B         C         D\n",
       "2013-01-02  1.825398 -0.676149  1.026701  0.370410\n",
       "2013-01-05  1.492171 -0.947391  0.767862  2.633823\n",
       "2013-01-03  0.431576  0.690820 -0.203114  0.233426\n",
       "2013-01-06 -0.259890  0.078601 -1.161370 -0.408619\n",
       "2013-01-01 -1.078035  0.664507 -0.483251 -0.233995\n",
       "2013-01-04 -1.105602 -0.150827 -1.055863 -0.637589"
      ]
     },
     "execution_count": 18,
     "metadata": {},
     "output_type": "execute_result"
    }
   ],
   "source": [
    "#sort_index的by参数已经禁用，改为sort_values\n",
    "#by接收str or list of str，不能为索引值\n",
    "#返回新对象，原df不变\n",
    "df.sort_values(by=['A','B'],ascending=False)"
   ]
  },
  {
   "cell_type": "markdown",
   "metadata": {},
   "source": [
    "<mark>[] - 仿照示例获取 df 的 B 列（提示：英文单引号和英文双引号效果相同，选择一种使用即可）"
   ]
  },
  {
   "cell_type": "code",
   "execution_count": 19,
   "metadata": {},
   "outputs": [
    {
     "data": {
      "text/plain": [
       "2013-01-01    0.664507\n",
       "2013-01-02   -0.676149\n",
       "2013-01-03    0.690820\n",
       "2013-01-04   -0.150827\n",
       "2013-01-05   -0.947391\n",
       "2013-01-06    0.078601\n",
       "Freq: D, Name: B, dtype: float64"
      ]
     },
     "execution_count": 19,
     "metadata": {},
     "output_type": "execute_result"
    }
   ],
   "source": [
    "df['B']#equivalent to df.A,[‘列名称’]，只能一个不可为list"
   ]
  },
  {
   "cell_type": "markdown",
   "metadata": {},
   "source": [
    "<mark>. - 仿照示例获取 df 的 C 列"
   ]
  },
  {
   "cell_type": "code",
   "execution_count": 20,
   "metadata": {},
   "outputs": [
    {
     "data": {
      "text/plain": [
       "2013-01-01   -0.483251\n",
       "2013-01-02    1.026701\n",
       "2013-01-03   -0.203114\n",
       "2013-01-04   -1.055863\n",
       "2013-01-05    0.767862\n",
       "2013-01-06   -1.161370\n",
       "Freq: D, Name: C, dtype: float64"
      ]
     },
     "execution_count": 20,
     "metadata": {},
     "output_type": "execute_result"
    }
   ],
   "source": [
    "df.C#效果同上，对于int类型的列名称，不能用df.列名称代替，只有字符串可以"
   ]
  },
  {
   "cell_type": "markdown",
   "metadata": {},
   "source": [
    "<mark>[index_rank : index_rank] - 仿照示例查看 df 的 0 至 4 行（不含），也就是数学区间的[0,4)行"
   ]
  },
  {
   "cell_type": "code",
   "execution_count": 21,
   "metadata": {},
   "outputs": [
    {
     "data": {
      "text/html": [
       "<div>\n",
       "<style scoped>\n",
       "    .dataframe tbody tr th:only-of-type {\n",
       "        vertical-align: middle;\n",
       "    }\n",
       "\n",
       "    .dataframe tbody tr th {\n",
       "        vertical-align: top;\n",
       "    }\n",
       "\n",
       "    .dataframe thead th {\n",
       "        text-align: right;\n",
       "    }\n",
       "</style>\n",
       "<table border=\"1\" class=\"dataframe\">\n",
       "  <thead>\n",
       "    <tr style=\"text-align: right;\">\n",
       "      <th></th>\n",
       "      <th>A</th>\n",
       "      <th>B</th>\n",
       "      <th>C</th>\n",
       "      <th>D</th>\n",
       "    </tr>\n",
       "  </thead>\n",
       "  <tbody>\n",
       "    <tr>\n",
       "      <th>2013-01-01</th>\n",
       "      <td>-1.078035</td>\n",
       "      <td>0.664507</td>\n",
       "      <td>-0.483251</td>\n",
       "      <td>-0.233995</td>\n",
       "    </tr>\n",
       "    <tr>\n",
       "      <th>2013-01-02</th>\n",
       "      <td>1.825398</td>\n",
       "      <td>-0.676149</td>\n",
       "      <td>1.026701</td>\n",
       "      <td>0.370410</td>\n",
       "    </tr>\n",
       "    <tr>\n",
       "      <th>2013-01-03</th>\n",
       "      <td>0.431576</td>\n",
       "      <td>0.690820</td>\n",
       "      <td>-0.203114</td>\n",
       "      <td>0.233426</td>\n",
       "    </tr>\n",
       "    <tr>\n",
       "      <th>2013-01-04</th>\n",
       "      <td>-1.105602</td>\n",
       "      <td>-0.150827</td>\n",
       "      <td>-1.055863</td>\n",
       "      <td>-0.637589</td>\n",
       "    </tr>\n",
       "  </tbody>\n",
       "</table>\n",
       "</div>"
      ],
      "text/plain": [
       "                   A         B         C         D\n",
       "2013-01-01 -1.078035  0.664507 -0.483251 -0.233995\n",
       "2013-01-02  1.825398 -0.676149  1.026701  0.370410\n",
       "2013-01-03  0.431576  0.690820 -0.203114  0.233426\n",
       "2013-01-04 -1.105602 -0.150827 -1.055863 -0.637589"
      ]
     },
     "execution_count": 21,
     "metadata": {},
     "output_type": "execute_result"
    }
   ],
   "source": [
    "df[0:4]#行切片，数字代表序号，从0开始，选取index_rank时为前闭后开区间"
   ]
  },
  {
   "cell_type": "markdown",
   "metadata": {},
   "source": [
    "<mark>[index_value : index_value] - 仿照示例查看 df 的 20130103 至 20130106（含），也就是数学区间的[20130103,20130106]行"
   ]
  },
  {
   "cell_type": "code",
   "execution_count": 22,
   "metadata": {},
   "outputs": [
    {
     "data": {
      "text/plain": [
       "DatetimeIndex(['2013-01-01', '2013-01-02', '2013-01-03', '2013-01-04',\n",
       "               '2013-01-05', '2013-01-06'],\n",
       "              dtype='datetime64[ns]', freq='D')"
      ]
     },
     "execution_count": 22,
     "metadata": {},
     "output_type": "execute_result"
    }
   ],
   "source": [
    "dates"
   ]
  },
  {
   "cell_type": "code",
   "execution_count": 23,
   "metadata": {},
   "outputs": [
    {
     "data": {
      "text/html": [
       "<div>\n",
       "<style scoped>\n",
       "    .dataframe tbody tr th:only-of-type {\n",
       "        vertical-align: middle;\n",
       "    }\n",
       "\n",
       "    .dataframe tbody tr th {\n",
       "        vertical-align: top;\n",
       "    }\n",
       "\n",
       "    .dataframe thead th {\n",
       "        text-align: right;\n",
       "    }\n",
       "</style>\n",
       "<table border=\"1\" class=\"dataframe\">\n",
       "  <thead>\n",
       "    <tr style=\"text-align: right;\">\n",
       "      <th></th>\n",
       "      <th>A</th>\n",
       "      <th>B</th>\n",
       "      <th>C</th>\n",
       "      <th>D</th>\n",
       "    </tr>\n",
       "  </thead>\n",
       "  <tbody>\n",
       "    <tr>\n",
       "      <th>2013-01-03</th>\n",
       "      <td>0.431576</td>\n",
       "      <td>0.690820</td>\n",
       "      <td>-0.203114</td>\n",
       "      <td>0.233426</td>\n",
       "    </tr>\n",
       "    <tr>\n",
       "      <th>2013-01-04</th>\n",
       "      <td>-1.105602</td>\n",
       "      <td>-0.150827</td>\n",
       "      <td>-1.055863</td>\n",
       "      <td>-0.637589</td>\n",
       "    </tr>\n",
       "    <tr>\n",
       "      <th>2013-01-05</th>\n",
       "      <td>1.492171</td>\n",
       "      <td>-0.947391</td>\n",
       "      <td>0.767862</td>\n",
       "      <td>2.633823</td>\n",
       "    </tr>\n",
       "    <tr>\n",
       "      <th>2013-01-06</th>\n",
       "      <td>-0.259890</td>\n",
       "      <td>0.078601</td>\n",
       "      <td>-1.161370</td>\n",
       "      <td>-0.408619</td>\n",
       "    </tr>\n",
       "  </tbody>\n",
       "</table>\n",
       "</div>"
      ],
      "text/plain": [
       "                   A         B         C         D\n",
       "2013-01-03  0.431576  0.690820 -0.203114  0.233426\n",
       "2013-01-04 -1.105602 -0.150827 -1.055863 -0.637589\n",
       "2013-01-05  1.492171 -0.947391  0.767862  2.633823\n",
       "2013-01-06 -0.259890  0.078601 -1.161370 -0.408619"
      ]
     },
     "execution_count": 23,
     "metadata": {},
     "output_type": "execute_result"
    }
   ],
   "source": [
    "df[dates[2]:dates[5]]#行切片，选取index_value时为闭区间，如果index为int，不能采用此格式，会识别为序号"
   ]
  },
  {
   "cell_type": "code",
   "execution_count": 24,
   "metadata": {},
   "outputs": [
    {
     "data": {
      "text/html": [
       "<div>\n",
       "<style scoped>\n",
       "    .dataframe tbody tr th:only-of-type {\n",
       "        vertical-align: middle;\n",
       "    }\n",
       "\n",
       "    .dataframe tbody tr th {\n",
       "        vertical-align: top;\n",
       "    }\n",
       "\n",
       "    .dataframe thead th {\n",
       "        text-align: right;\n",
       "    }\n",
       "</style>\n",
       "<table border=\"1\" class=\"dataframe\">\n",
       "  <thead>\n",
       "    <tr style=\"text-align: right;\">\n",
       "      <th></th>\n",
       "      <th>A</th>\n",
       "      <th>B</th>\n",
       "      <th>C</th>\n",
       "      <th>D</th>\n",
       "    </tr>\n",
       "  </thead>\n",
       "  <tbody>\n",
       "    <tr>\n",
       "      <th>2013-01-03</th>\n",
       "      <td>0.431576</td>\n",
       "      <td>0.690820</td>\n",
       "      <td>-0.203114</td>\n",
       "      <td>0.233426</td>\n",
       "    </tr>\n",
       "    <tr>\n",
       "      <th>2013-01-05</th>\n",
       "      <td>1.492171</td>\n",
       "      <td>-0.947391</td>\n",
       "      <td>0.767862</td>\n",
       "      <td>2.633823</td>\n",
       "    </tr>\n",
       "  </tbody>\n",
       "</table>\n",
       "</div>"
      ],
      "text/plain": [
       "                   A         B         C         D\n",
       "2013-01-03  0.431576  0.690820 -0.203114  0.233426\n",
       "2013-01-05  1.492171 -0.947391  0.767862  2.633823"
      ]
     },
     "execution_count": 24,
     "metadata": {},
     "output_type": "execute_result"
    }
   ],
   "source": [
    "df['20130103':'20130106':2]"
   ]
  },
  {
   "cell_type": "markdown",
   "metadata": {},
   "source": [
    "<mark>loc - 仿照示例获取 df 的 3 行，即 dates[3] 。(提示：index 的 label 为 date）"
   ]
  },
  {
   "cell_type": "code",
   "execution_count": 25,
   "metadata": {},
   "outputs": [
    {
     "data": {
      "text/plain": [
       "A   -1.105602\n",
       "B   -0.150827\n",
       "C   -1.055863\n",
       "D   -0.637589\n",
       "Name: 2013-01-04 00:00:00, dtype: float64"
      ]
     },
     "execution_count": 25,
     "metadata": {},
     "output_type": "execute_result"
    }
   ],
   "source": [
    "df.loc[dates[3]]#loc（index切片,column切片）,只能用index和column，不能用序号，用序号是iloc"
   ]
  },
  {
   "cell_type": "markdown",
   "metadata": {},
   "source": [
    "<mark>loc - 仿照示例获取 df 的 A,C 列。"
   ]
  },
  {
   "cell_type": "code",
   "execution_count": 26,
   "metadata": {},
   "outputs": [
    {
     "data": {
      "text/html": [
       "<div>\n",
       "<style scoped>\n",
       "    .dataframe tbody tr th:only-of-type {\n",
       "        vertical-align: middle;\n",
       "    }\n",
       "\n",
       "    .dataframe tbody tr th {\n",
       "        vertical-align: top;\n",
       "    }\n",
       "\n",
       "    .dataframe thead th {\n",
       "        text-align: right;\n",
       "    }\n",
       "</style>\n",
       "<table border=\"1\" class=\"dataframe\">\n",
       "  <thead>\n",
       "    <tr style=\"text-align: right;\">\n",
       "      <th></th>\n",
       "      <th>A</th>\n",
       "      <th>C</th>\n",
       "    </tr>\n",
       "  </thead>\n",
       "  <tbody>\n",
       "    <tr>\n",
       "      <th>2013-01-01</th>\n",
       "      <td>-1.078035</td>\n",
       "      <td>-0.483251</td>\n",
       "    </tr>\n",
       "    <tr>\n",
       "      <th>2013-01-03</th>\n",
       "      <td>0.431576</td>\n",
       "      <td>-0.203114</td>\n",
       "    </tr>\n",
       "    <tr>\n",
       "      <th>2013-01-05</th>\n",
       "      <td>1.492171</td>\n",
       "      <td>0.767862</td>\n",
       "    </tr>\n",
       "  </tbody>\n",
       "</table>\n",
       "</div>"
      ],
      "text/plain": [
       "                   A         C\n",
       "2013-01-01 -1.078035 -0.483251\n",
       "2013-01-03  0.431576 -0.203114\n",
       "2013-01-05  1.492171  0.767862"
      ]
     },
     "execution_count": 26,
     "metadata": {},
     "output_type": "execute_result"
    }
   ],
   "source": [
    "df.loc[::2, ['A', 'C']]"
   ]
  },
  {
   "cell_type": "markdown",
   "metadata": {},
   "source": [
    "<mark>loc - 仿照示例获取 df 20130103 至 20130106 行的 A,C 列。"
   ]
  },
  {
   "cell_type": "code",
   "execution_count": 27,
   "metadata": {},
   "outputs": [
    {
     "data": {
      "text/html": [
       "<div>\n",
       "<style scoped>\n",
       "    .dataframe tbody tr th:only-of-type {\n",
       "        vertical-align: middle;\n",
       "    }\n",
       "\n",
       "    .dataframe tbody tr th {\n",
       "        vertical-align: top;\n",
       "    }\n",
       "\n",
       "    .dataframe thead th {\n",
       "        text-align: right;\n",
       "    }\n",
       "</style>\n",
       "<table border=\"1\" class=\"dataframe\">\n",
       "  <thead>\n",
       "    <tr style=\"text-align: right;\">\n",
       "      <th></th>\n",
       "      <th>A</th>\n",
       "      <th>C</th>\n",
       "    </tr>\n",
       "  </thead>\n",
       "  <tbody>\n",
       "    <tr>\n",
       "      <th>2013-01-03</th>\n",
       "      <td>0.431576</td>\n",
       "      <td>-0.203114</td>\n",
       "    </tr>\n",
       "    <tr>\n",
       "      <th>2013-01-04</th>\n",
       "      <td>-1.105602</td>\n",
       "      <td>-1.055863</td>\n",
       "    </tr>\n",
       "    <tr>\n",
       "      <th>2013-01-05</th>\n",
       "      <td>1.492171</td>\n",
       "      <td>0.767862</td>\n",
       "    </tr>\n",
       "    <tr>\n",
       "      <th>2013-01-06</th>\n",
       "      <td>-0.259890</td>\n",
       "      <td>-1.161370</td>\n",
       "    </tr>\n",
       "  </tbody>\n",
       "</table>\n",
       "</div>"
      ],
      "text/plain": [
       "                   A         C\n",
       "2013-01-03  0.431576 -0.203114\n",
       "2013-01-04 -1.105602 -1.055863\n",
       "2013-01-05  1.492171  0.767862\n",
       "2013-01-06 -0.259890 -1.161370"
      ]
     },
     "execution_count": 27,
     "metadata": {},
     "output_type": "execute_result"
    }
   ],
   "source": [
    "df.loc['20130103':'20130106', ['A', 'C']]"
   ]
  },
  {
   "cell_type": "markdown",
   "metadata": {},
   "source": [
    "<mark>用法总结<p>\n",
    "<mark>一般来说使用 loc 时，需要在方括号里填入行或列的 label，通俗地讲，就是行、列的名字。具体在本例中，就是 dates[3],20130103 (行的名字） 以及 A,C （列的名字）。<p>\n",
    "<mark>如果我们把 index label 简写为 indexl，下标 i,j=0,1,……,N−1，N 为行数，且 i<j<p>\n",
    "<mark>column label 简写为 columnl，下标 k,l=0,1,……,M−1，M 为列数，且 k<l<p>\n",
    "<mark>那么对于连续的切片：<p>\n",
    "<mark>df.loc[indexli:indexlj,columnlk:columnll]<p>\n",
    "<mark>对于离散的切片：<p>\n",
    "<mark>df.loc[[indexli,indexlj],[columnlk,columnll]]<p>\n",
    "<mark>对于行连续、列离散的切片(行离散、列连续同理）：<p>\n",
    "<mark>df.loc[indexli:indexlj,[columnlk,columnll]]\n",
    "    \n",
    "<mark><font color=red size=4 face=雅黑>loc为闭区间，iloc为左闭右开区间"
   ]
  },
  {
   "cell_type": "markdown",
   "metadata": {},
   "source": [
    "<mark>at - 仿照示例获取 df 的 3 行 C 列"
   ]
  },
  {
   "cell_type": "code",
   "execution_count": 28,
   "metadata": {},
   "outputs": [
    {
     "data": {
      "text/plain": [
       "-0.20311434029072153"
      ]
     },
     "execution_count": 28,
     "metadata": {},
     "output_type": "execute_result"
    }
   ],
   "source": [
    "df.loc[dates[2], 'C']"
   ]
  },
  {
   "cell_type": "code",
   "execution_count": 29,
   "metadata": {},
   "outputs": [
    {
     "data": {
      "text/plain": [
       "-0.20311434029072153"
      ]
     },
     "execution_count": 29,
     "metadata": {},
     "output_type": "execute_result"
    }
   ],
   "source": [
    "df.at[dates[2], 'C']#Similar to loc，据说速度快"
   ]
  },
  {
   "cell_type": "markdown",
   "metadata": {},
   "source": [
    "<mark>iloc - 仿照示例使用 iloc 获取 df 的 3 行"
   ]
  },
  {
   "cell_type": "code",
   "execution_count": 30,
   "metadata": {},
   "outputs": [
    {
     "data": {
      "text/html": [
       "<div>\n",
       "<style scoped>\n",
       "    .dataframe tbody tr th:only-of-type {\n",
       "        vertical-align: middle;\n",
       "    }\n",
       "\n",
       "    .dataframe tbody tr th {\n",
       "        vertical-align: top;\n",
       "    }\n",
       "\n",
       "    .dataframe thead th {\n",
       "        text-align: right;\n",
       "    }\n",
       "</style>\n",
       "<table border=\"1\" class=\"dataframe\">\n",
       "  <thead>\n",
       "    <tr style=\"text-align: right;\">\n",
       "      <th></th>\n",
       "      <th>A</th>\n",
       "      <th>B</th>\n",
       "      <th>C</th>\n",
       "      <th>D</th>\n",
       "    </tr>\n",
       "  </thead>\n",
       "  <tbody>\n",
       "    <tr>\n",
       "      <th>2013-01-01</th>\n",
       "      <td>-1.078035</td>\n",
       "      <td>0.664507</td>\n",
       "      <td>-0.483251</td>\n",
       "      <td>-0.233995</td>\n",
       "    </tr>\n",
       "    <tr>\n",
       "      <th>2013-01-02</th>\n",
       "      <td>1.825398</td>\n",
       "      <td>-0.676149</td>\n",
       "      <td>1.026701</td>\n",
       "      <td>0.370410</td>\n",
       "    </tr>\n",
       "    <tr>\n",
       "      <th>2013-01-03</th>\n",
       "      <td>0.431576</td>\n",
       "      <td>0.690820</td>\n",
       "      <td>-0.203114</td>\n",
       "      <td>0.233426</td>\n",
       "    </tr>\n",
       "  </tbody>\n",
       "</table>\n",
       "</div>"
      ],
      "text/plain": [
       "                   A         B         C         D\n",
       "2013-01-01 -1.078035  0.664507 -0.483251 -0.233995\n",
       "2013-01-02  1.825398 -0.676149  1.026701  0.370410\n",
       "2013-01-03  0.431576  0.690820 -0.203114  0.233426"
      ]
     },
     "execution_count": 30,
     "metadata": {},
     "output_type": "execute_result"
    }
   ],
   "source": [
    "df.iloc[0:3]#loc（index切片,column切片）,只能用序号，左闭右开区间"
   ]
  },
  {
   "cell_type": "code",
   "execution_count": 31,
   "metadata": {},
   "outputs": [
    {
     "data": {
      "text/html": [
       "<div>\n",
       "<style scoped>\n",
       "    .dataframe tbody tr th:only-of-type {\n",
       "        vertical-align: middle;\n",
       "    }\n",
       "\n",
       "    .dataframe tbody tr th {\n",
       "        vertical-align: top;\n",
       "    }\n",
       "\n",
       "    .dataframe thead th {\n",
       "        text-align: right;\n",
       "    }\n",
       "</style>\n",
       "<table border=\"1\" class=\"dataframe\">\n",
       "  <thead>\n",
       "    <tr style=\"text-align: right;\">\n",
       "      <th></th>\n",
       "      <th>A</th>\n",
       "      <th>B</th>\n",
       "    </tr>\n",
       "  </thead>\n",
       "  <tbody>\n",
       "    <tr>\n",
       "      <th>2013-01-04</th>\n",
       "      <td>-1.105602</td>\n",
       "      <td>-0.150827</td>\n",
       "    </tr>\n",
       "    <tr>\n",
       "      <th>2013-01-05</th>\n",
       "      <td>1.492171</td>\n",
       "      <td>-0.947391</td>\n",
       "    </tr>\n",
       "  </tbody>\n",
       "</table>\n",
       "</div>"
      ],
      "text/plain": [
       "                   A         B\n",
       "2013-01-04 -1.105602 -0.150827\n",
       "2013-01-05  1.492171 -0.947391"
      ]
     },
     "execution_count": 31,
     "metadata": {},
     "output_type": "execute_result"
    }
   ],
   "source": [
    "df.iloc[3:5, 0:2]"
   ]
  },
  {
   "cell_type": "code",
   "execution_count": 32,
   "metadata": {},
   "outputs": [
    {
     "data": {
      "text/html": [
       "<div>\n",
       "<style scoped>\n",
       "    .dataframe tbody tr th:only-of-type {\n",
       "        vertical-align: middle;\n",
       "    }\n",
       "\n",
       "    .dataframe tbody tr th {\n",
       "        vertical-align: top;\n",
       "    }\n",
       "\n",
       "    .dataframe thead th {\n",
       "        text-align: right;\n",
       "    }\n",
       "</style>\n",
       "<table border=\"1\" class=\"dataframe\">\n",
       "  <thead>\n",
       "    <tr style=\"text-align: right;\">\n",
       "      <th></th>\n",
       "      <th>A</th>\n",
       "      <th>C</th>\n",
       "    </tr>\n",
       "  </thead>\n",
       "  <tbody>\n",
       "    <tr>\n",
       "      <th>2013-01-02</th>\n",
       "      <td>1.825398</td>\n",
       "      <td>1.026701</td>\n",
       "    </tr>\n",
       "    <tr>\n",
       "      <th>2013-01-03</th>\n",
       "      <td>0.431576</td>\n",
       "      <td>-0.203114</td>\n",
       "    </tr>\n",
       "    <tr>\n",
       "      <th>2013-01-05</th>\n",
       "      <td>1.492171</td>\n",
       "      <td>0.767862</td>\n",
       "    </tr>\n",
       "  </tbody>\n",
       "</table>\n",
       "</div>"
      ],
      "text/plain": [
       "                   A         C\n",
       "2013-01-02  1.825398  1.026701\n",
       "2013-01-03  0.431576 -0.203114\n",
       "2013-01-05  1.492171  0.767862"
      ]
     },
     "execution_count": 32,
     "metadata": {},
     "output_type": "execute_result"
    }
   ],
   "source": [
    "df.iloc[[1, 2, 4], [0, 2]]"
   ]
  },
  {
   "cell_type": "code",
   "execution_count": 33,
   "metadata": {},
   "outputs": [
    {
     "data": {
      "text/plain": [
       "-0.6761487246090627"
      ]
     },
     "execution_count": 33,
     "metadata": {},
     "output_type": "execute_result"
    }
   ],
   "source": [
    "df.iloc[1, 1]"
   ]
  },
  {
   "cell_type": "code",
   "execution_count": 34,
   "metadata": {},
   "outputs": [
    {
     "data": {
      "text/plain": [
       "-0.6761487246090627"
      ]
     },
     "execution_count": 34,
     "metadata": {},
     "output_type": "execute_result"
    }
   ],
   "source": [
    "df.iat[1, 1]#equivalent to the prior method"
   ]
  },
  {
   "cell_type": "markdown",
   "metadata": {},
   "source": [
    "<mark>创建一个10行8列的随机数矩阵命名为 df3，其中列名为 ABCDEFGH"
   ]
  },
  {
   "cell_type": "code",
   "execution_count": 35,
   "metadata": {},
   "outputs": [
    {
     "data": {
      "text/html": [
       "<div>\n",
       "<style scoped>\n",
       "    .dataframe tbody tr th:only-of-type {\n",
       "        vertical-align: middle;\n",
       "    }\n",
       "\n",
       "    .dataframe tbody tr th {\n",
       "        vertical-align: top;\n",
       "    }\n",
       "\n",
       "    .dataframe thead th {\n",
       "        text-align: right;\n",
       "    }\n",
       "</style>\n",
       "<table border=\"1\" class=\"dataframe\">\n",
       "  <thead>\n",
       "    <tr style=\"text-align: right;\">\n",
       "      <th></th>\n",
       "      <th>A</th>\n",
       "      <th>B</th>\n",
       "      <th>C</th>\n",
       "      <th>D</th>\n",
       "      <th>E</th>\n",
       "      <th>F</th>\n",
       "      <th>G</th>\n",
       "      <th>H</th>\n",
       "    </tr>\n",
       "  </thead>\n",
       "  <tbody>\n",
       "    <tr>\n",
       "      <th>0</th>\n",
       "      <td>0.712962</td>\n",
       "      <td>0.728432</td>\n",
       "      <td>-0.590125</td>\n",
       "      <td>-0.093031</td>\n",
       "      <td>-0.917682</td>\n",
       "      <td>-0.500919</td>\n",
       "      <td>-0.116574</td>\n",
       "      <td>0.388894</td>\n",
       "    </tr>\n",
       "    <tr>\n",
       "      <th>1</th>\n",
       "      <td>-0.779034</td>\n",
       "      <td>0.152999</td>\n",
       "      <td>-0.222855</td>\n",
       "      <td>1.087092</td>\n",
       "      <td>-2.326493</td>\n",
       "      <td>0.952445</td>\n",
       "      <td>-1.138827</td>\n",
       "      <td>-0.745230</td>\n",
       "    </tr>\n",
       "    <tr>\n",
       "      <th>2</th>\n",
       "      <td>0.546075</td>\n",
       "      <td>0.017931</td>\n",
       "      <td>0.568044</td>\n",
       "      <td>0.682892</td>\n",
       "      <td>-0.409111</td>\n",
       "      <td>1.247741</td>\n",
       "      <td>-0.264636</td>\n",
       "      <td>-0.824967</td>\n",
       "    </tr>\n",
       "    <tr>\n",
       "      <th>3</th>\n",
       "      <td>0.580442</td>\n",
       "      <td>-0.718095</td>\n",
       "      <td>-0.115539</td>\n",
       "      <td>-0.729941</td>\n",
       "      <td>0.353551</td>\n",
       "      <td>0.240826</td>\n",
       "      <td>-0.504468</td>\n",
       "      <td>-0.076584</td>\n",
       "    </tr>\n",
       "    <tr>\n",
       "      <th>4</th>\n",
       "      <td>0.426213</td>\n",
       "      <td>0.972151</td>\n",
       "      <td>0.267802</td>\n",
       "      <td>-0.935968</td>\n",
       "      <td>-0.497786</td>\n",
       "      <td>-1.347166</td>\n",
       "      <td>-0.814797</td>\n",
       "      <td>0.653700</td>\n",
       "    </tr>\n",
       "    <tr>\n",
       "      <th>5</th>\n",
       "      <td>0.887645</td>\n",
       "      <td>-0.022290</td>\n",
       "      <td>0.432730</td>\n",
       "      <td>-1.007823</td>\n",
       "      <td>-0.765956</td>\n",
       "      <td>-1.078591</td>\n",
       "      <td>0.391777</td>\n",
       "      <td>1.165134</td>\n",
       "    </tr>\n",
       "    <tr>\n",
       "      <th>6</th>\n",
       "      <td>0.064518</td>\n",
       "      <td>0.099956</td>\n",
       "      <td>-0.536865</td>\n",
       "      <td>0.190905</td>\n",
       "      <td>-0.198003</td>\n",
       "      <td>0.608922</td>\n",
       "      <td>0.448362</td>\n",
       "      <td>-0.016563</td>\n",
       "    </tr>\n",
       "    <tr>\n",
       "      <th>7</th>\n",
       "      <td>-0.775208</td>\n",
       "      <td>-0.626188</td>\n",
       "      <td>-0.017017</td>\n",
       "      <td>-0.517651</td>\n",
       "      <td>1.254164</td>\n",
       "      <td>1.165479</td>\n",
       "      <td>-0.670216</td>\n",
       "      <td>0.072592</td>\n",
       "    </tr>\n",
       "    <tr>\n",
       "      <th>8</th>\n",
       "      <td>-0.336761</td>\n",
       "      <td>0.437294</td>\n",
       "      <td>0.993767</td>\n",
       "      <td>-1.310215</td>\n",
       "      <td>-0.354914</td>\n",
       "      <td>0.613335</td>\n",
       "      <td>-0.972463</td>\n",
       "      <td>0.106919</td>\n",
       "    </tr>\n",
       "    <tr>\n",
       "      <th>9</th>\n",
       "      <td>-0.756114</td>\n",
       "      <td>-0.066526</td>\n",
       "      <td>-0.353885</td>\n",
       "      <td>1.373431</td>\n",
       "      <td>0.951132</td>\n",
       "      <td>0.420560</td>\n",
       "      <td>0.217300</td>\n",
       "      <td>1.171311</td>\n",
       "    </tr>\n",
       "  </tbody>\n",
       "</table>\n",
       "</div>"
      ],
      "text/plain": [
       "          A         B         C         D         E         F         G  \\\n",
       "0  0.712962  0.728432 -0.590125 -0.093031 -0.917682 -0.500919 -0.116574   \n",
       "1 -0.779034  0.152999 -0.222855  1.087092 -2.326493  0.952445 -1.138827   \n",
       "2  0.546075  0.017931  0.568044  0.682892 -0.409111  1.247741 -0.264636   \n",
       "3  0.580442 -0.718095 -0.115539 -0.729941  0.353551  0.240826 -0.504468   \n",
       "4  0.426213  0.972151  0.267802 -0.935968 -0.497786 -1.347166 -0.814797   \n",
       "5  0.887645 -0.022290  0.432730 -1.007823 -0.765956 -1.078591  0.391777   \n",
       "6  0.064518  0.099956 -0.536865  0.190905 -0.198003  0.608922  0.448362   \n",
       "7 -0.775208 -0.626188 -0.017017 -0.517651  1.254164  1.165479 -0.670216   \n",
       "8 -0.336761  0.437294  0.993767 -1.310215 -0.354914  0.613335 -0.972463   \n",
       "9 -0.756114 -0.066526 -0.353885  1.373431  0.951132  0.420560  0.217300   \n",
       "\n",
       "          H  \n",
       "0  0.388894  \n",
       "1 -0.745230  \n",
       "2 -0.824967  \n",
       "3 -0.076584  \n",
       "4  0.653700  \n",
       "5  1.165134  \n",
       "6 -0.016563  \n",
       "7  0.072592  \n",
       "8  0.106919  \n",
       "9  1.171311  "
      ]
     },
     "execution_count": 35,
     "metadata": {},
     "output_type": "execute_result"
    }
   ],
   "source": [
    "df3=pd.DataFrame(np.random.randn(10, 8),columns=list('ABCDEFGH'))\n",
    "df3"
   ]
  },
  {
   "cell_type": "markdown",
   "metadata": {},
   "source": [
    "<mark>打印 df3 的前 5 行"
   ]
  },
  {
   "cell_type": "code",
   "execution_count": 36,
   "metadata": {},
   "outputs": [
    {
     "data": {
      "text/html": [
       "<div>\n",
       "<style scoped>\n",
       "    .dataframe tbody tr th:only-of-type {\n",
       "        vertical-align: middle;\n",
       "    }\n",
       "\n",
       "    .dataframe tbody tr th {\n",
       "        vertical-align: top;\n",
       "    }\n",
       "\n",
       "    .dataframe thead th {\n",
       "        text-align: right;\n",
       "    }\n",
       "</style>\n",
       "<table border=\"1\" class=\"dataframe\">\n",
       "  <thead>\n",
       "    <tr style=\"text-align: right;\">\n",
       "      <th></th>\n",
       "      <th>A</th>\n",
       "      <th>B</th>\n",
       "      <th>C</th>\n",
       "      <th>D</th>\n",
       "      <th>E</th>\n",
       "      <th>F</th>\n",
       "      <th>G</th>\n",
       "      <th>H</th>\n",
       "    </tr>\n",
       "  </thead>\n",
       "  <tbody>\n",
       "    <tr>\n",
       "      <th>0</th>\n",
       "      <td>0.712962</td>\n",
       "      <td>0.728432</td>\n",
       "      <td>-0.590125</td>\n",
       "      <td>-0.093031</td>\n",
       "      <td>-0.917682</td>\n",
       "      <td>-0.500919</td>\n",
       "      <td>-0.116574</td>\n",
       "      <td>0.388894</td>\n",
       "    </tr>\n",
       "    <tr>\n",
       "      <th>1</th>\n",
       "      <td>-0.779034</td>\n",
       "      <td>0.152999</td>\n",
       "      <td>-0.222855</td>\n",
       "      <td>1.087092</td>\n",
       "      <td>-2.326493</td>\n",
       "      <td>0.952445</td>\n",
       "      <td>-1.138827</td>\n",
       "      <td>-0.745230</td>\n",
       "    </tr>\n",
       "    <tr>\n",
       "      <th>2</th>\n",
       "      <td>0.546075</td>\n",
       "      <td>0.017931</td>\n",
       "      <td>0.568044</td>\n",
       "      <td>0.682892</td>\n",
       "      <td>-0.409111</td>\n",
       "      <td>1.247741</td>\n",
       "      <td>-0.264636</td>\n",
       "      <td>-0.824967</td>\n",
       "    </tr>\n",
       "    <tr>\n",
       "      <th>3</th>\n",
       "      <td>0.580442</td>\n",
       "      <td>-0.718095</td>\n",
       "      <td>-0.115539</td>\n",
       "      <td>-0.729941</td>\n",
       "      <td>0.353551</td>\n",
       "      <td>0.240826</td>\n",
       "      <td>-0.504468</td>\n",
       "      <td>-0.076584</td>\n",
       "    </tr>\n",
       "    <tr>\n",
       "      <th>4</th>\n",
       "      <td>0.426213</td>\n",
       "      <td>0.972151</td>\n",
       "      <td>0.267802</td>\n",
       "      <td>-0.935968</td>\n",
       "      <td>-0.497786</td>\n",
       "      <td>-1.347166</td>\n",
       "      <td>-0.814797</td>\n",
       "      <td>0.653700</td>\n",
       "    </tr>\n",
       "  </tbody>\n",
       "</table>\n",
       "</div>"
      ],
      "text/plain": [
       "          A         B         C         D         E         F         G  \\\n",
       "0  0.712962  0.728432 -0.590125 -0.093031 -0.917682 -0.500919 -0.116574   \n",
       "1 -0.779034  0.152999 -0.222855  1.087092 -2.326493  0.952445 -1.138827   \n",
       "2  0.546075  0.017931  0.568044  0.682892 -0.409111  1.247741 -0.264636   \n",
       "3  0.580442 -0.718095 -0.115539 -0.729941  0.353551  0.240826 -0.504468   \n",
       "4  0.426213  0.972151  0.267802 -0.935968 -0.497786 -1.347166 -0.814797   \n",
       "\n",
       "          H  \n",
       "0  0.388894  \n",
       "1 -0.745230  \n",
       "2 -0.824967  \n",
       "3 -0.076584  \n",
       "4  0.653700  "
      ]
     },
     "execution_count": 36,
     "metadata": {},
     "output_type": "execute_result"
    }
   ],
   "source": [
    "df3.head()"
   ]
  },
  {
   "cell_type": "markdown",
   "metadata": {},
   "source": [
    "<mark>查看 df3 的描述性统计"
   ]
  },
  {
   "cell_type": "code",
   "execution_count": 37,
   "metadata": {},
   "outputs": [
    {
     "data": {
      "text/html": [
       "<div>\n",
       "<style scoped>\n",
       "    .dataframe tbody tr th:only-of-type {\n",
       "        vertical-align: middle;\n",
       "    }\n",
       "\n",
       "    .dataframe tbody tr th {\n",
       "        vertical-align: top;\n",
       "    }\n",
       "\n",
       "    .dataframe thead th {\n",
       "        text-align: right;\n",
       "    }\n",
       "</style>\n",
       "<table border=\"1\" class=\"dataframe\">\n",
       "  <thead>\n",
       "    <tr style=\"text-align: right;\">\n",
       "      <th></th>\n",
       "      <th>A</th>\n",
       "      <th>B</th>\n",
       "      <th>C</th>\n",
       "      <th>D</th>\n",
       "      <th>E</th>\n",
       "      <th>F</th>\n",
       "      <th>G</th>\n",
       "      <th>H</th>\n",
       "    </tr>\n",
       "  </thead>\n",
       "  <tbody>\n",
       "    <tr>\n",
       "      <th>count</th>\n",
       "      <td>10.000000</td>\n",
       "      <td>10.000000</td>\n",
       "      <td>10.000000</td>\n",
       "      <td>10.000000</td>\n",
       "      <td>10.000000</td>\n",
       "      <td>10.000000</td>\n",
       "      <td>10.000000</td>\n",
       "      <td>10.000000</td>\n",
       "    </tr>\n",
       "    <tr>\n",
       "      <th>mean</th>\n",
       "      <td>0.057074</td>\n",
       "      <td>0.097567</td>\n",
       "      <td>0.042606</td>\n",
       "      <td>-0.126031</td>\n",
       "      <td>-0.291110</td>\n",
       "      <td>0.232263</td>\n",
       "      <td>-0.342454</td>\n",
       "      <td>0.189521</td>\n",
       "    </tr>\n",
       "    <tr>\n",
       "      <th>std</th>\n",
       "      <td>0.664793</td>\n",
       "      <td>0.528955</td>\n",
       "      <td>0.513818</td>\n",
       "      <td>0.932730</td>\n",
       "      <td>1.009778</td>\n",
       "      <td>0.912497</td>\n",
       "      <td>0.569873</td>\n",
       "      <td>0.683753</td>\n",
       "    </tr>\n",
       "    <tr>\n",
       "      <th>min</th>\n",
       "      <td>-0.779034</td>\n",
       "      <td>-0.718095</td>\n",
       "      <td>-0.590125</td>\n",
       "      <td>-1.310215</td>\n",
       "      <td>-2.326493</td>\n",
       "      <td>-1.347166</td>\n",
       "      <td>-1.138827</td>\n",
       "      <td>-0.824967</td>\n",
       "    </tr>\n",
       "    <tr>\n",
       "      <th>25%</th>\n",
       "      <td>-0.651275</td>\n",
       "      <td>-0.055467</td>\n",
       "      <td>-0.321127</td>\n",
       "      <td>-0.884462</td>\n",
       "      <td>-0.698914</td>\n",
       "      <td>-0.315483</td>\n",
       "      <td>-0.778652</td>\n",
       "      <td>-0.061578</td>\n",
       "    </tr>\n",
       "    <tr>\n",
       "      <th>50%</th>\n",
       "      <td>0.245365</td>\n",
       "      <td>0.058944</td>\n",
       "      <td>-0.066278</td>\n",
       "      <td>-0.305341</td>\n",
       "      <td>-0.382012</td>\n",
       "      <td>0.514741</td>\n",
       "      <td>-0.384552</td>\n",
       "      <td>0.089756</td>\n",
       "    </tr>\n",
       "    <tr>\n",
       "      <th>75%</th>\n",
       "      <td>0.571850</td>\n",
       "      <td>0.366220</td>\n",
       "      <td>0.391498</td>\n",
       "      <td>0.559895</td>\n",
       "      <td>0.215663</td>\n",
       "      <td>0.867667</td>\n",
       "      <td>0.133831</td>\n",
       "      <td>0.587498</td>\n",
       "    </tr>\n",
       "    <tr>\n",
       "      <th>max</th>\n",
       "      <td>0.887645</td>\n",
       "      <td>0.972151</td>\n",
       "      <td>0.993767</td>\n",
       "      <td>1.373431</td>\n",
       "      <td>1.254164</td>\n",
       "      <td>1.247741</td>\n",
       "      <td>0.448362</td>\n",
       "      <td>1.171311</td>\n",
       "    </tr>\n",
       "  </tbody>\n",
       "</table>\n",
       "</div>"
      ],
      "text/plain": [
       "               A          B          C          D          E          F  \\\n",
       "count  10.000000  10.000000  10.000000  10.000000  10.000000  10.000000   \n",
       "mean    0.057074   0.097567   0.042606  -0.126031  -0.291110   0.232263   \n",
       "std     0.664793   0.528955   0.513818   0.932730   1.009778   0.912497   \n",
       "min    -0.779034  -0.718095  -0.590125  -1.310215  -2.326493  -1.347166   \n",
       "25%    -0.651275  -0.055467  -0.321127  -0.884462  -0.698914  -0.315483   \n",
       "50%     0.245365   0.058944  -0.066278  -0.305341  -0.382012   0.514741   \n",
       "75%     0.571850   0.366220   0.391498   0.559895   0.215663   0.867667   \n",
       "max     0.887645   0.972151   0.993767   1.373431   1.254164   1.247741   \n",
       "\n",
       "               G          H  \n",
       "count  10.000000  10.000000  \n",
       "mean   -0.342454   0.189521  \n",
       "std     0.569873   0.683753  \n",
       "min    -1.138827  -0.824967  \n",
       "25%    -0.778652  -0.061578  \n",
       "50%    -0.384552   0.089756  \n",
       "75%     0.133831   0.587498  \n",
       "max     0.448362   1.171311  "
      ]
     },
     "execution_count": 37,
     "metadata": {},
     "output_type": "execute_result"
    }
   ],
   "source": [
    "df3.describe()"
   ]
  },
  {
   "cell_type": "markdown",
   "metadata": {},
   "source": [
    "<mark>将 df3 按照 A 列数值从小到大排序（只展示前 5 行）"
   ]
  },
  {
   "cell_type": "code",
   "execution_count": 38,
   "metadata": {},
   "outputs": [
    {
     "data": {
      "text/html": [
       "<div>\n",
       "<style scoped>\n",
       "    .dataframe tbody tr th:only-of-type {\n",
       "        vertical-align: middle;\n",
       "    }\n",
       "\n",
       "    .dataframe tbody tr th {\n",
       "        vertical-align: top;\n",
       "    }\n",
       "\n",
       "    .dataframe thead th {\n",
       "        text-align: right;\n",
       "    }\n",
       "</style>\n",
       "<table border=\"1\" class=\"dataframe\">\n",
       "  <thead>\n",
       "    <tr style=\"text-align: right;\">\n",
       "      <th></th>\n",
       "      <th>A</th>\n",
       "      <th>B</th>\n",
       "      <th>C</th>\n",
       "      <th>D</th>\n",
       "      <th>E</th>\n",
       "      <th>F</th>\n",
       "      <th>G</th>\n",
       "      <th>H</th>\n",
       "    </tr>\n",
       "  </thead>\n",
       "  <tbody>\n",
       "    <tr>\n",
       "      <th>1</th>\n",
       "      <td>-0.779034</td>\n",
       "      <td>0.152999</td>\n",
       "      <td>-0.222855</td>\n",
       "      <td>1.087092</td>\n",
       "      <td>-2.326493</td>\n",
       "      <td>0.952445</td>\n",
       "      <td>-1.138827</td>\n",
       "      <td>-0.745230</td>\n",
       "    </tr>\n",
       "    <tr>\n",
       "      <th>7</th>\n",
       "      <td>-0.775208</td>\n",
       "      <td>-0.626188</td>\n",
       "      <td>-0.017017</td>\n",
       "      <td>-0.517651</td>\n",
       "      <td>1.254164</td>\n",
       "      <td>1.165479</td>\n",
       "      <td>-0.670216</td>\n",
       "      <td>0.072592</td>\n",
       "    </tr>\n",
       "    <tr>\n",
       "      <th>9</th>\n",
       "      <td>-0.756114</td>\n",
       "      <td>-0.066526</td>\n",
       "      <td>-0.353885</td>\n",
       "      <td>1.373431</td>\n",
       "      <td>0.951132</td>\n",
       "      <td>0.420560</td>\n",
       "      <td>0.217300</td>\n",
       "      <td>1.171311</td>\n",
       "    </tr>\n",
       "    <tr>\n",
       "      <th>8</th>\n",
       "      <td>-0.336761</td>\n",
       "      <td>0.437294</td>\n",
       "      <td>0.993767</td>\n",
       "      <td>-1.310215</td>\n",
       "      <td>-0.354914</td>\n",
       "      <td>0.613335</td>\n",
       "      <td>-0.972463</td>\n",
       "      <td>0.106919</td>\n",
       "    </tr>\n",
       "    <tr>\n",
       "      <th>6</th>\n",
       "      <td>0.064518</td>\n",
       "      <td>0.099956</td>\n",
       "      <td>-0.536865</td>\n",
       "      <td>0.190905</td>\n",
       "      <td>-0.198003</td>\n",
       "      <td>0.608922</td>\n",
       "      <td>0.448362</td>\n",
       "      <td>-0.016563</td>\n",
       "    </tr>\n",
       "  </tbody>\n",
       "</table>\n",
       "</div>"
      ],
      "text/plain": [
       "          A         B         C         D         E         F         G  \\\n",
       "1 -0.779034  0.152999 -0.222855  1.087092 -2.326493  0.952445 -1.138827   \n",
       "7 -0.775208 -0.626188 -0.017017 -0.517651  1.254164  1.165479 -0.670216   \n",
       "9 -0.756114 -0.066526 -0.353885  1.373431  0.951132  0.420560  0.217300   \n",
       "8 -0.336761  0.437294  0.993767 -1.310215 -0.354914  0.613335 -0.972463   \n",
       "6  0.064518  0.099956 -0.536865  0.190905 -0.198003  0.608922  0.448362   \n",
       "\n",
       "          H  \n",
       "1 -0.745230  \n",
       "7  0.072592  \n",
       "9  1.171311  \n",
       "8  0.106919  \n",
       "6 -0.016563  "
      ]
     },
     "execution_count": 38,
     "metadata": {},
     "output_type": "execute_result"
    }
   ],
   "source": [
    "df3.sort_values(by='A').head()"
   ]
  },
  {
   "cell_type": "markdown",
   "metadata": {},
   "source": [
    "<mark>打印 df3 的 C,H 列（只展示前 5 行）"
   ]
  },
  {
   "cell_type": "code",
   "execution_count": 39,
   "metadata": {},
   "outputs": [
    {
     "data": {
      "text/html": [
       "<div>\n",
       "<style scoped>\n",
       "    .dataframe tbody tr th:only-of-type {\n",
       "        vertical-align: middle;\n",
       "    }\n",
       "\n",
       "    .dataframe tbody tr th {\n",
       "        vertical-align: top;\n",
       "    }\n",
       "\n",
       "    .dataframe thead th {\n",
       "        text-align: right;\n",
       "    }\n",
       "</style>\n",
       "<table border=\"1\" class=\"dataframe\">\n",
       "  <thead>\n",
       "    <tr style=\"text-align: right;\">\n",
       "      <th></th>\n",
       "      <th>C</th>\n",
       "      <th>H</th>\n",
       "    </tr>\n",
       "  </thead>\n",
       "  <tbody>\n",
       "    <tr>\n",
       "      <th>0</th>\n",
       "      <td>-0.590125</td>\n",
       "      <td>0.388894</td>\n",
       "    </tr>\n",
       "    <tr>\n",
       "      <th>1</th>\n",
       "      <td>-0.222855</td>\n",
       "      <td>-0.745230</td>\n",
       "    </tr>\n",
       "    <tr>\n",
       "      <th>2</th>\n",
       "      <td>0.568044</td>\n",
       "      <td>-0.824967</td>\n",
       "    </tr>\n",
       "    <tr>\n",
       "      <th>3</th>\n",
       "      <td>-0.115539</td>\n",
       "      <td>-0.076584</td>\n",
       "    </tr>\n",
       "    <tr>\n",
       "      <th>4</th>\n",
       "      <td>0.267802</td>\n",
       "      <td>0.653700</td>\n",
       "    </tr>\n",
       "  </tbody>\n",
       "</table>\n",
       "</div>"
      ],
      "text/plain": [
       "          C         H\n",
       "0 -0.590125  0.388894\n",
       "1 -0.222855 -0.745230\n",
       "2  0.568044 -0.824967\n",
       "3 -0.115539 -0.076584\n",
       "4  0.267802  0.653700"
      ]
     },
     "execution_count": 39,
     "metadata": {},
     "output_type": "execute_result"
    }
   ],
   "source": [
    "df3.loc[0:4,['C','H']]"
   ]
  },
  {
   "cell_type": "code",
   "execution_count": 40,
   "metadata": {},
   "outputs": [
    {
     "data": {
      "text/html": [
       "<div>\n",
       "<style scoped>\n",
       "    .dataframe tbody tr th:only-of-type {\n",
       "        vertical-align: middle;\n",
       "    }\n",
       "\n",
       "    .dataframe tbody tr th {\n",
       "        vertical-align: top;\n",
       "    }\n",
       "\n",
       "    .dataframe thead th {\n",
       "        text-align: right;\n",
       "    }\n",
       "</style>\n",
       "<table border=\"1\" class=\"dataframe\">\n",
       "  <thead>\n",
       "    <tr style=\"text-align: right;\">\n",
       "      <th></th>\n",
       "      <th>C</th>\n",
       "      <th>H</th>\n",
       "    </tr>\n",
       "  </thead>\n",
       "  <tbody>\n",
       "    <tr>\n",
       "      <th>0</th>\n",
       "      <td>-0.590125</td>\n",
       "      <td>0.388894</td>\n",
       "    </tr>\n",
       "    <tr>\n",
       "      <th>1</th>\n",
       "      <td>-0.222855</td>\n",
       "      <td>-0.745230</td>\n",
       "    </tr>\n",
       "    <tr>\n",
       "      <th>2</th>\n",
       "      <td>0.568044</td>\n",
       "      <td>-0.824967</td>\n",
       "    </tr>\n",
       "    <tr>\n",
       "      <th>3</th>\n",
       "      <td>-0.115539</td>\n",
       "      <td>-0.076584</td>\n",
       "    </tr>\n",
       "    <tr>\n",
       "      <th>4</th>\n",
       "      <td>0.267802</td>\n",
       "      <td>0.653700</td>\n",
       "    </tr>\n",
       "  </tbody>\n",
       "</table>\n",
       "</div>"
      ],
      "text/plain": [
       "          C         H\n",
       "0 -0.590125  0.388894\n",
       "1 -0.222855 -0.745230\n",
       "2  0.568044 -0.824967\n",
       "3 -0.115539 -0.076584\n",
       "4  0.267802  0.653700"
      ]
     },
     "execution_count": 40,
     "metadata": {},
     "output_type": "execute_result"
    }
   ],
   "source": [
    "df3.iloc[0:5,[2,7]]"
   ]
  },
  {
   "cell_type": "markdown",
   "metadata": {},
   "source": [
    "<mark>打印 df3 的 C 至 H 列（只展示前 5 行）"
   ]
  },
  {
   "cell_type": "code",
   "execution_count": 41,
   "metadata": {},
   "outputs": [
    {
     "data": {
      "text/html": [
       "<div>\n",
       "<style scoped>\n",
       "    .dataframe tbody tr th:only-of-type {\n",
       "        vertical-align: middle;\n",
       "    }\n",
       "\n",
       "    .dataframe tbody tr th {\n",
       "        vertical-align: top;\n",
       "    }\n",
       "\n",
       "    .dataframe thead th {\n",
       "        text-align: right;\n",
       "    }\n",
       "</style>\n",
       "<table border=\"1\" class=\"dataframe\">\n",
       "  <thead>\n",
       "    <tr style=\"text-align: right;\">\n",
       "      <th></th>\n",
       "      <th>C</th>\n",
       "      <th>D</th>\n",
       "      <th>E</th>\n",
       "      <th>F</th>\n",
       "      <th>G</th>\n",
       "      <th>H</th>\n",
       "    </tr>\n",
       "  </thead>\n",
       "  <tbody>\n",
       "    <tr>\n",
       "      <th>0</th>\n",
       "      <td>-0.590125</td>\n",
       "      <td>-0.093031</td>\n",
       "      <td>-0.917682</td>\n",
       "      <td>-0.500919</td>\n",
       "      <td>-0.116574</td>\n",
       "      <td>0.388894</td>\n",
       "    </tr>\n",
       "    <tr>\n",
       "      <th>1</th>\n",
       "      <td>-0.222855</td>\n",
       "      <td>1.087092</td>\n",
       "      <td>-2.326493</td>\n",
       "      <td>0.952445</td>\n",
       "      <td>-1.138827</td>\n",
       "      <td>-0.745230</td>\n",
       "    </tr>\n",
       "    <tr>\n",
       "      <th>2</th>\n",
       "      <td>0.568044</td>\n",
       "      <td>0.682892</td>\n",
       "      <td>-0.409111</td>\n",
       "      <td>1.247741</td>\n",
       "      <td>-0.264636</td>\n",
       "      <td>-0.824967</td>\n",
       "    </tr>\n",
       "    <tr>\n",
       "      <th>3</th>\n",
       "      <td>-0.115539</td>\n",
       "      <td>-0.729941</td>\n",
       "      <td>0.353551</td>\n",
       "      <td>0.240826</td>\n",
       "      <td>-0.504468</td>\n",
       "      <td>-0.076584</td>\n",
       "    </tr>\n",
       "    <tr>\n",
       "      <th>4</th>\n",
       "      <td>0.267802</td>\n",
       "      <td>-0.935968</td>\n",
       "      <td>-0.497786</td>\n",
       "      <td>-1.347166</td>\n",
       "      <td>-0.814797</td>\n",
       "      <td>0.653700</td>\n",
       "    </tr>\n",
       "  </tbody>\n",
       "</table>\n",
       "</div>"
      ],
      "text/plain": [
       "          C         D         E         F         G         H\n",
       "0 -0.590125 -0.093031 -0.917682 -0.500919 -0.116574  0.388894\n",
       "1 -0.222855  1.087092 -2.326493  0.952445 -1.138827 -0.745230\n",
       "2  0.568044  0.682892 -0.409111  1.247741 -0.264636 -0.824967\n",
       "3 -0.115539 -0.729941  0.353551  0.240826 -0.504468 -0.076584\n",
       "4  0.267802 -0.935968 -0.497786 -1.347166 -0.814797  0.653700"
      ]
     },
     "execution_count": 41,
     "metadata": {},
     "output_type": "execute_result"
    }
   ],
   "source": [
    "df3.loc[0:4,'C':'H']"
   ]
  },
  {
   "cell_type": "code",
   "execution_count": 42,
   "metadata": {},
   "outputs": [
    {
     "data": {
      "text/html": [
       "<div>\n",
       "<style scoped>\n",
       "    .dataframe tbody tr th:only-of-type {\n",
       "        vertical-align: middle;\n",
       "    }\n",
       "\n",
       "    .dataframe tbody tr th {\n",
       "        vertical-align: top;\n",
       "    }\n",
       "\n",
       "    .dataframe thead th {\n",
       "        text-align: right;\n",
       "    }\n",
       "</style>\n",
       "<table border=\"1\" class=\"dataframe\">\n",
       "  <thead>\n",
       "    <tr style=\"text-align: right;\">\n",
       "      <th></th>\n",
       "      <th>C</th>\n",
       "      <th>D</th>\n",
       "      <th>E</th>\n",
       "      <th>F</th>\n",
       "      <th>G</th>\n",
       "      <th>H</th>\n",
       "    </tr>\n",
       "  </thead>\n",
       "  <tbody>\n",
       "    <tr>\n",
       "      <th>0</th>\n",
       "      <td>-0.590125</td>\n",
       "      <td>-0.093031</td>\n",
       "      <td>-0.917682</td>\n",
       "      <td>-0.500919</td>\n",
       "      <td>-0.116574</td>\n",
       "      <td>0.388894</td>\n",
       "    </tr>\n",
       "    <tr>\n",
       "      <th>1</th>\n",
       "      <td>-0.222855</td>\n",
       "      <td>1.087092</td>\n",
       "      <td>-2.326493</td>\n",
       "      <td>0.952445</td>\n",
       "      <td>-1.138827</td>\n",
       "      <td>-0.745230</td>\n",
       "    </tr>\n",
       "    <tr>\n",
       "      <th>2</th>\n",
       "      <td>0.568044</td>\n",
       "      <td>0.682892</td>\n",
       "      <td>-0.409111</td>\n",
       "      <td>1.247741</td>\n",
       "      <td>-0.264636</td>\n",
       "      <td>-0.824967</td>\n",
       "    </tr>\n",
       "    <tr>\n",
       "      <th>3</th>\n",
       "      <td>-0.115539</td>\n",
       "      <td>-0.729941</td>\n",
       "      <td>0.353551</td>\n",
       "      <td>0.240826</td>\n",
       "      <td>-0.504468</td>\n",
       "      <td>-0.076584</td>\n",
       "    </tr>\n",
       "    <tr>\n",
       "      <th>4</th>\n",
       "      <td>0.267802</td>\n",
       "      <td>-0.935968</td>\n",
       "      <td>-0.497786</td>\n",
       "      <td>-1.347166</td>\n",
       "      <td>-0.814797</td>\n",
       "      <td>0.653700</td>\n",
       "    </tr>\n",
       "  </tbody>\n",
       "</table>\n",
       "</div>"
      ],
      "text/plain": [
       "          C         D         E         F         G         H\n",
       "0 -0.590125 -0.093031 -0.917682 -0.500919 -0.116574  0.388894\n",
       "1 -0.222855  1.087092 -2.326493  0.952445 -1.138827 -0.745230\n",
       "2  0.568044  0.682892 -0.409111  1.247741 -0.264636 -0.824967\n",
       "3 -0.115539 -0.729941  0.353551  0.240826 -0.504468 -0.076584\n",
       "4  0.267802 -0.935968 -0.497786 -1.347166 -0.814797  0.653700"
      ]
     },
     "execution_count": 42,
     "metadata": {},
     "output_type": "execute_result"
    }
   ],
   "source": [
    "df3.iloc[0:5,2:]"
   ]
  },
  {
   "cell_type": "markdown",
   "metadata": {},
   "source": [
    "<mark>打印 df3 的 6,9 行"
   ]
  },
  {
   "cell_type": "code",
   "execution_count": 43,
   "metadata": {},
   "outputs": [
    {
     "data": {
      "text/html": [
       "<div>\n",
       "<style scoped>\n",
       "    .dataframe tbody tr th:only-of-type {\n",
       "        vertical-align: middle;\n",
       "    }\n",
       "\n",
       "    .dataframe tbody tr th {\n",
       "        vertical-align: top;\n",
       "    }\n",
       "\n",
       "    .dataframe thead th {\n",
       "        text-align: right;\n",
       "    }\n",
       "</style>\n",
       "<table border=\"1\" class=\"dataframe\">\n",
       "  <thead>\n",
       "    <tr style=\"text-align: right;\">\n",
       "      <th></th>\n",
       "      <th>A</th>\n",
       "      <th>B</th>\n",
       "      <th>C</th>\n",
       "      <th>D</th>\n",
       "      <th>E</th>\n",
       "      <th>F</th>\n",
       "      <th>G</th>\n",
       "      <th>H</th>\n",
       "    </tr>\n",
       "  </thead>\n",
       "  <tbody>\n",
       "    <tr>\n",
       "      <th>5</th>\n",
       "      <td>0.887645</td>\n",
       "      <td>-0.022290</td>\n",
       "      <td>0.432730</td>\n",
       "      <td>-1.007823</td>\n",
       "      <td>-0.765956</td>\n",
       "      <td>-1.078591</td>\n",
       "      <td>0.391777</td>\n",
       "      <td>1.165134</td>\n",
       "    </tr>\n",
       "    <tr>\n",
       "      <th>8</th>\n",
       "      <td>-0.336761</td>\n",
       "      <td>0.437294</td>\n",
       "      <td>0.993767</td>\n",
       "      <td>-1.310215</td>\n",
       "      <td>-0.354914</td>\n",
       "      <td>0.613335</td>\n",
       "      <td>-0.972463</td>\n",
       "      <td>0.106919</td>\n",
       "    </tr>\n",
       "  </tbody>\n",
       "</table>\n",
       "</div>"
      ],
      "text/plain": [
       "          A         B         C         D         E         F         G  \\\n",
       "5  0.887645 -0.022290  0.432730 -1.007823 -0.765956 -1.078591  0.391777   \n",
       "8 -0.336761  0.437294  0.993767 -1.310215 -0.354914  0.613335 -0.972463   \n",
       "\n",
       "          H  \n",
       "5  1.165134  \n",
       "8  0.106919  "
      ]
     },
     "execution_count": 43,
     "metadata": {},
     "output_type": "execute_result"
    }
   ],
   "source": [
    "df3.loc[[5,8]]"
   ]
  },
  {
   "cell_type": "code",
   "execution_count": 44,
   "metadata": {},
   "outputs": [
    {
     "data": {
      "text/html": [
       "<div>\n",
       "<style scoped>\n",
       "    .dataframe tbody tr th:only-of-type {\n",
       "        vertical-align: middle;\n",
       "    }\n",
       "\n",
       "    .dataframe tbody tr th {\n",
       "        vertical-align: top;\n",
       "    }\n",
       "\n",
       "    .dataframe thead th {\n",
       "        text-align: right;\n",
       "    }\n",
       "</style>\n",
       "<table border=\"1\" class=\"dataframe\">\n",
       "  <thead>\n",
       "    <tr style=\"text-align: right;\">\n",
       "      <th></th>\n",
       "      <th>A</th>\n",
       "      <th>B</th>\n",
       "      <th>C</th>\n",
       "      <th>D</th>\n",
       "      <th>E</th>\n",
       "      <th>F</th>\n",
       "      <th>G</th>\n",
       "      <th>H</th>\n",
       "    </tr>\n",
       "  </thead>\n",
       "  <tbody>\n",
       "    <tr>\n",
       "      <th>5</th>\n",
       "      <td>0.887645</td>\n",
       "      <td>-0.022290</td>\n",
       "      <td>0.432730</td>\n",
       "      <td>-1.007823</td>\n",
       "      <td>-0.765956</td>\n",
       "      <td>-1.078591</td>\n",
       "      <td>0.391777</td>\n",
       "      <td>1.165134</td>\n",
       "    </tr>\n",
       "    <tr>\n",
       "      <th>8</th>\n",
       "      <td>-0.336761</td>\n",
       "      <td>0.437294</td>\n",
       "      <td>0.993767</td>\n",
       "      <td>-1.310215</td>\n",
       "      <td>-0.354914</td>\n",
       "      <td>0.613335</td>\n",
       "      <td>-0.972463</td>\n",
       "      <td>0.106919</td>\n",
       "    </tr>\n",
       "  </tbody>\n",
       "</table>\n",
       "</div>"
      ],
      "text/plain": [
       "          A         B         C         D         E         F         G  \\\n",
       "5  0.887645 -0.022290  0.432730 -1.007823 -0.765956 -1.078591  0.391777   \n",
       "8 -0.336761  0.437294  0.993767 -1.310215 -0.354914  0.613335 -0.972463   \n",
       "\n",
       "          H  \n",
       "5  1.165134  \n",
       "8  0.106919  "
      ]
     },
     "execution_count": 44,
     "metadata": {},
     "output_type": "execute_result"
    }
   ],
   "source": [
    "df3.iloc[[5,8]]"
   ]
  },
  {
   "cell_type": "markdown",
   "metadata": {},
   "source": [
    "<mark>打印 df3 的 6 至 9 行（不含）"
   ]
  },
  {
   "cell_type": "code",
   "execution_count": 45,
   "metadata": {},
   "outputs": [
    {
     "data": {
      "text/html": [
       "<div>\n",
       "<style scoped>\n",
       "    .dataframe tbody tr th:only-of-type {\n",
       "        vertical-align: middle;\n",
       "    }\n",
       "\n",
       "    .dataframe tbody tr th {\n",
       "        vertical-align: top;\n",
       "    }\n",
       "\n",
       "    .dataframe thead th {\n",
       "        text-align: right;\n",
       "    }\n",
       "</style>\n",
       "<table border=\"1\" class=\"dataframe\">\n",
       "  <thead>\n",
       "    <tr style=\"text-align: right;\">\n",
       "      <th></th>\n",
       "      <th>A</th>\n",
       "      <th>B</th>\n",
       "      <th>C</th>\n",
       "      <th>D</th>\n",
       "      <th>E</th>\n",
       "      <th>F</th>\n",
       "      <th>G</th>\n",
       "      <th>H</th>\n",
       "    </tr>\n",
       "  </thead>\n",
       "  <tbody>\n",
       "    <tr>\n",
       "      <th>5</th>\n",
       "      <td>0.887645</td>\n",
       "      <td>-0.022290</td>\n",
       "      <td>0.432730</td>\n",
       "      <td>-1.007823</td>\n",
       "      <td>-0.765956</td>\n",
       "      <td>-1.078591</td>\n",
       "      <td>0.391777</td>\n",
       "      <td>1.165134</td>\n",
       "    </tr>\n",
       "    <tr>\n",
       "      <th>6</th>\n",
       "      <td>0.064518</td>\n",
       "      <td>0.099956</td>\n",
       "      <td>-0.536865</td>\n",
       "      <td>0.190905</td>\n",
       "      <td>-0.198003</td>\n",
       "      <td>0.608922</td>\n",
       "      <td>0.448362</td>\n",
       "      <td>-0.016563</td>\n",
       "    </tr>\n",
       "    <tr>\n",
       "      <th>7</th>\n",
       "      <td>-0.775208</td>\n",
       "      <td>-0.626188</td>\n",
       "      <td>-0.017017</td>\n",
       "      <td>-0.517651</td>\n",
       "      <td>1.254164</td>\n",
       "      <td>1.165479</td>\n",
       "      <td>-0.670216</td>\n",
       "      <td>0.072592</td>\n",
       "    </tr>\n",
       "  </tbody>\n",
       "</table>\n",
       "</div>"
      ],
      "text/plain": [
       "          A         B         C         D         E         F         G  \\\n",
       "5  0.887645 -0.022290  0.432730 -1.007823 -0.765956 -1.078591  0.391777   \n",
       "6  0.064518  0.099956 -0.536865  0.190905 -0.198003  0.608922  0.448362   \n",
       "7 -0.775208 -0.626188 -0.017017 -0.517651  1.254164  1.165479 -0.670216   \n",
       "\n",
       "          H  \n",
       "5  1.165134  \n",
       "6 -0.016563  \n",
       "7  0.072592  "
      ]
     },
     "execution_count": 45,
     "metadata": {},
     "output_type": "execute_result"
    }
   ],
   "source": [
    "df3.iloc[5:8]#注意为左闭右开区间"
   ]
  },
  {
   "cell_type": "code",
   "execution_count": 46,
   "metadata": {
    "scrolled": true
   },
   "outputs": [
    {
     "data": {
      "text/html": [
       "<div>\n",
       "<style scoped>\n",
       "    .dataframe tbody tr th:only-of-type {\n",
       "        vertical-align: middle;\n",
       "    }\n",
       "\n",
       "    .dataframe tbody tr th {\n",
       "        vertical-align: top;\n",
       "    }\n",
       "\n",
       "    .dataframe thead th {\n",
       "        text-align: right;\n",
       "    }\n",
       "</style>\n",
       "<table border=\"1\" class=\"dataframe\">\n",
       "  <thead>\n",
       "    <tr style=\"text-align: right;\">\n",
       "      <th></th>\n",
       "      <th>A</th>\n",
       "      <th>B</th>\n",
       "      <th>C</th>\n",
       "      <th>D</th>\n",
       "      <th>E</th>\n",
       "      <th>F</th>\n",
       "      <th>G</th>\n",
       "      <th>H</th>\n",
       "    </tr>\n",
       "  </thead>\n",
       "  <tbody>\n",
       "    <tr>\n",
       "      <th>5</th>\n",
       "      <td>0.887645</td>\n",
       "      <td>-0.022290</td>\n",
       "      <td>0.432730</td>\n",
       "      <td>-1.007823</td>\n",
       "      <td>-0.765956</td>\n",
       "      <td>-1.078591</td>\n",
       "      <td>0.391777</td>\n",
       "      <td>1.165134</td>\n",
       "    </tr>\n",
       "    <tr>\n",
       "      <th>6</th>\n",
       "      <td>0.064518</td>\n",
       "      <td>0.099956</td>\n",
       "      <td>-0.536865</td>\n",
       "      <td>0.190905</td>\n",
       "      <td>-0.198003</td>\n",
       "      <td>0.608922</td>\n",
       "      <td>0.448362</td>\n",
       "      <td>-0.016563</td>\n",
       "    </tr>\n",
       "    <tr>\n",
       "      <th>7</th>\n",
       "      <td>-0.775208</td>\n",
       "      <td>-0.626188</td>\n",
       "      <td>-0.017017</td>\n",
       "      <td>-0.517651</td>\n",
       "      <td>1.254164</td>\n",
       "      <td>1.165479</td>\n",
       "      <td>-0.670216</td>\n",
       "      <td>0.072592</td>\n",
       "    </tr>\n",
       "  </tbody>\n",
       "</table>\n",
       "</div>"
      ],
      "text/plain": [
       "          A         B         C         D         E         F         G  \\\n",
       "5  0.887645 -0.022290  0.432730 -1.007823 -0.765956 -1.078591  0.391777   \n",
       "6  0.064518  0.099956 -0.536865  0.190905 -0.198003  0.608922  0.448362   \n",
       "7 -0.775208 -0.626188 -0.017017 -0.517651  1.254164  1.165479 -0.670216   \n",
       "\n",
       "          H  \n",
       "5  1.165134  \n",
       "6 -0.016563  \n",
       "7  0.072592  "
      ]
     },
     "execution_count": 46,
     "metadata": {},
     "output_type": "execute_result"
    }
   ],
   "source": [
    "df3.loc[5:7]#注意为闭区间"
   ]
  },
  {
   "cell_type": "markdown",
   "metadata": {},
   "source": [
    "<mark>打印 df3 的 6 至 9 行（不含）的 C 至 H 列"
   ]
  },
  {
   "cell_type": "code",
   "execution_count": 47,
   "metadata": {},
   "outputs": [
    {
     "data": {
      "text/html": [
       "<div>\n",
       "<style scoped>\n",
       "    .dataframe tbody tr th:only-of-type {\n",
       "        vertical-align: middle;\n",
       "    }\n",
       "\n",
       "    .dataframe tbody tr th {\n",
       "        vertical-align: top;\n",
       "    }\n",
       "\n",
       "    .dataframe thead th {\n",
       "        text-align: right;\n",
       "    }\n",
       "</style>\n",
       "<table border=\"1\" class=\"dataframe\">\n",
       "  <thead>\n",
       "    <tr style=\"text-align: right;\">\n",
       "      <th></th>\n",
       "      <th>C</th>\n",
       "      <th>D</th>\n",
       "      <th>E</th>\n",
       "      <th>F</th>\n",
       "      <th>G</th>\n",
       "      <th>H</th>\n",
       "    </tr>\n",
       "  </thead>\n",
       "  <tbody>\n",
       "    <tr>\n",
       "      <th>5</th>\n",
       "      <td>0.432730</td>\n",
       "      <td>-1.007823</td>\n",
       "      <td>-0.765956</td>\n",
       "      <td>-1.078591</td>\n",
       "      <td>0.391777</td>\n",
       "      <td>1.165134</td>\n",
       "    </tr>\n",
       "    <tr>\n",
       "      <th>6</th>\n",
       "      <td>-0.536865</td>\n",
       "      <td>0.190905</td>\n",
       "      <td>-0.198003</td>\n",
       "      <td>0.608922</td>\n",
       "      <td>0.448362</td>\n",
       "      <td>-0.016563</td>\n",
       "    </tr>\n",
       "    <tr>\n",
       "      <th>7</th>\n",
       "      <td>-0.017017</td>\n",
       "      <td>-0.517651</td>\n",
       "      <td>1.254164</td>\n",
       "      <td>1.165479</td>\n",
       "      <td>-0.670216</td>\n",
       "      <td>0.072592</td>\n",
       "    </tr>\n",
       "  </tbody>\n",
       "</table>\n",
       "</div>"
      ],
      "text/plain": [
       "          C         D         E         F         G         H\n",
       "5  0.432730 -1.007823 -0.765956 -1.078591  0.391777  1.165134\n",
       "6 -0.536865  0.190905 -0.198003  0.608922  0.448362 -0.016563\n",
       "7 -0.017017 -0.517651  1.254164  1.165479 -0.670216  0.072592"
      ]
     },
     "execution_count": 47,
     "metadata": {},
     "output_type": "execute_result"
    }
   ],
   "source": [
    "df3.iloc[5:8,2:]"
   ]
  },
  {
   "cell_type": "code",
   "execution_count": 48,
   "metadata": {},
   "outputs": [
    {
     "data": {
      "text/html": [
       "<div>\n",
       "<style scoped>\n",
       "    .dataframe tbody tr th:only-of-type {\n",
       "        vertical-align: middle;\n",
       "    }\n",
       "\n",
       "    .dataframe tbody tr th {\n",
       "        vertical-align: top;\n",
       "    }\n",
       "\n",
       "    .dataframe thead th {\n",
       "        text-align: right;\n",
       "    }\n",
       "</style>\n",
       "<table border=\"1\" class=\"dataframe\">\n",
       "  <thead>\n",
       "    <tr style=\"text-align: right;\">\n",
       "      <th></th>\n",
       "      <th>C</th>\n",
       "      <th>D</th>\n",
       "      <th>E</th>\n",
       "      <th>F</th>\n",
       "      <th>G</th>\n",
       "      <th>H</th>\n",
       "    </tr>\n",
       "  </thead>\n",
       "  <tbody>\n",
       "    <tr>\n",
       "      <th>5</th>\n",
       "      <td>0.432730</td>\n",
       "      <td>-1.007823</td>\n",
       "      <td>-0.765956</td>\n",
       "      <td>-1.078591</td>\n",
       "      <td>0.391777</td>\n",
       "      <td>1.165134</td>\n",
       "    </tr>\n",
       "    <tr>\n",
       "      <th>6</th>\n",
       "      <td>-0.536865</td>\n",
       "      <td>0.190905</td>\n",
       "      <td>-0.198003</td>\n",
       "      <td>0.608922</td>\n",
       "      <td>0.448362</td>\n",
       "      <td>-0.016563</td>\n",
       "    </tr>\n",
       "    <tr>\n",
       "      <th>7</th>\n",
       "      <td>-0.017017</td>\n",
       "      <td>-0.517651</td>\n",
       "      <td>1.254164</td>\n",
       "      <td>1.165479</td>\n",
       "      <td>-0.670216</td>\n",
       "      <td>0.072592</td>\n",
       "    </tr>\n",
       "  </tbody>\n",
       "</table>\n",
       "</div>"
      ],
      "text/plain": [
       "          C         D         E         F         G         H\n",
       "5  0.432730 -1.007823 -0.765956 -1.078591  0.391777  1.165134\n",
       "6 -0.536865  0.190905 -0.198003  0.608922  0.448362 -0.016563\n",
       "7 -0.017017 -0.517651  1.254164  1.165479 -0.670216  0.072592"
      ]
     },
     "execution_count": 48,
     "metadata": {},
     "output_type": "execute_result"
    }
   ],
   "source": [
    "df3.loc[5:7,'C':'H']"
   ]
  },
  {
   "cell_type": "markdown",
   "metadata": {},
   "source": [
    "<mark>打印 df3 的 6,9 行的 C,H 列"
   ]
  },
  {
   "cell_type": "code",
   "execution_count": 49,
   "metadata": {},
   "outputs": [
    {
     "data": {
      "text/html": [
       "<div>\n",
       "<style scoped>\n",
       "    .dataframe tbody tr th:only-of-type {\n",
       "        vertical-align: middle;\n",
       "    }\n",
       "\n",
       "    .dataframe tbody tr th {\n",
       "        vertical-align: top;\n",
       "    }\n",
       "\n",
       "    .dataframe thead th {\n",
       "        text-align: right;\n",
       "    }\n",
       "</style>\n",
       "<table border=\"1\" class=\"dataframe\">\n",
       "  <thead>\n",
       "    <tr style=\"text-align: right;\">\n",
       "      <th></th>\n",
       "      <th>C</th>\n",
       "      <th>H</th>\n",
       "    </tr>\n",
       "  </thead>\n",
       "  <tbody>\n",
       "    <tr>\n",
       "      <th>5</th>\n",
       "      <td>0.432730</td>\n",
       "      <td>1.165134</td>\n",
       "    </tr>\n",
       "    <tr>\n",
       "      <th>8</th>\n",
       "      <td>0.993767</td>\n",
       "      <td>0.106919</td>\n",
       "    </tr>\n",
       "  </tbody>\n",
       "</table>\n",
       "</div>"
      ],
      "text/plain": [
       "          C         H\n",
       "5  0.432730  1.165134\n",
       "8  0.993767  0.106919"
      ]
     },
     "execution_count": 49,
     "metadata": {},
     "output_type": "execute_result"
    }
   ],
   "source": [
    "df3.loc[[5,8],['C','H']]"
   ]
  },
  {
   "cell_type": "code",
   "execution_count": 50,
   "metadata": {},
   "outputs": [
    {
     "data": {
      "text/html": [
       "<div>\n",
       "<style scoped>\n",
       "    .dataframe tbody tr th:only-of-type {\n",
       "        vertical-align: middle;\n",
       "    }\n",
       "\n",
       "    .dataframe tbody tr th {\n",
       "        vertical-align: top;\n",
       "    }\n",
       "\n",
       "    .dataframe thead th {\n",
       "        text-align: right;\n",
       "    }\n",
       "</style>\n",
       "<table border=\"1\" class=\"dataframe\">\n",
       "  <thead>\n",
       "    <tr style=\"text-align: right;\">\n",
       "      <th></th>\n",
       "      <th>C</th>\n",
       "      <th>H</th>\n",
       "    </tr>\n",
       "  </thead>\n",
       "  <tbody>\n",
       "    <tr>\n",
       "      <th>5</th>\n",
       "      <td>0.432730</td>\n",
       "      <td>1.165134</td>\n",
       "    </tr>\n",
       "    <tr>\n",
       "      <th>8</th>\n",
       "      <td>0.993767</td>\n",
       "      <td>0.106919</td>\n",
       "    </tr>\n",
       "  </tbody>\n",
       "</table>\n",
       "</div>"
      ],
      "text/plain": [
       "          C         H\n",
       "5  0.432730  1.165134\n",
       "8  0.993767  0.106919"
      ]
     },
     "execution_count": 50,
     "metadata": {},
     "output_type": "execute_result"
    }
   ],
   "source": [
    "df3.iloc[[5,8],[2,7]]"
   ]
  },
  {
   "cell_type": "markdown",
   "metadata": {},
   "source": [
    "<mark><font color=red size=4 face=雅黑>题目要求中行列号到底是从0还是1开始？上面写的都是从1开始的，看下面从0列开始的尿性，应该都是从0开始。之前的懒得改了，阅读代码的时候要从这里开始注意一下，以下行列号都是从0开始。"
   ]
  },
  {
   "cell_type": "markdown",
   "metadata": {},
   "source": [
    "<mark>iloc - 仿照示例使用 iloc 获取 df 的 1 行至 4 行（不含）的 0 列至 3 列（不含）"
   ]
  },
  {
   "cell_type": "code",
   "execution_count": 51,
   "metadata": {},
   "outputs": [
    {
     "data": {
      "text/html": [
       "<div>\n",
       "<style scoped>\n",
       "    .dataframe tbody tr th:only-of-type {\n",
       "        vertical-align: middle;\n",
       "    }\n",
       "\n",
       "    .dataframe tbody tr th {\n",
       "        vertical-align: top;\n",
       "    }\n",
       "\n",
       "    .dataframe thead th {\n",
       "        text-align: right;\n",
       "    }\n",
       "</style>\n",
       "<table border=\"1\" class=\"dataframe\">\n",
       "  <thead>\n",
       "    <tr style=\"text-align: right;\">\n",
       "      <th></th>\n",
       "      <th>A</th>\n",
       "      <th>B</th>\n",
       "      <th>C</th>\n",
       "    </tr>\n",
       "  </thead>\n",
       "  <tbody>\n",
       "    <tr>\n",
       "      <th>1</th>\n",
       "      <td>-0.779034</td>\n",
       "      <td>0.152999</td>\n",
       "      <td>-0.222855</td>\n",
       "    </tr>\n",
       "    <tr>\n",
       "      <th>2</th>\n",
       "      <td>0.546075</td>\n",
       "      <td>0.017931</td>\n",
       "      <td>0.568044</td>\n",
       "    </tr>\n",
       "    <tr>\n",
       "      <th>3</th>\n",
       "      <td>0.580442</td>\n",
       "      <td>-0.718095</td>\n",
       "      <td>-0.115539</td>\n",
       "    </tr>\n",
       "  </tbody>\n",
       "</table>\n",
       "</div>"
      ],
      "text/plain": [
       "          A         B         C\n",
       "1 -0.779034  0.152999 -0.222855\n",
       "2  0.546075  0.017931  0.568044\n",
       "3  0.580442 -0.718095 -0.115539"
      ]
     },
     "execution_count": 51,
     "metadata": {},
     "output_type": "execute_result"
    }
   ],
   "source": [
    "df3.iloc[1:4,0:3]"
   ]
  },
  {
   "cell_type": "markdown",
   "metadata": {},
   "source": [
    "<mark>iloc - 仿照示例使用 iloc 获取 df 的 1 行、 4 行的 0 列、 3 列"
   ]
  },
  {
   "cell_type": "code",
   "execution_count": 52,
   "metadata": {},
   "outputs": [
    {
     "data": {
      "text/html": [
       "<div>\n",
       "<style scoped>\n",
       "    .dataframe tbody tr th:only-of-type {\n",
       "        vertical-align: middle;\n",
       "    }\n",
       "\n",
       "    .dataframe tbody tr th {\n",
       "        vertical-align: top;\n",
       "    }\n",
       "\n",
       "    .dataframe thead th {\n",
       "        text-align: right;\n",
       "    }\n",
       "</style>\n",
       "<table border=\"1\" class=\"dataframe\">\n",
       "  <thead>\n",
       "    <tr style=\"text-align: right;\">\n",
       "      <th></th>\n",
       "      <th>A</th>\n",
       "      <th>D</th>\n",
       "    </tr>\n",
       "  </thead>\n",
       "  <tbody>\n",
       "    <tr>\n",
       "      <th>1</th>\n",
       "      <td>-0.779034</td>\n",
       "      <td>1.087092</td>\n",
       "    </tr>\n",
       "    <tr>\n",
       "      <th>4</th>\n",
       "      <td>0.426213</td>\n",
       "      <td>-0.935968</td>\n",
       "    </tr>\n",
       "  </tbody>\n",
       "</table>\n",
       "</div>"
      ],
      "text/plain": [
       "          A         D\n",
       "1 -0.779034  1.087092\n",
       "4  0.426213 -0.935968"
      ]
     },
     "execution_count": 52,
     "metadata": {},
     "output_type": "execute_result"
    }
   ],
   "source": [
    "df3.iloc[[1,4],[0,3]]"
   ]
  },
  {
   "cell_type": "markdown",
   "metadata": {},
   "source": [
    "<mark>iloc - 仿照示例使用 iloc 获取 df 的 1 至 4 行（不含）"
   ]
  },
  {
   "cell_type": "code",
   "execution_count": 53,
   "metadata": {},
   "outputs": [
    {
     "data": {
      "text/html": [
       "<div>\n",
       "<style scoped>\n",
       "    .dataframe tbody tr th:only-of-type {\n",
       "        vertical-align: middle;\n",
       "    }\n",
       "\n",
       "    .dataframe tbody tr th {\n",
       "        vertical-align: top;\n",
       "    }\n",
       "\n",
       "    .dataframe thead th {\n",
       "        text-align: right;\n",
       "    }\n",
       "</style>\n",
       "<table border=\"1\" class=\"dataframe\">\n",
       "  <thead>\n",
       "    <tr style=\"text-align: right;\">\n",
       "      <th></th>\n",
       "      <th>A</th>\n",
       "      <th>B</th>\n",
       "      <th>C</th>\n",
       "      <th>D</th>\n",
       "      <th>E</th>\n",
       "      <th>F</th>\n",
       "      <th>G</th>\n",
       "      <th>H</th>\n",
       "    </tr>\n",
       "  </thead>\n",
       "  <tbody>\n",
       "    <tr>\n",
       "      <th>1</th>\n",
       "      <td>-0.779034</td>\n",
       "      <td>0.152999</td>\n",
       "      <td>-0.222855</td>\n",
       "      <td>1.087092</td>\n",
       "      <td>-2.326493</td>\n",
       "      <td>0.952445</td>\n",
       "      <td>-1.138827</td>\n",
       "      <td>-0.745230</td>\n",
       "    </tr>\n",
       "    <tr>\n",
       "      <th>2</th>\n",
       "      <td>0.546075</td>\n",
       "      <td>0.017931</td>\n",
       "      <td>0.568044</td>\n",
       "      <td>0.682892</td>\n",
       "      <td>-0.409111</td>\n",
       "      <td>1.247741</td>\n",
       "      <td>-0.264636</td>\n",
       "      <td>-0.824967</td>\n",
       "    </tr>\n",
       "    <tr>\n",
       "      <th>3</th>\n",
       "      <td>0.580442</td>\n",
       "      <td>-0.718095</td>\n",
       "      <td>-0.115539</td>\n",
       "      <td>-0.729941</td>\n",
       "      <td>0.353551</td>\n",
       "      <td>0.240826</td>\n",
       "      <td>-0.504468</td>\n",
       "      <td>-0.076584</td>\n",
       "    </tr>\n",
       "  </tbody>\n",
       "</table>\n",
       "</div>"
      ],
      "text/plain": [
       "          A         B         C         D         E         F         G  \\\n",
       "1 -0.779034  0.152999 -0.222855  1.087092 -2.326493  0.952445 -1.138827   \n",
       "2  0.546075  0.017931  0.568044  0.682892 -0.409111  1.247741 -0.264636   \n",
       "3  0.580442 -0.718095 -0.115539 -0.729941  0.353551  0.240826 -0.504468   \n",
       "\n",
       "          H  \n",
       "1 -0.745230  \n",
       "2 -0.824967  \n",
       "3 -0.076584  "
      ]
     },
     "execution_count": 53,
     "metadata": {},
     "output_type": "execute_result"
    }
   ],
   "source": [
    "df3.iloc[1:4]"
   ]
  },
  {
   "cell_type": "markdown",
   "metadata": {},
   "source": [
    "<mark>iloc - 仿照示例使用 iloc 获取 df 的 2 行 2 列"
   ]
  },
  {
   "cell_type": "code",
   "execution_count": 54,
   "metadata": {},
   "outputs": [
    {
     "data": {
      "text/plain": [
       "0.5680438980348024"
      ]
     },
     "execution_count": 54,
     "metadata": {},
     "output_type": "execute_result"
    }
   ],
   "source": [
    "df3.iloc[2,2]"
   ]
  },
  {
   "cell_type": "markdown",
   "metadata": {},
   "source": [
    "<mark>iat - 仿照示例使用 iat 获取 df 的 2 行 2 列"
   ]
  },
  {
   "cell_type": "code",
   "execution_count": 55,
   "metadata": {},
   "outputs": [
    {
     "data": {
      "text/plain": [
       "0.5680438980348024"
      ]
     },
     "execution_count": 55,
     "metadata": {},
     "output_type": "execute_result"
    }
   ],
   "source": [
    "df3.iat[2,2]"
   ]
  },
  {
   "cell_type": "markdown",
   "metadata": {},
   "source": [
    "<mark>仿照示例选取 df 中 A 列大于 0.5 的部分"
   ]
  },
  {
   "cell_type": "code",
   "execution_count": 56,
   "metadata": {},
   "outputs": [
    {
     "data": {
      "text/html": [
       "<div>\n",
       "<style scoped>\n",
       "    .dataframe tbody tr th:only-of-type {\n",
       "        vertical-align: middle;\n",
       "    }\n",
       "\n",
       "    .dataframe tbody tr th {\n",
       "        vertical-align: top;\n",
       "    }\n",
       "\n",
       "    .dataframe thead th {\n",
       "        text-align: right;\n",
       "    }\n",
       "</style>\n",
       "<table border=\"1\" class=\"dataframe\">\n",
       "  <thead>\n",
       "    <tr style=\"text-align: right;\">\n",
       "      <th></th>\n",
       "      <th>A</th>\n",
       "      <th>B</th>\n",
       "      <th>C</th>\n",
       "      <th>D</th>\n",
       "      <th>E</th>\n",
       "      <th>F</th>\n",
       "      <th>G</th>\n",
       "      <th>H</th>\n",
       "    </tr>\n",
       "  </thead>\n",
       "  <tbody>\n",
       "    <tr>\n",
       "      <th>0</th>\n",
       "      <td>0.712962</td>\n",
       "      <td>0.728432</td>\n",
       "      <td>-0.590125</td>\n",
       "      <td>-0.093031</td>\n",
       "      <td>-0.917682</td>\n",
       "      <td>-0.500919</td>\n",
       "      <td>-0.116574</td>\n",
       "      <td>0.388894</td>\n",
       "    </tr>\n",
       "    <tr>\n",
       "      <th>2</th>\n",
       "      <td>0.546075</td>\n",
       "      <td>0.017931</td>\n",
       "      <td>0.568044</td>\n",
       "      <td>0.682892</td>\n",
       "      <td>-0.409111</td>\n",
       "      <td>1.247741</td>\n",
       "      <td>-0.264636</td>\n",
       "      <td>-0.824967</td>\n",
       "    </tr>\n",
       "    <tr>\n",
       "      <th>3</th>\n",
       "      <td>0.580442</td>\n",
       "      <td>-0.718095</td>\n",
       "      <td>-0.115539</td>\n",
       "      <td>-0.729941</td>\n",
       "      <td>0.353551</td>\n",
       "      <td>0.240826</td>\n",
       "      <td>-0.504468</td>\n",
       "      <td>-0.076584</td>\n",
       "    </tr>\n",
       "    <tr>\n",
       "      <th>5</th>\n",
       "      <td>0.887645</td>\n",
       "      <td>-0.022290</td>\n",
       "      <td>0.432730</td>\n",
       "      <td>-1.007823</td>\n",
       "      <td>-0.765956</td>\n",
       "      <td>-1.078591</td>\n",
       "      <td>0.391777</td>\n",
       "      <td>1.165134</td>\n",
       "    </tr>\n",
       "  </tbody>\n",
       "</table>\n",
       "</div>"
      ],
      "text/plain": [
       "          A         B         C         D         E         F         G  \\\n",
       "0  0.712962  0.728432 -0.590125 -0.093031 -0.917682 -0.500919 -0.116574   \n",
       "2  0.546075  0.017931  0.568044  0.682892 -0.409111  1.247741 -0.264636   \n",
       "3  0.580442 -0.718095 -0.115539 -0.729941  0.353551  0.240826 -0.504468   \n",
       "5  0.887645 -0.022290  0.432730 -1.007823 -0.765956 -1.078591  0.391777   \n",
       "\n",
       "          H  \n",
       "0  0.388894  \n",
       "2 -0.824967  \n",
       "3 -0.076584  \n",
       "5  1.165134  "
      ]
     },
     "execution_count": 56,
     "metadata": {},
     "output_type": "execute_result"
    }
   ],
   "source": [
    "df3[df3.A>.5]"
   ]
  },
  {
   "cell_type": "markdown",
   "metadata": {},
   "source": [
    "<mark>仿照示例选取 df 中所有小于 0.5 的部分"
   ]
  },
  {
   "cell_type": "code",
   "execution_count": 57,
   "metadata": {},
   "outputs": [
    {
     "data": {
      "text/html": [
       "<div>\n",
       "<style scoped>\n",
       "    .dataframe tbody tr th:only-of-type {\n",
       "        vertical-align: middle;\n",
       "    }\n",
       "\n",
       "    .dataframe tbody tr th {\n",
       "        vertical-align: top;\n",
       "    }\n",
       "\n",
       "    .dataframe thead th {\n",
       "        text-align: right;\n",
       "    }\n",
       "</style>\n",
       "<table border=\"1\" class=\"dataframe\">\n",
       "  <thead>\n",
       "    <tr style=\"text-align: right;\">\n",
       "      <th></th>\n",
       "      <th>A</th>\n",
       "      <th>B</th>\n",
       "      <th>C</th>\n",
       "      <th>D</th>\n",
       "      <th>E</th>\n",
       "      <th>F</th>\n",
       "      <th>G</th>\n",
       "      <th>H</th>\n",
       "    </tr>\n",
       "  </thead>\n",
       "  <tbody>\n",
       "    <tr>\n",
       "      <th>0</th>\n",
       "      <td>NaN</td>\n",
       "      <td>NaN</td>\n",
       "      <td>-0.590125</td>\n",
       "      <td>-0.093031</td>\n",
       "      <td>-0.917682</td>\n",
       "      <td>-0.500919</td>\n",
       "      <td>-0.116574</td>\n",
       "      <td>0.388894</td>\n",
       "    </tr>\n",
       "    <tr>\n",
       "      <th>1</th>\n",
       "      <td>-0.779034</td>\n",
       "      <td>0.152999</td>\n",
       "      <td>-0.222855</td>\n",
       "      <td>NaN</td>\n",
       "      <td>-2.326493</td>\n",
       "      <td>NaN</td>\n",
       "      <td>-1.138827</td>\n",
       "      <td>-0.745230</td>\n",
       "    </tr>\n",
       "    <tr>\n",
       "      <th>2</th>\n",
       "      <td>NaN</td>\n",
       "      <td>0.017931</td>\n",
       "      <td>NaN</td>\n",
       "      <td>NaN</td>\n",
       "      <td>-0.409111</td>\n",
       "      <td>NaN</td>\n",
       "      <td>-0.264636</td>\n",
       "      <td>-0.824967</td>\n",
       "    </tr>\n",
       "    <tr>\n",
       "      <th>3</th>\n",
       "      <td>NaN</td>\n",
       "      <td>-0.718095</td>\n",
       "      <td>-0.115539</td>\n",
       "      <td>-0.729941</td>\n",
       "      <td>0.353551</td>\n",
       "      <td>0.240826</td>\n",
       "      <td>-0.504468</td>\n",
       "      <td>-0.076584</td>\n",
       "    </tr>\n",
       "    <tr>\n",
       "      <th>4</th>\n",
       "      <td>0.426213</td>\n",
       "      <td>NaN</td>\n",
       "      <td>0.267802</td>\n",
       "      <td>-0.935968</td>\n",
       "      <td>-0.497786</td>\n",
       "      <td>-1.347166</td>\n",
       "      <td>-0.814797</td>\n",
       "      <td>NaN</td>\n",
       "    </tr>\n",
       "    <tr>\n",
       "      <th>5</th>\n",
       "      <td>NaN</td>\n",
       "      <td>-0.022290</td>\n",
       "      <td>0.432730</td>\n",
       "      <td>-1.007823</td>\n",
       "      <td>-0.765956</td>\n",
       "      <td>-1.078591</td>\n",
       "      <td>0.391777</td>\n",
       "      <td>NaN</td>\n",
       "    </tr>\n",
       "    <tr>\n",
       "      <th>6</th>\n",
       "      <td>0.064518</td>\n",
       "      <td>0.099956</td>\n",
       "      <td>-0.536865</td>\n",
       "      <td>0.190905</td>\n",
       "      <td>-0.198003</td>\n",
       "      <td>NaN</td>\n",
       "      <td>0.448362</td>\n",
       "      <td>-0.016563</td>\n",
       "    </tr>\n",
       "    <tr>\n",
       "      <th>7</th>\n",
       "      <td>-0.775208</td>\n",
       "      <td>-0.626188</td>\n",
       "      <td>-0.017017</td>\n",
       "      <td>-0.517651</td>\n",
       "      <td>NaN</td>\n",
       "      <td>NaN</td>\n",
       "      <td>-0.670216</td>\n",
       "      <td>0.072592</td>\n",
       "    </tr>\n",
       "    <tr>\n",
       "      <th>8</th>\n",
       "      <td>-0.336761</td>\n",
       "      <td>0.437294</td>\n",
       "      <td>NaN</td>\n",
       "      <td>-1.310215</td>\n",
       "      <td>-0.354914</td>\n",
       "      <td>NaN</td>\n",
       "      <td>-0.972463</td>\n",
       "      <td>0.106919</td>\n",
       "    </tr>\n",
       "    <tr>\n",
       "      <th>9</th>\n",
       "      <td>-0.756114</td>\n",
       "      <td>-0.066526</td>\n",
       "      <td>-0.353885</td>\n",
       "      <td>NaN</td>\n",
       "      <td>NaN</td>\n",
       "      <td>0.420560</td>\n",
       "      <td>0.217300</td>\n",
       "      <td>NaN</td>\n",
       "    </tr>\n",
       "  </tbody>\n",
       "</table>\n",
       "</div>"
      ],
      "text/plain": [
       "          A         B         C         D         E         F         G  \\\n",
       "0       NaN       NaN -0.590125 -0.093031 -0.917682 -0.500919 -0.116574   \n",
       "1 -0.779034  0.152999 -0.222855       NaN -2.326493       NaN -1.138827   \n",
       "2       NaN  0.017931       NaN       NaN -0.409111       NaN -0.264636   \n",
       "3       NaN -0.718095 -0.115539 -0.729941  0.353551  0.240826 -0.504468   \n",
       "4  0.426213       NaN  0.267802 -0.935968 -0.497786 -1.347166 -0.814797   \n",
       "5       NaN -0.022290  0.432730 -1.007823 -0.765956 -1.078591  0.391777   \n",
       "6  0.064518  0.099956 -0.536865  0.190905 -0.198003       NaN  0.448362   \n",
       "7 -0.775208 -0.626188 -0.017017 -0.517651       NaN       NaN -0.670216   \n",
       "8 -0.336761  0.437294       NaN -1.310215 -0.354914       NaN -0.972463   \n",
       "9 -0.756114 -0.066526 -0.353885       NaN       NaN  0.420560  0.217300   \n",
       "\n",
       "          H  \n",
       "0  0.388894  \n",
       "1 -0.745230  \n",
       "2 -0.824967  \n",
       "3 -0.076584  \n",
       "4       NaN  \n",
       "5       NaN  \n",
       "6 -0.016563  \n",
       "7  0.072592  \n",
       "8  0.106919  \n",
       "9       NaN  "
      ]
     },
     "execution_count": 57,
     "metadata": {},
     "output_type": "execute_result"
    }
   ],
   "source": [
    "df3[df3<.5]"
   ]
  },
  {
   "cell_type": "markdown",
   "metadata": {},
   "source": [
    "<mark><font color=red size=4 face=雅黑>从下面代码块开始，df、df2均被覆盖"
   ]
  },
  {
   "cell_type": "markdown",
   "metadata": {},
   "source": [
    "<mark>创建 df :\n",
    "df = pd.DataFrame(np.random.randn(6, 4), index=dates, columns=list('ABCD'))"
   ]
  },
  {
   "cell_type": "code",
   "execution_count": 58,
   "metadata": {},
   "outputs": [
    {
     "data": {
      "text/html": [
       "<div>\n",
       "<style scoped>\n",
       "    .dataframe tbody tr th:only-of-type {\n",
       "        vertical-align: middle;\n",
       "    }\n",
       "\n",
       "    .dataframe tbody tr th {\n",
       "        vertical-align: top;\n",
       "    }\n",
       "\n",
       "    .dataframe thead th {\n",
       "        text-align: right;\n",
       "    }\n",
       "</style>\n",
       "<table border=\"1\" class=\"dataframe\">\n",
       "  <thead>\n",
       "    <tr style=\"text-align: right;\">\n",
       "      <th></th>\n",
       "      <th>A</th>\n",
       "      <th>B</th>\n",
       "      <th>C</th>\n",
       "      <th>D</th>\n",
       "    </tr>\n",
       "  </thead>\n",
       "  <tbody>\n",
       "    <tr>\n",
       "      <th>2013-01-01</th>\n",
       "      <td>0.952330</td>\n",
       "      <td>1.234955</td>\n",
       "      <td>-0.331372</td>\n",
       "      <td>-0.360182</td>\n",
       "    </tr>\n",
       "    <tr>\n",
       "      <th>2013-01-02</th>\n",
       "      <td>0.238273</td>\n",
       "      <td>-0.965770</td>\n",
       "      <td>0.848247</td>\n",
       "      <td>-0.346107</td>\n",
       "    </tr>\n",
       "    <tr>\n",
       "      <th>2013-01-03</th>\n",
       "      <td>-1.309907</td>\n",
       "      <td>-0.275858</td>\n",
       "      <td>-1.119454</td>\n",
       "      <td>-0.540678</td>\n",
       "    </tr>\n",
       "    <tr>\n",
       "      <th>2013-01-04</th>\n",
       "      <td>-1.265385</td>\n",
       "      <td>0.854334</td>\n",
       "      <td>0.418519</td>\n",
       "      <td>1.110354</td>\n",
       "    </tr>\n",
       "    <tr>\n",
       "      <th>2013-01-05</th>\n",
       "      <td>-1.474548</td>\n",
       "      <td>-1.379693</td>\n",
       "      <td>0.126495</td>\n",
       "      <td>-0.924273</td>\n",
       "    </tr>\n",
       "    <tr>\n",
       "      <th>2013-01-06</th>\n",
       "      <td>-0.993208</td>\n",
       "      <td>0.424838</td>\n",
       "      <td>-0.344419</td>\n",
       "      <td>-0.973588</td>\n",
       "    </tr>\n",
       "  </tbody>\n",
       "</table>\n",
       "</div>"
      ],
      "text/plain": [
       "                   A         B         C         D\n",
       "2013-01-01  0.952330  1.234955 -0.331372 -0.360182\n",
       "2013-01-02  0.238273 -0.965770  0.848247 -0.346107\n",
       "2013-01-03 -1.309907 -0.275858 -1.119454 -0.540678\n",
       "2013-01-04 -1.265385  0.854334  0.418519  1.110354\n",
       "2013-01-05 -1.474548 -1.379693  0.126495 -0.924273\n",
       "2013-01-06 -0.993208  0.424838 -0.344419 -0.973588"
      ]
     },
     "execution_count": 58,
     "metadata": {},
     "output_type": "execute_result"
    }
   ],
   "source": [
    "df = pd.DataFrame(np.random.randn(6, 4), index=dates, columns=list('ABCD'))\n",
    "df"
   ]
  },
  {
   "cell_type": "markdown",
   "metadata": {},
   "source": [
    "<mark>copy - 按照示例复制 df 并命名为 df2"
   ]
  },
  {
   "cell_type": "code",
   "execution_count": 59,
   "metadata": {},
   "outputs": [
    {
     "data": {
      "text/html": [
       "<div>\n",
       "<style scoped>\n",
       "    .dataframe tbody tr th:only-of-type {\n",
       "        vertical-align: middle;\n",
       "    }\n",
       "\n",
       "    .dataframe tbody tr th {\n",
       "        vertical-align: top;\n",
       "    }\n",
       "\n",
       "    .dataframe thead th {\n",
       "        text-align: right;\n",
       "    }\n",
       "</style>\n",
       "<table border=\"1\" class=\"dataframe\">\n",
       "  <thead>\n",
       "    <tr style=\"text-align: right;\">\n",
       "      <th></th>\n",
       "      <th>A</th>\n",
       "      <th>B</th>\n",
       "      <th>C</th>\n",
       "      <th>D</th>\n",
       "    </tr>\n",
       "  </thead>\n",
       "  <tbody>\n",
       "    <tr>\n",
       "      <th>2013-01-01</th>\n",
       "      <td>0.952330</td>\n",
       "      <td>1.234955</td>\n",
       "      <td>-0.331372</td>\n",
       "      <td>-0.360182</td>\n",
       "    </tr>\n",
       "    <tr>\n",
       "      <th>2013-01-02</th>\n",
       "      <td>0.238273</td>\n",
       "      <td>-0.965770</td>\n",
       "      <td>0.848247</td>\n",
       "      <td>-0.346107</td>\n",
       "    </tr>\n",
       "    <tr>\n",
       "      <th>2013-01-03</th>\n",
       "      <td>-1.309907</td>\n",
       "      <td>-0.275858</td>\n",
       "      <td>-1.119454</td>\n",
       "      <td>-0.540678</td>\n",
       "    </tr>\n",
       "    <tr>\n",
       "      <th>2013-01-04</th>\n",
       "      <td>-1.265385</td>\n",
       "      <td>0.854334</td>\n",
       "      <td>0.418519</td>\n",
       "      <td>1.110354</td>\n",
       "    </tr>\n",
       "    <tr>\n",
       "      <th>2013-01-05</th>\n",
       "      <td>-1.474548</td>\n",
       "      <td>-1.379693</td>\n",
       "      <td>0.126495</td>\n",
       "      <td>-0.924273</td>\n",
       "    </tr>\n",
       "    <tr>\n",
       "      <th>2013-01-06</th>\n",
       "      <td>-0.993208</td>\n",
       "      <td>0.424838</td>\n",
       "      <td>-0.344419</td>\n",
       "      <td>-0.973588</td>\n",
       "    </tr>\n",
       "  </tbody>\n",
       "</table>\n",
       "</div>"
      ],
      "text/plain": [
       "                   A         B         C         D\n",
       "2013-01-01  0.952330  1.234955 -0.331372 -0.360182\n",
       "2013-01-02  0.238273 -0.965770  0.848247 -0.346107\n",
       "2013-01-03 -1.309907 -0.275858 -1.119454 -0.540678\n",
       "2013-01-04 -1.265385  0.854334  0.418519  1.110354\n",
       "2013-01-05 -1.474548 -1.379693  0.126495 -0.924273\n",
       "2013-01-06 -0.993208  0.424838 -0.344419 -0.973588"
      ]
     },
     "execution_count": 59,
     "metadata": {},
     "output_type": "execute_result"
    }
   ],
   "source": [
    "df2=df.copy()#deep=True (default)，a new object will be created，deep=False的时候就相当于df2=df，是引用而不是deep copy\n",
    "df2"
   ]
  },
  {
   "cell_type": "markdown",
   "metadata": {},
   "source": [
    "<mark>仿照示例创建 df2 的 E 列，值为 ['T', 'O', 'T', 'T', 'D', 'U']"
   ]
  },
  {
   "cell_type": "code",
   "execution_count": 60,
   "metadata": {},
   "outputs": [
    {
     "data": {
      "text/html": [
       "<div>\n",
       "<style scoped>\n",
       "    .dataframe tbody tr th:only-of-type {\n",
       "        vertical-align: middle;\n",
       "    }\n",
       "\n",
       "    .dataframe tbody tr th {\n",
       "        vertical-align: top;\n",
       "    }\n",
       "\n",
       "    .dataframe thead th {\n",
       "        text-align: right;\n",
       "    }\n",
       "</style>\n",
       "<table border=\"1\" class=\"dataframe\">\n",
       "  <thead>\n",
       "    <tr style=\"text-align: right;\">\n",
       "      <th></th>\n",
       "      <th>A</th>\n",
       "      <th>B</th>\n",
       "      <th>C</th>\n",
       "      <th>D</th>\n",
       "      <th>E</th>\n",
       "    </tr>\n",
       "  </thead>\n",
       "  <tbody>\n",
       "    <tr>\n",
       "      <th>2013-01-01</th>\n",
       "      <td>0.952330</td>\n",
       "      <td>1.234955</td>\n",
       "      <td>-0.331372</td>\n",
       "      <td>-0.360182</td>\n",
       "      <td>T</td>\n",
       "    </tr>\n",
       "    <tr>\n",
       "      <th>2013-01-02</th>\n",
       "      <td>0.238273</td>\n",
       "      <td>-0.965770</td>\n",
       "      <td>0.848247</td>\n",
       "      <td>-0.346107</td>\n",
       "      <td>O</td>\n",
       "    </tr>\n",
       "    <tr>\n",
       "      <th>2013-01-03</th>\n",
       "      <td>-1.309907</td>\n",
       "      <td>-0.275858</td>\n",
       "      <td>-1.119454</td>\n",
       "      <td>-0.540678</td>\n",
       "      <td>T</td>\n",
       "    </tr>\n",
       "    <tr>\n",
       "      <th>2013-01-04</th>\n",
       "      <td>-1.265385</td>\n",
       "      <td>0.854334</td>\n",
       "      <td>0.418519</td>\n",
       "      <td>1.110354</td>\n",
       "      <td>T</td>\n",
       "    </tr>\n",
       "    <tr>\n",
       "      <th>2013-01-05</th>\n",
       "      <td>-1.474548</td>\n",
       "      <td>-1.379693</td>\n",
       "      <td>0.126495</td>\n",
       "      <td>-0.924273</td>\n",
       "      <td>D</td>\n",
       "    </tr>\n",
       "    <tr>\n",
       "      <th>2013-01-06</th>\n",
       "      <td>-0.993208</td>\n",
       "      <td>0.424838</td>\n",
       "      <td>-0.344419</td>\n",
       "      <td>-0.973588</td>\n",
       "      <td>U</td>\n",
       "    </tr>\n",
       "  </tbody>\n",
       "</table>\n",
       "</div>"
      ],
      "text/plain": [
       "                   A         B         C         D  E\n",
       "2013-01-01  0.952330  1.234955 -0.331372 -0.360182  T\n",
       "2013-01-02  0.238273 -0.965770  0.848247 -0.346107  O\n",
       "2013-01-03 -1.309907 -0.275858 -1.119454 -0.540678  T\n",
       "2013-01-04 -1.265385  0.854334  0.418519  1.110354  T\n",
       "2013-01-05 -1.474548 -1.379693  0.126495 -0.924273  D\n",
       "2013-01-06 -0.993208  0.424838 -0.344419 -0.973588  U"
      ]
     },
     "execution_count": 60,
     "metadata": {},
     "output_type": "execute_result"
    }
   ],
   "source": [
    "df2['E'] = ['T', 'O', 'T', 'T', 'D', 'U']#没有的时候是创建，有的时候是赋值\n",
    "df2"
   ]
  },
  {
   "cell_type": "markdown",
   "metadata": {},
   "source": [
    "<mark>isin - 仿照示例选取 df2 中 E 列值为 T,D,U 的部分"
   ]
  },
  {
   "cell_type": "code",
   "execution_count": 61,
   "metadata": {},
   "outputs": [
    {
     "data": {
      "text/html": [
       "<div>\n",
       "<style scoped>\n",
       "    .dataframe tbody tr th:only-of-type {\n",
       "        vertical-align: middle;\n",
       "    }\n",
       "\n",
       "    .dataframe tbody tr th {\n",
       "        vertical-align: top;\n",
       "    }\n",
       "\n",
       "    .dataframe thead th {\n",
       "        text-align: right;\n",
       "    }\n",
       "</style>\n",
       "<table border=\"1\" class=\"dataframe\">\n",
       "  <thead>\n",
       "    <tr style=\"text-align: right;\">\n",
       "      <th></th>\n",
       "      <th>A</th>\n",
       "      <th>B</th>\n",
       "      <th>C</th>\n",
       "      <th>D</th>\n",
       "      <th>E</th>\n",
       "    </tr>\n",
       "  </thead>\n",
       "  <tbody>\n",
       "    <tr>\n",
       "      <th>2013-01-01</th>\n",
       "      <td>0.952330</td>\n",
       "      <td>1.234955</td>\n",
       "      <td>-0.331372</td>\n",
       "      <td>-0.360182</td>\n",
       "      <td>T</td>\n",
       "    </tr>\n",
       "    <tr>\n",
       "      <th>2013-01-03</th>\n",
       "      <td>-1.309907</td>\n",
       "      <td>-0.275858</td>\n",
       "      <td>-1.119454</td>\n",
       "      <td>-0.540678</td>\n",
       "      <td>T</td>\n",
       "    </tr>\n",
       "    <tr>\n",
       "      <th>2013-01-04</th>\n",
       "      <td>-1.265385</td>\n",
       "      <td>0.854334</td>\n",
       "      <td>0.418519</td>\n",
       "      <td>1.110354</td>\n",
       "      <td>T</td>\n",
       "    </tr>\n",
       "    <tr>\n",
       "      <th>2013-01-05</th>\n",
       "      <td>-1.474548</td>\n",
       "      <td>-1.379693</td>\n",
       "      <td>0.126495</td>\n",
       "      <td>-0.924273</td>\n",
       "      <td>D</td>\n",
       "    </tr>\n",
       "    <tr>\n",
       "      <th>2013-01-06</th>\n",
       "      <td>-0.993208</td>\n",
       "      <td>0.424838</td>\n",
       "      <td>-0.344419</td>\n",
       "      <td>-0.973588</td>\n",
       "      <td>U</td>\n",
       "    </tr>\n",
       "  </tbody>\n",
       "</table>\n",
       "</div>"
      ],
      "text/plain": [
       "                   A         B         C         D  E\n",
       "2013-01-01  0.952330  1.234955 -0.331372 -0.360182  T\n",
       "2013-01-03 -1.309907 -0.275858 -1.119454 -0.540678  T\n",
       "2013-01-04 -1.265385  0.854334  0.418519  1.110354  T\n",
       "2013-01-05 -1.474548 -1.379693  0.126495 -0.924273  D\n",
       "2013-01-06 -0.993208  0.424838 -0.344419 -0.973588  U"
      ]
     },
     "execution_count": 61,
     "metadata": {},
     "output_type": "execute_result"
    }
   ],
   "source": [
    "df2[df2.E.isin(['T','D','U'])]"
   ]
  },
  {
   "cell_type": "markdown",
   "metadata": {},
   "source": [
    "<mark>仿照示例创建 s1，长度为 7，数值任意，其中 index 为 20200206 起的 7 天"
   ]
  },
  {
   "cell_type": "code",
   "execution_count": 62,
   "metadata": {},
   "outputs": [
    {
     "data": {
      "text/plain": [
       "2020-02-06    1\n",
       "2020-02-07    2\n",
       "2020-02-08    3\n",
       "2020-02-09    4\n",
       "2020-02-10    5\n",
       "2020-02-11    6\n",
       "2020-02-12    7\n",
       "Freq: D, dtype: int64"
      ]
     },
     "execution_count": 62,
     "metadata": {},
     "output_type": "execute_result"
    }
   ],
   "source": [
    "s1 = pd.Series(list(range(1,8)), index=pd.date_range('20200206', periods=7))#list(range(1,8))==[1, 2, 3, 4, 5, 6,7]\n",
    "s1"
   ]
  },
  {
   "cell_type": "markdown",
   "metadata": {},
   "source": [
    "<mark>at - 仿照示例将 df 的 0 行 B 列赋值为 0"
   ]
  },
  {
   "cell_type": "code",
   "execution_count": 63,
   "metadata": {},
   "outputs": [
    {
     "data": {
      "text/html": [
       "<div>\n",
       "<style scoped>\n",
       "    .dataframe tbody tr th:only-of-type {\n",
       "        vertical-align: middle;\n",
       "    }\n",
       "\n",
       "    .dataframe tbody tr th {\n",
       "        vertical-align: top;\n",
       "    }\n",
       "\n",
       "    .dataframe thead th {\n",
       "        text-align: right;\n",
       "    }\n",
       "</style>\n",
       "<table border=\"1\" class=\"dataframe\">\n",
       "  <thead>\n",
       "    <tr style=\"text-align: right;\">\n",
       "      <th></th>\n",
       "      <th>A</th>\n",
       "      <th>B</th>\n",
       "      <th>C</th>\n",
       "      <th>D</th>\n",
       "    </tr>\n",
       "  </thead>\n",
       "  <tbody>\n",
       "    <tr>\n",
       "      <th>2013-01-01</th>\n",
       "      <td>0.952330</td>\n",
       "      <td>1.234955</td>\n",
       "      <td>-0.331372</td>\n",
       "      <td>-0.360182</td>\n",
       "    </tr>\n",
       "    <tr>\n",
       "      <th>2013-01-02</th>\n",
       "      <td>0.238273</td>\n",
       "      <td>-0.965770</td>\n",
       "      <td>0.848247</td>\n",
       "      <td>-0.346107</td>\n",
       "    </tr>\n",
       "    <tr>\n",
       "      <th>2013-01-03</th>\n",
       "      <td>-1.309907</td>\n",
       "      <td>-0.275858</td>\n",
       "      <td>-1.119454</td>\n",
       "      <td>-0.540678</td>\n",
       "    </tr>\n",
       "    <tr>\n",
       "      <th>2013-01-04</th>\n",
       "      <td>-1.265385</td>\n",
       "      <td>0.854334</td>\n",
       "      <td>0.418519</td>\n",
       "      <td>1.110354</td>\n",
       "    </tr>\n",
       "    <tr>\n",
       "      <th>2013-01-05</th>\n",
       "      <td>-1.474548</td>\n",
       "      <td>-1.379693</td>\n",
       "      <td>0.126495</td>\n",
       "      <td>-0.924273</td>\n",
       "    </tr>\n",
       "    <tr>\n",
       "      <th>2013-01-06</th>\n",
       "      <td>-0.993208</td>\n",
       "      <td>0.424838</td>\n",
       "      <td>-0.344419</td>\n",
       "      <td>-0.973588</td>\n",
       "    </tr>\n",
       "  </tbody>\n",
       "</table>\n",
       "</div>"
      ],
      "text/plain": [
       "                   A         B         C         D\n",
       "2013-01-01  0.952330  1.234955 -0.331372 -0.360182\n",
       "2013-01-02  0.238273 -0.965770  0.848247 -0.346107\n",
       "2013-01-03 -1.309907 -0.275858 -1.119454 -0.540678\n",
       "2013-01-04 -1.265385  0.854334  0.418519  1.110354\n",
       "2013-01-05 -1.474548 -1.379693  0.126495 -0.924273\n",
       "2013-01-06 -0.993208  0.424838 -0.344419 -0.973588"
      ]
     },
     "execution_count": 63,
     "metadata": {},
     "output_type": "execute_result"
    }
   ],
   "source": [
    "df"
   ]
  },
  {
   "cell_type": "code",
   "execution_count": 64,
   "metadata": {},
   "outputs": [
    {
     "data": {
      "text/html": [
       "<div>\n",
       "<style scoped>\n",
       "    .dataframe tbody tr th:only-of-type {\n",
       "        vertical-align: middle;\n",
       "    }\n",
       "\n",
       "    .dataframe tbody tr th {\n",
       "        vertical-align: top;\n",
       "    }\n",
       "\n",
       "    .dataframe thead th {\n",
       "        text-align: right;\n",
       "    }\n",
       "</style>\n",
       "<table border=\"1\" class=\"dataframe\">\n",
       "  <thead>\n",
       "    <tr style=\"text-align: right;\">\n",
       "      <th></th>\n",
       "      <th>A</th>\n",
       "      <th>B</th>\n",
       "      <th>C</th>\n",
       "      <th>D</th>\n",
       "    </tr>\n",
       "  </thead>\n",
       "  <tbody>\n",
       "    <tr>\n",
       "      <th>2013-01-01</th>\n",
       "      <td>0.952330</td>\n",
       "      <td>0.000000</td>\n",
       "      <td>-0.331372</td>\n",
       "      <td>-0.360182</td>\n",
       "    </tr>\n",
       "    <tr>\n",
       "      <th>2013-01-02</th>\n",
       "      <td>0.238273</td>\n",
       "      <td>-0.965770</td>\n",
       "      <td>0.848247</td>\n",
       "      <td>-0.346107</td>\n",
       "    </tr>\n",
       "    <tr>\n",
       "      <th>2013-01-03</th>\n",
       "      <td>-1.309907</td>\n",
       "      <td>-0.275858</td>\n",
       "      <td>-1.119454</td>\n",
       "      <td>-0.540678</td>\n",
       "    </tr>\n",
       "    <tr>\n",
       "      <th>2013-01-04</th>\n",
       "      <td>-1.265385</td>\n",
       "      <td>0.854334</td>\n",
       "      <td>0.418519</td>\n",
       "      <td>1.110354</td>\n",
       "    </tr>\n",
       "    <tr>\n",
       "      <th>2013-01-05</th>\n",
       "      <td>-1.474548</td>\n",
       "      <td>-1.379693</td>\n",
       "      <td>0.126495</td>\n",
       "      <td>-0.924273</td>\n",
       "    </tr>\n",
       "    <tr>\n",
       "      <th>2013-01-06</th>\n",
       "      <td>-0.993208</td>\n",
       "      <td>0.424838</td>\n",
       "      <td>-0.344419</td>\n",
       "      <td>-0.973588</td>\n",
       "    </tr>\n",
       "  </tbody>\n",
       "</table>\n",
       "</div>"
      ],
      "text/plain": [
       "                   A         B         C         D\n",
       "2013-01-01  0.952330  0.000000 -0.331372 -0.360182\n",
       "2013-01-02  0.238273 -0.965770  0.848247 -0.346107\n",
       "2013-01-03 -1.309907 -0.275858 -1.119454 -0.540678\n",
       "2013-01-04 -1.265385  0.854334  0.418519  1.110354\n",
       "2013-01-05 -1.474548 -1.379693  0.126495 -0.924273\n",
       "2013-01-06 -0.993208  0.424838 -0.344419 -0.973588"
      ]
     },
     "execution_count": 64,
     "metadata": {},
     "output_type": "execute_result"
    }
   ],
   "source": [
    "df.at['20130101','B']=0\n",
    "df"
   ]
  },
  {
   "cell_type": "markdown",
   "metadata": {},
   "source": [
    "<mark>iat - 仿照示例将 df 的 0 行 0 列赋值为 0"
   ]
  },
  {
   "cell_type": "code",
   "execution_count": 65,
   "metadata": {},
   "outputs": [
    {
     "data": {
      "text/html": [
       "<div>\n",
       "<style scoped>\n",
       "    .dataframe tbody tr th:only-of-type {\n",
       "        vertical-align: middle;\n",
       "    }\n",
       "\n",
       "    .dataframe tbody tr th {\n",
       "        vertical-align: top;\n",
       "    }\n",
       "\n",
       "    .dataframe thead th {\n",
       "        text-align: right;\n",
       "    }\n",
       "</style>\n",
       "<table border=\"1\" class=\"dataframe\">\n",
       "  <thead>\n",
       "    <tr style=\"text-align: right;\">\n",
       "      <th></th>\n",
       "      <th>A</th>\n",
       "      <th>B</th>\n",
       "      <th>C</th>\n",
       "      <th>D</th>\n",
       "    </tr>\n",
       "  </thead>\n",
       "  <tbody>\n",
       "    <tr>\n",
       "      <th>2013-01-01</th>\n",
       "      <td>0.000000</td>\n",
       "      <td>0.000000</td>\n",
       "      <td>-0.331372</td>\n",
       "      <td>-0.360182</td>\n",
       "    </tr>\n",
       "    <tr>\n",
       "      <th>2013-01-02</th>\n",
       "      <td>0.238273</td>\n",
       "      <td>-0.965770</td>\n",
       "      <td>0.848247</td>\n",
       "      <td>-0.346107</td>\n",
       "    </tr>\n",
       "    <tr>\n",
       "      <th>2013-01-03</th>\n",
       "      <td>-1.309907</td>\n",
       "      <td>-0.275858</td>\n",
       "      <td>-1.119454</td>\n",
       "      <td>-0.540678</td>\n",
       "    </tr>\n",
       "    <tr>\n",
       "      <th>2013-01-04</th>\n",
       "      <td>-1.265385</td>\n",
       "      <td>0.854334</td>\n",
       "      <td>0.418519</td>\n",
       "      <td>1.110354</td>\n",
       "    </tr>\n",
       "    <tr>\n",
       "      <th>2013-01-05</th>\n",
       "      <td>-1.474548</td>\n",
       "      <td>-1.379693</td>\n",
       "      <td>0.126495</td>\n",
       "      <td>-0.924273</td>\n",
       "    </tr>\n",
       "    <tr>\n",
       "      <th>2013-01-06</th>\n",
       "      <td>-0.993208</td>\n",
       "      <td>0.424838</td>\n",
       "      <td>-0.344419</td>\n",
       "      <td>-0.973588</td>\n",
       "    </tr>\n",
       "  </tbody>\n",
       "</table>\n",
       "</div>"
      ],
      "text/plain": [
       "                   A         B         C         D\n",
       "2013-01-01  0.000000  0.000000 -0.331372 -0.360182\n",
       "2013-01-02  0.238273 -0.965770  0.848247 -0.346107\n",
       "2013-01-03 -1.309907 -0.275858 -1.119454 -0.540678\n",
       "2013-01-04 -1.265385  0.854334  0.418519  1.110354\n",
       "2013-01-05 -1.474548 -1.379693  0.126495 -0.924273\n",
       "2013-01-06 -0.993208  0.424838 -0.344419 -0.973588"
      ]
     },
     "execution_count": 65,
     "metadata": {},
     "output_type": "execute_result"
    }
   ],
   "source": [
    "df.iat[0,0]=0\n",
    "df"
   ]
  },
  {
   "cell_type": "markdown",
   "metadata": {},
   "source": [
    "<mark>将 df 的 D 列均赋值为 5"
   ]
  },
  {
   "cell_type": "code",
   "execution_count": 66,
   "metadata": {},
   "outputs": [
    {
     "data": {
      "text/html": [
       "<div>\n",
       "<style scoped>\n",
       "    .dataframe tbody tr th:only-of-type {\n",
       "        vertical-align: middle;\n",
       "    }\n",
       "\n",
       "    .dataframe tbody tr th {\n",
       "        vertical-align: top;\n",
       "    }\n",
       "\n",
       "    .dataframe thead th {\n",
       "        text-align: right;\n",
       "    }\n",
       "</style>\n",
       "<table border=\"1\" class=\"dataframe\">\n",
       "  <thead>\n",
       "    <tr style=\"text-align: right;\">\n",
       "      <th></th>\n",
       "      <th>A</th>\n",
       "      <th>B</th>\n",
       "      <th>C</th>\n",
       "      <th>D</th>\n",
       "    </tr>\n",
       "  </thead>\n",
       "  <tbody>\n",
       "    <tr>\n",
       "      <th>2013-01-01</th>\n",
       "      <td>0.000000</td>\n",
       "      <td>0.000000</td>\n",
       "      <td>-0.331372</td>\n",
       "      <td>5</td>\n",
       "    </tr>\n",
       "    <tr>\n",
       "      <th>2013-01-02</th>\n",
       "      <td>0.238273</td>\n",
       "      <td>-0.965770</td>\n",
       "      <td>0.848247</td>\n",
       "      <td>5</td>\n",
       "    </tr>\n",
       "    <tr>\n",
       "      <th>2013-01-03</th>\n",
       "      <td>-1.309907</td>\n",
       "      <td>-0.275858</td>\n",
       "      <td>-1.119454</td>\n",
       "      <td>5</td>\n",
       "    </tr>\n",
       "    <tr>\n",
       "      <th>2013-01-04</th>\n",
       "      <td>-1.265385</td>\n",
       "      <td>0.854334</td>\n",
       "      <td>0.418519</td>\n",
       "      <td>5</td>\n",
       "    </tr>\n",
       "    <tr>\n",
       "      <th>2013-01-05</th>\n",
       "      <td>-1.474548</td>\n",
       "      <td>-1.379693</td>\n",
       "      <td>0.126495</td>\n",
       "      <td>5</td>\n",
       "    </tr>\n",
       "    <tr>\n",
       "      <th>2013-01-06</th>\n",
       "      <td>-0.993208</td>\n",
       "      <td>0.424838</td>\n",
       "      <td>-0.344419</td>\n",
       "      <td>5</td>\n",
       "    </tr>\n",
       "  </tbody>\n",
       "</table>\n",
       "</div>"
      ],
      "text/plain": [
       "                   A         B         C  D\n",
       "2013-01-01  0.000000  0.000000 -0.331372  5\n",
       "2013-01-02  0.238273 -0.965770  0.848247  5\n",
       "2013-01-03 -1.309907 -0.275858 -1.119454  5\n",
       "2013-01-04 -1.265385  0.854334  0.418519  5\n",
       "2013-01-05 -1.474548 -1.379693  0.126495  5\n",
       "2013-01-06 -0.993208  0.424838 -0.344419  5"
      ]
     },
     "execution_count": 66,
     "metadata": {},
     "output_type": "execute_result"
    }
   ],
   "source": [
    "df.D=5\n",
    "df.loc[:,'D']=5#效果同上，逗号前面的冒号不能省略\n",
    "df.loc[:,'D']=np.array([5] * len(df))#效果同上\n",
    "df"
   ]
  },
  {
   "cell_type": "markdown",
   "metadata": {},
   "source": [
    "<mark>仿照示例将 df 中数值为 5 的赋值为其相反数"
   ]
  },
  {
   "cell_type": "code",
   "execution_count": 67,
   "metadata": {},
   "outputs": [
    {
     "data": {
      "text/html": [
       "<div>\n",
       "<style scoped>\n",
       "    .dataframe tbody tr th:only-of-type {\n",
       "        vertical-align: middle;\n",
       "    }\n",
       "\n",
       "    .dataframe tbody tr th {\n",
       "        vertical-align: top;\n",
       "    }\n",
       "\n",
       "    .dataframe thead th {\n",
       "        text-align: right;\n",
       "    }\n",
       "</style>\n",
       "<table border=\"1\" class=\"dataframe\">\n",
       "  <thead>\n",
       "    <tr style=\"text-align: right;\">\n",
       "      <th></th>\n",
       "      <th>A</th>\n",
       "      <th>B</th>\n",
       "      <th>C</th>\n",
       "      <th>D</th>\n",
       "    </tr>\n",
       "  </thead>\n",
       "  <tbody>\n",
       "    <tr>\n",
       "      <th>2013-01-01</th>\n",
       "      <td>0.000000</td>\n",
       "      <td>0.000000</td>\n",
       "      <td>-0.331372</td>\n",
       "      <td>-5</td>\n",
       "    </tr>\n",
       "    <tr>\n",
       "      <th>2013-01-02</th>\n",
       "      <td>0.238273</td>\n",
       "      <td>-0.965770</td>\n",
       "      <td>0.848247</td>\n",
       "      <td>-5</td>\n",
       "    </tr>\n",
       "    <tr>\n",
       "      <th>2013-01-03</th>\n",
       "      <td>-1.309907</td>\n",
       "      <td>-0.275858</td>\n",
       "      <td>-1.119454</td>\n",
       "      <td>-5</td>\n",
       "    </tr>\n",
       "    <tr>\n",
       "      <th>2013-01-04</th>\n",
       "      <td>-1.265385</td>\n",
       "      <td>0.854334</td>\n",
       "      <td>0.418519</td>\n",
       "      <td>-5</td>\n",
       "    </tr>\n",
       "    <tr>\n",
       "      <th>2013-01-05</th>\n",
       "      <td>-1.474548</td>\n",
       "      <td>-1.379693</td>\n",
       "      <td>0.126495</td>\n",
       "      <td>-5</td>\n",
       "    </tr>\n",
       "    <tr>\n",
       "      <th>2013-01-06</th>\n",
       "      <td>-0.993208</td>\n",
       "      <td>0.424838</td>\n",
       "      <td>-0.344419</td>\n",
       "      <td>-5</td>\n",
       "    </tr>\n",
       "  </tbody>\n",
       "</table>\n",
       "</div>"
      ],
      "text/plain": [
       "                   A         B         C  D\n",
       "2013-01-01  0.000000  0.000000 -0.331372 -5\n",
       "2013-01-02  0.238273 -0.965770  0.848247 -5\n",
       "2013-01-03 -1.309907 -0.275858 -1.119454 -5\n",
       "2013-01-04 -1.265385  0.854334  0.418519 -5\n",
       "2013-01-05 -1.474548 -1.379693  0.126495 -5\n",
       "2013-01-06 -0.993208  0.424838 -0.344419 -5"
      ]
     },
     "execution_count": 67,
     "metadata": {},
     "output_type": "execute_result"
    }
   ],
   "source": [
    "df[df==5]=-df\n",
    "df"
   ]
  },
  {
   "cell_type": "markdown",
   "metadata": {},
   "source": [
    "<mark>按照示例创建 df1"
   ]
  },
  {
   "cell_type": "code",
   "execution_count": 68,
   "metadata": {},
   "outputs": [
    {
     "data": {
      "text/html": [
       "<div>\n",
       "<style scoped>\n",
       "    .dataframe tbody tr th:only-of-type {\n",
       "        vertical-align: middle;\n",
       "    }\n",
       "\n",
       "    .dataframe tbody tr th {\n",
       "        vertical-align: top;\n",
       "    }\n",
       "\n",
       "    .dataframe thead th {\n",
       "        text-align: right;\n",
       "    }\n",
       "</style>\n",
       "<table border=\"1\" class=\"dataframe\">\n",
       "  <thead>\n",
       "    <tr style=\"text-align: right;\">\n",
       "      <th></th>\n",
       "      <th>A</th>\n",
       "      <th>B</th>\n",
       "      <th>C</th>\n",
       "      <th>D</th>\n",
       "      <th>E</th>\n",
       "    </tr>\n",
       "  </thead>\n",
       "  <tbody>\n",
       "    <tr>\n",
       "      <th>2013-01-01</th>\n",
       "      <td>0.000000</td>\n",
       "      <td>0.000000</td>\n",
       "      <td>-0.331372</td>\n",
       "      <td>-5</td>\n",
       "      <td>NaN</td>\n",
       "    </tr>\n",
       "    <tr>\n",
       "      <th>2013-01-02</th>\n",
       "      <td>0.238273</td>\n",
       "      <td>-0.965770</td>\n",
       "      <td>0.848247</td>\n",
       "      <td>-5</td>\n",
       "      <td>NaN</td>\n",
       "    </tr>\n",
       "    <tr>\n",
       "      <th>2013-01-03</th>\n",
       "      <td>-1.309907</td>\n",
       "      <td>-0.275858</td>\n",
       "      <td>-1.119454</td>\n",
       "      <td>-5</td>\n",
       "      <td>NaN</td>\n",
       "    </tr>\n",
       "    <tr>\n",
       "      <th>2013-01-04</th>\n",
       "      <td>-1.265385</td>\n",
       "      <td>0.854334</td>\n",
       "      <td>0.418519</td>\n",
       "      <td>-5</td>\n",
       "      <td>NaN</td>\n",
       "    </tr>\n",
       "  </tbody>\n",
       "</table>\n",
       "</div>"
      ],
      "text/plain": [
       "                   A         B         C  D   E\n",
       "2013-01-01  0.000000  0.000000 -0.331372 -5 NaN\n",
       "2013-01-02  0.238273 -0.965770  0.848247 -5 NaN\n",
       "2013-01-03 -1.309907 -0.275858 -1.119454 -5 NaN\n",
       "2013-01-04 -1.265385  0.854334  0.418519 -5 NaN"
      ]
     },
     "execution_count": 68,
     "metadata": {},
     "output_type": "execute_result"
    }
   ],
   "source": [
    "#Reindexing allows you to change/add/delete the index on a specified axis. This returns a copy of the data.\n",
    "df1 = df.reindex(index=dates[0:4], columns=list(df.columns) + ['E'])#\n",
    "df1"
   ]
  },
  {
   "cell_type": "markdown",
   "metadata": {},
   "source": [
    "<mark>按照示例给 E 列 0,1 行赋值为 1"
   ]
  },
  {
   "cell_type": "code",
   "execution_count": 69,
   "metadata": {},
   "outputs": [
    {
     "data": {
      "text/html": [
       "<div>\n",
       "<style scoped>\n",
       "    .dataframe tbody tr th:only-of-type {\n",
       "        vertical-align: middle;\n",
       "    }\n",
       "\n",
       "    .dataframe tbody tr th {\n",
       "        vertical-align: top;\n",
       "    }\n",
       "\n",
       "    .dataframe thead th {\n",
       "        text-align: right;\n",
       "    }\n",
       "</style>\n",
       "<table border=\"1\" class=\"dataframe\">\n",
       "  <thead>\n",
       "    <tr style=\"text-align: right;\">\n",
       "      <th></th>\n",
       "      <th>A</th>\n",
       "      <th>B</th>\n",
       "      <th>C</th>\n",
       "      <th>D</th>\n",
       "      <th>E</th>\n",
       "    </tr>\n",
       "  </thead>\n",
       "  <tbody>\n",
       "    <tr>\n",
       "      <th>2013-01-01</th>\n",
       "      <td>0.000000</td>\n",
       "      <td>0.000000</td>\n",
       "      <td>-0.331372</td>\n",
       "      <td>-5</td>\n",
       "      <td>1.0</td>\n",
       "    </tr>\n",
       "    <tr>\n",
       "      <th>2013-01-02</th>\n",
       "      <td>0.238273</td>\n",
       "      <td>-0.965770</td>\n",
       "      <td>0.848247</td>\n",
       "      <td>-5</td>\n",
       "      <td>1.0</td>\n",
       "    </tr>\n",
       "    <tr>\n",
       "      <th>2013-01-03</th>\n",
       "      <td>-1.309907</td>\n",
       "      <td>-0.275858</td>\n",
       "      <td>-1.119454</td>\n",
       "      <td>-5</td>\n",
       "      <td>NaN</td>\n",
       "    </tr>\n",
       "    <tr>\n",
       "      <th>2013-01-04</th>\n",
       "      <td>-1.265385</td>\n",
       "      <td>0.854334</td>\n",
       "      <td>0.418519</td>\n",
       "      <td>-5</td>\n",
       "      <td>NaN</td>\n",
       "    </tr>\n",
       "  </tbody>\n",
       "</table>\n",
       "</div>"
      ],
      "text/plain": [
       "                   A         B         C  D    E\n",
       "2013-01-01  0.000000  0.000000 -0.331372 -5  1.0\n",
       "2013-01-02  0.238273 -0.965770  0.848247 -5  1.0\n",
       "2013-01-03 -1.309907 -0.275858 -1.119454 -5  NaN\n",
       "2013-01-04 -1.265385  0.854334  0.418519 -5  NaN"
      ]
     },
     "execution_count": 69,
     "metadata": {},
     "output_type": "execute_result"
    }
   ],
   "source": [
    "df1.iloc[[0,1],4]=1#等同于：df1.loc[dates[0]:dates[1], 'E'] = 1或df1.iloc[0:2,4]\n",
    "df1"
   ]
  },
  {
   "cell_type": "markdown",
   "metadata": {},
   "source": [
    "<mark>dropna - 按照示例对 df1 去除所有含有空值的行"
   ]
  },
  {
   "cell_type": "code",
   "execution_count": 70,
   "metadata": {},
   "outputs": [
    {
     "data": {
      "text/html": [
       "<div>\n",
       "<style scoped>\n",
       "    .dataframe tbody tr th:only-of-type {\n",
       "        vertical-align: middle;\n",
       "    }\n",
       "\n",
       "    .dataframe tbody tr th {\n",
       "        vertical-align: top;\n",
       "    }\n",
       "\n",
       "    .dataframe thead th {\n",
       "        text-align: right;\n",
       "    }\n",
       "</style>\n",
       "<table border=\"1\" class=\"dataframe\">\n",
       "  <thead>\n",
       "    <tr style=\"text-align: right;\">\n",
       "      <th></th>\n",
       "      <th>A</th>\n",
       "      <th>B</th>\n",
       "      <th>C</th>\n",
       "      <th>D</th>\n",
       "      <th>E</th>\n",
       "    </tr>\n",
       "  </thead>\n",
       "  <tbody>\n",
       "    <tr>\n",
       "      <th>2013-01-01</th>\n",
       "      <td>0.000000</td>\n",
       "      <td>0.000000</td>\n",
       "      <td>-0.331372</td>\n",
       "      <td>-5</td>\n",
       "      <td>1.0</td>\n",
       "    </tr>\n",
       "    <tr>\n",
       "      <th>2013-01-02</th>\n",
       "      <td>0.238273</td>\n",
       "      <td>-0.965770</td>\n",
       "      <td>0.848247</td>\n",
       "      <td>-5</td>\n",
       "      <td>1.0</td>\n",
       "    </tr>\n",
       "    <tr>\n",
       "      <th>2013-01-03</th>\n",
       "      <td>-1.309907</td>\n",
       "      <td>-0.275858</td>\n",
       "      <td>-1.119454</td>\n",
       "      <td>-5</td>\n",
       "      <td>NaN</td>\n",
       "    </tr>\n",
       "    <tr>\n",
       "      <th>2013-01-04</th>\n",
       "      <td>-1.265385</td>\n",
       "      <td>0.854334</td>\n",
       "      <td>0.418519</td>\n",
       "      <td>-5</td>\n",
       "      <td>NaN</td>\n",
       "    </tr>\n",
       "  </tbody>\n",
       "</table>\n",
       "</div>"
      ],
      "text/plain": [
       "                   A         B         C  D    E\n",
       "2013-01-01  0.000000  0.000000 -0.331372 -5  1.0\n",
       "2013-01-02  0.238273 -0.965770  0.848247 -5  1.0\n",
       "2013-01-03 -1.309907 -0.275858 -1.119454 -5  NaN\n",
       "2013-01-04 -1.265385  0.854334  0.418519 -5  NaN"
      ]
     },
     "execution_count": 70,
     "metadata": {},
     "output_type": "execute_result"
    }
   ],
   "source": [
    "#默认返回副本，不改变原dataframe\n",
    "#inplacebool, default False，If True, do operation inplace and return None.\n",
    "#how{‘any’, ‘all’}, default ‘any’\n",
    "df1.dropna(how='any')\n",
    "df1"
   ]
  },
  {
   "cell_type": "markdown",
   "metadata": {},
   "source": [
    "<mark>fillna - 按照示例将 df1 中所有空值用数值 5 填充"
   ]
  },
  {
   "cell_type": "code",
   "execution_count": 71,
   "metadata": {},
   "outputs": [
    {
     "data": {
      "text/html": [
       "<div>\n",
       "<style scoped>\n",
       "    .dataframe tbody tr th:only-of-type {\n",
       "        vertical-align: middle;\n",
       "    }\n",
       "\n",
       "    .dataframe tbody tr th {\n",
       "        vertical-align: top;\n",
       "    }\n",
       "\n",
       "    .dataframe thead th {\n",
       "        text-align: right;\n",
       "    }\n",
       "</style>\n",
       "<table border=\"1\" class=\"dataframe\">\n",
       "  <thead>\n",
       "    <tr style=\"text-align: right;\">\n",
       "      <th></th>\n",
       "      <th>A</th>\n",
       "      <th>B</th>\n",
       "      <th>C</th>\n",
       "      <th>D</th>\n",
       "      <th>E</th>\n",
       "    </tr>\n",
       "  </thead>\n",
       "  <tbody>\n",
       "    <tr>\n",
       "      <th>2013-01-01</th>\n",
       "      <td>0.000000</td>\n",
       "      <td>0.000000</td>\n",
       "      <td>-0.331372</td>\n",
       "      <td>-5</td>\n",
       "      <td>1.0</td>\n",
       "    </tr>\n",
       "    <tr>\n",
       "      <th>2013-01-02</th>\n",
       "      <td>0.238273</td>\n",
       "      <td>-0.965770</td>\n",
       "      <td>0.848247</td>\n",
       "      <td>-5</td>\n",
       "      <td>1.0</td>\n",
       "    </tr>\n",
       "    <tr>\n",
       "      <th>2013-01-03</th>\n",
       "      <td>-1.309907</td>\n",
       "      <td>-0.275858</td>\n",
       "      <td>-1.119454</td>\n",
       "      <td>-5</td>\n",
       "      <td>5.0</td>\n",
       "    </tr>\n",
       "    <tr>\n",
       "      <th>2013-01-04</th>\n",
       "      <td>-1.265385</td>\n",
       "      <td>0.854334</td>\n",
       "      <td>0.418519</td>\n",
       "      <td>-5</td>\n",
       "      <td>5.0</td>\n",
       "    </tr>\n",
       "  </tbody>\n",
       "</table>\n",
       "</div>"
      ],
      "text/plain": [
       "                   A         B         C  D    E\n",
       "2013-01-01  0.000000  0.000000 -0.331372 -5  1.0\n",
       "2013-01-02  0.238273 -0.965770  0.848247 -5  1.0\n",
       "2013-01-03 -1.309907 -0.275858 -1.119454 -5  5.0\n",
       "2013-01-04 -1.265385  0.854334  0.418519 -5  5.0"
      ]
     },
     "execution_count": 71,
     "metadata": {},
     "output_type": "execute_result"
    }
   ],
   "source": [
    "#默认返回副本，不改变原dataframe\n",
    "#inplacebool, default False，If True, do operation inplace and return None.\n",
    "df1.fillna(value=5)"
   ]
  },
  {
   "cell_type": "markdown",
   "metadata": {},
   "source": [
    "<mark>isna - 按照示例判断 df1 中每个值是否为空值"
   ]
  },
  {
   "cell_type": "code",
   "execution_count": 72,
   "metadata": {},
   "outputs": [
    {
     "data": {
      "text/html": [
       "<div>\n",
       "<style scoped>\n",
       "    .dataframe tbody tr th:only-of-type {\n",
       "        vertical-align: middle;\n",
       "    }\n",
       "\n",
       "    .dataframe tbody tr th {\n",
       "        vertical-align: top;\n",
       "    }\n",
       "\n",
       "    .dataframe thead th {\n",
       "        text-align: right;\n",
       "    }\n",
       "</style>\n",
       "<table border=\"1\" class=\"dataframe\">\n",
       "  <thead>\n",
       "    <tr style=\"text-align: right;\">\n",
       "      <th></th>\n",
       "      <th>A</th>\n",
       "      <th>B</th>\n",
       "      <th>C</th>\n",
       "      <th>D</th>\n",
       "      <th>E</th>\n",
       "    </tr>\n",
       "  </thead>\n",
       "  <tbody>\n",
       "    <tr>\n",
       "      <th>2013-01-01</th>\n",
       "      <td>False</td>\n",
       "      <td>False</td>\n",
       "      <td>False</td>\n",
       "      <td>False</td>\n",
       "      <td>False</td>\n",
       "    </tr>\n",
       "    <tr>\n",
       "      <th>2013-01-02</th>\n",
       "      <td>False</td>\n",
       "      <td>False</td>\n",
       "      <td>False</td>\n",
       "      <td>False</td>\n",
       "      <td>False</td>\n",
       "    </tr>\n",
       "    <tr>\n",
       "      <th>2013-01-03</th>\n",
       "      <td>False</td>\n",
       "      <td>False</td>\n",
       "      <td>False</td>\n",
       "      <td>False</td>\n",
       "      <td>True</td>\n",
       "    </tr>\n",
       "    <tr>\n",
       "      <th>2013-01-04</th>\n",
       "      <td>False</td>\n",
       "      <td>False</td>\n",
       "      <td>False</td>\n",
       "      <td>False</td>\n",
       "      <td>True</td>\n",
       "    </tr>\n",
       "  </tbody>\n",
       "</table>\n",
       "</div>"
      ],
      "text/plain": [
       "                A      B      C      D      E\n",
       "2013-01-01  False  False  False  False  False\n",
       "2013-01-02  False  False  False  False  False\n",
       "2013-01-03  False  False  False  False   True\n",
       "2013-01-04  False  False  False  False   True"
      ]
     },
     "execution_count": 72,
     "metadata": {},
     "output_type": "execute_result"
    }
   ],
   "source": [
    "df1.isna()"
   ]
  },
  {
   "cell_type": "markdown",
   "metadata": {},
   "source": [
    "<mark>mean - 按照示例计算 df 每一列的平均值"
   ]
  },
  {
   "cell_type": "code",
   "execution_count": 73,
   "metadata": {},
   "outputs": [
    {
     "data": {
      "text/plain": [
       "A   -0.800796\n",
       "B   -0.223692\n",
       "C   -0.066997\n",
       "D   -5.000000\n",
       "dtype: float64"
      ]
     },
     "execution_count": 73,
     "metadata": {},
     "output_type": "execute_result"
    }
   ],
   "source": [
    "df.mean()"
   ]
  },
  {
   "cell_type": "markdown",
   "metadata": {},
   "source": [
    "<mark>mean - 按照示例计算 df 每一行的平均值"
   ]
  },
  {
   "cell_type": "code",
   "execution_count": 74,
   "metadata": {},
   "outputs": [
    {
     "data": {
      "text/plain": [
       "2013-01-01   -1.332843\n",
       "2013-01-02   -1.219812\n",
       "2013-01-03   -1.926305\n",
       "2013-01-04   -1.248133\n",
       "2013-01-05   -1.931936\n",
       "2013-01-06   -1.478197\n",
       "Freq: D, dtype: float64"
      ]
     },
     "execution_count": 74,
     "metadata": {},
     "output_type": "execute_result"
    }
   ],
   "source": [
    "df.mean(1)"
   ]
  },
  {
   "cell_type": "markdown",
   "metadata": {},
   "source": [
    "<mark>shift - 按照示例创建 s 并后移 2 行"
   ]
  },
  {
   "cell_type": "code",
   "execution_count": 75,
   "metadata": {},
   "outputs": [
    {
     "data": {
      "text/plain": [
       "2013-01-01    NaN\n",
       "2013-01-02    NaN\n",
       "2013-01-03    1.0\n",
       "2013-01-04    3.0\n",
       "2013-01-05    5.0\n",
       "2013-01-06    NaN\n",
       "Freq: D, dtype: float64"
      ]
     },
     "execution_count": 75,
     "metadata": {},
     "output_type": "execute_result"
    }
   ],
   "source": [
    "#shift(periods=1, freq改变的是时间索引（如果有）=None, axis=0, fill_value=None)\n",
    "#freq改变的是时间索引（如果有）\n",
    "s = pd.Series([1, 3, 5, np.nan, 6, 8], index=dates).shift(2)\n",
    "s"
   ]
  },
  {
   "cell_type": "markdown",
   "metadata": {},
   "source": [
    "<mark>sub - 按照示例将 df 每一列与 s 相减"
   ]
  },
  {
   "cell_type": "code",
   "execution_count": 76,
   "metadata": {},
   "outputs": [
    {
     "data": {
      "text/html": [
       "<div>\n",
       "<style scoped>\n",
       "    .dataframe tbody tr th:only-of-type {\n",
       "        vertical-align: middle;\n",
       "    }\n",
       "\n",
       "    .dataframe tbody tr th {\n",
       "        vertical-align: top;\n",
       "    }\n",
       "\n",
       "    .dataframe thead th {\n",
       "        text-align: right;\n",
       "    }\n",
       "</style>\n",
       "<table border=\"1\" class=\"dataframe\">\n",
       "  <thead>\n",
       "    <tr style=\"text-align: right;\">\n",
       "      <th></th>\n",
       "      <th>A</th>\n",
       "      <th>B</th>\n",
       "      <th>C</th>\n",
       "      <th>D</th>\n",
       "    </tr>\n",
       "  </thead>\n",
       "  <tbody>\n",
       "    <tr>\n",
       "      <th>2013-01-01</th>\n",
       "      <td>0.000000</td>\n",
       "      <td>0.000000</td>\n",
       "      <td>-0.331372</td>\n",
       "      <td>-5</td>\n",
       "    </tr>\n",
       "    <tr>\n",
       "      <th>2013-01-02</th>\n",
       "      <td>0.238273</td>\n",
       "      <td>-0.965770</td>\n",
       "      <td>0.848247</td>\n",
       "      <td>-5</td>\n",
       "    </tr>\n",
       "    <tr>\n",
       "      <th>2013-01-03</th>\n",
       "      <td>-1.309907</td>\n",
       "      <td>-0.275858</td>\n",
       "      <td>-1.119454</td>\n",
       "      <td>-5</td>\n",
       "    </tr>\n",
       "    <tr>\n",
       "      <th>2013-01-04</th>\n",
       "      <td>-1.265385</td>\n",
       "      <td>0.854334</td>\n",
       "      <td>0.418519</td>\n",
       "      <td>-5</td>\n",
       "    </tr>\n",
       "    <tr>\n",
       "      <th>2013-01-05</th>\n",
       "      <td>-1.474548</td>\n",
       "      <td>-1.379693</td>\n",
       "      <td>0.126495</td>\n",
       "      <td>-5</td>\n",
       "    </tr>\n",
       "    <tr>\n",
       "      <th>2013-01-06</th>\n",
       "      <td>-0.993208</td>\n",
       "      <td>0.424838</td>\n",
       "      <td>-0.344419</td>\n",
       "      <td>-5</td>\n",
       "    </tr>\n",
       "  </tbody>\n",
       "</table>\n",
       "</div>"
      ],
      "text/plain": [
       "                   A         B         C  D\n",
       "2013-01-01  0.000000  0.000000 -0.331372 -5\n",
       "2013-01-02  0.238273 -0.965770  0.848247 -5\n",
       "2013-01-03 -1.309907 -0.275858 -1.119454 -5\n",
       "2013-01-04 -1.265385  0.854334  0.418519 -5\n",
       "2013-01-05 -1.474548 -1.379693  0.126495 -5\n",
       "2013-01-06 -0.993208  0.424838 -0.344419 -5"
      ]
     },
     "execution_count": 76,
     "metadata": {},
     "output_type": "execute_result"
    }
   ],
   "source": [
    "df"
   ]
  },
  {
   "cell_type": "code",
   "execution_count": 77,
   "metadata": {},
   "outputs": [
    {
     "data": {
      "text/html": [
       "<div>\n",
       "<style scoped>\n",
       "    .dataframe tbody tr th:only-of-type {\n",
       "        vertical-align: middle;\n",
       "    }\n",
       "\n",
       "    .dataframe tbody tr th {\n",
       "        vertical-align: top;\n",
       "    }\n",
       "\n",
       "    .dataframe thead th {\n",
       "        text-align: right;\n",
       "    }\n",
       "</style>\n",
       "<table border=\"1\" class=\"dataframe\">\n",
       "  <thead>\n",
       "    <tr style=\"text-align: right;\">\n",
       "      <th></th>\n",
       "      <th>A</th>\n",
       "      <th>B</th>\n",
       "      <th>C</th>\n",
       "      <th>D</th>\n",
       "    </tr>\n",
       "  </thead>\n",
       "  <tbody>\n",
       "    <tr>\n",
       "      <th>2013-01-01</th>\n",
       "      <td>NaN</td>\n",
       "      <td>NaN</td>\n",
       "      <td>NaN</td>\n",
       "      <td>NaN</td>\n",
       "    </tr>\n",
       "    <tr>\n",
       "      <th>2013-01-02</th>\n",
       "      <td>NaN</td>\n",
       "      <td>NaN</td>\n",
       "      <td>NaN</td>\n",
       "      <td>NaN</td>\n",
       "    </tr>\n",
       "    <tr>\n",
       "      <th>2013-01-03</th>\n",
       "      <td>-2.309907</td>\n",
       "      <td>-1.275858</td>\n",
       "      <td>-2.119454</td>\n",
       "      <td>-6.0</td>\n",
       "    </tr>\n",
       "    <tr>\n",
       "      <th>2013-01-04</th>\n",
       "      <td>-4.265385</td>\n",
       "      <td>-2.145666</td>\n",
       "      <td>-2.581481</td>\n",
       "      <td>-8.0</td>\n",
       "    </tr>\n",
       "    <tr>\n",
       "      <th>2013-01-05</th>\n",
       "      <td>-6.474548</td>\n",
       "      <td>-6.379693</td>\n",
       "      <td>-4.873505</td>\n",
       "      <td>-10.0</td>\n",
       "    </tr>\n",
       "    <tr>\n",
       "      <th>2013-01-06</th>\n",
       "      <td>NaN</td>\n",
       "      <td>NaN</td>\n",
       "      <td>NaN</td>\n",
       "      <td>NaN</td>\n",
       "    </tr>\n",
       "  </tbody>\n",
       "</table>\n",
       "</div>"
      ],
      "text/plain": [
       "                   A         B         C     D\n",
       "2013-01-01       NaN       NaN       NaN   NaN\n",
       "2013-01-02       NaN       NaN       NaN   NaN\n",
       "2013-01-03 -2.309907 -1.275858 -2.119454  -6.0\n",
       "2013-01-04 -4.265385 -2.145666 -2.581481  -8.0\n",
       "2013-01-05 -6.474548 -6.379693 -4.873505 -10.0\n",
       "2013-01-06       NaN       NaN       NaN   NaN"
      ]
     },
     "execution_count": 77,
     "metadata": {},
     "output_type": "execute_result"
    }
   ],
   "source": [
    "df.sub(s, axis='index')"
   ]
  },
  {
   "cell_type": "markdown",
   "metadata": {},
   "source": [
    "<mark>apply & cumsum - 按照示例对 df 每一列执行累加"
   ]
  },
  {
   "cell_type": "code",
   "execution_count": 78,
   "metadata": {},
   "outputs": [
    {
     "data": {
      "text/html": [
       "<div>\n",
       "<style scoped>\n",
       "    .dataframe tbody tr th:only-of-type {\n",
       "        vertical-align: middle;\n",
       "    }\n",
       "\n",
       "    .dataframe tbody tr th {\n",
       "        vertical-align: top;\n",
       "    }\n",
       "\n",
       "    .dataframe thead th {\n",
       "        text-align: right;\n",
       "    }\n",
       "</style>\n",
       "<table border=\"1\" class=\"dataframe\">\n",
       "  <thead>\n",
       "    <tr style=\"text-align: right;\">\n",
       "      <th></th>\n",
       "      <th>A</th>\n",
       "      <th>B</th>\n",
       "      <th>C</th>\n",
       "      <th>D</th>\n",
       "    </tr>\n",
       "  </thead>\n",
       "  <tbody>\n",
       "    <tr>\n",
       "      <th>2013-01-01</th>\n",
       "      <td>0.000000</td>\n",
       "      <td>0.000000</td>\n",
       "      <td>-0.331372</td>\n",
       "      <td>-5</td>\n",
       "    </tr>\n",
       "    <tr>\n",
       "      <th>2013-01-02</th>\n",
       "      <td>0.238273</td>\n",
       "      <td>-0.965770</td>\n",
       "      <td>0.516876</td>\n",
       "      <td>-10</td>\n",
       "    </tr>\n",
       "    <tr>\n",
       "      <th>2013-01-03</th>\n",
       "      <td>-1.071634</td>\n",
       "      <td>-1.241629</td>\n",
       "      <td>-0.602578</td>\n",
       "      <td>-15</td>\n",
       "    </tr>\n",
       "    <tr>\n",
       "      <th>2013-01-04</th>\n",
       "      <td>-2.337019</td>\n",
       "      <td>-0.387295</td>\n",
       "      <td>-0.184060</td>\n",
       "      <td>-20</td>\n",
       "    </tr>\n",
       "    <tr>\n",
       "      <th>2013-01-05</th>\n",
       "      <td>-3.811567</td>\n",
       "      <td>-1.766987</td>\n",
       "      <td>-0.057564</td>\n",
       "      <td>-25</td>\n",
       "    </tr>\n",
       "    <tr>\n",
       "      <th>2013-01-06</th>\n",
       "      <td>-4.804775</td>\n",
       "      <td>-1.342150</td>\n",
       "      <td>-0.401983</td>\n",
       "      <td>-30</td>\n",
       "    </tr>\n",
       "  </tbody>\n",
       "</table>\n",
       "</div>"
      ],
      "text/plain": [
       "                   A         B         C   D\n",
       "2013-01-01  0.000000  0.000000 -0.331372  -5\n",
       "2013-01-02  0.238273 -0.965770  0.516876 -10\n",
       "2013-01-03 -1.071634 -1.241629 -0.602578 -15\n",
       "2013-01-04 -2.337019 -0.387295 -0.184060 -20\n",
       "2013-01-05 -3.811567 -1.766987 -0.057564 -25\n",
       "2013-01-06 -4.804775 -1.342150 -0.401983 -30"
      ]
     },
     "execution_count": 78,
     "metadata": {},
     "output_type": "execute_result"
    }
   ],
   "source": [
    "#axis{0 or ‘index’, 1 or ‘columns’}, default 0\n",
    "df.apply(np.cumsum)"
   ]
  },
  {
   "cell_type": "markdown",
   "metadata": {},
   "source": [
    "<mark>apply & cumsum - 仿照示例对 df 每一行执行累加"
   ]
  },
  {
   "cell_type": "code",
   "execution_count": 79,
   "metadata": {},
   "outputs": [
    {
     "data": {
      "text/html": [
       "<div>\n",
       "<style scoped>\n",
       "    .dataframe tbody tr th:only-of-type {\n",
       "        vertical-align: middle;\n",
       "    }\n",
       "\n",
       "    .dataframe tbody tr th {\n",
       "        vertical-align: top;\n",
       "    }\n",
       "\n",
       "    .dataframe thead th {\n",
       "        text-align: right;\n",
       "    }\n",
       "</style>\n",
       "<table border=\"1\" class=\"dataframe\">\n",
       "  <thead>\n",
       "    <tr style=\"text-align: right;\">\n",
       "      <th></th>\n",
       "      <th>A</th>\n",
       "      <th>B</th>\n",
       "      <th>C</th>\n",
       "      <th>D</th>\n",
       "    </tr>\n",
       "  </thead>\n",
       "  <tbody>\n",
       "    <tr>\n",
       "      <th>2013-01-01</th>\n",
       "      <td>0.000000</td>\n",
       "      <td>0.000000</td>\n",
       "      <td>-0.331372</td>\n",
       "      <td>-5.331372</td>\n",
       "    </tr>\n",
       "    <tr>\n",
       "      <th>2013-01-02</th>\n",
       "      <td>0.238273</td>\n",
       "      <td>-0.727497</td>\n",
       "      <td>0.120750</td>\n",
       "      <td>-4.879250</td>\n",
       "    </tr>\n",
       "    <tr>\n",
       "      <th>2013-01-03</th>\n",
       "      <td>-1.309907</td>\n",
       "      <td>-1.585766</td>\n",
       "      <td>-2.705220</td>\n",
       "      <td>-7.705220</td>\n",
       "    </tr>\n",
       "    <tr>\n",
       "      <th>2013-01-04</th>\n",
       "      <td>-1.265385</td>\n",
       "      <td>-0.411051</td>\n",
       "      <td>0.007468</td>\n",
       "      <td>-4.992532</td>\n",
       "    </tr>\n",
       "    <tr>\n",
       "      <th>2013-01-05</th>\n",
       "      <td>-1.474548</td>\n",
       "      <td>-2.854241</td>\n",
       "      <td>-2.727746</td>\n",
       "      <td>-7.727746</td>\n",
       "    </tr>\n",
       "    <tr>\n",
       "      <th>2013-01-06</th>\n",
       "      <td>-0.993208</td>\n",
       "      <td>-0.568370</td>\n",
       "      <td>-0.912789</td>\n",
       "      <td>-5.912789</td>\n",
       "    </tr>\n",
       "  </tbody>\n",
       "</table>\n",
       "</div>"
      ],
      "text/plain": [
       "                   A         B         C         D\n",
       "2013-01-01  0.000000  0.000000 -0.331372 -5.331372\n",
       "2013-01-02  0.238273 -0.727497  0.120750 -4.879250\n",
       "2013-01-03 -1.309907 -1.585766 -2.705220 -7.705220\n",
       "2013-01-04 -1.265385 -0.411051  0.007468 -4.992532\n",
       "2013-01-05 -1.474548 -2.854241 -2.727746 -7.727746\n",
       "2013-01-06 -0.993208 -0.568370 -0.912789 -5.912789"
      ]
     },
     "execution_count": 79,
     "metadata": {},
     "output_type": "execute_result"
    }
   ],
   "source": [
    "df.apply(np.cumsum,axis=1)"
   ]
  },
  {
   "cell_type": "markdown",
   "metadata": {},
   "source": [
    "<mark>apply & lambda - 按照示例对 df 每一列求极差"
   ]
  },
  {
   "cell_type": "code",
   "execution_count": 80,
   "metadata": {},
   "outputs": [
    {
     "data": {
      "text/plain": [
       "A    1.712821\n",
       "B    2.234027\n",
       "C    1.967701\n",
       "D    0.000000\n",
       "dtype: float64"
      ]
     },
     "execution_count": 80,
     "metadata": {},
     "output_type": "execute_result"
    }
   ],
   "source": [
    "df.apply(lambda x: x.max() - x.min())#关注lambda函数，关注axis代表的意义"
   ]
  },
  {
   "cell_type": "markdown",
   "metadata": {},
   "source": [
    "<mark>按照示例创建 s"
   ]
  },
  {
   "cell_type": "code",
   "execution_count": 81,
   "metadata": {},
   "outputs": [
    {
     "data": {
      "text/plain": [
       "0    3\n",
       "1    4\n",
       "2    3\n",
       "3    5\n",
       "4    2\n",
       "5    3\n",
       "6    2\n",
       "7    0\n",
       "8    2\n",
       "9    5\n",
       "dtype: int32"
      ]
     },
     "execution_count": 81,
     "metadata": {},
     "output_type": "execute_result"
    }
   ],
   "source": [
    "s = pd.Series(np.random.randint(0, 7, size=10))\n",
    "s"
   ]
  },
  {
   "cell_type": "markdown",
   "metadata": {},
   "source": [
    "<mark>value_counts - 统计 s 中各个数值出现的频次"
   ]
  },
  {
   "cell_type": "code",
   "execution_count": 82,
   "metadata": {},
   "outputs": [
    {
     "data": {
      "text/plain": [
       "3    3\n",
       "2    3\n",
       "5    2\n",
       "4    1\n",
       "0    1\n",
       "dtype: int64"
      ]
     },
     "execution_count": 82,
     "metadata": {},
     "output_type": "execute_result"
    }
   ],
   "source": [
    "s.value_counts()"
   ]
  },
  {
   "cell_type": "markdown",
   "metadata": {},
   "source": [
    "<mark>按照示例创建 s"
   ]
  },
  {
   "cell_type": "code",
   "execution_count": 83,
   "metadata": {},
   "outputs": [
    {
     "data": {
      "text/plain": [
       "0       A\n",
       "1       B\n",
       "2       C\n",
       "3    Aaba\n",
       "4    Baca\n",
       "5     NaN\n",
       "6    CABA\n",
       "7     dog\n",
       "8     cat\n",
       "dtype: object"
      ]
     },
     "execution_count": 83,
     "metadata": {},
     "output_type": "execute_result"
    }
   ],
   "source": [
    "s = pd.Series(['A', 'B', 'C', 'Aaba', 'Baca', np.nan, 'CABA', 'dog', 'cat'])\n",
    "s"
   ]
  },
  {
   "cell_type": "markdown",
   "metadata": {},
   "source": [
    "<mark>str.lower - 按照示例将 s 中元素的字母都变为小写"
   ]
  },
  {
   "cell_type": "code",
   "execution_count": 84,
   "metadata": {},
   "outputs": [
    {
     "data": {
      "text/plain": [
       "0       a\n",
       "1       b\n",
       "2       c\n",
       "3    aaba\n",
       "4    baca\n",
       "5     NaN\n",
       "6    caba\n",
       "7     dog\n",
       "8     cat\n",
       "dtype: object"
      ]
     },
     "execution_count": 84,
     "metadata": {},
     "output_type": "execute_result"
    }
   ],
   "source": [
    "s.str.lower()"
   ]
  },
  {
   "cell_type": "markdown",
   "metadata": {},
   "source": [
    "<mark>str.upper - 仿照示例将 s 中元素的字母都变为大写"
   ]
  },
  {
   "cell_type": "code",
   "execution_count": 85,
   "metadata": {},
   "outputs": [
    {
     "data": {
      "text/plain": [
       "0       A\n",
       "1       B\n",
       "2       C\n",
       "3    AABA\n",
       "4    BACA\n",
       "5     NaN\n",
       "6    CABA\n",
       "7     DOG\n",
       "8     CAT\n",
       "dtype: object"
      ]
     },
     "execution_count": 85,
     "metadata": {},
     "output_type": "execute_result"
    }
   ],
   "source": [
    "s.str.upper()"
   ]
  },
  {
   "cell_type": "markdown",
   "metadata": {},
   "source": [
    "<mark>str.capitalize - 仿照示例将 s 中元素的首字母变为大写"
   ]
  },
  {
   "cell_type": "code",
   "execution_count": 86,
   "metadata": {},
   "outputs": [
    {
     "data": {
      "text/plain": [
       "0       A\n",
       "1       B\n",
       "2       C\n",
       "3    Aaba\n",
       "4    Baca\n",
       "5     NaN\n",
       "6    Caba\n",
       "7     Dog\n",
       "8     Cat\n",
       "dtype: object"
      ]
     },
     "execution_count": 86,
     "metadata": {},
     "output_type": "execute_result"
    }
   ],
   "source": [
    "s.str.capitalize()"
   ]
  }
 ],
 "metadata": {
  "kernelspec": {
   "display_name": "Python 3",
   "language": "python",
   "name": "python3"
  },
  "language_info": {
   "codemirror_mode": {
    "name": "ipython",
    "version": 3
   },
   "file_extension": ".py",
   "mimetype": "text/x-python",
   "name": "python",
   "nbconvert_exporter": "python",
   "pygments_lexer": "ipython3",
   "version": "3.8.3"
  }
 },
 "nbformat": 4,
 "nbformat_minor": 4
}
