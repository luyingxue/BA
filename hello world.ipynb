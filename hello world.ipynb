{
 "cells": [
  {
   "cell_type": "code",
   "execution_count": 16,
   "metadata": {},
   "outputs": [
    {
     "name": "stdout",
     "output_type": "stream",
     "text": [
      "hello python\n",
      "0     2.0\n",
      "1     4.0\n",
      "2     6.0\n",
      "3     8.0\n",
      "4    10.0\n",
      "5     NaN\n",
      "dtype: float64\n",
      "DatetimeIndex(['2020-08-11', '2020-08-12', '2020-08-13', '2020-08-14',\n",
      "               '2020-08-15', '2020-08-16'],\n",
      "              dtype='datetime64[ns]', freq='D')\n"
     ]
    },
    {
     "data": {
      "text/html": [
       "<div>\n",
       "<style scoped>\n",
       "    .dataframe tbody tr th:only-of-type {\n",
       "        vertical-align: middle;\n",
       "    }\n",
       "\n",
       "    .dataframe tbody tr th {\n",
       "        vertical-align: top;\n",
       "    }\n",
       "\n",
       "    .dataframe thead th {\n",
       "        text-align: right;\n",
       "    }\n",
       "</style>\n",
       "<table border=\"1\" class=\"dataframe\">\n",
       "  <thead>\n",
       "    <tr style=\"text-align: right;\">\n",
       "      <th></th>\n",
       "      <th>A</th>\n",
       "      <th>B</th>\n",
       "      <th>C</th>\n",
       "      <th>D</th>\n",
       "    </tr>\n",
       "  </thead>\n",
       "  <tbody>\n",
       "    <tr>\n",
       "      <th>2020-08-11</th>\n",
       "      <td>1.484233</td>\n",
       "      <td>-0.343427</td>\n",
       "      <td>0.157999</td>\n",
       "      <td>-1.320301</td>\n",
       "    </tr>\n",
       "    <tr>\n",
       "      <th>2020-08-12</th>\n",
       "      <td>-1.276400</td>\n",
       "      <td>0.253729</td>\n",
       "      <td>-0.732108</td>\n",
       "      <td>-1.592878</td>\n",
       "    </tr>\n",
       "    <tr>\n",
       "      <th>2020-08-13</th>\n",
       "      <td>0.580180</td>\n",
       "      <td>-0.307716</td>\n",
       "      <td>-0.686590</td>\n",
       "      <td>0.998284</td>\n",
       "    </tr>\n",
       "    <tr>\n",
       "      <th>2020-08-14</th>\n",
       "      <td>1.035503</td>\n",
       "      <td>0.395667</td>\n",
       "      <td>2.704216</td>\n",
       "      <td>0.484940</td>\n",
       "    </tr>\n",
       "    <tr>\n",
       "      <th>2020-08-15</th>\n",
       "      <td>0.469510</td>\n",
       "      <td>-0.852340</td>\n",
       "      <td>1.118193</td>\n",
       "      <td>0.095817</td>\n",
       "    </tr>\n",
       "    <tr>\n",
       "      <th>2020-08-16</th>\n",
       "      <td>-0.448197</td>\n",
       "      <td>-0.554389</td>\n",
       "      <td>-0.981384</td>\n",
       "      <td>-0.872787</td>\n",
       "    </tr>\n",
       "  </tbody>\n",
       "</table>\n",
       "</div>"
      ],
      "text/plain": [
       "                   A         B         C         D\n",
       "2020-08-11  1.484233 -0.343427  0.157999 -1.320301\n",
       "2020-08-12 -1.276400  0.253729 -0.732108 -1.592878\n",
       "2020-08-13  0.580180 -0.307716 -0.686590  0.998284\n",
       "2020-08-14  1.035503  0.395667  2.704216  0.484940\n",
       "2020-08-15  0.469510 -0.852340  1.118193  0.095817\n",
       "2020-08-16 -0.448197 -0.554389 -0.981384 -0.872787"
      ]
     },
     "execution_count": 16,
     "metadata": {},
     "output_type": "execute_result"
    }
   ],
   "source": [
    "print(\"hello python\")\n",
    "import numpy as np\n",
    "import pandas as pd\n",
    "s=pd.Series([2,4,6,8,10,np.nan])\n",
    "print(s)\n",
    "dates=pd.date_range('20200811',periods=6)\n",
    "print(dates)\n",
    "df = pd.DataFrame(np.random.randn(6, 4), index=dates, columns=list('ABCD'))\n",
    "df"
   ]
  },
  {
   "cell_type": "code",
   "execution_count": 26,
   "metadata": {},
   "outputs": [
    {
     "data": {
      "text/plain": [
       "Int64Index([1, 2, 3, 4, 5, 6], dtype='int64')"
      ]
     },
     "execution_count": 26,
     "metadata": {},
     "output_type": "execute_result"
    }
   ],
   "source": [
    "df.index=[1,2,3,4,5,6]\n",
    "df.index"
   ]
  },
  {
   "cell_type": "code",
   "execution_count": 23,
   "metadata": {},
   "outputs": [
    {
     "data": {
      "text/html": [
       "<div>\n",
       "<style scoped>\n",
       "    .dataframe tbody tr th:only-of-type {\n",
       "        vertical-align: middle;\n",
       "    }\n",
       "\n",
       "    .dataframe tbody tr th {\n",
       "        vertical-align: top;\n",
       "    }\n",
       "\n",
       "    .dataframe thead th {\n",
       "        text-align: right;\n",
       "    }\n",
       "</style>\n",
       "<table border=\"1\" class=\"dataframe\">\n",
       "  <thead>\n",
       "    <tr style=\"text-align: right;\">\n",
       "      <th></th>\n",
       "      <th>A</th>\n",
       "      <th>B</th>\n",
       "      <th>C</th>\n",
       "      <th>D</th>\n",
       "    </tr>\n",
       "  </thead>\n",
       "  <tbody>\n",
       "    <tr>\n",
       "      <th>1</th>\n",
       "      <td>1.484233</td>\n",
       "      <td>-0.343427</td>\n",
       "      <td>0.157999</td>\n",
       "      <td>-1.320301</td>\n",
       "    </tr>\n",
       "    <tr>\n",
       "      <th>2</th>\n",
       "      <td>-1.276400</td>\n",
       "      <td>0.253729</td>\n",
       "      <td>-0.732108</td>\n",
       "      <td>-1.592878</td>\n",
       "    </tr>\n",
       "    <tr>\n",
       "      <th>3</th>\n",
       "      <td>0.580180</td>\n",
       "      <td>-0.307716</td>\n",
       "      <td>-0.686590</td>\n",
       "      <td>0.998284</td>\n",
       "    </tr>\n",
       "    <tr>\n",
       "      <th>4</th>\n",
       "      <td>1.035503</td>\n",
       "      <td>0.395667</td>\n",
       "      <td>2.704216</td>\n",
       "      <td>0.484940</td>\n",
       "    </tr>\n",
       "    <tr>\n",
       "      <th>5</th>\n",
       "      <td>0.469510</td>\n",
       "      <td>-0.852340</td>\n",
       "      <td>1.118193</td>\n",
       "      <td>0.095817</td>\n",
       "    </tr>\n",
       "    <tr>\n",
       "      <th>6</th>\n",
       "      <td>-0.448197</td>\n",
       "      <td>-0.554389</td>\n",
       "      <td>-0.981384</td>\n",
       "      <td>-0.872787</td>\n",
       "    </tr>\n",
       "  </tbody>\n",
       "</table>\n",
       "</div>"
      ],
      "text/plain": [
       "          A         B         C         D\n",
       "1  1.484233 -0.343427  0.157999 -1.320301\n",
       "2 -1.276400  0.253729 -0.732108 -1.592878\n",
       "3  0.580180 -0.307716 -0.686590  0.998284\n",
       "4  1.035503  0.395667  2.704216  0.484940\n",
       "5  0.469510 -0.852340  1.118193  0.095817\n",
       "6 -0.448197 -0.554389 -0.981384 -0.872787"
      ]
     },
     "execution_count": 23,
     "metadata": {},
     "output_type": "execute_result"
    }
   ],
   "source": [
    "df"
   ]
  },
  {
   "cell_type": "code",
   "execution_count": 36,
   "metadata": {},
   "outputs": [],
   "source": [
    "s = pd.Series([2,4,6,8,10,np.nan],index=list('123456'))\n",
    "s.index=[1,2,3,4,5,6]"
   ]
  },
  {
   "cell_type": "code",
   "execution_count": 37,
   "metadata": {},
   "outputs": [
    {
     "data": {
      "text/html": [
       "<div>\n",
       "<style scoped>\n",
       "    .dataframe tbody tr th:only-of-type {\n",
       "        vertical-align: middle;\n",
       "    }\n",
       "\n",
       "    .dataframe tbody tr th {\n",
       "        vertical-align: top;\n",
       "    }\n",
       "\n",
       "    .dataframe thead th {\n",
       "        text-align: right;\n",
       "    }\n",
       "</style>\n",
       "<table border=\"1\" class=\"dataframe\">\n",
       "  <thead>\n",
       "    <tr style=\"text-align: right;\">\n",
       "      <th></th>\n",
       "      <th>A</th>\n",
       "      <th>B</th>\n",
       "      <th>C</th>\n",
       "      <th>D</th>\n",
       "    </tr>\n",
       "  </thead>\n",
       "  <tbody>\n",
       "    <tr>\n",
       "      <th>1</th>\n",
       "      <td>-0.515767</td>\n",
       "      <td>-2.343427</td>\n",
       "      <td>-1.842001</td>\n",
       "      <td>-3.320301</td>\n",
       "    </tr>\n",
       "    <tr>\n",
       "      <th>2</th>\n",
       "      <td>-5.276400</td>\n",
       "      <td>-3.746271</td>\n",
       "      <td>-4.732108</td>\n",
       "      <td>-5.592878</td>\n",
       "    </tr>\n",
       "    <tr>\n",
       "      <th>3</th>\n",
       "      <td>-5.419820</td>\n",
       "      <td>-6.307716</td>\n",
       "      <td>-6.686590</td>\n",
       "      <td>-5.001716</td>\n",
       "    </tr>\n",
       "    <tr>\n",
       "      <th>4</th>\n",
       "      <td>-6.964497</td>\n",
       "      <td>-7.604333</td>\n",
       "      <td>-5.295784</td>\n",
       "      <td>-7.515060</td>\n",
       "    </tr>\n",
       "    <tr>\n",
       "      <th>5</th>\n",
       "      <td>-9.530490</td>\n",
       "      <td>-10.852340</td>\n",
       "      <td>-8.881807</td>\n",
       "      <td>-9.904183</td>\n",
       "    </tr>\n",
       "    <tr>\n",
       "      <th>6</th>\n",
       "      <td>NaN</td>\n",
       "      <td>NaN</td>\n",
       "      <td>NaN</td>\n",
       "      <td>NaN</td>\n",
       "    </tr>\n",
       "  </tbody>\n",
       "</table>\n",
       "</div>"
      ],
      "text/plain": [
       "          A          B         C         D\n",
       "1 -0.515767  -2.343427 -1.842001 -3.320301\n",
       "2 -5.276400  -3.746271 -4.732108 -5.592878\n",
       "3 -5.419820  -6.307716 -6.686590 -5.001716\n",
       "4 -6.964497  -7.604333 -5.295784 -7.515060\n",
       "5 -9.530490 -10.852340 -8.881807 -9.904183\n",
       "6       NaN        NaN       NaN       NaN"
      ]
     },
     "execution_count": 37,
     "metadata": {},
     "output_type": "execute_result"
    }
   ],
   "source": [
    "df.sub(s,axis=0)"
   ]
  }
 ],
 "metadata": {
  "kernelspec": {
   "display_name": "Python 3",
   "language": "python",
   "name": "python3"
  },
  "language_info": {
   "codemirror_mode": {
    "name": "ipython",
    "version": 3
   },
   "file_extension": ".py",
   "mimetype": "text/x-python",
   "name": "python",
   "nbconvert_exporter": "python",
   "pygments_lexer": "ipython3",
   "version": "3.8.3"
  }
 },
 "nbformat": 4,
 "nbformat_minor": 4
}
