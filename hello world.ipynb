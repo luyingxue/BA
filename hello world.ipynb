{
 "cells": [
  {
   "cell_type": "code",
   "execution_count": 16,
   "metadata": {},
   "outputs": [
    {
     "name": "stdout",
     "output_type": "stream",
     "text": [
      "hello python\n"
     ]
    },
    {
     "data": {
      "text/html": [
       "<div>\n",
       "<style scoped>\n",
       "    .dataframe tbody tr th:only-of-type {\n",
       "        vertical-align: middle;\n",
       "    }\n",
       "\n",
       "    .dataframe tbody tr th {\n",
       "        vertical-align: top;\n",
       "    }\n",
       "\n",
       "    .dataframe thead th {\n",
       "        text-align: right;\n",
       "    }\n",
       "</style>\n",
       "<table border=\"1\" class=\"dataframe\">\n",
       "  <thead>\n",
       "    <tr style=\"text-align: right;\">\n",
       "      <th></th>\n",
       "      <th>A</th>\n",
       "      <th>B</th>\n",
       "      <th>C</th>\n",
       "      <th>D</th>\n",
       "    </tr>\n",
       "  </thead>\n",
       "  <tbody>\n",
       "    <tr>\n",
       "      <th>2020-08-11</th>\n",
       "      <td>1.766222</td>\n",
       "      <td>0.879211</td>\n",
       "      <td>0.769853</td>\n",
       "      <td>2.199094</td>\n",
       "    </tr>\n",
       "    <tr>\n",
       "      <th>2020-08-12</th>\n",
       "      <td>-0.714161</td>\n",
       "      <td>0.867045</td>\n",
       "      <td>-0.523694</td>\n",
       "      <td>0.327279</td>\n",
       "    </tr>\n",
       "    <tr>\n",
       "      <th>2020-08-13</th>\n",
       "      <td>-0.159377</td>\n",
       "      <td>-0.063917</td>\n",
       "      <td>-0.436988</td>\n",
       "      <td>1.158512</td>\n",
       "    </tr>\n",
       "    <tr>\n",
       "      <th>2020-08-14</th>\n",
       "      <td>-2.511004</td>\n",
       "      <td>-2.117550</td>\n",
       "      <td>-0.860470</td>\n",
       "      <td>0.769164</td>\n",
       "    </tr>\n",
       "    <tr>\n",
       "      <th>2020-08-15</th>\n",
       "      <td>0.728483</td>\n",
       "      <td>0.337489</td>\n",
       "      <td>-0.538987</td>\n",
       "      <td>-1.687534</td>\n",
       "    </tr>\n",
       "    <tr>\n",
       "      <th>2020-08-16</th>\n",
       "      <td>-1.577743</td>\n",
       "      <td>-0.349542</td>\n",
       "      <td>-0.604951</td>\n",
       "      <td>-1.869274</td>\n",
       "    </tr>\n",
       "  </tbody>\n",
       "</table>\n",
       "</div>"
      ],
      "text/plain": [
       "                   A         B         C         D\n",
       "2020-08-11  1.766222  0.879211  0.769853  2.199094\n",
       "2020-08-12 -0.714161  0.867045 -0.523694  0.327279\n",
       "2020-08-13 -0.159377 -0.063917 -0.436988  1.158512\n",
       "2020-08-14 -2.511004 -2.117550 -0.860470  0.769164\n",
       "2020-08-15  0.728483  0.337489 -0.538987 -1.687534\n",
       "2020-08-16 -1.577743 -0.349542 -0.604951 -1.869274"
      ]
     },
     "execution_count": 16,
     "metadata": {},
     "output_type": "execute_result"
    }
   ],
   "source": [
    "print(\"hello python\")\n",
    "import numpy as np\n",
    "import pandas as pd\n",
    "s=pd.Series([2,4,6,8,10,np.nan])\n",
    "s\n",
    "dates=pd.date_range('20200811',periods=6)\n",
    "dates\n",
    "df = pd.DataFrame(np.random.randn(6, 4), index=dates, columns=list('ABCD'))\n",
    "df"
   ]
  }
 ],
 "metadata": {
  "kernelspec": {
   "display_name": "Python 3",
   "language": "python",
   "name": "python3"
  },
  "language_info": {
   "codemirror_mode": {
    "name": "ipython",
    "version": 3
   },
   "file_extension": ".py",
   "mimetype": "text/x-python",
   "name": "python",
   "nbconvert_exporter": "python",
   "pygments_lexer": "ipython3",
   "version": "3.8.3"
  }
 },
 "nbformat": 4,
 "nbformat_minor": 4
}
