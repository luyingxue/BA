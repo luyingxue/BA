{
 "cells": [
  {
   "cell_type": "code",
   "execution_count": 24,
   "metadata": {},
   "outputs": [
    {
     "name": "stdout",
     "output_type": "stream",
     "text": [
      "hello python\n",
      "0     2.0\n",
      "1     4.0\n",
      "2     6.0\n",
      "3     8.0\n",
      "4    10.0\n",
      "5     NaN\n",
      "dtype: float64\n",
      "DatetimeIndex(['2020-08-11', '2020-08-12', '2020-08-13', '2020-08-14',\n",
      "               '2020-08-15', '2020-08-16'],\n",
      "              dtype='datetime64[ns]', freq='D')\n"
     ]
    },
    {
     "data": {
      "text/html": [
       "<div>\n",
       "<style scoped>\n",
       "    .dataframe tbody tr th:only-of-type {\n",
       "        vertical-align: middle;\n",
       "    }\n",
       "\n",
       "    .dataframe tbody tr th {\n",
       "        vertical-align: top;\n",
       "    }\n",
       "\n",
       "    .dataframe thead th {\n",
       "        text-align: right;\n",
       "    }\n",
       "</style>\n",
       "<table border=\"1\" class=\"dataframe\">\n",
       "  <thead>\n",
       "    <tr style=\"text-align: right;\">\n",
       "      <th></th>\n",
       "      <th>A</th>\n",
       "      <th>B</th>\n",
       "      <th>C</th>\n",
       "      <th>D</th>\n",
       "    </tr>\n",
       "  </thead>\n",
       "  <tbody>\n",
       "    <tr>\n",
       "      <th>2020-08-11</th>\n",
       "      <td>1.844192</td>\n",
       "      <td>-0.139490</td>\n",
       "      <td>-0.117007</td>\n",
       "      <td>-0.019912</td>\n",
       "    </tr>\n",
       "    <tr>\n",
       "      <th>2020-08-12</th>\n",
       "      <td>1.781299</td>\n",
       "      <td>-0.549600</td>\n",
       "      <td>-0.236471</td>\n",
       "      <td>-1.104672</td>\n",
       "    </tr>\n",
       "    <tr>\n",
       "      <th>2020-08-13</th>\n",
       "      <td>-0.677691</td>\n",
       "      <td>0.022365</td>\n",
       "      <td>-0.484870</td>\n",
       "      <td>1.865097</td>\n",
       "    </tr>\n",
       "    <tr>\n",
       "      <th>2020-08-14</th>\n",
       "      <td>0.057160</td>\n",
       "      <td>-0.761216</td>\n",
       "      <td>0.315663</td>\n",
       "      <td>0.173701</td>\n",
       "    </tr>\n",
       "    <tr>\n",
       "      <th>2020-08-15</th>\n",
       "      <td>-1.547256</td>\n",
       "      <td>-1.657139</td>\n",
       "      <td>-0.195164</td>\n",
       "      <td>-1.164444</td>\n",
       "    </tr>\n",
       "    <tr>\n",
       "      <th>2020-08-16</th>\n",
       "      <td>0.085941</td>\n",
       "      <td>-0.356322</td>\n",
       "      <td>0.567710</td>\n",
       "      <td>1.146747</td>\n",
       "    </tr>\n",
       "  </tbody>\n",
       "</table>\n",
       "</div>"
      ],
      "text/plain": [
       "                   A         B         C         D\n",
       "2020-08-11  1.844192 -0.139490 -0.117007 -0.019912\n",
       "2020-08-12  1.781299 -0.549600 -0.236471 -1.104672\n",
       "2020-08-13 -0.677691  0.022365 -0.484870  1.865097\n",
       "2020-08-14  0.057160 -0.761216  0.315663  0.173701\n",
       "2020-08-15 -1.547256 -1.657139 -0.195164 -1.164444\n",
       "2020-08-16  0.085941 -0.356322  0.567710  1.146747"
      ]
     },
     "execution_count": 24,
     "metadata": {},
     "output_type": "execute_result"
    }
   ],
   "source": [
    "print(\"hello python\")\n",
    "import numpy as np\n",
    "import pandas as pd\n",
    "s=pd.Series([2,4,6,8,10,np.nan])\n",
    "print(s)\n",
    "dates=pd.date_range('20200811',periods=6)\n",
    "print(dates)\n",
    "df = pd.DataFrame(np.random.randn(6, 4), index=dates, columns=list('ABCD'))\n",
    "df"
   ]
  }
 ],
 "metadata": {
  "kernelspec": {
   "display_name": "Python 3",
   "language": "python",
   "name": "python3"
  },
  "language_info": {
   "codemirror_mode": {
    "name": "ipython",
    "version": 3
   },
   "file_extension": ".py",
   "mimetype": "text/x-python",
   "name": "python",
   "nbconvert_exporter": "python",
   "pygments_lexer": "ipython3",
   "version": "3.8.3"
  }
 },
 "nbformat": 4,
 "nbformat_minor": 4
}
